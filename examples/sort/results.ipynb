{
 "cells": [
  {
   "cell_type": "markdown",
   "metadata": {},
   "source": [
    "This will plot and compare the resulting data. To run this, make sure that you have already generated all data you want to be compared. If you want to run a sequential sort or the multiprocessing merge sort, run with run.py. If you want to run the MPI merge sort, run with mpi_run.py. "
   ]
  },
  {
   "cell_type": "code",
   "execution_count": 4,
   "metadata": {},
   "outputs": [],
   "source": [
    "import os\n",
    "import matplotlib.pyplot as plt\n",
    "import seaborn as sns\n",
    "import pandas as pd\n",
    "\n",
    "from cloudmesh.common.util import banner\n",
    "from analysis import get_data\n",
    "from analysis import read_log, read_logs\n",
    "from analysis import generate_average"
   ]
  },
  {
   "cell_type": "code",
   "execution_count": 5,
   "metadata": {},
   "outputs": [],
   "source": [
    "user = \"alex\"\n",
    "node = \"2400MHz\"\n",
    "sorts = [\"seq-merge\", \"mp-mergesort\"]\n",
    "sort = \"mp-mergesort\"\n",
    "\n",
    "sizes = [100, 1000, 10e4, 10e5]\n",
    "sizes = [int(size) for size in sizes]"
   ]
  },
  {
   "cell_type": "code",
   "execution_count": null,
   "metadata": {},
   "outputs": [],
   "source": [
    "# this will take a long time. \n",
    "# also if you don't want to use all your processors then use different commands. \n",
    "for sort in sorts:\n",
    "    for size in sizes:\n",
    "        run_cmd = f\"./run.py --user={user} --node={node} --size={size} --sort={sort}\"\n",
    "        banner(run_cmd)\n",
    "        os.system(run_cmd)"
   ]
  },
  {
   "cell_type": "code",
   "execution_count": 17,
   "metadata": {},
   "outputs": [],
   "source": [
    "def plot_benchmark_by_size(df, size=None, tag=None, files=None, x=\"sizes\", y=\"time\"):\n",
    "    names = \"-\".join(files)\n",
    "    sns.lineplot(data=df, x=x, y=y, hue=\"name\");\n",
    "    t = tag.title()\n",
    "    label = f\"{t}\".replace(\"_\", \" \")\n",
    "    plt.title(f\"{label}\")\n",
    "    if \"time\" in y: y = f\"{y}/s\"\n",
    "    if \"time\" in x: x = f\"{x}/s\"\n",
    "    plt.xlabel(x.capitalize())\n",
    "    plt.ylabel(y.capitalize())\n",
    "    plt.savefig(f\"images/{tag}-{names}.png\")\n",
    "    plt.savefig(f\"images/{tag}-{names}.pdf\")"
   ]
  },
  {
   "cell_type": "code",
   "execution_count": null,
   "metadata": {},
   "outputs": [],
   "source": [
    "files = [\"alex\"]\n",
    "sorts = [\"seq-merge\", \"mp-mergesort\"]\n",
    "\n",
    "frames = []\n",
    "for file in files:\n",
    "    for sort in sorts:\n",
    "        frame = []\n",
    "        for size in sizes: \n",
    "            size = int(size)\n",
    "            log = f'{sort}-{node}-{file}'\n",
    "            _frame = read_log(log, size=size, tag=sort)\n",
    "            frame = frame + _frame\n",
    "        frames.append(frame)\n",
    "# print(frames)\n",
    "\n",
    "\n",
    "df = pd.DataFrame()\n",
    "for frame in frames:\n",
    "    _df = pd.DataFrame(data=frame,\n",
    "                columns=[\"processes\", \"time\", \"size\", \"name\", \"tag\"])\n",
    "    df = pd.concat([df, _df], ignore_index=True)\n",
    "# plot_benchmark_by_size(df, \"name\", tag=sort, files=files, x=\"size\", y=\"time\")"
   ]
  },
  {
   "cell_type": "code",
   "execution_count": 9,
   "metadata": {},
   "outputs": [
    {
     "data": {
      "text/html": [
       "<div>\n",
       "<style scoped>\n",
       "    .dataframe tbody tr th:only-of-type {\n",
       "        vertical-align: middle;\n",
       "    }\n",
       "\n",
       "    .dataframe tbody tr th {\n",
       "        vertical-align: top;\n",
       "    }\n",
       "\n",
       "    .dataframe thead th {\n",
       "        text-align: right;\n",
       "    }\n",
       "</style>\n",
       "<table border=\"1\" class=\"dataframe\">\n",
       "  <thead>\n",
       "    <tr style=\"text-align: right;\">\n",
       "      <th></th>\n",
       "      <th>processes</th>\n",
       "      <th>time</th>\n",
       "      <th>size</th>\n",
       "      <th>name</th>\n",
       "      <th>tag</th>\n",
       "    </tr>\n",
       "  </thead>\n",
       "  <tbody>\n",
       "    <tr>\n",
       "      <th>0</th>\n",
       "      <td>1</td>\n",
       "      <td>0.000</td>\n",
       "      <td>100</td>\n",
       "      <td>alex</td>\n",
       "      <td>seq-merge</td>\n",
       "    </tr>\n",
       "    <tr>\n",
       "      <th>1</th>\n",
       "      <td>1</td>\n",
       "      <td>0.000</td>\n",
       "      <td>100</td>\n",
       "      <td>alex</td>\n",
       "      <td>seq-merge</td>\n",
       "    </tr>\n",
       "    <tr>\n",
       "      <th>2</th>\n",
       "      <td>1</td>\n",
       "      <td>0.000</td>\n",
       "      <td>100</td>\n",
       "      <td>alex</td>\n",
       "      <td>seq-merge</td>\n",
       "    </tr>\n",
       "    <tr>\n",
       "      <th>3</th>\n",
       "      <td>1</td>\n",
       "      <td>0.000</td>\n",
       "      <td>100</td>\n",
       "      <td>alex</td>\n",
       "      <td>seq-merge</td>\n",
       "    </tr>\n",
       "    <tr>\n",
       "      <th>4</th>\n",
       "      <td>1</td>\n",
       "      <td>0.000</td>\n",
       "      <td>100</td>\n",
       "      <td>alex</td>\n",
       "      <td>seq-merge</td>\n",
       "    </tr>\n",
       "    <tr>\n",
       "      <th>...</th>\n",
       "      <td>...</td>\n",
       "      <td>...</td>\n",
       "      <td>...</td>\n",
       "      <td>...</td>\n",
       "      <td>...</td>\n",
       "    </tr>\n",
       "    <tr>\n",
       "      <th>515</th>\n",
       "      <td>1</td>\n",
       "      <td>5.948</td>\n",
       "      <td>1000000</td>\n",
       "      <td>alex</td>\n",
       "      <td>mp-mergesort</td>\n",
       "    </tr>\n",
       "    <tr>\n",
       "      <th>516</th>\n",
       "      <td>1</td>\n",
       "      <td>5.995</td>\n",
       "      <td>1000000</td>\n",
       "      <td>alex</td>\n",
       "      <td>mp-mergesort</td>\n",
       "    </tr>\n",
       "    <tr>\n",
       "      <th>517</th>\n",
       "      <td>1</td>\n",
       "      <td>6.042</td>\n",
       "      <td>1000000</td>\n",
       "      <td>alex</td>\n",
       "      <td>mp-mergesort</td>\n",
       "    </tr>\n",
       "    <tr>\n",
       "      <th>518</th>\n",
       "      <td>1</td>\n",
       "      <td>6.014</td>\n",
       "      <td>1000000</td>\n",
       "      <td>alex</td>\n",
       "      <td>mp-mergesort</td>\n",
       "    </tr>\n",
       "    <tr>\n",
       "      <th>519</th>\n",
       "      <td>1</td>\n",
       "      <td>6.008</td>\n",
       "      <td>1000000</td>\n",
       "      <td>alex</td>\n",
       "      <td>mp-mergesort</td>\n",
       "    </tr>\n",
       "  </tbody>\n",
       "</table>\n",
       "<p>520 rows × 5 columns</p>\n",
       "</div>"
      ],
      "text/plain": [
       "     processes   time     size  name           tag\n",
       "0            1  0.000      100  alex     seq-merge\n",
       "1            1  0.000      100  alex     seq-merge\n",
       "2            1  0.000      100  alex     seq-merge\n",
       "3            1  0.000      100  alex     seq-merge\n",
       "4            1  0.000      100  alex     seq-merge\n",
       "..         ...    ...      ...   ...           ...\n",
       "515          1  5.948  1000000  alex  mp-mergesort\n",
       "516          1  5.995  1000000  alex  mp-mergesort\n",
       "517          1  6.042  1000000  alex  mp-mergesort\n",
       "518          1  6.014  1000000  alex  mp-mergesort\n",
       "519          1  6.008  1000000  alex  mp-mergesort\n",
       "\n",
       "[520 rows x 5 columns]"
      ]
     },
     "execution_count": 9,
     "metadata": {},
     "output_type": "execute_result"
    }
   ],
   "source": [
    "df"
   ]
  },
  {
   "cell_type": "code",
   "execution_count": 22,
   "metadata": {},
   "outputs": [
    {
     "ename": "KeyError",
     "evalue": "'time'",
     "output_type": "error",
     "traceback": [
      "\u001b[0;31m---------------------------------------------------------------------------\u001b[0m",
      "\u001b[0;31mKeyError\u001b[0m                                  Traceback (most recent call last)",
      "\u001b[1;32m/Users/alexandra/Desktop/cm/cloudmesh-mpi/examples/sort/results.ipynb Cell 9\u001b[0m in \u001b[0;36m<cell line: 1>\u001b[0;34m()\u001b[0m\n\u001b[0;32m----> <a href='vscode-notebook-cell:/Users/alexandra/Desktop/cm/cloudmesh-mpi/examples/sort/results.ipynb#X11sZmlsZQ%3D%3D?line=0'>1</a>\u001b[0m df \u001b[39m=\u001b[39m df\u001b[39m.\u001b[39;49mpivot_table(\u001b[39m'\u001b[39;49m\u001b[39mtime\u001b[39;49m\u001b[39m'\u001b[39;49m, [\u001b[39m'\u001b[39;49m\u001b[39mtag\u001b[39;49m\u001b[39m'\u001b[39;49m, \u001b[39m'\u001b[39;49m\u001b[39mname\u001b[39;49m\u001b[39m'\u001b[39;49m, \u001b[39m'\u001b[39;49m\u001b[39mprocesses\u001b[39;49m\u001b[39m'\u001b[39;49m], \u001b[39m'\u001b[39;49m\u001b[39msize\u001b[39;49m\u001b[39m'\u001b[39;49m)\n",
      "File \u001b[0;32m~/ENV3/lib/python3.10/site-packages/pandas/core/frame.py:8038\u001b[0m, in \u001b[0;36mDataFrame.pivot_table\u001b[0;34m(self, values, index, columns, aggfunc, fill_value, margins, dropna, margins_name, observed, sort)\u001b[0m\n\u001b[1;32m   8021\u001b[0m \u001b[39m@Substitution\u001b[39m(\u001b[39m\"\u001b[39m\u001b[39m\"\u001b[39m)\n\u001b[1;32m   8022\u001b[0m \u001b[39m@Appender\u001b[39m(_shared_docs[\u001b[39m\"\u001b[39m\u001b[39mpivot_table\u001b[39m\u001b[39m\"\u001b[39m])\n\u001b[1;32m   8023\u001b[0m \u001b[39mdef\u001b[39;00m \u001b[39mpivot_table\u001b[39m(\n\u001b[0;32m   (...)\u001b[0m\n\u001b[1;32m   8034\u001b[0m     sort\u001b[39m=\u001b[39m\u001b[39mTrue\u001b[39;00m,\n\u001b[1;32m   8035\u001b[0m ) \u001b[39m-\u001b[39m\u001b[39m>\u001b[39m DataFrame:\n\u001b[1;32m   8036\u001b[0m     \u001b[39mfrom\u001b[39;00m \u001b[39mpandas\u001b[39;00m\u001b[39m.\u001b[39;00m\u001b[39mcore\u001b[39;00m\u001b[39m.\u001b[39;00m\u001b[39mreshape\u001b[39;00m\u001b[39m.\u001b[39;00m\u001b[39mpivot\u001b[39;00m \u001b[39mimport\u001b[39;00m pivot_table\n\u001b[0;32m-> 8038\u001b[0m     \u001b[39mreturn\u001b[39;00m pivot_table(\n\u001b[1;32m   8039\u001b[0m         \u001b[39mself\u001b[39;49m,\n\u001b[1;32m   8040\u001b[0m         values\u001b[39m=\u001b[39;49mvalues,\n\u001b[1;32m   8041\u001b[0m         index\u001b[39m=\u001b[39;49mindex,\n\u001b[1;32m   8042\u001b[0m         columns\u001b[39m=\u001b[39;49mcolumns,\n\u001b[1;32m   8043\u001b[0m         aggfunc\u001b[39m=\u001b[39;49maggfunc,\n\u001b[1;32m   8044\u001b[0m         fill_value\u001b[39m=\u001b[39;49mfill_value,\n\u001b[1;32m   8045\u001b[0m         margins\u001b[39m=\u001b[39;49mmargins,\n\u001b[1;32m   8046\u001b[0m         dropna\u001b[39m=\u001b[39;49mdropna,\n\u001b[1;32m   8047\u001b[0m         margins_name\u001b[39m=\u001b[39;49mmargins_name,\n\u001b[1;32m   8048\u001b[0m         observed\u001b[39m=\u001b[39;49mobserved,\n\u001b[1;32m   8049\u001b[0m         sort\u001b[39m=\u001b[39;49msort,\n\u001b[1;32m   8050\u001b[0m     )\n",
      "File \u001b[0;32m~/ENV3/lib/python3.10/site-packages/pandas/core/reshape/pivot.py:95\u001b[0m, in \u001b[0;36mpivot_table\u001b[0;34m(data, values, index, columns, aggfunc, fill_value, margins, dropna, margins_name, observed, sort)\u001b[0m\n\u001b[1;32m     92\u001b[0m     table \u001b[39m=\u001b[39m concat(pieces, keys\u001b[39m=\u001b[39mkeys, axis\u001b[39m=\u001b[39m\u001b[39m1\u001b[39m)\n\u001b[1;32m     93\u001b[0m     \u001b[39mreturn\u001b[39;00m table\u001b[39m.\u001b[39m__finalize__(data, method\u001b[39m=\u001b[39m\u001b[39m\"\u001b[39m\u001b[39mpivot_table\u001b[39m\u001b[39m\"\u001b[39m)\n\u001b[0;32m---> 95\u001b[0m table \u001b[39m=\u001b[39m __internal_pivot_table(\n\u001b[1;32m     96\u001b[0m     data,\n\u001b[1;32m     97\u001b[0m     values,\n\u001b[1;32m     98\u001b[0m     index,\n\u001b[1;32m     99\u001b[0m     columns,\n\u001b[1;32m    100\u001b[0m     aggfunc,\n\u001b[1;32m    101\u001b[0m     fill_value,\n\u001b[1;32m    102\u001b[0m     margins,\n\u001b[1;32m    103\u001b[0m     dropna,\n\u001b[1;32m    104\u001b[0m     margins_name,\n\u001b[1;32m    105\u001b[0m     observed,\n\u001b[1;32m    106\u001b[0m     sort,\n\u001b[1;32m    107\u001b[0m )\n\u001b[1;32m    108\u001b[0m \u001b[39mreturn\u001b[39;00m table\u001b[39m.\u001b[39m__finalize__(data, method\u001b[39m=\u001b[39m\u001b[39m\"\u001b[39m\u001b[39mpivot_table\u001b[39m\u001b[39m\"\u001b[39m)\n",
      "File \u001b[0;32m~/ENV3/lib/python3.10/site-packages/pandas/core/reshape/pivot.py:141\u001b[0m, in \u001b[0;36m__internal_pivot_table\u001b[0;34m(data, values, index, columns, aggfunc, fill_value, margins, dropna, margins_name, observed, sort)\u001b[0m\n\u001b[1;32m    139\u001b[0m \u001b[39mfor\u001b[39;00m i \u001b[39min\u001b[39;00m values:\n\u001b[1;32m    140\u001b[0m     \u001b[39mif\u001b[39;00m i \u001b[39mnot\u001b[39;00m \u001b[39min\u001b[39;00m data:\n\u001b[0;32m--> 141\u001b[0m         \u001b[39mraise\u001b[39;00m \u001b[39mKeyError\u001b[39;00m(i)\n\u001b[1;32m    143\u001b[0m to_filter \u001b[39m=\u001b[39m []\n\u001b[1;32m    144\u001b[0m \u001b[39mfor\u001b[39;00m x \u001b[39min\u001b[39;00m keys \u001b[39m+\u001b[39m values:\n",
      "\u001b[0;31mKeyError\u001b[0m: 'time'"
     ]
    }
   ],
   "source": [
    "df = df.pivot_table('time', ['tag', 'name', 'processes'], 'size')\n"
   ]
  }
 ],
 "metadata": {
  "kernelspec": {
   "display_name": "Python 3.10.1 ('ENV3')",
   "language": "python",
   "name": "python3"
  },
  "language_info": {
   "codemirror_mode": {
    "name": "ipython",
    "version": 3
   },
   "file_extension": ".py",
   "mimetype": "text/x-python",
   "name": "python",
   "nbconvert_exporter": "python",
   "pygments_lexer": "ipython3",
   "version": "3.10.5"
  },
  "orig_nbformat": 4,
  "vscode": {
   "interpreter": {
    "hash": "485547d5c3fa777a03807ca29d98ba5d53d74ad27ccec228f488c1a95f851b67"
   }
  }
 },
 "nbformat": 4,
 "nbformat_minor": 2
}
