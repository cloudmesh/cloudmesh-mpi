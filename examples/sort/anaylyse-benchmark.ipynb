{
 "cells": [
  {
   "cell_type": "markdown",
   "metadata": {
    "pycharm": {
     "name": "#%% md\n"
    }
   },
   "source": [
    "my comment"
   ]
  },
  {
   "cell_type": "code",
   "execution_count": 17,
   "metadata": {
    "pycharm": {
     "name": "#%%\n"
    }
   },
   "outputs": [],
   "source": [
    "import matplotlib.pyplot as plt\n",
    "import seaborn as sns\n",
    "import pandas as pd"
   ]
  },
  {
   "cell_type": "code",
   "execution_count": 18,
   "outputs": [],
   "source": [
    "size = [10000000]\n",
    "files = [\"alex\", \"gregor\", \"5950x-py3-12-gregor\", \"pi4-jp\", \"jp-laptop-jp\"]\n",
    "no_pi_files = [\"alex\", \"gregor\", \"5950x-py3-12-gregor\", \"jp-laptop-jp\"]\n"
   ],
   "metadata": {
    "collapsed": false,
    "pycharm": {
     "name": "#%%\n"
    }
   }
  },
  {
   "cell_type": "code",
   "execution_count": 19,
   "outputs": [],
   "source": [
    "def generate_average(df, tag=None, size=None, name=None):\n",
    "    _df = df.loc[(df['name'] == name) & (df['tag'] == tag) &  (df['size'] == size) ]\n",
    "    avg = _df.groupby(['processors', 'name', 'size', 'tag']).mean()\n",
    "    avg['tag'] = tag\n",
    "    avg['name'] = name\n",
    "    return avg"
   ],
   "metadata": {
    "collapsed": false,
    "pycharm": {
     "name": "#%%\n"
    }
   }
  },
  {
   "cell_type": "code",
   "execution_count": 20,
   "metadata": {
    "pycharm": {
     "name": "#%%\n"
    }
   },
   "outputs": [],
   "source": [
    "def plot_benchmark_by_size(df, size=None, tag=None, files=None, x=\"processors\", y=\"time\"):\n",
    "    names = \"-\".join(files)\n",
    "    sns.lineplot(data=df, x=x, y=y, hue=\"name\");\n",
    "    t = tag.title()\n",
    "    label = f\"{t}, Size={size}\".replace(\"_\", \" \")\n",
    "    plt.title(f\"{label}\")\n",
    "    if \"time\" in y: y = f\"{y}/s\"\n",
    "    if \"time\" in x: x = f\"{x}/s\"\n",
    "    plt.xlabel(x.capitalize())\n",
    "    plt.ylabel(y.capitalize())\n",
    "    plt.savefig(f\"images/by-size-{size}-{tag}-{names}.png\")\n",
    "    plt.savefig(f\"images/by-size-{size}-{tag}-{names}.pdf\")"
   ]
  },
  {
   "cell_type": "code",
   "execution_count": 20,
   "outputs": [],
   "source": [],
   "metadata": {
    "collapsed": false,
    "pycharm": {
     "name": "#%%\n"
    }
   }
  },
  {
   "cell_type": "code",
   "execution_count": 21,
   "outputs": [],
   "source": [
    "def get_data(content, tag=\"multiprocessing_mergesort\", size=None, log=None):\n",
    "    \"\"\"\n",
    "    TBD\n",
    "\n",
    "    :param content: data output from running mergesort\n",
    "    :type content: string\n",
    "    :return: none\n",
    "    :rtype: none\n",
    "    \"\"\"\n",
    "    found = []\n",
    "    lines = [line for line in content if \"# csv\" in line]\n",
    "\n",
    "    for line in lines[1:]:\n",
    "        entries = line.split(\",\")\n",
    "        entry = [entries[a] for a in [1, 3, 9, 8]]\n",
    "        time = entry[1]\n",
    "        name = f\"{entry[2]}-{entry[3]}\"\n",
    "\n",
    "        processes, size, count = entry[0].split(tag)[1].split(\"_\")[1:]\n",
    "\n",
    "        entry = [\n",
    "            int(processes),\n",
    "            # int(count),\n",
    "            float(time),\n",
    "            int(size),\n",
    "            name,\n",
    "            tag\n",
    "        ]\n",
    "        found.append(entry)\n",
    "    return found"
   ],
   "metadata": {
    "collapsed": false,
    "pycharm": {
     "name": "#%%\n"
    }
   }
  },
  {
   "cell_type": "code",
   "execution_count": 22,
   "outputs": [],
   "source": [
    "def read_log(log, size=None, tag=\"multiprocessing_mergesort\"):\n",
    "    if \".log\" not in log:\n",
    "        log = f\"log/{log}-{size}.log\"\n",
    "    f = open(log, \"r\")\n",
    "    content = f.read().splitlines()\n",
    "    try:\n",
    "        data = get_data(content, tag=tag, size=size, log=log)\n",
    "    except:\n",
    "        print(\"ERROR READING\", log)\n",
    "    return data\n"
   ],
   "metadata": {
    "collapsed": false,
    "pycharm": {
     "name": "#%%\n"
    }
   }
  },
  {
   "cell_type": "code",
   "execution_count": 23,
   "outputs": [],
   "source": [
    "def read_logs(files=None, size =[100], tag=[\"multiprocessing_mergesort\"]):\n",
    "    data = []\n",
    "    for file in files:\n",
    "        for s in size:\n",
    "            content = read_log(file, size=s, tag=\"multiprocessing_mergesort\")\n",
    "            data = data + content\n",
    "    #for i in range(0,len(data)):\n",
    "    #    data[i] = [i] + data[i]\n",
    "    df = pd.DataFrame(data)\n",
    "    df.columns = ['processors', 'time', 'size', 'name', 'tag']\n",
    "    return df"
   ],
   "metadata": {
    "collapsed": false,
    "pycharm": {
     "name": "#%%\n"
    }
   }
  },
  {
   "cell_type": "code",
   "execution_count": 24,
   "outputs": [
    {
     "data": {
      "text/plain": "<Figure size 432x288 with 1 Axes>",
      "image/png": "[encoded data removed]"
     },
     "metadata": {},
     "output_type": "display_data"
    }
   ],
   "source": [
    "df = read_logs(files=no_pi_files, size=size)\n",
    "plot_benchmark_by_size(df, size, \"multiprocessing_mergesort\", files)\n",
    "plt.show()"
   ],
   "metadata": {
    "collapsed": false,
    "pycharm": {
     "name": "#%%\n"
    }
   }
  },
  {
   "cell_type": "code",
   "execution_count": 25,
   "outputs": [
    {
     "data": {
      "text/plain": "     processors    time      size                       name  \\\n0            12  21.369  10000000  alex-macbookproi7_2400MHz   \n1            11  20.981  10000000  alex-macbookproi7_2400MHz   \n2            10  21.921  10000000  alex-macbookproi7_2400MHz   \n3             9  22.923  10000000  alex-macbookproi7_2400MHz   \n4             8  19.963  10000000  alex-macbookproi7_2400MHz   \n..          ...     ...       ...                        ...   \n519           1  58.239  10000000               jp-jp-laptop   \n520           1  57.243  10000000               jp-jp-laptop   \n521           1  58.195  10000000               jp-jp-laptop   \n522           1  59.450  10000000               jp-jp-laptop   \n523           1  58.927  10000000               jp-jp-laptop   \n\n                           tag  \n0    multiprocessing_mergesort  \n1    multiprocessing_mergesort  \n2    multiprocessing_mergesort  \n3    multiprocessing_mergesort  \n4    multiprocessing_mergesort  \n..                         ...  \n519  multiprocessing_mergesort  \n520  multiprocessing_mergesort  \n521  multiprocessing_mergesort  \n522  multiprocessing_mergesort  \n523  multiprocessing_mergesort  \n\n[524 rows x 5 columns]",
      "text/html": "<div>\n<style scoped>\n    .dataframe tbody tr th:only-of-type {\n        vertical-align: middle;\n    }\n\n    .dataframe tbody tr th {\n        vertical-align: top;\n    }\n\n    .dataframe thead th {\n        text-align: right;\n    }\n</style>\n<table border=\"1\" class=\"dataframe\">\n  <thead>\n    <tr style=\"text-align: right;\">\n      <th></th>\n      <th>processors</th>\n      <th>time</th>\n      <th>size</th>\n      <th>name</th>\n      <th>tag</th>\n    </tr>\n  </thead>\n  <tbody>\n    <tr>\n      <th>0</th>\n      <td>12</td>\n      <td>21.369</td>\n      <td>10000000</td>\n      <td>alex-macbookproi7_2400MHz</td>\n      <td>multiprocessing_mergesort</td>\n    </tr>\n    <tr>\n      <th>1</th>\n      <td>11</td>\n      <td>20.981</td>\n      <td>10000000</td>\n      <td>alex-macbookproi7_2400MHz</td>\n      <td>multiprocessing_mergesort</td>\n    </tr>\n    <tr>\n      <th>2</th>\n      <td>10</td>\n      <td>21.921</td>\n      <td>10000000</td>\n      <td>alex-macbookproi7_2400MHz</td>\n      <td>multiprocessing_mergesort</td>\n    </tr>\n    <tr>\n      <th>3</th>\n      <td>9</td>\n      <td>22.923</td>\n      <td>10000000</td>\n      <td>alex-macbookproi7_2400MHz</td>\n      <td>multiprocessing_mergesort</td>\n    </tr>\n    <tr>\n      <th>4</th>\n      <td>8</td>\n      <td>19.963</td>\n      <td>10000000</td>\n      <td>alex-macbookproi7_2400MHz</td>\n      <td>multiprocessing_mergesort</td>\n    </tr>\n    <tr>\n      <th>...</th>\n      <td>...</td>\n      <td>...</td>\n      <td>...</td>\n      <td>...</td>\n      <td>...</td>\n    </tr>\n    <tr>\n      <th>519</th>\n      <td>1</td>\n      <td>58.239</td>\n      <td>10000000</td>\n      <td>jp-jp-laptop</td>\n      <td>multiprocessing_mergesort</td>\n    </tr>\n    <tr>\n      <th>520</th>\n      <td>1</td>\n      <td>57.243</td>\n      <td>10000000</td>\n      <td>jp-jp-laptop</td>\n      <td>multiprocessing_mergesort</td>\n    </tr>\n    <tr>\n      <th>521</th>\n      <td>1</td>\n      <td>58.195</td>\n      <td>10000000</td>\n      <td>jp-jp-laptop</td>\n      <td>multiprocessing_mergesort</td>\n    </tr>\n    <tr>\n      <th>522</th>\n      <td>1</td>\n      <td>59.450</td>\n      <td>10000000</td>\n      <td>jp-jp-laptop</td>\n      <td>multiprocessing_mergesort</td>\n    </tr>\n    <tr>\n      <th>523</th>\n      <td>1</td>\n      <td>58.927</td>\n      <td>10000000</td>\n      <td>jp-jp-laptop</td>\n      <td>multiprocessing_mergesort</td>\n    </tr>\n  </tbody>\n</table>\n<p>524 rows × 5 columns</p>\n</div>"
     },
     "execution_count": 25,
     "metadata": {},
     "output_type": "execute_result"
    }
   ],
   "source": [
    "df = read_logs(files=files, size=size)\n",
    "df"
   ],
   "metadata": {
    "collapsed": false,
    "pycharm": {
     "name": "#%%\n"
    }
   }
  },
  {
   "cell_type": "code",
   "execution_count": 26,
   "outputs": [
    {
     "data": {
      "text/plain": "<Figure size 432x288 with 1 Axes>",
      "image/png": "[encoded data removed]"
     },
     "metadata": {},
     "output_type": "display_data"
    }
   ],
   "source": [
    "    plot_benchmark_by_size(df, size, \"multiprocessing_mergesort\", files)\n",
    "    plt.show()"
   ],
   "metadata": {
    "collapsed": false,
    "pycharm": {
     "name": "#%%\n"
    }
   }
  },
  {
   "cell_type": "code",
   "execution_count": null,
   "outputs": [],
   "source": [
    "# calculate the avarage of all data with the same repeat\n",
    "df_average = ..."
   ],
   "metadata": {
    "collapsed": false,
    "pycharm": {
     "name": "#%%\n"
    }
   }
  },
  {
   "cell_type": "code",
   "execution_count": null,
   "outputs": [],
   "source": [
    "# calculate the speedup\n",
    "df_speedup = ..."
   ],
   "metadata": {
    "collapsed": false,
    "pycharm": {
     "name": "#%%\n"
    }
   }
  },
  {
   "cell_type": "code",
   "execution_count": null,
   "outputs": [],
   "source": [
    "# calculate the efficiency\n",
    "df_efficiency ="
   ],
   "metadata": {
    "collapsed": false,
    "pycharm": {
     "name": "#%%\n"
    }
   }
  },
  {
   "cell_type": "code",
   "execution_count": null,
   "outputs": [],
   "source": [
    "# produce the plots\n",
    "..."
   ],
   "metadata": {
    "collapsed": false,
    "pycharm": {
     "name": "#%%\n"
    }
   }
  },
  {
   "cell_type": "code",
   "execution_count": 9,
   "metadata": {
    "pycharm": {
     "name": "#%%\n"
    }
   },
   "outputs": [],
   "source": [
    "def calculate_speedup(size):\n",
    "    tag = \"multiprocessing_mergesort\"\n",
    "    data = []\n",
    "\n",
    "    for file in files:\n",
    "        try:\n",
    "            _data = read_log(file, size=size)\n",
    "            print(f\"Read: {file}\")\n",
    "            data = data + _data\n",
    "        except:\n",
    "            pass\n",
    "\n",
    "    # print data\n",
    "    print(data)\n",
    "\n",
    "    df = pd.DataFrame(data = data, \n",
    "                      columns = [\"processors\", \"time\", \"size\", \"name\", \"tag\"])\n",
    "    # df[\"speedup\"] = df[\"time\"].max()  / df[\"time\"] \n",
    "    print(df[\"time\"])\n",
    "\n",
    "    plot_benchmark_by_size(df, size, tag, files)\n",
    "    plt.show()\n",
    " \n",
    "    # calculate average\n",
    "    avg = pd.DataFrame()\n",
    "    for name in files:\n",
    "        _df = generate_average(df, tag=\"multiprocessing_mergesort\", name=name, size=size)\n",
    "        avg = pd.concat([avg, _df])\n",
    "    print(avg)\n",
    "\n",
    "    # calculate speedup\n",
    "    speedup = pd.DataFrame(avg)\n",
    "    # speedup[\"p\"] = speedup.index.get_level_values(0).astype(float)\n",
    "\n",
    "    frames = []\n",
    "    for name in files:\n",
    "        # select all times with given user name\n",
    "        df = speedup[speedup['name'] == name]\n",
    "        time_for_one_processor = df.query('processors == 1').iat[0, 0]\n",
    "        # calculate speedup by dividing time by time taken using one processor \n",
    "        df['speedup'] = df[\"time\"].rdiv(time_for_one_processor)\n",
    "        frames.append(df)\n",
    "\n",
    "    result = pd.concat(frames)\n",
    "    print(result)\n",
    "\n",
    "    plot_benchmark_by_size(result, size=size, tag=tag, files=files, x=\"processors\", y=\"speedup\")\n",
    "    plt.show()\n",
    "    "
   ]
  },
  {
   "cell_type": "code",
   "execution_count": 10,
   "metadata": {
    "pycharm": {
     "name": "#%%\n"
    }
   },
   "outputs": [
    {
     "name": "stdout",
     "output_type": "stream",
     "text": [
      "[]\n",
      "Series([], Name: time, dtype: object)\n"
     ]
    },
    {
     "data": {
      "text/plain": "<Figure size 432x288 with 1 Axes>",
      "image/png": "[encoded data removed]"
     },
     "metadata": {},
     "output_type": "display_data"
    },
    {
     "ename": "ValueError",
     "evalue": "('Lengths must match to compare', (0,), (1,))",
     "output_type": "error",
     "traceback": [
      "\u001B[0;31m---------------------------------------------------------------------------\u001B[0m",
      "\u001B[0;31mValueError\u001B[0m                                Traceback (most recent call last)",
      "Input \u001B[0;32mIn [10]\u001B[0m, in \u001B[0;36m<cell line: 1>\u001B[0;34m()\u001B[0m\n\u001B[0;32m----> 1\u001B[0m \u001B[43mcalculate_speedup\u001B[49m\u001B[43m(\u001B[49m\u001B[43msize\u001B[49m\u001B[43m)\u001B[49m\n",
      "Input \u001B[0;32mIn [9]\u001B[0m, in \u001B[0;36mcalculate_speedup\u001B[0;34m(size)\u001B[0m\n\u001B[1;32m     25\u001B[0m avg \u001B[38;5;241m=\u001B[39m pd\u001B[38;5;241m.\u001B[39mDataFrame()\n\u001B[1;32m     26\u001B[0m \u001B[38;5;28;01mfor\u001B[39;00m name \u001B[38;5;129;01min\u001B[39;00m files:\n\u001B[0;32m---> 27\u001B[0m     _df \u001B[38;5;241m=\u001B[39m \u001B[43mgenerate_average\u001B[49m\u001B[43m(\u001B[49m\u001B[43mdf\u001B[49m\u001B[43m,\u001B[49m\u001B[43m \u001B[49m\u001B[43mtag\u001B[49m\u001B[38;5;241;43m=\u001B[39;49m\u001B[38;5;124;43m\"\u001B[39;49m\u001B[38;5;124;43mmultiprocessing_mergesort\u001B[39;49m\u001B[38;5;124;43m\"\u001B[39;49m\u001B[43m,\u001B[49m\u001B[43m \u001B[49m\u001B[43mname\u001B[49m\u001B[38;5;241;43m=\u001B[39;49m\u001B[43mname\u001B[49m\u001B[43m,\u001B[49m\u001B[43m \u001B[49m\u001B[43msize\u001B[49m\u001B[38;5;241;43m=\u001B[39;49m\u001B[43msize\u001B[49m\u001B[43m)\u001B[49m\n\u001B[1;32m     28\u001B[0m     avg \u001B[38;5;241m=\u001B[39m pd\u001B[38;5;241m.\u001B[39mconcat([avg, _df])\n\u001B[1;32m     29\u001B[0m \u001B[38;5;28mprint\u001B[39m(avg)\n",
      "Input \u001B[0;32mIn [3]\u001B[0m, in \u001B[0;36mgenerate_average\u001B[0;34m(df, tag, size, name)\u001B[0m\n\u001B[1;32m      1\u001B[0m \u001B[38;5;28;01mdef\u001B[39;00m \u001B[38;5;21mgenerate_average\u001B[39m(df, tag\u001B[38;5;241m=\u001B[39m\u001B[38;5;28;01mNone\u001B[39;00m, size\u001B[38;5;241m=\u001B[39m\u001B[38;5;28;01mNone\u001B[39;00m, name\u001B[38;5;241m=\u001B[39m\u001B[38;5;28;01mNone\u001B[39;00m):\n\u001B[0;32m----> 2\u001B[0m     _df \u001B[38;5;241m=\u001B[39m df\u001B[38;5;241m.\u001B[39mloc[(df[\u001B[38;5;124m'\u001B[39m\u001B[38;5;124mname\u001B[39m\u001B[38;5;124m'\u001B[39m] \u001B[38;5;241m==\u001B[39m name) \u001B[38;5;241m&\u001B[39m (df[\u001B[38;5;124m'\u001B[39m\u001B[38;5;124mtag\u001B[39m\u001B[38;5;124m'\u001B[39m] \u001B[38;5;241m==\u001B[39m tag) \u001B[38;5;241m&\u001B[39m  (\u001B[43mdf\u001B[49m\u001B[43m[\u001B[49m\u001B[38;5;124;43m'\u001B[39;49m\u001B[38;5;124;43msize\u001B[39;49m\u001B[38;5;124;43m'\u001B[39;49m\u001B[43m]\u001B[49m\u001B[43m \u001B[49m\u001B[38;5;241;43m==\u001B[39;49m\u001B[43m \u001B[49m\u001B[43msize\u001B[49m) ]\n\u001B[1;32m      3\u001B[0m     avg \u001B[38;5;241m=\u001B[39m _df\u001B[38;5;241m.\u001B[39mgroupby([\u001B[38;5;124m'\u001B[39m\u001B[38;5;124mprocessors\u001B[39m\u001B[38;5;124m'\u001B[39m, \u001B[38;5;124m'\u001B[39m\u001B[38;5;124mname\u001B[39m\u001B[38;5;124m'\u001B[39m, \u001B[38;5;124m'\u001B[39m\u001B[38;5;124msize\u001B[39m\u001B[38;5;124m'\u001B[39m, \u001B[38;5;124m'\u001B[39m\u001B[38;5;124mtag\u001B[39m\u001B[38;5;124m'\u001B[39m])\u001B[38;5;241m.\u001B[39mmean()\n\u001B[1;32m      4\u001B[0m     avg[\u001B[38;5;124m'\u001B[39m\u001B[38;5;124mtag\u001B[39m\u001B[38;5;124m'\u001B[39m] \u001B[38;5;241m=\u001B[39m tag\n",
      "File \u001B[0;32m~/ENV3/lib/python3.10/site-packages/pandas/core/ops/common.py:70\u001B[0m, in \u001B[0;36m_unpack_zerodim_and_defer.<locals>.new_method\u001B[0;34m(self, other)\u001B[0m\n\u001B[1;32m     66\u001B[0m             \u001B[38;5;28;01mreturn\u001B[39;00m \u001B[38;5;28mNotImplemented\u001B[39m\n\u001B[1;32m     68\u001B[0m other \u001B[38;5;241m=\u001B[39m item_from_zerodim(other)\n\u001B[0;32m---> 70\u001B[0m \u001B[38;5;28;01mreturn\u001B[39;00m \u001B[43mmethod\u001B[49m\u001B[43m(\u001B[49m\u001B[38;5;28;43mself\u001B[39;49m\u001B[43m,\u001B[49m\u001B[43m \u001B[49m\u001B[43mother\u001B[49m\u001B[43m)\u001B[49m\n",
      "File \u001B[0;32m~/ENV3/lib/python3.10/site-packages/pandas/core/arraylike.py:40\u001B[0m, in \u001B[0;36mOpsMixin.__eq__\u001B[0;34m(self, other)\u001B[0m\n\u001B[1;32m     38\u001B[0m \u001B[38;5;129m@unpack_zerodim_and_defer\u001B[39m(\u001B[38;5;124m\"\u001B[39m\u001B[38;5;124m__eq__\u001B[39m\u001B[38;5;124m\"\u001B[39m)\n\u001B[1;32m     39\u001B[0m \u001B[38;5;28;01mdef\u001B[39;00m \u001B[38;5;21m__eq__\u001B[39m(\u001B[38;5;28mself\u001B[39m, other):\n\u001B[0;32m---> 40\u001B[0m     \u001B[38;5;28;01mreturn\u001B[39;00m \u001B[38;5;28;43mself\u001B[39;49m\u001B[38;5;241;43m.\u001B[39;49m\u001B[43m_cmp_method\u001B[49m\u001B[43m(\u001B[49m\u001B[43mother\u001B[49m\u001B[43m,\u001B[49m\u001B[43m \u001B[49m\u001B[43moperator\u001B[49m\u001B[38;5;241;43m.\u001B[39;49m\u001B[43meq\u001B[49m\u001B[43m)\u001B[49m\n",
      "File \u001B[0;32m~/ENV3/lib/python3.10/site-packages/pandas/core/series.py:5623\u001B[0m, in \u001B[0;36mSeries._cmp_method\u001B[0;34m(self, other, op)\u001B[0m\n\u001B[1;32m   5620\u001B[0m rvalues \u001B[38;5;241m=\u001B[39m extract_array(other, extract_numpy\u001B[38;5;241m=\u001B[39m\u001B[38;5;28;01mTrue\u001B[39;00m, extract_range\u001B[38;5;241m=\u001B[39m\u001B[38;5;28;01mTrue\u001B[39;00m)\n\u001B[1;32m   5622\u001B[0m \u001B[38;5;28;01mwith\u001B[39;00m np\u001B[38;5;241m.\u001B[39merrstate(\u001B[38;5;28mall\u001B[39m\u001B[38;5;241m=\u001B[39m\u001B[38;5;124m\"\u001B[39m\u001B[38;5;124mignore\u001B[39m\u001B[38;5;124m\"\u001B[39m):\n\u001B[0;32m-> 5623\u001B[0m     res_values \u001B[38;5;241m=\u001B[39m \u001B[43mops\u001B[49m\u001B[38;5;241;43m.\u001B[39;49m\u001B[43mcomparison_op\u001B[49m\u001B[43m(\u001B[49m\u001B[43mlvalues\u001B[49m\u001B[43m,\u001B[49m\u001B[43m \u001B[49m\u001B[43mrvalues\u001B[49m\u001B[43m,\u001B[49m\u001B[43m \u001B[49m\u001B[43mop\u001B[49m\u001B[43m)\u001B[49m\n\u001B[1;32m   5625\u001B[0m \u001B[38;5;28;01mreturn\u001B[39;00m \u001B[38;5;28mself\u001B[39m\u001B[38;5;241m.\u001B[39m_construct_result(res_values, name\u001B[38;5;241m=\u001B[39mres_name)\n",
      "File \u001B[0;32m~/ENV3/lib/python3.10/site-packages/pandas/core/ops/array_ops.py:260\u001B[0m, in \u001B[0;36mcomparison_op\u001B[0;34m(left, right, op)\u001B[0m\n\u001B[1;32m    255\u001B[0m \u001B[38;5;28;01mif\u001B[39;00m \u001B[38;5;28misinstance\u001B[39m(rvalues, (np\u001B[38;5;241m.\u001B[39mndarray, ABCExtensionArray)):\n\u001B[1;32m    256\u001B[0m     \u001B[38;5;66;03m# TODO: make this treatment consistent across ops and classes.\u001B[39;00m\n\u001B[1;32m    257\u001B[0m     \u001B[38;5;66;03m#  We are not catching all listlikes here (e.g. frozenset, tuple)\u001B[39;00m\n\u001B[1;32m    258\u001B[0m     \u001B[38;5;66;03m#  The ambiguous case is object-dtype.  See GH#27803\u001B[39;00m\n\u001B[1;32m    259\u001B[0m     \u001B[38;5;28;01mif\u001B[39;00m \u001B[38;5;28mlen\u001B[39m(lvalues) \u001B[38;5;241m!=\u001B[39m \u001B[38;5;28mlen\u001B[39m(rvalues):\n\u001B[0;32m--> 260\u001B[0m         \u001B[38;5;28;01mraise\u001B[39;00m \u001B[38;5;167;01mValueError\u001B[39;00m(\n\u001B[1;32m    261\u001B[0m             \u001B[38;5;124m\"\u001B[39m\u001B[38;5;124mLengths must match to compare\u001B[39m\u001B[38;5;124m\"\u001B[39m, lvalues\u001B[38;5;241m.\u001B[39mshape, rvalues\u001B[38;5;241m.\u001B[39mshape\n\u001B[1;32m    262\u001B[0m         )\n\u001B[1;32m    264\u001B[0m \u001B[38;5;28;01mif\u001B[39;00m should_extension_dispatch(lvalues, rvalues) \u001B[38;5;129;01mor\u001B[39;00m (\n\u001B[1;32m    265\u001B[0m     (\u001B[38;5;28misinstance\u001B[39m(rvalues, (Timedelta, BaseOffset, Timestamp)) \u001B[38;5;129;01mor\u001B[39;00m right \u001B[38;5;129;01mis\u001B[39;00m NaT)\n\u001B[1;32m    266\u001B[0m     \u001B[38;5;129;01mand\u001B[39;00m \u001B[38;5;129;01mnot\u001B[39;00m is_object_dtype(lvalues\u001B[38;5;241m.\u001B[39mdtype)\n\u001B[1;32m    267\u001B[0m ):\n\u001B[1;32m    268\u001B[0m     \u001B[38;5;66;03m# Call the method on lvalues\u001B[39;00m\n\u001B[1;32m    269\u001B[0m     res_values \u001B[38;5;241m=\u001B[39m op(lvalues, rvalues)\n",
      "\u001B[0;31mValueError\u001B[0m: ('Lengths must match to compare', (0,), (1,))"
     ]
    }
   ],
   "source": [
    "calculate_speedup(size)\n"
   ]
  },
  {
   "cell_type": "code",
   "execution_count": null,
   "metadata": {
    "pycharm": {
     "name": "#%%\n"
    }
   },
   "outputs": [],
   "source": [
    "def calculate_efficiency(size):\n",
    "    tag = \"multiprocessing_mergesort\"\n",
    "    data = []\n",
    "\n",
    "    for file in files:\n",
    "        try:\n",
    "            _data = read_log(file, size=size)\n",
    "            data = data + _data\n",
    "        except:\n",
    "            pass\n",
    "    # print data\n",
    "    print(data)\n",
    "\n",
    "    df = pd.DataFrame(data = data, \n",
    "                      columns = [\"processors\", \"time\", \"size\", \"name\", \"tag\"])\n",
    "    # df[\"speedup\"] = df[\"time\"].max()  / df[\"time\"] \n",
    "    print(df[\"time\"])\n",
    "\n",
    "    plot_benchmark_by_size(df, size, tag, files)\n",
    "    plt.show()\n",
    "\n",
    "    # calculate average\n",
    "    avg = pd.DataFrame()\n",
    "    for name in files:\n",
    "        _df = generate_average(df, tag=\"multiprocessing_mergesort\", name=name, size=size)\n",
    "        avg = pd.concat([avg, _df])\n",
    "    # print(avg)\n",
    "\n",
    "    # calculate speedup\n",
    "    speedup = pd.DataFrame(avg)\n",
    "    # speedup[\"p\"] = speedup.index.get_level_values(0).astype(float)\n",
    "\n",
    "    speedup_frames = []\n",
    "    for name in files:\n",
    "        # select all times with given user name\n",
    "        df = speedup[speedup['name'] == name]\n",
    "        time_for_one_processor = df.query('processors == 1').iat[0, 0]\n",
    "        # calculate speedup by dividing time by time taken using one processor \n",
    "        df['speedup'] = df[\"time\"].rdiv(time_for_one_processor)\n",
    "        speedup_frames.append(df)\n",
    "\n",
    "    result = pd.concat(speedup_frames)\n",
    "    result['p'] = speedup.index.get_level_values(0).astype(float)\n",
    "    result['efficiency'] = result['speedup'] / result['p']\n",
    "    # print(result['efficiency'])\n",
    "\n",
    "    plot_benchmark_by_size(result, size=size, tag=tag, files=files, x=\"processors\", y=\"efficiency\")\n",
    "    plt.show()\n",
    "    "
   ]
  },
  {
   "cell_type": "code",
   "execution_count": null,
   "metadata": {
    "pycharm": {
     "name": "#%%\n"
    }
   },
   "outputs": [],
   "source": [
    "size = 10000000\n",
    "calculate_efficiency(size)"
   ]
  },
  {
   "cell_type": "markdown",
   "source": [],
   "metadata": {
    "collapsed": false,
    "pycharm": {
     "name": "#%% md\n"
    }
   }
  },
  {
   "cell_type": "code",
   "execution_count": null,
   "outputs": [],
   "source": [],
   "metadata": {
    "collapsed": false,
    "pycharm": {
     "name": "#%%\n"
    }
   }
  }
 ],
 "metadata": {
  "interpreter": {
   "hash": "485547d5c3fa777a03807ca29d98ba5d53d74ad27ccec228f488c1a95f851b67"
  },
  "kernelspec": {
   "display_name": "Python 3.10.1 ('ENV3')",
   "language": "python",
   "name": "python3"
  },
  "language_info": {
   "codemirror_mode": {
    "name": "ipython",
    "version": 3
   },
   "file_extension": ".py",
   "mimetype": "text/x-python",
   "name": "python",
   "nbconvert_exporter": "python",
   "pygments_lexer": "ipython3",
   "version": "3.10.1"
  },
  "orig_nbformat": 4
 },
 "nbformat": 4,
 "nbformat_minor": 2
}