{
 "cells": [
  {
   "cell_type": "markdown",
   "metadata": {
    "pycharm": {
     "name": "#%% md\n"
    }
   },
   "source": [
    "my comment"
   ]
  },
  {
   "cell_type": "code",
   "execution_count": 1,
   "metadata": {
    "pycharm": {
     "name": "#%%\n"
    }
   },
   "outputs": [],
   "source": [
    "import matplotlib.pyplot as plt\n",
    "import seaborn as sns\n",
    "import pandas as pd\n",
    "import numpy as np"
   ]
  },
  {
   "cell_type": "code",
   "execution_count": 2,
   "outputs": [],
   "source": [
    "size = [10000000]\n",
    "files = [\"alex\", \"gregor\", \"5950x-py3-12-gregor\", \"pi4-jp\", \"laptop-jp\"]\n",
    "no_pi_files = [\"alex\", \"gregor\", \"5950x-py3-12-gregor\", \"laptop-jp\"]\n",
    "machine = [\"MacBookPro i7 2400Mhz\",\"Macbook Pro M1\", \"PI4\", \"AMD64 23-113 Win10\"]"
   ],
   "metadata": {
    "collapsed": false,
    "pycharm": {
     "name": "#%%\n"
    }
   }
  },
  {
   "cell_type": "code",
   "execution_count": 3,
   "outputs": [],
   "source": [
    "def generate_average(df, tag=None, size=None, name=None):\n",
    "    _df = df.loc[(df['name'] == name) & (df['tag'] == tag) &  (df['size'] == size) ]\n",
    "    avg = _df.groupby(['processors', 'name', 'size', 'tag']).mean()\n",
    "    avg['tag'] = tag\n",
    "    avg['name'] = name\n",
    "    return avg"
   ],
   "metadata": {
    "collapsed": false,
    "pycharm": {
     "name": "#%%\n"
    }
   }
  },
  {
   "cell_type": "code",
   "execution_count": 4,
   "metadata": {
    "pycharm": {
     "name": "#%%\n"
    }
   },
   "outputs": [],
   "source": [
    "def plot_benchmark_by_size(df, size=None, tag=None, files=None, x=\"processors\", y=\"time\"):\n",
    "    names = \"-\".join(files)\n",
    "    sns.lineplot(data=df, x=x, y=y, hue=\"name\");\n",
    "    t = tag.title()\n",
    "    label = f\"{t}, Size={size}\".replace(\"_\", \" \")\n",
    "    plt.title(f\"{label}\")\n",
    "    if \"time\" in y: y = f\"{y}/s\"\n",
    "    if \"time\" in x: x = f\"{x}/s\"\n",
    "    plt.xlabel(x.capitalize())\n",
    "    plt.ylabel(y.capitalize())\n",
    "    plt.savefig(f\"images/by-size-{size}-{tag}-{names}.png\")\n",
    "    plt.savefig(f\"images/by-size-{size}-{tag}-{names}.pdf\")"
   ]
  },
  {
   "cell_type": "code",
   "execution_count": 4,
   "outputs": [],
   "source": [],
   "metadata": {
    "collapsed": false,
    "pycharm": {
     "name": "#%%\n"
    }
   }
  },
  {
   "cell_type": "code",
   "execution_count": 5,
   "outputs": [],
   "source": [
    "def get_data(content, tag=\"multiprocessing_mergesort\", size=None, log=None):\n",
    "    \"\"\"\n",
    "    TBD\n",
    "\n",
    "    :param content: data output from running mergesort\n",
    "    :type content: string\n",
    "    :return: none\n",
    "    :rtype: none\n",
    "    \"\"\"\n",
    "    found = []\n",
    "    lines = [line for line in content if \"# csv\" in line]\n",
    "\n",
    "    for line in lines[1:]:\n",
    "        entries = line.split(\",\")\n",
    "        entry = [entries[a] for a in [1, 3, 9, 8]]\n",
    "        time = entry[1]\n",
    "        name = f\"{entry[2]}-{entry[3]}\"\n",
    "\n",
    "        processes, size, count = entry[0].split(tag)[1].split(\"_\")[1:]\n",
    "\n",
    "        entry = [\n",
    "            int(processes),\n",
    "            # int(count),\n",
    "            float(time),\n",
    "            int(size),\n",
    "            name,\n",
    "            tag\n",
    "        ]\n",
    "        found.append(entry)\n",
    "    return found"
   ],
   "metadata": {
    "collapsed": false,
    "pycharm": {
     "name": "#%%\n"
    }
   }
  },
  {
   "cell_type": "code",
   "execution_count": 6,
   "outputs": [],
   "source": [
    "def read_log(log, size=None, tag=\"multiprocessing_mergesort\"):\n",
    "    if \".log\" not in log:\n",
    "        log = f\"log/{log}-{size}.log\"\n",
    "    f = open(log, \"r\")\n",
    "    content = f.read().splitlines()\n",
    "    try:\n",
    "        data = get_data(content, tag=tag, size=size, log=log)\n",
    "    except:\n",
    "        print(\"ERROR READING\", log)\n",
    "    return data\n"
   ],
   "metadata": {
    "collapsed": false,
    "pycharm": {
     "name": "#%%\n"
    }
   }
  },
  {
   "cell_type": "code",
   "execution_count": 7,
   "outputs": [],
   "source": [
    "def read_logs(files=None, size =[100], tag=[\"multiprocessing_mergesort\"]):\n",
    "    data = []\n",
    "    for file in files:\n",
    "        for s in size:\n",
    "            content = read_log(file, size=s, tag=\"multiprocessing_mergesort\")\n",
    "            data = data + content\n",
    "    #for i in range(0,len(data)):\n",
    "    #    data[i] = [i] + data[i]\n",
    "    df = pd.DataFrame(data)\n",
    "    df.columns = ['processors', 'time', 'size', 'name', 'tag']\n",
    "    return df"
   ],
   "metadata": {
    "collapsed": false,
    "pycharm": {
     "name": "#%%\n"
    }
   }
  },
  {
   "cell_type": "code",
   "execution_count": 8,
   "outputs": [
    {
     "data": {
      "text/plain": "<Figure size 432x288 with 1 Axes>",
      "image/png": "[encoded data removed]"
     },
     "metadata": {
      "needs_background": "light"
     },
     "output_type": "display_data"
    }
   ],
   "source": [
    "df = read_logs(files=no_pi_files, size=size)\n",
    "plot_benchmark_by_size(df, size, \"multiprocessing_mergesort\", files)\n",
    "plt.show()"
   ],
   "metadata": {
    "collapsed": false,
    "pycharm": {
     "name": "#%%\n"
    }
   }
  },
  {
   "cell_type": "code",
   "execution_count": 9,
   "outputs": [
    {
     "data": {
      "text/plain": "     processors    time      size                       name  \\\n0            12  21.369  10000000  alex-macbookproi7_2400MHz   \n1            11  20.981  10000000  alex-macbookproi7_2400MHz   \n2            10  21.921  10000000  alex-macbookproi7_2400MHz   \n3             9  22.923  10000000  alex-macbookproi7_2400MHz   \n4             8  19.963  10000000  alex-macbookproi7_2400MHz   \n..          ...     ...       ...                        ...   \n519           1  58.239  10000000                  jp-laptop   \n520           1  57.243  10000000                  jp-laptop   \n521           1  58.195  10000000                  jp-laptop   \n522           1  59.450  10000000                  jp-laptop   \n523           1  58.927  10000000                  jp-laptop   \n\n                           tag  \n0    multiprocessing_mergesort  \n1    multiprocessing_mergesort  \n2    multiprocessing_mergesort  \n3    multiprocessing_mergesort  \n4    multiprocessing_mergesort  \n..                         ...  \n519  multiprocessing_mergesort  \n520  multiprocessing_mergesort  \n521  multiprocessing_mergesort  \n522  multiprocessing_mergesort  \n523  multiprocessing_mergesort  \n\n[524 rows x 5 columns]",
      "text/html": "<div>\n<style scoped>\n    .dataframe tbody tr th:only-of-type {\n        vertical-align: middle;\n    }\n\n    .dataframe tbody tr th {\n        vertical-align: top;\n    }\n\n    .dataframe thead th {\n        text-align: right;\n    }\n</style>\n<table border=\"1\" class=\"dataframe\">\n  <thead>\n    <tr style=\"text-align: right;\">\n      <th></th>\n      <th>processors</th>\n      <th>time</th>\n      <th>size</th>\n      <th>name</th>\n      <th>tag</th>\n    </tr>\n  </thead>\n  <tbody>\n    <tr>\n      <th>0</th>\n      <td>12</td>\n      <td>21.369</td>\n      <td>10000000</td>\n      <td>alex-macbookproi7_2400MHz</td>\n      <td>multiprocessing_mergesort</td>\n    </tr>\n    <tr>\n      <th>1</th>\n      <td>11</td>\n      <td>20.981</td>\n      <td>10000000</td>\n      <td>alex-macbookproi7_2400MHz</td>\n      <td>multiprocessing_mergesort</td>\n    </tr>\n    <tr>\n      <th>2</th>\n      <td>10</td>\n      <td>21.921</td>\n      <td>10000000</td>\n      <td>alex-macbookproi7_2400MHz</td>\n      <td>multiprocessing_mergesort</td>\n    </tr>\n    <tr>\n      <th>3</th>\n      <td>9</td>\n      <td>22.923</td>\n      <td>10000000</td>\n      <td>alex-macbookproi7_2400MHz</td>\n      <td>multiprocessing_mergesort</td>\n    </tr>\n    <tr>\n      <th>4</th>\n      <td>8</td>\n      <td>19.963</td>\n      <td>10000000</td>\n      <td>alex-macbookproi7_2400MHz</td>\n      <td>multiprocessing_mergesort</td>\n    </tr>\n    <tr>\n      <th>...</th>\n      <td>...</td>\n      <td>...</td>\n      <td>...</td>\n      <td>...</td>\n      <td>...</td>\n    </tr>\n    <tr>\n      <th>519</th>\n      <td>1</td>\n      <td>58.239</td>\n      <td>10000000</td>\n      <td>jp-laptop</td>\n      <td>multiprocessing_mergesort</td>\n    </tr>\n    <tr>\n      <th>520</th>\n      <td>1</td>\n      <td>57.243</td>\n      <td>10000000</td>\n      <td>jp-laptop</td>\n      <td>multiprocessing_mergesort</td>\n    </tr>\n    <tr>\n      <th>521</th>\n      <td>1</td>\n      <td>58.195</td>\n      <td>10000000</td>\n      <td>jp-laptop</td>\n      <td>multiprocessing_mergesort</td>\n    </tr>\n    <tr>\n      <th>522</th>\n      <td>1</td>\n      <td>59.450</td>\n      <td>10000000</td>\n      <td>jp-laptop</td>\n      <td>multiprocessing_mergesort</td>\n    </tr>\n    <tr>\n      <th>523</th>\n      <td>1</td>\n      <td>58.927</td>\n      <td>10000000</td>\n      <td>jp-laptop</td>\n      <td>multiprocessing_mergesort</td>\n    </tr>\n  </tbody>\n</table>\n<p>524 rows × 5 columns</p>\n</div>"
     },
     "execution_count": 9,
     "metadata": {},
     "output_type": "execute_result"
    }
   ],
   "source": [
    "df = read_logs(files=files, size=size)\n",
    "df"
   ],
   "metadata": {
    "collapsed": false,
    "pycharm": {
     "name": "#%%\n"
    }
   }
  },
  {
   "cell_type": "code",
   "execution_count": 10,
   "outputs": [
    {
     "data": {
      "text/plain": "<Figure size 432x288 with 1 Axes>",
      "image/png": "[encoded data removed]"
     },
     "metadata": {
      "needs_background": "light"
     },
     "output_type": "display_data"
    }
   ],
   "source": [
    "    plot_benchmark_by_size(df, size, \"multiprocessing_mergesort\", files)\n",
    "    plt.show()"
   ],
   "metadata": {
    "collapsed": false,
    "pycharm": {
     "name": "#%%\n"
    }
   }
  },
  {
   "cell_type": "code",
   "execution_count": 11,
   "outputs": [],
   "source": [
    "# calculate the avarage of all data with the same repeat\n",
    "# find the smalless time for 1 processor for the specific machine and processors. Use that to devide them. you will have many devisions, and you need to selectively apply this\n",
    "# then the df has just as the original df a range of efficiencies and speedups, e.g. a band\n",
    "\n",
    "#technicalle ye can do the average, but may be easier to jsut do the band and not worry about average as the plot does it.\n"
   ],
   "metadata": {
    "collapsed": false,
    "pycharm": {
     "name": "#%%\n"
    }
   }
  },
  {
   "cell_type": "code",
   "execution_count": 12,
   "outputs": [],
   "source": [
    "def find_speedup(name_of_cpu):\n",
    "    df2 = df[df.name == name_of_cpu]\n",
    "    time_for_one_processor = df2.loc[df2.processors==1,'time']\n",
    "    df2[\"speedup\"] = df[\"time\"]/time_for_one_processor\n",
    "    list_of_times = df2['time'].tolist()\n",
    "    speedup_list = []\n",
    "    for time in list_of_times:\n",
    "        speedup = list_of_times[-1]/time\n",
    "        speedup_list.append(speedup)\n",
    "    rounded_speedup = list(np.around(np.array(speedup_list),3))\n",
    "    df2[\"speedup\"] = rounded_speedup\n",
    "    list_of_speedup = df2['speedup'].tolist()\n",
    "    list_of_processors = df2['processors'].tolist()\n",
    "    list_of_efficiency = []\n",
    "    counter = 0\n",
    "    for speedup in list_of_speedup:\n",
    "        efficiency = speedup / list_of_processors[counter]\n",
    "        counter += 1\n",
    "        list_of_efficiency.append(efficiency)\n",
    "    rounded_efficiency = list(np.around(np.array(list_of_efficiency),3))\n",
    "    df2[\"efficiency\"] = rounded_efficiency\n",
    "    return df2"
   ],
   "metadata": {
    "collapsed": false,
    "pycharm": {
     "name": "#%%\n"
    }
   }
  },
  {
   "cell_type": "code",
   "execution_count": 13,
   "outputs": [
    {
     "name": "stderr",
     "output_type": "stream",
     "text": [
      "C:\\Users\\Sledgehammer\\AppData\\Local\\Temp\\ipykernel_40048\\1409089586.py:4: SettingWithCopyWarning: \n",
      "A value is trying to be set on a copy of a slice from a DataFrame.\n",
      "Try using .loc[row_indexer,col_indexer] = value instead\n",
      "\n",
      "See the caveats in the documentation: https://pandas.pydata.org/pandas-docs/stable/user_guide/indexing.html#returning-a-view-versus-a-copy\n",
      "  df2[\"speedup\"] = df[\"time\"]/time_for_one_processor\n",
      "C:\\Users\\Sledgehammer\\AppData\\Local\\Temp\\ipykernel_40048\\1409089586.py:11: SettingWithCopyWarning: \n",
      "A value is trying to be set on a copy of a slice from a DataFrame.\n",
      "Try using .loc[row_indexer,col_indexer] = value instead\n",
      "\n",
      "See the caveats in the documentation: https://pandas.pydata.org/pandas-docs/stable/user_guide/indexing.html#returning-a-view-versus-a-copy\n",
      "  df2[\"speedup\"] = rounded_speedup\n",
      "C:\\Users\\Sledgehammer\\AppData\\Local\\Temp\\ipykernel_40048\\1409089586.py:21: SettingWithCopyWarning: \n",
      "A value is trying to be set on a copy of a slice from a DataFrame.\n",
      "Try using .loc[row_indexer,col_indexer] = value instead\n",
      "\n",
      "See the caveats in the documentation: https://pandas.pydata.org/pandas-docs/stable/user_guide/indexing.html#returning-a-view-versus-a-copy\n",
      "  df2[\"efficiency\"] = rounded_efficiency\n",
      "C:\\Users\\Sledgehammer\\AppData\\Local\\Temp\\ipykernel_40048\\1409089586.py:4: SettingWithCopyWarning: \n",
      "A value is trying to be set on a copy of a slice from a DataFrame.\n",
      "Try using .loc[row_indexer,col_indexer] = value instead\n",
      "\n",
      "See the caveats in the documentation: https://pandas.pydata.org/pandas-docs/stable/user_guide/indexing.html#returning-a-view-versus-a-copy\n",
      "  df2[\"speedup\"] = df[\"time\"]/time_for_one_processor\n",
      "C:\\Users\\Sledgehammer\\AppData\\Local\\Temp\\ipykernel_40048\\1409089586.py:11: SettingWithCopyWarning: \n",
      "A value is trying to be set on a copy of a slice from a DataFrame.\n",
      "Try using .loc[row_indexer,col_indexer] = value instead\n",
      "\n",
      "See the caveats in the documentation: https://pandas.pydata.org/pandas-docs/stable/user_guide/indexing.html#returning-a-view-versus-a-copy\n",
      "  df2[\"speedup\"] = rounded_speedup\n",
      "C:\\Users\\Sledgehammer\\AppData\\Local\\Temp\\ipykernel_40048\\1409089586.py:21: SettingWithCopyWarning: \n",
      "A value is trying to be set on a copy of a slice from a DataFrame.\n",
      "Try using .loc[row_indexer,col_indexer] = value instead\n",
      "\n",
      "See the caveats in the documentation: https://pandas.pydata.org/pandas-docs/stable/user_guide/indexing.html#returning-a-view-versus-a-copy\n",
      "  df2[\"efficiency\"] = rounded_efficiency\n",
      "C:\\Users\\Sledgehammer\\AppData\\Local\\Temp\\ipykernel_40048\\1409089586.py:4: SettingWithCopyWarning: \n",
      "A value is trying to be set on a copy of a slice from a DataFrame.\n",
      "Try using .loc[row_indexer,col_indexer] = value instead\n",
      "\n",
      "See the caveats in the documentation: https://pandas.pydata.org/pandas-docs/stable/user_guide/indexing.html#returning-a-view-versus-a-copy\n",
      "  df2[\"speedup\"] = df[\"time\"]/time_for_one_processor\n",
      "C:\\Users\\Sledgehammer\\AppData\\Local\\Temp\\ipykernel_40048\\1409089586.py:11: SettingWithCopyWarning: \n",
      "A value is trying to be set on a copy of a slice from a DataFrame.\n",
      "Try using .loc[row_indexer,col_indexer] = value instead\n",
      "\n",
      "See the caveats in the documentation: https://pandas.pydata.org/pandas-docs/stable/user_guide/indexing.html#returning-a-view-versus-a-copy\n",
      "  df2[\"speedup\"] = rounded_speedup\n",
      "C:\\Users\\Sledgehammer\\AppData\\Local\\Temp\\ipykernel_40048\\1409089586.py:21: SettingWithCopyWarning: \n",
      "A value is trying to be set on a copy of a slice from a DataFrame.\n",
      "Try using .loc[row_indexer,col_indexer] = value instead\n",
      "\n",
      "See the caveats in the documentation: https://pandas.pydata.org/pandas-docs/stable/user_guide/indexing.html#returning-a-view-versus-a-copy\n",
      "  df2[\"efficiency\"] = rounded_efficiency\n",
      "C:\\Users\\Sledgehammer\\AppData\\Local\\Temp\\ipykernel_40048\\1409089586.py:4: SettingWithCopyWarning: \n",
      "A value is trying to be set on a copy of a slice from a DataFrame.\n",
      "Try using .loc[row_indexer,col_indexer] = value instead\n",
      "\n",
      "See the caveats in the documentation: https://pandas.pydata.org/pandas-docs/stable/user_guide/indexing.html#returning-a-view-versus-a-copy\n",
      "  df2[\"speedup\"] = df[\"time\"]/time_for_one_processor\n",
      "C:\\Users\\Sledgehammer\\AppData\\Local\\Temp\\ipykernel_40048\\1409089586.py:11: SettingWithCopyWarning: \n",
      "A value is trying to be set on a copy of a slice from a DataFrame.\n",
      "Try using .loc[row_indexer,col_indexer] = value instead\n",
      "\n",
      "See the caveats in the documentation: https://pandas.pydata.org/pandas-docs/stable/user_guide/indexing.html#returning-a-view-versus-a-copy\n",
      "  df2[\"speedup\"] = rounded_speedup\n",
      "C:\\Users\\Sledgehammer\\AppData\\Local\\Temp\\ipykernel_40048\\1409089586.py:21: SettingWithCopyWarning: \n",
      "A value is trying to be set on a copy of a slice from a DataFrame.\n",
      "Try using .loc[row_indexer,col_indexer] = value instead\n",
      "\n",
      "See the caveats in the documentation: https://pandas.pydata.org/pandas-docs/stable/user_guide/indexing.html#returning-a-view-versus-a-copy\n",
      "  df2[\"efficiency\"] = rounded_efficiency\n",
      "C:\\Users\\Sledgehammer\\AppData\\Local\\Temp\\ipykernel_40048\\1409089586.py:4: SettingWithCopyWarning: \n",
      "A value is trying to be set on a copy of a slice from a DataFrame.\n",
      "Try using .loc[row_indexer,col_indexer] = value instead\n",
      "\n",
      "See the caveats in the documentation: https://pandas.pydata.org/pandas-docs/stable/user_guide/indexing.html#returning-a-view-versus-a-copy\n",
      "  df2[\"speedup\"] = df[\"time\"]/time_for_one_processor\n",
      "C:\\Users\\Sledgehammer\\AppData\\Local\\Temp\\ipykernel_40048\\1409089586.py:11: SettingWithCopyWarning: \n",
      "A value is trying to be set on a copy of a slice from a DataFrame.\n",
      "Try using .loc[row_indexer,col_indexer] = value instead\n",
      "\n",
      "See the caveats in the documentation: https://pandas.pydata.org/pandas-docs/stable/user_guide/indexing.html#returning-a-view-versus-a-copy\n",
      "  df2[\"speedup\"] = rounded_speedup\n",
      "C:\\Users\\Sledgehammer\\AppData\\Local\\Temp\\ipykernel_40048\\1409089586.py:21: SettingWithCopyWarning: \n",
      "A value is trying to be set on a copy of a slice from a DataFrame.\n",
      "Try using .loc[row_indexer,col_indexer] = value instead\n",
      "\n",
      "See the caveats in the documentation: https://pandas.pydata.org/pandas-docs/stable/user_guide/indexing.html#returning-a-view-versus-a-copy\n",
      "  df2[\"efficiency\"] = rounded_efficiency\n",
      "C:\\Users\\Sledgehammer\\AppData\\Local\\Temp\\ipykernel_40048\\1409089586.py:4: SettingWithCopyWarning: \n",
      "A value is trying to be set on a copy of a slice from a DataFrame.\n",
      "Try using .loc[row_indexer,col_indexer] = value instead\n",
      "\n",
      "See the caveats in the documentation: https://pandas.pydata.org/pandas-docs/stable/user_guide/indexing.html#returning-a-view-versus-a-copy\n",
      "  df2[\"speedup\"] = df[\"time\"]/time_for_one_processor\n",
      "C:\\Users\\Sledgehammer\\AppData\\Local\\Temp\\ipykernel_40048\\1409089586.py:11: SettingWithCopyWarning: \n",
      "A value is trying to be set on a copy of a slice from a DataFrame.\n",
      "Try using .loc[row_indexer,col_indexer] = value instead\n",
      "\n",
      "See the caveats in the documentation: https://pandas.pydata.org/pandas-docs/stable/user_guide/indexing.html#returning-a-view-versus-a-copy\n",
      "  df2[\"speedup\"] = rounded_speedup\n",
      "C:\\Users\\Sledgehammer\\AppData\\Local\\Temp\\ipykernel_40048\\1409089586.py:21: SettingWithCopyWarning: \n",
      "A value is trying to be set on a copy of a slice from a DataFrame.\n",
      "Try using .loc[row_indexer,col_indexer] = value instead\n",
      "\n",
      "See the caveats in the documentation: https://pandas.pydata.org/pandas-docs/stable/user_guide/indexing.html#returning-a-view-versus-a-copy\n",
      "  df2[\"efficiency\"] = rounded_efficiency\n"
     ]
    }
   ],
   "source": [
    "fixed_dataframe = find_speedup('alex-macbookproi7_2400MHz')\n",
    "files = [\"gregor-5950x-py3-12\", \"jp-pi4\", \"jp-laptop\", \"alex-macbookproi7_2400MHz\", \"gregor-5950x\"]\n",
    "df_with_speedup = pd.DataFrame()\n",
    "for name in files:\n",
    "    df_to_be_appended = find_speedup(name)\n",
    "    df_with_speedup = pd.concat([df_with_speedup, df_to_be_appended], axis=0)\n"
   ],
   "metadata": {
    "collapsed": false,
    "pycharm": {
     "name": "#%%\n"
    }
   }
  },
  {
   "cell_type": "code",
   "execution_count": 14,
   "outputs": [
    {
     "name": "stdout",
     "output_type": "stream",
     "text": [
      "     processors     time      size                       name                        tag  speedup  efficiency\n",
      "44           32    5.138  10000000        gregor-5950x-py3-12  multiprocessing_mergesort    5.013       0.157\n",
      "45           32    5.053  10000000        gregor-5950x-py3-12  multiprocessing_mergesort    5.097       0.159\n",
      "46           32    5.185  10000000        gregor-5950x-py3-12  multiprocessing_mergesort    4.967       0.155\n",
      "47           32    5.128  10000000        gregor-5950x-py3-12  multiprocessing_mergesort    5.022       0.157\n",
      "48           32    5.126  10000000        gregor-5950x-py3-12  multiprocessing_mergesort    5.024       0.157\n",
      "49           32    5.159  10000000        gregor-5950x-py3-12  multiprocessing_mergesort    4.992       0.156\n",
      "50           32    5.194  10000000        gregor-5950x-py3-12  multiprocessing_mergesort    4.959       0.155\n",
      "51           32    5.176  10000000        gregor-5950x-py3-12  multiprocessing_mergesort    4.976       0.156\n",
      "52           32    5.085  10000000        gregor-5950x-py3-12  multiprocessing_mergesort    5.065       0.158\n",
      "53           32    5.067  10000000        gregor-5950x-py3-12  multiprocessing_mergesort    5.083       0.159\n",
      "54           31    5.078  10000000        gregor-5950x-py3-12  multiprocessing_mergesort    5.072       0.164\n",
      "55           31    5.238  10000000        gregor-5950x-py3-12  multiprocessing_mergesort    4.917       0.159\n",
      "56           31    5.214  10000000        gregor-5950x-py3-12  multiprocessing_mergesort    4.940       0.159\n",
      "57           31    5.141  10000000        gregor-5950x-py3-12  multiprocessing_mergesort    5.010       0.162\n",
      "58           31    5.023  10000000        gregor-5950x-py3-12  multiprocessing_mergesort    5.127       0.165\n",
      "59           31    5.056  10000000        gregor-5950x-py3-12  multiprocessing_mergesort    5.094       0.164\n",
      "60           31    5.117  10000000        gregor-5950x-py3-12  multiprocessing_mergesort    5.033       0.162\n",
      "61           31    5.181  10000000        gregor-5950x-py3-12  multiprocessing_mergesort    4.971       0.160\n",
      "62           31    5.237  10000000        gregor-5950x-py3-12  multiprocessing_mergesort    4.918       0.159\n",
      "63           31    5.171  10000000        gregor-5950x-py3-12  multiprocessing_mergesort    4.981       0.161\n",
      "64           30    5.184  10000000        gregor-5950x-py3-12  multiprocessing_mergesort    4.968       0.166\n",
      "65           30    5.220  10000000        gregor-5950x-py3-12  multiprocessing_mergesort    4.934       0.164\n",
      "66           30    5.212  10000000        gregor-5950x-py3-12  multiprocessing_mergesort    4.941       0.165\n",
      "67           30    5.213  10000000        gregor-5950x-py3-12  multiprocessing_mergesort    4.941       0.165\n",
      "68           30    5.190  10000000        gregor-5950x-py3-12  multiprocessing_mergesort    4.962       0.165\n",
      "69           30    5.314  10000000        gregor-5950x-py3-12  multiprocessing_mergesort    4.847       0.162\n",
      "70           30    5.334  10000000        gregor-5950x-py3-12  multiprocessing_mergesort    4.828       0.161\n",
      "71           30    5.243  10000000        gregor-5950x-py3-12  multiprocessing_mergesort    4.912       0.164\n",
      "72           30    5.164  10000000        gregor-5950x-py3-12  multiprocessing_mergesort    4.987       0.166\n",
      "73           30    5.320  10000000        gregor-5950x-py3-12  multiprocessing_mergesort    4.841       0.161\n",
      "74           29    5.122  10000000        gregor-5950x-py3-12  multiprocessing_mergesort    5.028       0.173\n",
      "75           29    5.205  10000000        gregor-5950x-py3-12  multiprocessing_mergesort    4.948       0.171\n",
      "76           29    5.180  10000000        gregor-5950x-py3-12  multiprocessing_mergesort    4.972       0.171\n",
      "77           29    5.145  10000000        gregor-5950x-py3-12  multiprocessing_mergesort    5.006       0.173\n",
      "78           29    5.095  10000000        gregor-5950x-py3-12  multiprocessing_mergesort    5.055       0.174\n",
      "79           29    5.189  10000000        gregor-5950x-py3-12  multiprocessing_mergesort    4.963       0.171\n",
      "80           29    5.286  10000000        gregor-5950x-py3-12  multiprocessing_mergesort    4.872       0.168\n",
      "81           29    5.152  10000000        gregor-5950x-py3-12  multiprocessing_mergesort    4.999       0.172\n",
      "82           29    5.145  10000000        gregor-5950x-py3-12  multiprocessing_mergesort    5.006       0.173\n",
      "83           29    5.194  10000000        gregor-5950x-py3-12  multiprocessing_mergesort    4.959       0.171\n",
      "84           28    5.268  10000000        gregor-5950x-py3-12  multiprocessing_mergesort    4.889       0.175\n",
      "85           28    5.174  10000000        gregor-5950x-py3-12  multiprocessing_mergesort    4.978       0.178\n",
      "86           28    5.130  10000000        gregor-5950x-py3-12  multiprocessing_mergesort    5.020       0.179\n",
      "87           28    5.164  10000000        gregor-5950x-py3-12  multiprocessing_mergesort    4.987       0.178\n",
      "88           28    5.135  10000000        gregor-5950x-py3-12  multiprocessing_mergesort    5.016       0.179\n",
      "89           28    5.211  10000000        gregor-5950x-py3-12  multiprocessing_mergesort    4.942       0.177\n",
      "90           28    5.199  10000000        gregor-5950x-py3-12  multiprocessing_mergesort    4.954       0.177\n",
      "91           28    5.216  10000000        gregor-5950x-py3-12  multiprocessing_mergesort    4.938       0.176\n",
      "92           28    5.247  10000000        gregor-5950x-py3-12  multiprocessing_mergesort    4.909       0.175\n",
      "93           28    5.259  10000000        gregor-5950x-py3-12  multiprocessing_mergesort    4.897       0.175\n",
      "94           27    5.195  10000000        gregor-5950x-py3-12  multiprocessing_mergesort    4.958       0.184\n",
      "95           27    5.196  10000000        gregor-5950x-py3-12  multiprocessing_mergesort    4.957       0.184\n",
      "96           27    5.201  10000000        gregor-5950x-py3-12  multiprocessing_mergesort    4.952       0.183\n",
      "97           27    5.143  10000000        gregor-5950x-py3-12  multiprocessing_mergesort    5.008       0.185\n",
      "98           27    5.217  10000000        gregor-5950x-py3-12  multiprocessing_mergesort    4.937       0.183\n",
      "99           27    5.258  10000000        gregor-5950x-py3-12  multiprocessing_mergesort    4.898       0.181\n",
      "100          27    5.170  10000000        gregor-5950x-py3-12  multiprocessing_mergesort    4.982       0.185\n",
      "101          27    5.232  10000000        gregor-5950x-py3-12  multiprocessing_mergesort    4.923       0.182\n",
      "102          27    5.287  10000000        gregor-5950x-py3-12  multiprocessing_mergesort    4.871       0.180\n",
      "103          27    5.235  10000000        gregor-5950x-py3-12  multiprocessing_mergesort    4.920       0.182\n",
      "104          26    5.258  10000000        gregor-5950x-py3-12  multiprocessing_mergesort    4.898       0.188\n",
      "105          26    5.341  10000000        gregor-5950x-py3-12  multiprocessing_mergesort    4.822       0.185\n",
      "106          26    5.317  10000000        gregor-5950x-py3-12  multiprocessing_mergesort    4.844       0.186\n",
      "107          26    5.338  10000000        gregor-5950x-py3-12  multiprocessing_mergesort    4.825       0.186\n",
      "108          26    5.200  10000000        gregor-5950x-py3-12  multiprocessing_mergesort    4.953       0.190\n",
      "109          26    5.188  10000000        gregor-5950x-py3-12  multiprocessing_mergesort    4.964       0.191\n",
      "110          26    5.324  10000000        gregor-5950x-py3-12  multiprocessing_mergesort    4.838       0.186\n",
      "111          26    5.163  10000000        gregor-5950x-py3-12  multiprocessing_mergesort    4.988       0.192\n",
      "112          26    5.170  10000000        gregor-5950x-py3-12  multiprocessing_mergesort    4.982       0.192\n",
      "113          26    5.332  10000000        gregor-5950x-py3-12  multiprocessing_mergesort    4.830       0.186\n",
      "114          25    5.319  10000000        gregor-5950x-py3-12  multiprocessing_mergesort    4.842       0.194\n",
      "115          25    5.277  10000000        gregor-5950x-py3-12  multiprocessing_mergesort    4.881       0.195\n",
      "116          25    5.479  10000000        gregor-5950x-py3-12  multiprocessing_mergesort    4.701       0.188\n",
      "117          25    5.317  10000000        gregor-5950x-py3-12  multiprocessing_mergesort    4.844       0.194\n",
      "118          25    5.445  10000000        gregor-5950x-py3-12  multiprocessing_mergesort    4.730       0.189\n",
      "119          25    5.350  10000000        gregor-5950x-py3-12  multiprocessing_mergesort    4.814       0.193\n",
      "120          25    5.368  10000000        gregor-5950x-py3-12  multiprocessing_mergesort    4.798       0.192\n",
      "121          25    5.346  10000000        gregor-5950x-py3-12  multiprocessing_mergesort    4.818       0.193\n",
      "122          25    5.269  10000000        gregor-5950x-py3-12  multiprocessing_mergesort    4.888       0.196\n",
      "123          25    5.394  10000000        gregor-5950x-py3-12  multiprocessing_mergesort    4.775       0.191\n",
      "124          24    5.399  10000000        gregor-5950x-py3-12  multiprocessing_mergesort    4.770       0.199\n",
      "125          24    5.467  10000000        gregor-5950x-py3-12  multiprocessing_mergesort    4.711       0.196\n",
      "126          24    5.388  10000000        gregor-5950x-py3-12  multiprocessing_mergesort    4.780       0.199\n",
      "127          24    5.487  10000000        gregor-5950x-py3-12  multiprocessing_mergesort    4.694       0.196\n",
      "128          24    5.489  10000000        gregor-5950x-py3-12  multiprocessing_mergesort    4.692       0.196\n",
      "129          24    5.322  10000000        gregor-5950x-py3-12  multiprocessing_mergesort    4.839       0.202\n",
      "130          24    5.314  10000000        gregor-5950x-py3-12  multiprocessing_mergesort    4.847       0.202\n",
      "131          24    5.599  10000000        gregor-5950x-py3-12  multiprocessing_mergesort    4.600       0.192\n",
      "132          24    5.529  10000000        gregor-5950x-py3-12  multiprocessing_mergesort    4.658       0.194\n",
      "133          24    5.430  10000000        gregor-5950x-py3-12  multiprocessing_mergesort    4.743       0.198\n",
      "134          23    5.554  10000000        gregor-5950x-py3-12  multiprocessing_mergesort    4.637       0.202\n",
      "135          23    5.514  10000000        gregor-5950x-py3-12  multiprocessing_mergesort    4.671       0.203\n",
      "136          23    5.535  10000000        gregor-5950x-py3-12  multiprocessing_mergesort    4.653       0.202\n",
      "137          23    5.548  10000000        gregor-5950x-py3-12  multiprocessing_mergesort    4.642       0.202\n",
      "138          23    5.607  10000000        gregor-5950x-py3-12  multiprocessing_mergesort    4.593       0.200\n",
      "139          23    5.595  10000000        gregor-5950x-py3-12  multiprocessing_mergesort    4.603       0.200\n",
      "140          23    5.531  10000000        gregor-5950x-py3-12  multiprocessing_mergesort    4.656       0.202\n",
      "141          23    5.602  10000000        gregor-5950x-py3-12  multiprocessing_mergesort    4.597       0.200\n",
      "142          23    5.444  10000000        gregor-5950x-py3-12  multiprocessing_mergesort    4.731       0.206\n",
      "143          23    5.572  10000000        gregor-5950x-py3-12  multiprocessing_mergesort    4.622       0.201\n",
      "144          22    5.537  10000000        gregor-5950x-py3-12  multiprocessing_mergesort    4.651       0.211\n",
      "145          22    5.618  10000000        gregor-5950x-py3-12  multiprocessing_mergesort    4.584       0.208\n",
      "146          22    5.599  10000000        gregor-5950x-py3-12  multiprocessing_mergesort    4.600       0.209\n",
      "147          22    5.479  10000000        gregor-5950x-py3-12  multiprocessing_mergesort    4.701       0.214\n",
      "148          22    5.602  10000000        gregor-5950x-py3-12  multiprocessing_mergesort    4.597       0.209\n",
      "149          22    5.675  10000000        gregor-5950x-py3-12  multiprocessing_mergesort    4.538       0.206\n",
      "150          22    5.619  10000000        gregor-5950x-py3-12  multiprocessing_mergesort    4.584       0.208\n",
      "151          22    5.598  10000000        gregor-5950x-py3-12  multiprocessing_mergesort    4.601       0.209\n",
      "152          22    5.540  10000000        gregor-5950x-py3-12  multiprocessing_mergesort    4.649       0.211\n",
      "153          22    5.665  10000000        gregor-5950x-py3-12  multiprocessing_mergesort    4.546       0.207\n",
      "154          21    5.739  10000000        gregor-5950x-py3-12  multiprocessing_mergesort    4.488       0.214\n",
      "155          21    5.689  10000000        gregor-5950x-py3-12  multiprocessing_mergesort    4.527       0.216\n",
      "156          21    5.706  10000000        gregor-5950x-py3-12  multiprocessing_mergesort    4.514       0.215\n",
      "157          21    5.683  10000000        gregor-5950x-py3-12  multiprocessing_mergesort    4.532       0.216\n",
      "158          21    5.673  10000000        gregor-5950x-py3-12  multiprocessing_mergesort    4.540       0.216\n",
      "159          21    5.664  10000000        gregor-5950x-py3-12  multiprocessing_mergesort    4.547       0.217\n",
      "160          21    5.708  10000000        gregor-5950x-py3-12  multiprocessing_mergesort    4.512       0.215\n",
      "161          21    5.650  10000000        gregor-5950x-py3-12  multiprocessing_mergesort    4.558       0.217\n",
      "162          21    5.749  10000000        gregor-5950x-py3-12  multiprocessing_mergesort    4.480       0.213\n",
      "163          21    5.698  10000000        gregor-5950x-py3-12  multiprocessing_mergesort    4.520       0.215\n",
      "164          20    5.765  10000000        gregor-5950x-py3-12  multiprocessing_mergesort    4.467       0.223\n",
      "165          20    5.754  10000000        gregor-5950x-py3-12  multiprocessing_mergesort    4.476       0.224\n",
      "166          20    5.881  10000000        gregor-5950x-py3-12  multiprocessing_mergesort    4.379       0.219\n",
      "167          20    5.916  10000000        gregor-5950x-py3-12  multiprocessing_mergesort    4.353       0.218\n",
      "168          20    5.785  10000000        gregor-5950x-py3-12  multiprocessing_mergesort    4.452       0.223\n",
      "169          20    5.815  10000000        gregor-5950x-py3-12  multiprocessing_mergesort    4.429       0.221\n",
      "170          20    5.771  10000000        gregor-5950x-py3-12  multiprocessing_mergesort    4.463       0.223\n",
      "171          20    5.748  10000000        gregor-5950x-py3-12  multiprocessing_mergesort    4.481       0.224\n",
      "172          20    5.704  10000000        gregor-5950x-py3-12  multiprocessing_mergesort    4.515       0.226\n",
      "173          20    5.960  10000000        gregor-5950x-py3-12  multiprocessing_mergesort    4.321       0.216\n",
      "174          19    5.921  10000000        gregor-5950x-py3-12  multiprocessing_mergesort    4.350       0.229\n",
      "175          19    5.935  10000000        gregor-5950x-py3-12  multiprocessing_mergesort    4.340       0.228\n",
      "176          19    6.001  10000000        gregor-5950x-py3-12  multiprocessing_mergesort    4.292       0.226\n",
      "177          19    5.899  10000000        gregor-5950x-py3-12  multiprocessing_mergesort    4.366       0.230\n",
      "178          19    5.959  10000000        gregor-5950x-py3-12  multiprocessing_mergesort    4.322       0.227\n",
      "179          19    5.904  10000000        gregor-5950x-py3-12  multiprocessing_mergesort    4.362       0.230\n",
      "180          19    5.984  10000000        gregor-5950x-py3-12  multiprocessing_mergesort    4.304       0.227\n",
      "181          19    5.816  10000000        gregor-5950x-py3-12  multiprocessing_mergesort    4.428       0.233\n",
      "182          19    5.992  10000000        gregor-5950x-py3-12  multiprocessing_mergesort    4.298       0.226\n",
      "183          19    5.963  10000000        gregor-5950x-py3-12  multiprocessing_mergesort    4.319       0.227\n",
      "184          18    6.241  10000000        gregor-5950x-py3-12  multiprocessing_mergesort    4.127       0.229\n",
      "185          18    6.208  10000000        gregor-5950x-py3-12  multiprocessing_mergesort    4.149       0.230\n",
      "186          18    6.207  10000000        gregor-5950x-py3-12  multiprocessing_mergesort    4.149       0.230\n",
      "187          18    6.193  10000000        gregor-5950x-py3-12  multiprocessing_mergesort    4.159       0.231\n",
      "188          18    6.179  10000000        gregor-5950x-py3-12  multiprocessing_mergesort    4.168       0.232\n",
      "189          18    6.203  10000000        gregor-5950x-py3-12  multiprocessing_mergesort    4.152       0.231\n",
      "190          18    6.175  10000000        gregor-5950x-py3-12  multiprocessing_mergesort    4.171       0.232\n",
      "191          18    6.166  10000000        gregor-5950x-py3-12  multiprocessing_mergesort    4.177       0.232\n",
      "192          18    6.046  10000000        gregor-5950x-py3-12  multiprocessing_mergesort    4.260       0.237\n",
      "193          18    6.101  10000000        gregor-5950x-py3-12  multiprocessing_mergesort    4.221       0.234\n",
      "194          17    6.255  10000000        gregor-5950x-py3-12  multiprocessing_mergesort    4.118       0.242\n",
      "195          17    6.331  10000000        gregor-5950x-py3-12  multiprocessing_mergesort    4.068       0.239\n",
      "196          17    6.412  10000000        gregor-5950x-py3-12  multiprocessing_mergesort    4.017       0.236\n",
      "197          17    6.252  10000000        gregor-5950x-py3-12  multiprocessing_mergesort    4.119       0.242\n",
      "198          17    6.336  10000000        gregor-5950x-py3-12  multiprocessing_mergesort    4.065       0.239\n",
      "199          17    6.154  10000000        gregor-5950x-py3-12  multiprocessing_mergesort    4.185       0.246\n",
      "200          17    6.317  10000000        gregor-5950x-py3-12  multiprocessing_mergesort    4.077       0.240\n",
      "201          17    6.374  10000000        gregor-5950x-py3-12  multiprocessing_mergesort    4.041       0.238\n",
      "202          17    6.376  10000000        gregor-5950x-py3-12  multiprocessing_mergesort    4.039       0.238\n",
      "203          17    6.491  10000000        gregor-5950x-py3-12  multiprocessing_mergesort    3.968       0.233\n",
      "204          16    5.326  10000000        gregor-5950x-py3-12  multiprocessing_mergesort    4.836       0.302\n",
      "205          16    5.398  10000000        gregor-5950x-py3-12  multiprocessing_mergesort    4.771       0.298\n",
      "206          16    5.123  10000000        gregor-5950x-py3-12  multiprocessing_mergesort    5.027       0.314\n",
      "207          16    5.110  10000000        gregor-5950x-py3-12  multiprocessing_mergesort    5.040       0.315\n",
      "208          16    5.253  10000000        gregor-5950x-py3-12  multiprocessing_mergesort    4.903       0.306\n",
      "209          16    5.380  10000000        gregor-5950x-py3-12  multiprocessing_mergesort    4.787       0.299\n",
      "210          16    5.255  10000000        gregor-5950x-py3-12  multiprocessing_mergesort    4.901       0.306\n",
      "211          16    5.404  10000000        gregor-5950x-py3-12  multiprocessing_mergesort    4.766       0.298\n",
      "212          16    5.256  10000000        gregor-5950x-py3-12  multiprocessing_mergesort    4.900       0.306\n",
      "213          16    5.276  10000000        gregor-5950x-py3-12  multiprocessing_mergesort    4.882       0.305\n",
      "214          15    5.350  10000000        gregor-5950x-py3-12  multiprocessing_mergesort    4.814       0.321\n",
      "215          15    5.598  10000000        gregor-5950x-py3-12  multiprocessing_mergesort    4.601       0.307\n",
      "216          15    5.319  10000000        gregor-5950x-py3-12  multiprocessing_mergesort    4.842       0.323\n",
      "217          15    5.322  10000000        gregor-5950x-py3-12  multiprocessing_mergesort    4.839       0.323\n",
      "218          15    5.205  10000000        gregor-5950x-py3-12  multiprocessing_mergesort    4.948       0.330\n",
      "219          15    5.324  10000000        gregor-5950x-py3-12  multiprocessing_mergesort    4.838       0.323\n",
      "220          15    5.310  10000000        gregor-5950x-py3-12  multiprocessing_mergesort    4.850       0.323\n",
      "221          15    5.218  10000000        gregor-5950x-py3-12  multiprocessing_mergesort    4.936       0.329\n",
      "222          15    5.307  10000000        gregor-5950x-py3-12  multiprocessing_mergesort    4.853       0.324\n",
      "223          15    5.292  10000000        gregor-5950x-py3-12  multiprocessing_mergesort    4.867       0.324\n",
      "224          14    5.476  10000000        gregor-5950x-py3-12  multiprocessing_mergesort    4.703       0.336\n",
      "225          14    5.319  10000000        gregor-5950x-py3-12  multiprocessing_mergesort    4.842       0.346\n",
      "226          14    5.321  10000000        gregor-5950x-py3-12  multiprocessing_mergesort    4.840       0.346\n",
      "227          14    5.698  10000000        gregor-5950x-py3-12  multiprocessing_mergesort    4.520       0.323\n",
      "228          14    5.447  10000000        gregor-5950x-py3-12  multiprocessing_mergesort    4.728       0.338\n",
      "229          14    5.478  10000000        gregor-5950x-py3-12  multiprocessing_mergesort    4.702       0.336\n",
      "230          14    5.252  10000000        gregor-5950x-py3-12  multiprocessing_mergesort    4.904       0.350\n",
      "231          14    5.411  10000000        gregor-5950x-py3-12  multiprocessing_mergesort    4.760       0.340\n",
      "232          14    5.271  10000000        gregor-5950x-py3-12  multiprocessing_mergesort    4.886       0.349\n",
      "233          14    5.396  10000000        gregor-5950x-py3-12  multiprocessing_mergesort    4.773       0.341\n",
      "234          13    5.588  10000000        gregor-5950x-py3-12  multiprocessing_mergesort    4.609       0.355\n",
      "235          13    5.696  10000000        gregor-5950x-py3-12  multiprocessing_mergesort    4.522       0.348\n",
      "236          13    5.646  10000000        gregor-5950x-py3-12  multiprocessing_mergesort    4.562       0.351\n",
      "237          13    5.441  10000000        gregor-5950x-py3-12  multiprocessing_mergesort    4.734       0.364\n",
      "238          13    5.476  10000000        gregor-5950x-py3-12  multiprocessing_mergesort    4.703       0.362\n",
      "239          13    5.721  10000000        gregor-5950x-py3-12  multiprocessing_mergesort    4.502       0.346\n",
      "240          13    5.420  10000000        gregor-5950x-py3-12  multiprocessing_mergesort    4.752       0.366\n",
      "241          13    5.420  10000000        gregor-5950x-py3-12  multiprocessing_mergesort    4.752       0.366\n",
      "242          13    5.562  10000000        gregor-5950x-py3-12  multiprocessing_mergesort    4.631       0.356\n",
      "243          13    5.768  10000000        gregor-5950x-py3-12  multiprocessing_mergesort    4.465       0.343\n",
      "244          12    5.506  10000000        gregor-5950x-py3-12  multiprocessing_mergesort    4.678       0.390\n",
      "245          12    5.738  10000000        gregor-5950x-py3-12  multiprocessing_mergesort    4.488       0.374\n",
      "246          12    5.667  10000000        gregor-5950x-py3-12  multiprocessing_mergesort    4.545       0.379\n",
      "247          12    5.730  10000000        gregor-5950x-py3-12  multiprocessing_mergesort    4.495       0.375\n",
      "248          12    5.788  10000000        gregor-5950x-py3-12  multiprocessing_mergesort    4.450       0.371\n",
      "249          12    5.996  10000000        gregor-5950x-py3-12  multiprocessing_mergesort    4.295       0.358\n",
      "250          12    5.614  10000000        gregor-5950x-py3-12  multiprocessing_mergesort    4.588       0.382\n",
      "251          12    5.924  10000000        gregor-5950x-py3-12  multiprocessing_mergesort    4.348       0.362\n",
      "252          12    5.534  10000000        gregor-5950x-py3-12  multiprocessing_mergesort    4.654       0.388\n",
      "253          12    5.967  10000000        gregor-5950x-py3-12  multiprocessing_mergesort    4.316       0.360\n",
      "254          11    6.164  10000000        gregor-5950x-py3-12  multiprocessing_mergesort    4.178       0.380\n",
      "255          11    6.008  10000000        gregor-5950x-py3-12  multiprocessing_mergesort    4.287       0.390\n",
      "256          11    6.005  10000000        gregor-5950x-py3-12  multiprocessing_mergesort    4.289       0.390\n",
      "257          11    6.238  10000000        gregor-5950x-py3-12  multiprocessing_mergesort    4.129       0.375\n",
      "258          11    5.996  10000000        gregor-5950x-py3-12  multiprocessing_mergesort    4.295       0.390\n",
      "259          11    6.093  10000000        gregor-5950x-py3-12  multiprocessing_mergesort    4.227       0.384\n",
      "260          11    5.800  10000000        gregor-5950x-py3-12  multiprocessing_mergesort    4.441       0.404\n",
      "261          11    5.865  10000000        gregor-5950x-py3-12  multiprocessing_mergesort    4.391       0.399\n",
      "262          11    6.015  10000000        gregor-5950x-py3-12  multiprocessing_mergesort    4.282       0.389\n",
      "263          11    6.701  10000000        gregor-5950x-py3-12  multiprocessing_mergesort    3.843       0.349\n",
      "264          10    6.339  10000000        gregor-5950x-py3-12  multiprocessing_mergesort    4.063       0.406\n",
      "265          10    6.127  10000000        gregor-5950x-py3-12  multiprocessing_mergesort    4.204       0.420\n",
      "266          10    6.193  10000000        gregor-5950x-py3-12  multiprocessing_mergesort    4.159       0.416\n",
      "267          10    6.170  10000000        gregor-5950x-py3-12  multiprocessing_mergesort    4.174       0.417\n",
      "268          10    6.295  10000000        gregor-5950x-py3-12  multiprocessing_mergesort    4.091       0.409\n",
      "269          10    6.157  10000000        gregor-5950x-py3-12  multiprocessing_mergesort    4.183       0.418\n",
      "270          10    6.180  10000000        gregor-5950x-py3-12  multiprocessing_mergesort    4.167       0.417\n",
      "271          10    6.072  10000000        gregor-5950x-py3-12  multiprocessing_mergesort    4.242       0.424\n",
      "272          10    6.174  10000000        gregor-5950x-py3-12  multiprocessing_mergesort    4.172       0.417\n",
      "273          10    6.145  10000000        gregor-5950x-py3-12  multiprocessing_mergesort    4.191       0.419\n",
      "274           9    6.616  10000000        gregor-5950x-py3-12  multiprocessing_mergesort    3.893       0.433\n",
      "275           9    6.901  10000000        gregor-5950x-py3-12  multiprocessing_mergesort    3.732       0.415\n",
      "276           9    6.567  10000000        gregor-5950x-py3-12  multiprocessing_mergesort    3.922       0.436\n",
      "277           9    6.524  10000000        gregor-5950x-py3-12  multiprocessing_mergesort    3.948       0.439\n",
      "278           9    6.658  10000000        gregor-5950x-py3-12  multiprocessing_mergesort    3.868       0.430\n",
      "279           9    6.634  10000000        gregor-5950x-py3-12  multiprocessing_mergesort    3.882       0.431\n",
      "280           9    6.671  10000000        gregor-5950x-py3-12  multiprocessing_mergesort    3.861       0.429\n",
      "281           9    6.787  10000000        gregor-5950x-py3-12  multiprocessing_mergesort    3.795       0.422\n",
      "282           9    6.575  10000000        gregor-5950x-py3-12  multiprocessing_mergesort    3.917       0.435\n",
      "283           9    6.508  10000000        gregor-5950x-py3-12  multiprocessing_mergesort    3.957       0.440\n",
      "284           8    5.872  10000000        gregor-5950x-py3-12  multiprocessing_mergesort    4.386       0.548\n",
      "285           8    5.866  10000000        gregor-5950x-py3-12  multiprocessing_mergesort    4.391       0.549\n",
      "286           8    5.784  10000000        gregor-5950x-py3-12  multiprocessing_mergesort    4.453       0.557\n",
      "287           8    5.885  10000000        gregor-5950x-py3-12  multiprocessing_mergesort    4.376       0.547\n",
      "288           8    5.837  10000000        gregor-5950x-py3-12  multiprocessing_mergesort    4.412       0.552\n",
      "289           8    5.906  10000000        gregor-5950x-py3-12  multiprocessing_mergesort    4.361       0.545\n",
      "290           8    5.838  10000000        gregor-5950x-py3-12  multiprocessing_mergesort    4.412       0.552\n",
      "291           8    5.965  10000000        gregor-5950x-py3-12  multiprocessing_mergesort    4.318       0.540\n",
      "292           8    5.812  10000000        gregor-5950x-py3-12  multiprocessing_mergesort    4.431       0.554\n",
      "293           8    5.872  10000000        gregor-5950x-py3-12  multiprocessing_mergesort    4.386       0.548\n",
      "294           7    6.212  10000000        gregor-5950x-py3-12  multiprocessing_mergesort    4.146       0.592\n",
      "295           7    6.287  10000000        gregor-5950x-py3-12  multiprocessing_mergesort    4.097       0.585\n",
      "296           7    6.248  10000000        gregor-5950x-py3-12  multiprocessing_mergesort    4.122       0.589\n",
      "297           7    6.165  10000000        gregor-5950x-py3-12  multiprocessing_mergesort    4.178       0.597\n",
      "298           7    6.216  10000000        gregor-5950x-py3-12  multiprocessing_mergesort    4.143       0.592\n",
      "299           7    6.288  10000000        gregor-5950x-py3-12  multiprocessing_mergesort    4.096       0.585\n",
      "300           7    6.180  10000000        gregor-5950x-py3-12  multiprocessing_mergesort    4.167       0.595\n",
      "301           7    6.223  10000000        gregor-5950x-py3-12  multiprocessing_mergesort    4.139       0.591\n",
      "302           7    6.269  10000000        gregor-5950x-py3-12  multiprocessing_mergesort    4.108       0.587\n",
      "303           7    6.359  10000000        gregor-5950x-py3-12  multiprocessing_mergesort    4.050       0.579\n",
      "304           6    6.969  10000000        gregor-5950x-py3-12  multiprocessing_mergesort    3.696       0.616\n",
      "305           6    6.941  10000000        gregor-5950x-py3-12  multiprocessing_mergesort    3.711       0.618\n",
      "306           6    6.969  10000000        gregor-5950x-py3-12  multiprocessing_mergesort    3.696       0.616\n",
      "307           6    6.833  10000000        gregor-5950x-py3-12  multiprocessing_mergesort    3.769       0.628\n",
      "308           6    6.991  10000000        gregor-5950x-py3-12  multiprocessing_mergesort    3.684       0.614\n",
      "309           6    6.875  10000000        gregor-5950x-py3-12  multiprocessing_mergesort    3.746       0.624\n",
      "310           6    6.918  10000000        gregor-5950x-py3-12  multiprocessing_mergesort    3.723       0.620\n",
      "311           6    6.903  10000000        gregor-5950x-py3-12  multiprocessing_mergesort    3.731       0.622\n",
      "312           6    6.933  10000000        gregor-5950x-py3-12  multiprocessing_mergesort    3.715       0.619\n",
      "313           6    6.902  10000000        gregor-5950x-py3-12  multiprocessing_mergesort    3.732       0.622\n",
      "314           5    7.843  10000000        gregor-5950x-py3-12  multiprocessing_mergesort    3.284       0.657\n",
      "315           5    7.797  10000000        gregor-5950x-py3-12  multiprocessing_mergesort    3.303       0.661\n",
      "316           5    7.826  10000000        gregor-5950x-py3-12  multiprocessing_mergesort    3.291       0.658\n",
      "317           5    7.773  10000000        gregor-5950x-py3-12  multiprocessing_mergesort    3.313       0.663\n",
      "318           5    7.787  10000000        gregor-5950x-py3-12  multiprocessing_mergesort    3.307       0.661\n",
      "319           5    7.908  10000000        gregor-5950x-py3-12  multiprocessing_mergesort    3.257       0.651\n",
      "320           5    7.916  10000000        gregor-5950x-py3-12  multiprocessing_mergesort    3.254       0.651\n",
      "321           5    7.855  10000000        gregor-5950x-py3-12  multiprocessing_mergesort    3.279       0.656\n",
      "322           5    7.826  10000000        gregor-5950x-py3-12  multiprocessing_mergesort    3.291       0.658\n",
      "323           5    7.947  10000000        gregor-5950x-py3-12  multiprocessing_mergesort    3.241       0.648\n",
      "324           4    8.283  10000000        gregor-5950x-py3-12  multiprocessing_mergesort    3.109       0.777\n",
      "325           4    8.208  10000000        gregor-5950x-py3-12  multiprocessing_mergesort    3.138       0.784\n",
      "326           4    8.304  10000000        gregor-5950x-py3-12  multiprocessing_mergesort    3.102       0.776\n",
      "327           4    8.202  10000000        gregor-5950x-py3-12  multiprocessing_mergesort    3.140       0.785\n",
      "328           4    8.206  10000000        gregor-5950x-py3-12  multiprocessing_mergesort    3.139       0.785\n",
      "329           4    8.284  10000000        gregor-5950x-py3-12  multiprocessing_mergesort    3.109       0.777\n",
      "330           4    8.361  10000000        gregor-5950x-py3-12  multiprocessing_mergesort    3.080       0.770\n",
      "331           4    8.251  10000000        gregor-5950x-py3-12  multiprocessing_mergesort    3.121       0.780\n",
      "332           4    8.243  10000000        gregor-5950x-py3-12  multiprocessing_mergesort    3.124       0.781\n",
      "333           4    8.285  10000000        gregor-5950x-py3-12  multiprocessing_mergesort    3.109       0.777\n",
      "334           3   10.304  10000000        gregor-5950x-py3-12  multiprocessing_mergesort    2.500       0.833\n",
      "335           3   10.228  10000000        gregor-5950x-py3-12  multiprocessing_mergesort    2.518       0.839\n",
      "336           3   10.304  10000000        gregor-5950x-py3-12  multiprocessing_mergesort    2.500       0.833\n",
      "337           3   10.229  10000000        gregor-5950x-py3-12  multiprocessing_mergesort    2.518       0.839\n",
      "338           3   10.240  10000000        gregor-5950x-py3-12  multiprocessing_mergesort    2.515       0.838\n",
      "339           3   10.268  10000000        gregor-5950x-py3-12  multiprocessing_mergesort    2.508       0.836\n",
      "340           3   10.361  10000000        gregor-5950x-py3-12  multiprocessing_mergesort    2.486       0.829\n",
      "341           3   10.432  10000000        gregor-5950x-py3-12  multiprocessing_mergesort    2.469       0.823\n",
      "342           3   10.316  10000000        gregor-5950x-py3-12  multiprocessing_mergesort    2.497       0.832\n",
      "343           3   10.326  10000000        gregor-5950x-py3-12  multiprocessing_mergesort    2.494       0.831\n",
      "344           2   13.620  10000000        gregor-5950x-py3-12  multiprocessing_mergesort    1.891       0.946\n",
      "345           2   13.651  10000000        gregor-5950x-py3-12  multiprocessing_mergesort    1.887       0.944\n",
      "346           2   13.603  10000000        gregor-5950x-py3-12  multiprocessing_mergesort    1.893       0.946\n",
      "347           2   13.744  10000000        gregor-5950x-py3-12  multiprocessing_mergesort    1.874       0.937\n",
      "348           2   13.683  10000000        gregor-5950x-py3-12  multiprocessing_mergesort    1.882       0.941\n",
      "349           2   13.643  10000000        gregor-5950x-py3-12  multiprocessing_mergesort    1.888       0.944\n",
      "350           2   13.593  10000000        gregor-5950x-py3-12  multiprocessing_mergesort    1.895       0.948\n",
      "351           2   13.772  10000000        gregor-5950x-py3-12  multiprocessing_mergesort    1.870       0.935\n",
      "352           2   13.765  10000000        gregor-5950x-py3-12  multiprocessing_mergesort    1.871       0.936\n",
      "353           2   13.845  10000000        gregor-5950x-py3-12  multiprocessing_mergesort    1.860       0.930\n",
      "354           1   25.233  10000000        gregor-5950x-py3-12  multiprocessing_mergesort    1.021       1.021\n",
      "355           1   25.172  10000000        gregor-5950x-py3-12  multiprocessing_mergesort    1.023       1.023\n",
      "356           1   25.268  10000000        gregor-5950x-py3-12  multiprocessing_mergesort    1.019       1.019\n",
      "357           1   25.271  10000000        gregor-5950x-py3-12  multiprocessing_mergesort    1.019       1.019\n",
      "358           1   25.266  10000000        gregor-5950x-py3-12  multiprocessing_mergesort    1.019       1.019\n",
      "359           1   25.701  10000000        gregor-5950x-py3-12  multiprocessing_mergesort    1.002       1.002\n",
      "360           1   25.931  10000000        gregor-5950x-py3-12  multiprocessing_mergesort    0.993       0.993\n",
      "361           1   25.923  10000000        gregor-5950x-py3-12  multiprocessing_mergesort    0.994       0.994\n",
      "362           1   26.392  10000000        gregor-5950x-py3-12  multiprocessing_mergesort    0.976       0.976\n",
      "363           1   25.755  10000000        gregor-5950x-py3-12  multiprocessing_mergesort    1.000       1.000\n",
      "364           4   71.043  10000000                     jp-pi4  multiprocessing_mergesort    2.919       0.730\n",
      "365           4   73.140  10000000                     jp-pi4  multiprocessing_mergesort    2.835       0.709\n",
      "366           4   74.188  10000000                     jp-pi4  multiprocessing_mergesort    2.795       0.699\n",
      "367           4   75.858  10000000                     jp-pi4  multiprocessing_mergesort    2.734       0.684\n",
      "368           4   76.924  10000000                     jp-pi4  multiprocessing_mergesort    2.696       0.674\n",
      "369           4   77.423  10000000                     jp-pi4  multiprocessing_mergesort    2.679       0.670\n",
      "370           4   76.652  10000000                     jp-pi4  multiprocessing_mergesort    2.705       0.676\n",
      "371           4   76.462  10000000                     jp-pi4  multiprocessing_mergesort    2.712       0.678\n",
      "372           4   76.382  10000000                     jp-pi4  multiprocessing_mergesort    2.715       0.679\n",
      "373           4   77.178  10000000                     jp-pi4  multiprocessing_mergesort    2.687       0.672\n",
      "374           3   88.783  10000000                     jp-pi4  multiprocessing_mergesort    2.336       0.779\n",
      "375           3   89.432  10000000                     jp-pi4  multiprocessing_mergesort    2.319       0.773\n",
      "376           3   88.163  10000000                     jp-pi4  multiprocessing_mergesort    2.352       0.784\n",
      "377           3   89.538  10000000                     jp-pi4  multiprocessing_mergesort    2.316       0.772\n",
      "378           3   88.494  10000000                     jp-pi4  multiprocessing_mergesort    2.343       0.781\n",
      "379           3   90.288  10000000                     jp-pi4  multiprocessing_mergesort    2.297       0.766\n",
      "380           3   89.076  10000000                     jp-pi4  multiprocessing_mergesort    2.328       0.776\n",
      "381           3   88.742  10000000                     jp-pi4  multiprocessing_mergesort    2.337       0.779\n",
      "382           3   88.636  10000000                     jp-pi4  multiprocessing_mergesort    2.340       0.780\n",
      "383           3   89.520  10000000                     jp-pi4  multiprocessing_mergesort    2.317       0.772\n",
      "384           2  112.032  10000000                     jp-pi4  multiprocessing_mergesort    1.851       0.926\n",
      "385           2  112.471  10000000                     jp-pi4  multiprocessing_mergesort    1.844       0.922\n",
      "386           2  111.824  10000000                     jp-pi4  multiprocessing_mergesort    1.855       0.928\n",
      "387           2  113.105  10000000                     jp-pi4  multiprocessing_mergesort    1.833       0.916\n",
      "388           2  112.094  10000000                     jp-pi4  multiprocessing_mergesort    1.850       0.925\n",
      "389           2  111.734  10000000                     jp-pi4  multiprocessing_mergesort    1.856       0.928\n",
      "390           2  113.640  10000000                     jp-pi4  multiprocessing_mergesort    1.825       0.912\n",
      "391           2  114.041  10000000                     jp-pi4  multiprocessing_mergesort    1.818       0.909\n",
      "392           2  113.488  10000000                     jp-pi4  multiprocessing_mergesort    1.827       0.914\n",
      "393           2  112.176  10000000                     jp-pi4  multiprocessing_mergesort    1.849       0.924\n",
      "394           1  216.609  10000000                     jp-pi4  multiprocessing_mergesort    0.957       0.957\n",
      "395           1  210.464  10000000                     jp-pi4  multiprocessing_mergesort    0.985       0.985\n",
      "396           1  212.799  10000000                     jp-pi4  multiprocessing_mergesort    0.975       0.975\n",
      "397           1  209.934  10000000                     jp-pi4  multiprocessing_mergesort    0.988       0.988\n",
      "398           1  213.406  10000000                     jp-pi4  multiprocessing_mergesort    0.972       0.972\n",
      "399           1  212.863  10000000                     jp-pi4  multiprocessing_mergesort    0.974       0.974\n",
      "400           1  211.790  10000000                     jp-pi4  multiprocessing_mergesort    0.979       0.979\n",
      "401           1  211.265  10000000                     jp-pi4  multiprocessing_mergesort    0.982       0.982\n",
      "402           1  207.872  10000000                     jp-pi4  multiprocessing_mergesort    0.998       0.998\n",
      "403           1  207.378  10000000                     jp-pi4  multiprocessing_mergesort    1.000       1.000\n",
      "404          12   16.651  10000000                  jp-laptop  multiprocessing_mergesort    3.539       0.295\n",
      "405          12   16.364  10000000                  jp-laptop  multiprocessing_mergesort    3.601       0.300\n",
      "406          12   16.306  10000000                  jp-laptop  multiprocessing_mergesort    3.614       0.301\n",
      "407          12   16.710  10000000                  jp-laptop  multiprocessing_mergesort    3.526       0.294\n",
      "408          12   16.588  10000000                  jp-laptop  multiprocessing_mergesort    3.552       0.296\n",
      "409          12   16.702  10000000                  jp-laptop  multiprocessing_mergesort    3.528       0.294\n",
      "410          12   17.190  10000000                  jp-laptop  multiprocessing_mergesort    3.428       0.286\n",
      "411          12   17.133  10000000                  jp-laptop  multiprocessing_mergesort    3.439       0.287\n",
      "412          12   16.458  10000000                  jp-laptop  multiprocessing_mergesort    3.580       0.298\n",
      "413          12   16.492  10000000                  jp-laptop  multiprocessing_mergesort    3.573       0.298\n",
      "414          11   17.041  10000000                  jp-laptop  multiprocessing_mergesort    3.458       0.314\n",
      "415          11   16.916  10000000                  jp-laptop  multiprocessing_mergesort    3.484       0.317\n",
      "416          11   16.926  10000000                  jp-laptop  multiprocessing_mergesort    3.481       0.316\n",
      "417          11   17.092  10000000                  jp-laptop  multiprocessing_mergesort    3.448       0.313\n",
      "418          11   17.047  10000000                  jp-laptop  multiprocessing_mergesort    3.457       0.314\n",
      "419          11   16.882  10000000                  jp-laptop  multiprocessing_mergesort    3.491       0.317\n",
      "420          11   17.153  10000000                  jp-laptop  multiprocessing_mergesort    3.435       0.312\n",
      "421          11   16.915  10000000                  jp-laptop  multiprocessing_mergesort    3.484       0.317\n",
      "422          11   16.946  10000000                  jp-laptop  multiprocessing_mergesort    3.477       0.316\n",
      "423          11   17.006  10000000                  jp-laptop  multiprocessing_mergesort    3.465       0.315\n",
      "424          10   17.841  10000000                  jp-laptop  multiprocessing_mergesort    3.303       0.330\n",
      "425          10   17.766  10000000                  jp-laptop  multiprocessing_mergesort    3.317       0.332\n",
      "426          10   17.974  10000000                  jp-laptop  multiprocessing_mergesort    3.278       0.328\n",
      "427          10   18.001  10000000                  jp-laptop  multiprocessing_mergesort    3.274       0.327\n",
      "428          10   17.783  10000000                  jp-laptop  multiprocessing_mergesort    3.314       0.331\n",
      "429          10   17.869  10000000                  jp-laptop  multiprocessing_mergesort    3.298       0.330\n",
      "430          10   19.590  10000000                  jp-laptop  multiprocessing_mergesort    3.008       0.301\n",
      "431          10   18.368  10000000                  jp-laptop  multiprocessing_mergesort    3.208       0.321\n",
      "432          10   18.041  10000000                  jp-laptop  multiprocessing_mergesort    3.266       0.327\n",
      "433          10   18.464  10000000                  jp-laptop  multiprocessing_mergesort    3.191       0.319\n",
      "434           9   19.876  10000000                  jp-laptop  multiprocessing_mergesort    2.965       0.329\n",
      "435           9   20.972  10000000                  jp-laptop  multiprocessing_mergesort    2.810       0.312\n",
      "436           9   25.995  10000000                  jp-laptop  multiprocessing_mergesort    2.267       0.252\n",
      "437           9   21.976  10000000                  jp-laptop  multiprocessing_mergesort    2.681       0.298\n",
      "438           9   20.021  10000000                  jp-laptop  multiprocessing_mergesort    2.943       0.327\n",
      "439           9   19.576  10000000                  jp-laptop  multiprocessing_mergesort    3.010       0.334\n",
      "440           9   20.809  10000000                  jp-laptop  multiprocessing_mergesort    2.832       0.315\n",
      "441           9   19.672  10000000                  jp-laptop  multiprocessing_mergesort    2.995       0.333\n",
      "442           9   20.382  10000000                  jp-laptop  multiprocessing_mergesort    2.891       0.321\n",
      "443           9   20.317  10000000                  jp-laptop  multiprocessing_mergesort    2.900       0.322\n",
      "444           8   17.398  10000000                  jp-laptop  multiprocessing_mergesort    3.387       0.423\n",
      "445           8   16.811  10000000                  jp-laptop  multiprocessing_mergesort    3.505       0.438\n",
      "446           8   16.803  10000000                  jp-laptop  multiprocessing_mergesort    3.507       0.438\n",
      "447           8   17.019  10000000                  jp-laptop  multiprocessing_mergesort    3.462       0.433\n",
      "448           8   16.842  10000000                  jp-laptop  multiprocessing_mergesort    3.499       0.437\n",
      "449           8   18.228  10000000                  jp-laptop  multiprocessing_mergesort    3.233       0.404\n",
      "450           8   18.121  10000000                  jp-laptop  multiprocessing_mergesort    3.252       0.406\n",
      "451           8   20.136  10000000                  jp-laptop  multiprocessing_mergesort    2.926       0.366\n",
      "452           8   21.011  10000000                  jp-laptop  multiprocessing_mergesort    2.805       0.351\n",
      "453           8   20.003  10000000                  jp-laptop  multiprocessing_mergesort    2.946       0.368\n",
      "454           7   19.428  10000000                  jp-laptop  multiprocessing_mergesort    3.033       0.433\n",
      "455           7   20.467  10000000                  jp-laptop  multiprocessing_mergesort    2.879       0.411\n",
      "456           7   19.887  10000000                  jp-laptop  multiprocessing_mergesort    2.963       0.423\n",
      "457           7   19.239  10000000                  jp-laptop  multiprocessing_mergesort    3.063       0.438\n",
      "458           7   19.136  10000000                  jp-laptop  multiprocessing_mergesort    3.079       0.440\n",
      "459           7   18.132  10000000                  jp-laptop  multiprocessing_mergesort    3.250       0.464\n",
      "460           7   18.136  10000000                  jp-laptop  multiprocessing_mergesort    3.249       0.464\n",
      "461           7   18.337  10000000                  jp-laptop  multiprocessing_mergesort    3.214       0.459\n",
      "462           7   18.685  10000000                  jp-laptop  multiprocessing_mergesort    3.154       0.451\n",
      "463           7   18.374  10000000                  jp-laptop  multiprocessing_mergesort    3.207       0.458\n",
      "464           6   19.161  10000000                  jp-laptop  multiprocessing_mergesort    3.075       0.513\n",
      "465           6   19.860  10000000                  jp-laptop  multiprocessing_mergesort    2.967       0.494\n",
      "466           6   19.733  10000000                  jp-laptop  multiprocessing_mergesort    2.986       0.498\n",
      "467           6   19.339  10000000                  jp-laptop  multiprocessing_mergesort    3.047       0.508\n",
      "468           6   19.378  10000000                  jp-laptop  multiprocessing_mergesort    3.041       0.507\n",
      "469           6   18.996  10000000                  jp-laptop  multiprocessing_mergesort    3.102       0.517\n",
      "470           6   19.127  10000000                  jp-laptop  multiprocessing_mergesort    3.081       0.514\n",
      "471           6   19.221  10000000                  jp-laptop  multiprocessing_mergesort    3.066       0.511\n",
      "472           6   19.342  10000000                  jp-laptop  multiprocessing_mergesort    3.047       0.508\n",
      "473           6   20.071  10000000                  jp-laptop  multiprocessing_mergesort    2.936       0.489\n",
      "474           5   20.784  10000000                  jp-laptop  multiprocessing_mergesort    2.835       0.567\n",
      "475           5   20.795  10000000                  jp-laptop  multiprocessing_mergesort    2.834       0.567\n",
      "476           5   20.518  10000000                  jp-laptop  multiprocessing_mergesort    2.872       0.574\n",
      "477           5   20.896  10000000                  jp-laptop  multiprocessing_mergesort    2.820       0.564\n",
      "478           5   20.810  10000000                  jp-laptop  multiprocessing_mergesort    2.832       0.566\n",
      "479           5   20.747  10000000                  jp-laptop  multiprocessing_mergesort    2.840       0.568\n",
      "480           5   20.836  10000000                  jp-laptop  multiprocessing_mergesort    2.828       0.566\n",
      "481           5   20.855  10000000                  jp-laptop  multiprocessing_mergesort    2.826       0.565\n",
      "482           5   20.975  10000000                  jp-laptop  multiprocessing_mergesort    2.809       0.562\n",
      "483           5   20.595  10000000                  jp-laptop  multiprocessing_mergesort    2.861       0.572\n",
      "484           4   20.783  10000000                  jp-laptop  multiprocessing_mergesort    2.835       0.709\n",
      "485           4   20.931  10000000                  jp-laptop  multiprocessing_mergesort    2.815       0.704\n",
      "486           4   20.627  10000000                  jp-laptop  multiprocessing_mergesort    2.857       0.714\n",
      "487           4   21.251  10000000                  jp-laptop  multiprocessing_mergesort    2.773       0.693\n",
      "488           4   21.034  10000000                  jp-laptop  multiprocessing_mergesort    2.802       0.700\n",
      "489           4   20.883  10000000                  jp-laptop  multiprocessing_mergesort    2.822       0.706\n",
      "490           4   21.131  10000000                  jp-laptop  multiprocessing_mergesort    2.789       0.697\n",
      "491           4   20.955  10000000                  jp-laptop  multiprocessing_mergesort    2.812       0.703\n",
      "492           4   20.864  10000000                  jp-laptop  multiprocessing_mergesort    2.824       0.706\n",
      "493           4   20.812  10000000                  jp-laptop  multiprocessing_mergesort    2.831       0.708\n",
      "494           3   24.527  10000000                  jp-laptop  multiprocessing_mergesort    2.403       0.801\n",
      "495           3   24.191  10000000                  jp-laptop  multiprocessing_mergesort    2.436       0.812\n",
      "496           3   24.175  10000000                  jp-laptop  multiprocessing_mergesort    2.438       0.813\n",
      "497           3   23.988  10000000                  jp-laptop  multiprocessing_mergesort    2.457       0.819\n",
      "498           3   24.137  10000000                  jp-laptop  multiprocessing_mergesort    2.441       0.814\n",
      "499           3   24.051  10000000                  jp-laptop  multiprocessing_mergesort    2.450       0.817\n",
      "500           3   24.441  10000000                  jp-laptop  multiprocessing_mergesort    2.411       0.804\n",
      "501           3   24.980  10000000                  jp-laptop  multiprocessing_mergesort    2.359       0.786\n",
      "502           3   24.754  10000000                  jp-laptop  multiprocessing_mergesort    2.381       0.794\n",
      "503           3   24.759  10000000                  jp-laptop  multiprocessing_mergesort    2.380       0.793\n",
      "504           2   31.551  10000000                  jp-laptop  multiprocessing_mergesort    1.868       0.934\n",
      "505           2   31.129  10000000                  jp-laptop  multiprocessing_mergesort    1.893       0.946\n",
      "506           2   31.249  10000000                  jp-laptop  multiprocessing_mergesort    1.886       0.943\n",
      "507           2   31.916  10000000                  jp-laptop  multiprocessing_mergesort    1.846       0.923\n",
      "508           2   31.775  10000000                  jp-laptop  multiprocessing_mergesort    1.855       0.928\n",
      "509           2   31.918  10000000                  jp-laptop  multiprocessing_mergesort    1.846       0.923\n",
      "510           2   32.144  10000000                  jp-laptop  multiprocessing_mergesort    1.833       0.916\n",
      "511           2   32.388  10000000                  jp-laptop  multiprocessing_mergesort    1.819       0.910\n",
      "512           2   32.648  10000000                  jp-laptop  multiprocessing_mergesort    1.805       0.902\n",
      "513           2   32.216  10000000                  jp-laptop  multiprocessing_mergesort    1.829       0.914\n",
      "514           1   56.905  10000000                  jp-laptop  multiprocessing_mergesort    1.036       1.036\n",
      "515           1   57.540  10000000                  jp-laptop  multiprocessing_mergesort    1.024       1.024\n",
      "516           1   57.283  10000000                  jp-laptop  multiprocessing_mergesort    1.029       1.029\n",
      "517           1   57.849  10000000                  jp-laptop  multiprocessing_mergesort    1.019       1.019\n",
      "518           1   57.522  10000000                  jp-laptop  multiprocessing_mergesort    1.024       1.024\n",
      "519           1   58.239  10000000                  jp-laptop  multiprocessing_mergesort    1.012       1.012\n",
      "520           1   57.243  10000000                  jp-laptop  multiprocessing_mergesort    1.029       1.029\n",
      "521           1   58.195  10000000                  jp-laptop  multiprocessing_mergesort    1.013       1.013\n",
      "522           1   59.450  10000000                  jp-laptop  multiprocessing_mergesort    0.991       0.991\n",
      "523           1   58.927  10000000                  jp-laptop  multiprocessing_mergesort    1.000       1.000\n",
      "0            12   21.369  10000000  alex-macbookproi7_2400MHz  multiprocessing_mergesort    3.214       0.268\n",
      "1            11   20.981  10000000  alex-macbookproi7_2400MHz  multiprocessing_mergesort    3.274       0.298\n",
      "2            10   21.921  10000000  alex-macbookproi7_2400MHz  multiprocessing_mergesort    3.133       0.313\n",
      "3             9   22.923  10000000  alex-macbookproi7_2400MHz  multiprocessing_mergesort    2.997       0.333\n",
      "4             8   19.963  10000000  alex-macbookproi7_2400MHz  multiprocessing_mergesort    3.441       0.430\n",
      "5             7   19.989  10000000  alex-macbookproi7_2400MHz  multiprocessing_mergesort    3.436       0.491\n",
      "6             6   20.665  10000000  alex-macbookproi7_2400MHz  multiprocessing_mergesort    3.324       0.554\n",
      "7             5   22.982  10000000  alex-macbookproi7_2400MHz  multiprocessing_mergesort    2.989       0.598\n",
      "8             4   23.366  10000000  alex-macbookproi7_2400MHz  multiprocessing_mergesort    2.940       0.735\n",
      "9             3   28.732  10000000  alex-macbookproi7_2400MHz  multiprocessing_mergesort    2.391       0.797\n",
      "10            2   37.347  10000000  alex-macbookproi7_2400MHz  multiprocessing_mergesort    1.839       0.920\n",
      "11            1   68.689  10000000  alex-macbookproi7_2400MHz  multiprocessing_mergesort    1.000       1.000\n",
      "12           32    7.318  10000000               gregor-5950x  multiprocessing_mergesort    7.260       0.227\n",
      "13           31    7.232  10000000               gregor-5950x  multiprocessing_mergesort    7.346       0.237\n",
      "14           30    7.411  10000000               gregor-5950x  multiprocessing_mergesort    7.169       0.239\n",
      "15           29    7.414  10000000               gregor-5950x  multiprocessing_mergesort    7.166       0.247\n",
      "16           28    7.458  10000000               gregor-5950x  multiprocessing_mergesort    7.123       0.254\n",
      "17           27    7.612  10000000               gregor-5950x  multiprocessing_mergesort    6.979       0.258\n",
      "18           26    7.861  10000000               gregor-5950x  multiprocessing_mergesort    6.758       0.260\n",
      "19           25    7.680  10000000               gregor-5950x  multiprocessing_mergesort    6.918       0.277\n",
      "20           24    7.789  10000000               gregor-5950x  multiprocessing_mergesort    6.821       0.284\n",
      "21           23    8.049  10000000               gregor-5950x  multiprocessing_mergesort    6.600       0.287\n",
      "22           22    8.056  10000000               gregor-5950x  multiprocessing_mergesort    6.595       0.300\n",
      "23           21    8.240  10000000               gregor-5950x  multiprocessing_mergesort    6.447       0.307\n",
      "24           20    8.369  10000000               gregor-5950x  multiprocessing_mergesort    6.348       0.317\n",
      "25           19    8.726  10000000               gregor-5950x  multiprocessing_mergesort    6.088       0.320\n",
      "26           18    9.114  10000000               gregor-5950x  multiprocessing_mergesort    5.829       0.324\n",
      "27           17    9.413  10000000               gregor-5950x  multiprocessing_mergesort    5.644       0.332\n",
      "28           16    7.672  10000000               gregor-5950x  multiprocessing_mergesort    6.925       0.433\n",
      "29           15    7.319  10000000               gregor-5950x  multiprocessing_mergesort    7.259       0.484\n",
      "30           14    7.815  10000000               gregor-5950x  multiprocessing_mergesort    6.798       0.486\n",
      "31           13    7.836  10000000               gregor-5950x  multiprocessing_mergesort    6.780       0.522\n",
      "32           12    8.197  10000000               gregor-5950x  multiprocessing_mergesort    6.481       0.540\n",
      "33           11    8.598  10000000               gregor-5950x  multiprocessing_mergesort    6.179       0.562\n",
      "34           10    9.162  10000000               gregor-5950x  multiprocessing_mergesort    5.799       0.580\n",
      "35            9    9.825  10000000               gregor-5950x  multiprocessing_mergesort    5.407       0.601\n",
      "36            8    8.608  10000000               gregor-5950x  multiprocessing_mergesort    6.172       0.772\n",
      "37            7    9.489  10000000               gregor-5950x  multiprocessing_mergesort    5.599       0.800\n",
      "38            6   10.585  10000000               gregor-5950x  multiprocessing_mergesort    5.019       0.836\n",
      "39            5   12.434  10000000               gregor-5950x  multiprocessing_mergesort    4.273       0.855\n",
      "40            4   12.992  10000000               gregor-5950x  multiprocessing_mergesort    4.089       1.022\n",
      "41            3   16.364  10000000               gregor-5950x  multiprocessing_mergesort    3.247       1.082\n",
      "42            2   21.622  10000000               gregor-5950x  multiprocessing_mergesort    2.457       1.228\n",
      "43            1   53.127  10000000               gregor-5950x  multiprocessing_mergesort    1.000       1.000\n"
     ]
    }
   ],
   "source": [
    "print(df_with_speedup.to_string())"
   ],
   "metadata": {
    "collapsed": false,
    "pycharm": {
     "name": "#%%\n"
    }
   }
  },
  {
   "cell_type": "code",
   "execution_count": 15,
   "outputs": [
    {
     "data": {
      "text/plain": "    processors    time      size                 name  \\\n44          32   5.138  10000000  gregor-5950x-py3-12   \n45          32   5.053  10000000  gregor-5950x-py3-12   \n46          32   5.185  10000000  gregor-5950x-py3-12   \n47          32   5.128  10000000  gregor-5950x-py3-12   \n48          32   5.126  10000000  gregor-5950x-py3-12   \n..         ...     ...       ...                  ...   \n39           5  12.434  10000000         gregor-5950x   \n40           4  12.992  10000000         gregor-5950x   \n41           3  16.364  10000000         gregor-5950x   \n42           2  21.622  10000000         gregor-5950x   \n43           1  53.127  10000000         gregor-5950x   \n\n                          tag  speedup  efficiency  \n44  multiprocessing_mergesort    5.013       0.157  \n45  multiprocessing_mergesort    5.097       0.159  \n46  multiprocessing_mergesort    4.967       0.155  \n47  multiprocessing_mergesort    5.022       0.157  \n48  multiprocessing_mergesort    5.024       0.157  \n..                        ...      ...         ...  \n39  multiprocessing_mergesort    4.273       0.855  \n40  multiprocessing_mergesort    4.089       1.022  \n41  multiprocessing_mergesort    3.247       1.082  \n42  multiprocessing_mergesort    2.457       1.228  \n43  multiprocessing_mergesort    1.000       1.000  \n\n[524 rows x 7 columns]",
      "text/html": "<div>\n<style scoped>\n    .dataframe tbody tr th:only-of-type {\n        vertical-align: middle;\n    }\n\n    .dataframe tbody tr th {\n        vertical-align: top;\n    }\n\n    .dataframe thead th {\n        text-align: right;\n    }\n</style>\n<table border=\"1\" class=\"dataframe\">\n  <thead>\n    <tr style=\"text-align: right;\">\n      <th></th>\n      <th>processors</th>\n      <th>time</th>\n      <th>size</th>\n      <th>name</th>\n      <th>tag</th>\n      <th>speedup</th>\n      <th>efficiency</th>\n    </tr>\n  </thead>\n  <tbody>\n    <tr>\n      <th>44</th>\n      <td>32</td>\n      <td>5.138</td>\n      <td>10000000</td>\n      <td>gregor-5950x-py3-12</td>\n      <td>multiprocessing_mergesort</td>\n      <td>5.013</td>\n      <td>0.157</td>\n    </tr>\n    <tr>\n      <th>45</th>\n      <td>32</td>\n      <td>5.053</td>\n      <td>10000000</td>\n      <td>gregor-5950x-py3-12</td>\n      <td>multiprocessing_mergesort</td>\n      <td>5.097</td>\n      <td>0.159</td>\n    </tr>\n    <tr>\n      <th>46</th>\n      <td>32</td>\n      <td>5.185</td>\n      <td>10000000</td>\n      <td>gregor-5950x-py3-12</td>\n      <td>multiprocessing_mergesort</td>\n      <td>4.967</td>\n      <td>0.155</td>\n    </tr>\n    <tr>\n      <th>47</th>\n      <td>32</td>\n      <td>5.128</td>\n      <td>10000000</td>\n      <td>gregor-5950x-py3-12</td>\n      <td>multiprocessing_mergesort</td>\n      <td>5.022</td>\n      <td>0.157</td>\n    </tr>\n    <tr>\n      <th>48</th>\n      <td>32</td>\n      <td>5.126</td>\n      <td>10000000</td>\n      <td>gregor-5950x-py3-12</td>\n      <td>multiprocessing_mergesort</td>\n      <td>5.024</td>\n      <td>0.157</td>\n    </tr>\n    <tr>\n      <th>...</th>\n      <td>...</td>\n      <td>...</td>\n      <td>...</td>\n      <td>...</td>\n      <td>...</td>\n      <td>...</td>\n      <td>...</td>\n    </tr>\n    <tr>\n      <th>39</th>\n      <td>5</td>\n      <td>12.434</td>\n      <td>10000000</td>\n      <td>gregor-5950x</td>\n      <td>multiprocessing_mergesort</td>\n      <td>4.273</td>\n      <td>0.855</td>\n    </tr>\n    <tr>\n      <th>40</th>\n      <td>4</td>\n      <td>12.992</td>\n      <td>10000000</td>\n      <td>gregor-5950x</td>\n      <td>multiprocessing_mergesort</td>\n      <td>4.089</td>\n      <td>1.022</td>\n    </tr>\n    <tr>\n      <th>41</th>\n      <td>3</td>\n      <td>16.364</td>\n      <td>10000000</td>\n      <td>gregor-5950x</td>\n      <td>multiprocessing_mergesort</td>\n      <td>3.247</td>\n      <td>1.082</td>\n    </tr>\n    <tr>\n      <th>42</th>\n      <td>2</td>\n      <td>21.622</td>\n      <td>10000000</td>\n      <td>gregor-5950x</td>\n      <td>multiprocessing_mergesort</td>\n      <td>2.457</td>\n      <td>1.228</td>\n    </tr>\n    <tr>\n      <th>43</th>\n      <td>1</td>\n      <td>53.127</td>\n      <td>10000000</td>\n      <td>gregor-5950x</td>\n      <td>multiprocessing_mergesort</td>\n      <td>1.000</td>\n      <td>1.000</td>\n    </tr>\n  </tbody>\n</table>\n<p>524 rows × 7 columns</p>\n</div>"
     },
     "execution_count": 15,
     "metadata": {},
     "output_type": "execute_result"
    }
   ],
   "source": [
    "\n",
    "df_with_speedup\n"
   ],
   "metadata": {
    "collapsed": false,
    "pycharm": {
     "name": "#%%\n"
    }
   }
  },
  {
   "cell_type": "code",
   "execution_count": 16,
   "outputs": [
    {
     "data": {
      "text/plain": "'color = [\"red\", \"green\", \"blue\"]\\nfiles = [\"gregor-5950x-py3-12\", \"jp-pi4\", \"jp-laptop\", \"alex-macbookproi7_2400MHz\"]\\ncounter = 0\\nfor name in files:\\n    print(name)\\n    a = df[df[\"name\"] == name]\\n    minimum_processor = a[a[\"processors\"] == 1]\\n    display(a)\\n    minimum_time = min(minimum_processor[\"time\"])\\n    a[\"minimum_time\"] = minimum_time\\n    a[\"speedup\"] = a[\"minimum_time\"]/a[\"time\"]\\n    plot_benchmark_by_size(a, size, \"multiprocessing_mergesort\", files, y=\"speedup\")\\n    counter+=1\\nplt.show()'"
     },
     "execution_count": 16,
     "metadata": {},
     "output_type": "execute_result"
    }
   ],
   "source": [
    "'''color = [\"red\", \"green\", \"blue\"]\n",
    "files = [\"gregor-5950x-py3-12\", \"jp-pi4\", \"jp-laptop\", \"alex-macbookproi7_2400MHz\"]\n",
    "counter = 0\n",
    "for name in files:\n",
    "    print(name)\n",
    "    a = df[df[\"name\"] == name]\n",
    "    minimum_processor = a[a[\"processors\"] == 1]\n",
    "    display(a)\n",
    "    minimum_time = min(minimum_processor[\"time\"])\n",
    "    a[\"minimum_time\"] = minimum_time\n",
    "    a[\"speedup\"] = a[\"minimum_time\"]/a[\"time\"]\n",
    "    plot_benchmark_by_size(a, size, \"multiprocessing_mergesort\", files, y=\"speedup\")\n",
    "    counter+=1\n",
    "plt.show()'''"
   ],
   "metadata": {
    "collapsed": false,
    "pycharm": {
     "name": "#%%\n"
    }
   }
  },
  {
   "cell_type": "code",
   "execution_count": 17,
   "outputs": [
    {
     "data": {
      "text/plain": "<Figure size 432x288 with 1 Axes>",
      "image/png": "[encoded data removed]"
     },
     "metadata": {
      "needs_background": "light"
     },
     "output_type": "display_data"
    }
   ],
   "source": [
    "plot_benchmark_by_size(df_with_speedup, size, \"multiprocessing_mergesort efficiency\", files, y=\"efficiency\")"
   ],
   "metadata": {
    "collapsed": false,
    "pycharm": {
     "name": "#%%\n"
    }
   }
  },
  {
   "cell_type": "code",
   "execution_count": 18,
   "outputs": [
    {
     "data": {
      "text/plain": "<Figure size 432x288 with 1 Axes>",
      "image/png": "[encoded data removed]"
     },
     "metadata": {
      "needs_background": "light"
     },
     "output_type": "display_data"
    }
   ],
   "source": [
    "    plot_benchmark_by_size(df_with_speedup, size, \"multiprocessing_mergesort speedup\", files, y=\"speedup\")\n",
    "    plt.show()"
   ],
   "metadata": {
    "collapsed": false,
    "pycharm": {
     "name": "#%%\n"
    }
   }
  },
  {
   "cell_type": "code",
   "execution_count": 19,
   "outputs": [
    {
     "ename": "ValueError",
     "evalue": "Could not interpret value `efficiency` for parameter `y`",
     "output_type": "error",
     "traceback": [
      "\u001B[1;31m---------------------------------------------------------------------------\u001B[0m",
      "\u001B[1;31mValueError\u001B[0m                                Traceback (most recent call last)",
      "Input \u001B[1;32mIn [19]\u001B[0m, in \u001B[0;36m<cell line: 1>\u001B[1;34m()\u001B[0m\n\u001B[1;32m----> 1\u001B[0m \u001B[43mplot_benchmark_by_size\u001B[49m\u001B[43m(\u001B[49m\u001B[43mdf\u001B[49m\u001B[43m,\u001B[49m\u001B[43m \u001B[49m\u001B[43msize\u001B[49m\u001B[43m,\u001B[49m\u001B[43m \u001B[49m\u001B[38;5;124;43m\"\u001B[39;49m\u001B[38;5;124;43mmultiprocessing_mergesort\u001B[39;49m\u001B[38;5;124;43m\"\u001B[39;49m\u001B[43m,\u001B[49m\u001B[43m \u001B[49m\u001B[43mfiles\u001B[49m\u001B[43m,\u001B[49m\u001B[43m \u001B[49m\u001B[43my\u001B[49m\u001B[38;5;241;43m=\u001B[39;49m\u001B[38;5;124;43m\"\u001B[39;49m\u001B[38;5;124;43mefficiency\u001B[39;49m\u001B[38;5;124;43m\"\u001B[39;49m\u001B[43m)\u001B[49m\n\u001B[0;32m      2\u001B[0m plt\u001B[38;5;241m.\u001B[39mshow()\n",
      "Input \u001B[1;32mIn [4]\u001B[0m, in \u001B[0;36mplot_benchmark_by_size\u001B[1;34m(df, size, tag, files, x, y)\u001B[0m\n\u001B[0;32m      1\u001B[0m \u001B[38;5;28;01mdef\u001B[39;00m \u001B[38;5;21mplot_benchmark_by_size\u001B[39m(df, size\u001B[38;5;241m=\u001B[39m\u001B[38;5;28;01mNone\u001B[39;00m, tag\u001B[38;5;241m=\u001B[39m\u001B[38;5;28;01mNone\u001B[39;00m, files\u001B[38;5;241m=\u001B[39m\u001B[38;5;28;01mNone\u001B[39;00m, x\u001B[38;5;241m=\u001B[39m\u001B[38;5;124m\"\u001B[39m\u001B[38;5;124mprocessors\u001B[39m\u001B[38;5;124m\"\u001B[39m, y\u001B[38;5;241m=\u001B[39m\u001B[38;5;124m\"\u001B[39m\u001B[38;5;124mtime\u001B[39m\u001B[38;5;124m\"\u001B[39m):\n\u001B[0;32m      2\u001B[0m     names \u001B[38;5;241m=\u001B[39m \u001B[38;5;124m\"\u001B[39m\u001B[38;5;124m-\u001B[39m\u001B[38;5;124m\"\u001B[39m\u001B[38;5;241m.\u001B[39mjoin(files)\n\u001B[1;32m----> 3\u001B[0m     \u001B[43msns\u001B[49m\u001B[38;5;241;43m.\u001B[39;49m\u001B[43mlineplot\u001B[49m\u001B[43m(\u001B[49m\u001B[43mdata\u001B[49m\u001B[38;5;241;43m=\u001B[39;49m\u001B[43mdf\u001B[49m\u001B[43m,\u001B[49m\u001B[43m \u001B[49m\u001B[43mx\u001B[49m\u001B[38;5;241;43m=\u001B[39;49m\u001B[43mx\u001B[49m\u001B[43m,\u001B[49m\u001B[43m \u001B[49m\u001B[43my\u001B[49m\u001B[38;5;241;43m=\u001B[39;49m\u001B[43my\u001B[49m\u001B[43m,\u001B[49m\u001B[43m \u001B[49m\u001B[43mhue\u001B[49m\u001B[38;5;241;43m=\u001B[39;49m\u001B[38;5;124;43m\"\u001B[39;49m\u001B[38;5;124;43mname\u001B[39;49m\u001B[38;5;124;43m\"\u001B[39;49m\u001B[43m)\u001B[49m;\n\u001B[0;32m      4\u001B[0m     t \u001B[38;5;241m=\u001B[39m tag\u001B[38;5;241m.\u001B[39mtitle()\n\u001B[0;32m      5\u001B[0m     label \u001B[38;5;241m=\u001B[39m \u001B[38;5;124mf\u001B[39m\u001B[38;5;124m\"\u001B[39m\u001B[38;5;132;01m{\u001B[39;00mt\u001B[38;5;132;01m}\u001B[39;00m\u001B[38;5;124m, Size=\u001B[39m\u001B[38;5;132;01m{\u001B[39;00msize\u001B[38;5;132;01m}\u001B[39;00m\u001B[38;5;124m\"\u001B[39m\u001B[38;5;241m.\u001B[39mreplace(\u001B[38;5;124m\"\u001B[39m\u001B[38;5;124m_\u001B[39m\u001B[38;5;124m\"\u001B[39m, \u001B[38;5;124m\"\u001B[39m\u001B[38;5;124m \u001B[39m\u001B[38;5;124m\"\u001B[39m)\n",
      "File \u001B[1;32m~\\ENV3\\lib\\site-packages\\seaborn\\_decorators.py:46\u001B[0m, in \u001B[0;36m_deprecate_positional_args.<locals>.inner_f\u001B[1;34m(*args, **kwargs)\u001B[0m\n\u001B[0;32m     36\u001B[0m     warnings\u001B[38;5;241m.\u001B[39mwarn(\n\u001B[0;32m     37\u001B[0m         \u001B[38;5;124m\"\u001B[39m\u001B[38;5;124mPass the following variable\u001B[39m\u001B[38;5;132;01m{}\u001B[39;00m\u001B[38;5;124m as \u001B[39m\u001B[38;5;132;01m{}\u001B[39;00m\u001B[38;5;124mkeyword arg\u001B[39m\u001B[38;5;132;01m{}\u001B[39;00m\u001B[38;5;124m: \u001B[39m\u001B[38;5;132;01m{}\u001B[39;00m\u001B[38;5;124m. \u001B[39m\u001B[38;5;124m\"\u001B[39m\n\u001B[0;32m     38\u001B[0m         \u001B[38;5;124m\"\u001B[39m\u001B[38;5;124mFrom version 0.12, the only valid positional argument \u001B[39m\u001B[38;5;124m\"\u001B[39m\n\u001B[1;32m   (...)\u001B[0m\n\u001B[0;32m     43\u001B[0m         \u001B[38;5;167;01mFutureWarning\u001B[39;00m\n\u001B[0;32m     44\u001B[0m     )\n\u001B[0;32m     45\u001B[0m kwargs\u001B[38;5;241m.\u001B[39mupdate({k: arg \u001B[38;5;28;01mfor\u001B[39;00m k, arg \u001B[38;5;129;01min\u001B[39;00m \u001B[38;5;28mzip\u001B[39m(sig\u001B[38;5;241m.\u001B[39mparameters, args)})\n\u001B[1;32m---> 46\u001B[0m \u001B[38;5;28;01mreturn\u001B[39;00m f(\u001B[38;5;241m*\u001B[39m\u001B[38;5;241m*\u001B[39mkwargs)\n",
      "File \u001B[1;32m~\\ENV3\\lib\\site-packages\\seaborn\\relational.py:692\u001B[0m, in \u001B[0;36mlineplot\u001B[1;34m(x, y, hue, size, style, data, palette, hue_order, hue_norm, sizes, size_order, size_norm, dashes, markers, style_order, units, estimator, ci, n_boot, seed, sort, err_style, err_kws, legend, ax, **kwargs)\u001B[0m\n\u001B[0;32m    677\u001B[0m \u001B[38;5;129m@_deprecate_positional_args\u001B[39m\n\u001B[0;32m    678\u001B[0m \u001B[38;5;28;01mdef\u001B[39;00m \u001B[38;5;21mlineplot\u001B[39m(\n\u001B[0;32m    679\u001B[0m     \u001B[38;5;241m*\u001B[39m,\n\u001B[1;32m   (...)\u001B[0m\n\u001B[0;32m    688\u001B[0m     legend\u001B[38;5;241m=\u001B[39m\u001B[38;5;124m\"\u001B[39m\u001B[38;5;124mauto\u001B[39m\u001B[38;5;124m\"\u001B[39m, ax\u001B[38;5;241m=\u001B[39m\u001B[38;5;28;01mNone\u001B[39;00m, \u001B[38;5;241m*\u001B[39m\u001B[38;5;241m*\u001B[39mkwargs\n\u001B[0;32m    689\u001B[0m ):\n\u001B[0;32m    691\u001B[0m     variables \u001B[38;5;241m=\u001B[39m _LinePlotter\u001B[38;5;241m.\u001B[39mget_semantics(\u001B[38;5;28mlocals\u001B[39m())\n\u001B[1;32m--> 692\u001B[0m     p \u001B[38;5;241m=\u001B[39m \u001B[43m_LinePlotter\u001B[49m\u001B[43m(\u001B[49m\n\u001B[0;32m    693\u001B[0m \u001B[43m        \u001B[49m\u001B[43mdata\u001B[49m\u001B[38;5;241;43m=\u001B[39;49m\u001B[43mdata\u001B[49m\u001B[43m,\u001B[49m\u001B[43m \u001B[49m\u001B[43mvariables\u001B[49m\u001B[38;5;241;43m=\u001B[39;49m\u001B[43mvariables\u001B[49m\u001B[43m,\u001B[49m\n\u001B[0;32m    694\u001B[0m \u001B[43m        \u001B[49m\u001B[43mestimator\u001B[49m\u001B[38;5;241;43m=\u001B[39;49m\u001B[43mestimator\u001B[49m\u001B[43m,\u001B[49m\u001B[43m \u001B[49m\u001B[43mci\u001B[49m\u001B[38;5;241;43m=\u001B[39;49m\u001B[43mci\u001B[49m\u001B[43m,\u001B[49m\u001B[43m \u001B[49m\u001B[43mn_boot\u001B[49m\u001B[38;5;241;43m=\u001B[39;49m\u001B[43mn_boot\u001B[49m\u001B[43m,\u001B[49m\u001B[43m \u001B[49m\u001B[43mseed\u001B[49m\u001B[38;5;241;43m=\u001B[39;49m\u001B[43mseed\u001B[49m\u001B[43m,\u001B[49m\n\u001B[0;32m    695\u001B[0m \u001B[43m        \u001B[49m\u001B[43msort\u001B[49m\u001B[38;5;241;43m=\u001B[39;49m\u001B[43msort\u001B[49m\u001B[43m,\u001B[49m\u001B[43m \u001B[49m\u001B[43merr_style\u001B[49m\u001B[38;5;241;43m=\u001B[39;49m\u001B[43merr_style\u001B[49m\u001B[43m,\u001B[49m\u001B[43m \u001B[49m\u001B[43merr_kws\u001B[49m\u001B[38;5;241;43m=\u001B[39;49m\u001B[43merr_kws\u001B[49m\u001B[43m,\u001B[49m\u001B[43m \u001B[49m\u001B[43mlegend\u001B[49m\u001B[38;5;241;43m=\u001B[39;49m\u001B[43mlegend\u001B[49m\u001B[43m,\u001B[49m\n\u001B[0;32m    696\u001B[0m \u001B[43m    \u001B[49m\u001B[43m)\u001B[49m\n\u001B[0;32m    698\u001B[0m     p\u001B[38;5;241m.\u001B[39mmap_hue(palette\u001B[38;5;241m=\u001B[39mpalette, order\u001B[38;5;241m=\u001B[39mhue_order, norm\u001B[38;5;241m=\u001B[39mhue_norm)\n\u001B[0;32m    699\u001B[0m     p\u001B[38;5;241m.\u001B[39mmap_size(sizes\u001B[38;5;241m=\u001B[39msizes, order\u001B[38;5;241m=\u001B[39msize_order, norm\u001B[38;5;241m=\u001B[39msize_norm)\n",
      "File \u001B[1;32m~\\ENV3\\lib\\site-packages\\seaborn\\relational.py:367\u001B[0m, in \u001B[0;36m_LinePlotter.__init__\u001B[1;34m(self, data, variables, estimator, ci, n_boot, seed, sort, err_style, err_kws, legend)\u001B[0m\n\u001B[0;32m    353\u001B[0m \u001B[38;5;28;01mdef\u001B[39;00m \u001B[38;5;21m__init__\u001B[39m(\n\u001B[0;32m    354\u001B[0m     \u001B[38;5;28mself\u001B[39m, \u001B[38;5;241m*\u001B[39m,\n\u001B[0;32m    355\u001B[0m     data\u001B[38;5;241m=\u001B[39m\u001B[38;5;28;01mNone\u001B[39;00m, variables\u001B[38;5;241m=\u001B[39m{},\n\u001B[1;32m   (...)\u001B[0m\n\u001B[0;32m    361\u001B[0m     \u001B[38;5;66;03m# the kind of plot to draw, but for the time being we need to set\u001B[39;00m\n\u001B[0;32m    362\u001B[0m     \u001B[38;5;66;03m# this information so the SizeMapping can use it\u001B[39;00m\n\u001B[0;32m    363\u001B[0m     \u001B[38;5;28mself\u001B[39m\u001B[38;5;241m.\u001B[39m_default_size_range \u001B[38;5;241m=\u001B[39m (\n\u001B[0;32m    364\u001B[0m         np\u001B[38;5;241m.\u001B[39mr_[\u001B[38;5;241m.5\u001B[39m, \u001B[38;5;241m2\u001B[39m] \u001B[38;5;241m*\u001B[39m mpl\u001B[38;5;241m.\u001B[39mrcParams[\u001B[38;5;124m\"\u001B[39m\u001B[38;5;124mlines.linewidth\u001B[39m\u001B[38;5;124m\"\u001B[39m]\n\u001B[0;32m    365\u001B[0m     )\n\u001B[1;32m--> 367\u001B[0m     \u001B[38;5;28;43msuper\u001B[39;49m\u001B[43m(\u001B[49m\u001B[43m)\u001B[49m\u001B[38;5;241;43m.\u001B[39;49m\u001B[38;5;21;43m__init__\u001B[39;49m\u001B[43m(\u001B[49m\u001B[43mdata\u001B[49m\u001B[38;5;241;43m=\u001B[39;49m\u001B[43mdata\u001B[49m\u001B[43m,\u001B[49m\u001B[43m \u001B[49m\u001B[43mvariables\u001B[49m\u001B[38;5;241;43m=\u001B[39;49m\u001B[43mvariables\u001B[49m\u001B[43m)\u001B[49m\n\u001B[0;32m    369\u001B[0m     \u001B[38;5;28mself\u001B[39m\u001B[38;5;241m.\u001B[39mestimator \u001B[38;5;241m=\u001B[39m estimator\n\u001B[0;32m    370\u001B[0m     \u001B[38;5;28mself\u001B[39m\u001B[38;5;241m.\u001B[39mci \u001B[38;5;241m=\u001B[39m ci\n",
      "File \u001B[1;32m~\\ENV3\\lib\\site-packages\\seaborn\\_core.py:605\u001B[0m, in \u001B[0;36mVectorPlotter.__init__\u001B[1;34m(self, data, variables)\u001B[0m\n\u001B[0;32m    603\u001B[0m \u001B[38;5;28;01mdef\u001B[39;00m \u001B[38;5;21m__init__\u001B[39m(\u001B[38;5;28mself\u001B[39m, data\u001B[38;5;241m=\u001B[39m\u001B[38;5;28;01mNone\u001B[39;00m, variables\u001B[38;5;241m=\u001B[39m{}):\n\u001B[1;32m--> 605\u001B[0m     \u001B[38;5;28;43mself\u001B[39;49m\u001B[38;5;241;43m.\u001B[39;49m\u001B[43massign_variables\u001B[49m\u001B[43m(\u001B[49m\u001B[43mdata\u001B[49m\u001B[43m,\u001B[49m\u001B[43m \u001B[49m\u001B[43mvariables\u001B[49m\u001B[43m)\u001B[49m\n\u001B[0;32m    607\u001B[0m     \u001B[38;5;28;01mfor\u001B[39;00m var, \u001B[38;5;28mcls\u001B[39m \u001B[38;5;129;01min\u001B[39;00m \u001B[38;5;28mself\u001B[39m\u001B[38;5;241m.\u001B[39m_semantic_mappings\u001B[38;5;241m.\u001B[39mitems():\n\u001B[0;32m    608\u001B[0m \n\u001B[0;32m    609\u001B[0m         \u001B[38;5;66;03m# Create the mapping function\u001B[39;00m\n\u001B[0;32m    610\u001B[0m         map_func \u001B[38;5;241m=\u001B[39m partial(\u001B[38;5;28mcls\u001B[39m\u001B[38;5;241m.\u001B[39mmap, plotter\u001B[38;5;241m=\u001B[39m\u001B[38;5;28mself\u001B[39m)\n",
      "File \u001B[1;32m~\\ENV3\\lib\\site-packages\\seaborn\\_core.py:668\u001B[0m, in \u001B[0;36mVectorPlotter.assign_variables\u001B[1;34m(self, data, variables)\u001B[0m\n\u001B[0;32m    666\u001B[0m \u001B[38;5;28;01melse\u001B[39;00m:\n\u001B[0;32m    667\u001B[0m     \u001B[38;5;28mself\u001B[39m\u001B[38;5;241m.\u001B[39minput_format \u001B[38;5;241m=\u001B[39m \u001B[38;5;124m\"\u001B[39m\u001B[38;5;124mlong\u001B[39m\u001B[38;5;124m\"\u001B[39m\n\u001B[1;32m--> 668\u001B[0m     plot_data, variables \u001B[38;5;241m=\u001B[39m \u001B[38;5;28mself\u001B[39m\u001B[38;5;241m.\u001B[39m_assign_variables_longform(\n\u001B[0;32m    669\u001B[0m         data, \u001B[38;5;241m*\u001B[39m\u001B[38;5;241m*\u001B[39mvariables,\n\u001B[0;32m    670\u001B[0m     )\n\u001B[0;32m    672\u001B[0m \u001B[38;5;28mself\u001B[39m\u001B[38;5;241m.\u001B[39mplot_data \u001B[38;5;241m=\u001B[39m plot_data\n\u001B[0;32m    673\u001B[0m \u001B[38;5;28mself\u001B[39m\u001B[38;5;241m.\u001B[39mvariables \u001B[38;5;241m=\u001B[39m variables\n",
      "File \u001B[1;32m~\\ENV3\\lib\\site-packages\\seaborn\\_core.py:903\u001B[0m, in \u001B[0;36mVectorPlotter._assign_variables_longform\u001B[1;34m(self, data, **kwargs)\u001B[0m\n\u001B[0;32m    898\u001B[0m \u001B[38;5;28;01melif\u001B[39;00m \u001B[38;5;28misinstance\u001B[39m(val, (\u001B[38;5;28mstr\u001B[39m, \u001B[38;5;28mbytes\u001B[39m)):\n\u001B[0;32m    899\u001B[0m \n\u001B[0;32m    900\u001B[0m     \u001B[38;5;66;03m# This looks like a column name but we don't know what it means!\u001B[39;00m\n\u001B[0;32m    902\u001B[0m     err \u001B[38;5;241m=\u001B[39m \u001B[38;5;124mf\u001B[39m\u001B[38;5;124m\"\u001B[39m\u001B[38;5;124mCould not interpret value `\u001B[39m\u001B[38;5;132;01m{\u001B[39;00mval\u001B[38;5;132;01m}\u001B[39;00m\u001B[38;5;124m` for parameter `\u001B[39m\u001B[38;5;132;01m{\u001B[39;00mkey\u001B[38;5;132;01m}\u001B[39;00m\u001B[38;5;124m`\u001B[39m\u001B[38;5;124m\"\u001B[39m\n\u001B[1;32m--> 903\u001B[0m     \u001B[38;5;28;01mraise\u001B[39;00m \u001B[38;5;167;01mValueError\u001B[39;00m(err)\n\u001B[0;32m    905\u001B[0m \u001B[38;5;28;01melse\u001B[39;00m:\n\u001B[0;32m    906\u001B[0m \n\u001B[0;32m    907\u001B[0m     \u001B[38;5;66;03m# Otherwise, assume the value is itself data\u001B[39;00m\n\u001B[0;32m    908\u001B[0m \n\u001B[0;32m    909\u001B[0m     \u001B[38;5;66;03m# Raise when data object is present and a vector can't matched\u001B[39;00m\n\u001B[0;32m    910\u001B[0m     \u001B[38;5;28;01mif\u001B[39;00m \u001B[38;5;28misinstance\u001B[39m(data, pd\u001B[38;5;241m.\u001B[39mDataFrame) \u001B[38;5;129;01mand\u001B[39;00m \u001B[38;5;129;01mnot\u001B[39;00m \u001B[38;5;28misinstance\u001B[39m(val, pd\u001B[38;5;241m.\u001B[39mSeries):\n",
      "\u001B[1;31mValueError\u001B[0m: Could not interpret value `efficiency` for parameter `y`"
     ]
    }
   ],
   "source": [
    "\n",
    "plot_benchmark_by_size(df, size, \"multiprocessing_mergesort\", files, y=\"efficiency\")\n",
    "plt.show()"
   ],
   "metadata": {
    "collapsed": false,
    "pycharm": {
     "name": "#%%\n"
    }
   }
  },
  {
   "cell_type": "code",
   "execution_count": null,
   "outputs": [],
   "source": [
    "# calculate the speedup\n",
    "df_with_speedup['speedup']"
   ],
   "metadata": {
    "collapsed": false,
    "pycharm": {
     "name": "#%%\n"
    }
   }
  },
  {
   "cell_type": "code",
   "execution_count": null,
   "outputs": [],
   "source": [
    "# calculate the efficiency\n",
    "df_with_speedup['efficiency']"
   ],
   "metadata": {
    "collapsed": false,
    "pycharm": {
     "name": "#%%\n"
    }
   }
  },
  {
   "cell_type": "code",
   "execution_count": null,
   "outputs": [],
   "source": [
    "# produce the plots\n",
    "..."
   ],
   "metadata": {
    "collapsed": false,
    "pycharm": {
     "name": "#%%\n"
    }
   }
  },
  {
   "cell_type": "code",
   "execution_count": null,
   "metadata": {
    "pycharm": {
     "name": "#%%\n"
    }
   },
   "outputs": [],
   "source": [
    "def calculate_speedup(size):\n",
    "    tag = \"multiprocessing_mergesort\"\n",
    "    data = []\n",
    "\n",
    "    for file in files:\n",
    "        try:\n",
    "            _data = read_log(file, size=size)\n",
    "            print(f\"Read: {file}\")\n",
    "            data = data + _data\n",
    "        except:\n",
    "            pass\n",
    "\n",
    "    # print data\n",
    "    print(data)\n",
    "\n",
    "    df = pd.DataFrame(data = data, \n",
    "                      columns = [\"processors\", \"time\", \"size\", \"name\", \"tag\"])\n",
    "    # df[\"speedup\"] = df[\"time\"].max()  / df[\"time\"] \n",
    "    print(df[\"time\"])\n",
    "\n",
    "    plot_benchmark_by_size(df, size, tag, files)\n",
    "    plt.show()\n",
    " \n",
    "    # calculate average\n",
    "    avg = pd.DataFrame()\n",
    "    for name in files:\n",
    "        _df = generate_average(df, tag=\"multiprocessing_mergesort\", name=name, size=size)\n",
    "        avg = pd.concat([avg, _df])\n",
    "    print(avg)\n",
    "\n",
    "    # calculate speedup\n",
    "    speedup = pd.DataFrame(avg)\n",
    "    # speedup[\"p\"] = speedup.index.get_level_values(0).astype(float)\n",
    "\n",
    "    frames = []\n",
    "    for name in files:\n",
    "        # select all times with given user name\n",
    "        df = speedup[speedup['name'] == name]\n",
    "        time_for_one_processor = df.query('processors == 1').iat[0, 0]\n",
    "        # calculate speedup by dividing time by time taken using one processor \n",
    "        df['speedup'] = df[\"time\"].rdiv(time_for_one_processor)\n",
    "        frames.append(df)\n",
    "\n",
    "    result = pd.concat(frames)\n",
    "    print(result)\n",
    "\n",
    "    plot_benchmark_by_size(result, size=size, tag=tag, files=files, x=\"processors\", y=\"speedup\")\n",
    "    plt.show()\n",
    "    "
   ]
  },
  {
   "cell_type": "code",
   "execution_count": null,
   "metadata": {
    "pycharm": {
     "name": "#%%\n"
    }
   },
   "outputs": [],
   "source": [
    "calculate_speedup(size)\n"
   ]
  },
  {
   "cell_type": "code",
   "execution_count": null,
   "outputs": [],
   "source": [
    "def calculate_efficiency(size):\n",
    "    tag = \"multiprocessing_mergesort\"\n",
    "    data = []\n",
    "\n",
    "    for file in files:\n",
    "        try:\n",
    "            _data = read_log(file, size=size)\n",
    "            data = data + _data\n",
    "        except:\n",
    "            pass\n",
    "    # print data\n",
    "    print(data)\n",
    "\n",
    "    df = pd.DataFrame(data = data, \n",
    "                      columns = [\"processors\", \"time\", \"size\", \"name\", \"tag\"])\n",
    "    # df[\"speedup\"] = df[\"time\"].max()  / df[\"time\"] \n",
    "    print(df[\"time\"])\n",
    "\n",
    "    plot_benchmark_by_size(df, size, tag, files)\n",
    "    plt.show()\n",
    "\n",
    "    # calculate average\n",
    "    avg = pd.DataFrame()\n",
    "    for name in files:\n",
    "        _df = generate_average(df, tag=\"multiprocessing_mergesort\", name=name, size=size)\n",
    "        avg = pd.concat([avg, _df])\n",
    "    # print(avg)\n",
    "\n",
    "    # calculate speedup\n",
    "    speedup = pd.DataFrame(avg)\n",
    "    # speedup[\"p\"] = speedup.index.get_level_values(0).astype(float)\n",
    "\n",
    "    speedup_frames = []\n",
    "    for name in files:\n",
    "        # select all times with given user name\n",
    "        df = speedup[speedup['name'] == name]\n",
    "        time_for_one_processor = df.query('processors == 1').iat[0, 0]\n",
    "        # calculate speedup by dividing time by time taken using one processor \n",
    "        df['speedup'] = df[\"time\"].rdiv(time_for_one_processor)\n",
    "        speedup_frames.append(df)\n",
    "\n",
    "    result = pd.concat(speedup_frames)\n",
    "    result['p'] = speedup.index.get_level_values(0).astype(float)\n",
    "    result['efficiency'] = result['speedup'] / result['p']\n",
    "    # print(result['efficiency'])\n",
    "\n",
    "    plot_benchmark_by_size(result, size=size, tag=tag, files=files, x=\"processors\", y=\"efficiency\")\n",
    "    plt.show()\n",
    "    "
   ],
   "metadata": {
    "collapsed": false,
    "pycharm": {
     "name": "#%%\n"
    }
   }
  }
 ],
 "metadata": {
  "interpreter": {
   "hash": "485547d5c3fa777a03807ca29d98ba5d53d74ad27ccec228f488c1a95f851b67"
  },
  "kernelspec": {
   "display_name": "Python 3.10.1 ('ENV3')",
   "language": "python",
   "name": "python3"
  },
  "language_info": {
   "codemirror_mode": {
    "name": "ipython",
    "version": 3
   },
   "file_extension": ".py",
   "mimetype": "text/x-python",
   "name": "python",
   "nbconvert_exporter": "python",
   "pygments_lexer": "ipython3",
   "version": "3.10.1"
  },
  "orig_nbformat": 4
 },
 "nbformat": 4,
 "nbformat_minor": 2
}