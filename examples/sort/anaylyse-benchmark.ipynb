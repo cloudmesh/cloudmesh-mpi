{
 "cells": [
  {
   "cell_type": "markdown",
   "metadata": {
    "pycharm": {
     "name": "#%% md\n"
    }
   },
   "source": [
    "my comment"
   ]
  },
  {
   "cell_type": "code",
   "execution_count": 65,
   "metadata": {
    "pycharm": {
     "name": "#%%\n"
    }
   },
   "outputs": [],
   "source": [
    "import matplotlib.pyplot as plt\n",
    "import seaborn as sns\n",
    "import pandas as pd"
   ]
  },
  {
   "cell_type": "code",
   "execution_count": 66,
   "outputs": [],
   "source": [
    "def generate_average(df, tag=None, size=None, name=None):\n",
    "    _df = df.loc[(df['name'] == name) & (df['tag'] == tag) &  (df['size'] == size) ]\n",
    "    avg = _df.groupby(['processors', 'name', 'size', 'tag']).mean()\n",
    "    avg['tag'] = tag\n",
    "    avg['name'] = name\n",
    "    return avg"
   ],
   "metadata": {
    "collapsed": false,
    "pycharm": {
     "name": "#%%\n"
    }
   }
  },
  {
   "cell_type": "code",
   "execution_count": 67,
   "metadata": {
    "pycharm": {
     "name": "#%%\n"
    }
   },
   "outputs": [],
   "source": [
    "def plot_benchmark_by_size(df, size=None, tag=None, files=None, x=\"processors\", y=\"time\"):\n",
    "    names = \"-\".join(files)\n",
    "    sns.lineplot(data=df, x=x, y=y, hue=\"name\");\n",
    "    t = tag.title()\n",
    "    label = f\"{t}, Size={size}\".replace(\"_\", \" \")\n",
    "    plt.title(f\"{label}\")\n",
    "    if \"time\" in y: y = f\"{y}/s\"\n",
    "    if \"time\" in x: x = f\"{x}/s\"\n",
    "    plt.xlabel(x.capitalize())\n",
    "    plt.ylabel(y.capitalize())\n",
    "    plt.savefig(f\"images/by-size-{size}-{tag}-{names}.png\")\n",
    "    plt.savefig(f\"images/by-size-{size}-{tag}-{names}.pdf\")"
   ]
  },
  {
   "cell_type": "code",
   "execution_count": 68,
   "outputs": [],
   "source": [
    "files = [\"alex\", \"gregor\", \"5950x-py3-12-gregor\"] # \"pi4-jp\", \"jp-laptop-jp\"]\n",
    "files = [\"alex\", \"gregor\"]"
   ],
   "metadata": {
    "collapsed": false,
    "pycharm": {
     "name": "#%%\n"
    }
   }
  },
  {
   "cell_type": "code",
   "execution_count": 69,
   "outputs": [],
   "source": [
    "def get_data(content, tag=\"multiprocessing_mergesort\", size=None, log=None):\n",
    "    \"\"\"\n",
    "    TBD\n",
    "\n",
    "    :param content: data output from running mergesort\n",
    "    :type content: string\n",
    "    :return: none\n",
    "    :rtype: none\n",
    "    \"\"\"\n",
    "    found = []\n",
    "    lines = [line for line in content if \"# csv\" in line]\n",
    "\n",
    "    for line in lines[1:]:\n",
    "        entries = line.split(\",\")\n",
    "        entry = [entries[a] for a in [1, 3, 9, 8]]\n",
    "        time = entry[1]\n",
    "        name = f\"{entry[2]}-{entry[3]}\"\n",
    "\n",
    "        processes, size, count = entry[0].split(tag)[1].split(\"_\")[1:]\n",
    "\n",
    "        entry = [\n",
    "            int(processes),\n",
    "            # int(count),\n",
    "            float(time),\n",
    "            int(size),\n",
    "            name,\n",
    "            tag\n",
    "        ]\n",
    "        found.append(entry)\n",
    "        print(entry)\n",
    "    return found"
   ],
   "metadata": {
    "collapsed": false,
    "pycharm": {
     "name": "#%%\n"
    }
   }
  },
  {
   "cell_type": "code",
   "execution_count": 70,
   "outputs": [],
   "source": [
    "def read_log(log, size=None, tag=\"multiprocessing_mergesort\"):\n",
    "    if \".log\" not in log:\n",
    "        log = f\"log/{log}-{size}.log\"\n",
    "    f = open(log, \"r\")\n",
    "    print (\"LLL\", log)\n",
    "    content = f.read().splitlines()\n",
    "    try:\n",
    "        data = get_data(content, tag=tag, size=size, log=log)\n",
    "    except:\n",
    "        print(\"ERROR READING\", log)\n",
    "    return data\n"
   ],
   "metadata": {
    "collapsed": false,
    "pycharm": {
     "name": "#%%\n"
    }
   }
  },
  {
   "cell_type": "code",
   "execution_count": null,
   "outputs": [],
   "source": [
    "def read_logs(files=[\"alex\", \"gregor\"], size =[100], tags=[\"multiprocessing_mergesort\"]):\n",
    "    data = []\n",
    "    for tag in tags:\n",
    "        for file in files:\n",
    "            for s in size:\n",
    "                content = read_log(file, size=s, tag=\"multiprocessing_mergesort\")\n",
    "                data = data + content\n",
    "\n",
    "    return data"
   ],
   "metadata": {
    "collapsed": false,
    "pycharm": {
     "name": "#%%\n"
    }
   }
  },
  {
   "cell_type": "code",
   "execution_count": 71,
   "metadata": {
    "pycharm": {
     "name": "#%%\n"
    }
   },
   "outputs": [],
   "source": [
    "def calculate_speedup(size):\n",
    "    tag = \"multiprocessing_mergesort\"\n",
    "    data = []\n",
    "\n",
    "    for file in files:\n",
    "        try:\n",
    "            _data = read_log(file, size=size)\n",
    "            print(f\"Read: {file}\")\n",
    "            data = data + _data\n",
    "        except:\n",
    "            pass\n",
    "\n",
    "    # print data\n",
    "    print(data)\n",
    "\n",
    "    df = pd.DataFrame(data = data, \n",
    "                      columns = [\"processors\", \"time\", \"size\", \"name\", \"tag\"])\n",
    "    # df[\"speedup\"] = df[\"time\"].max()  / df[\"time\"] \n",
    "    print(df[\"time\"])\n",
    "\n",
    "    plot_benchmark_by_size(df, size, tag, files)\n",
    "    plt.show()\n",
    " \n",
    "    # calculate average\n",
    "    avg = pd.DataFrame()\n",
    "    for name in files:\n",
    "        _df = generate_average(df, tag=\"multiprocessing_mergesort\", name=name, size=size)\n",
    "        avg = pd.concat([avg, _df])\n",
    "    print(avg)\n",
    "\n",
    "    # calculate speedup\n",
    "    speedup = pd.DataFrame(avg)\n",
    "    # speedup[\"p\"] = speedup.index.get_level_values(0).astype(float)\n",
    "\n",
    "    frames = []\n",
    "    for name in files:\n",
    "        # select all times with given user name\n",
    "        df = speedup[speedup['name'] == name]\n",
    "        time_for_one_processor = df.query('processors == 1').iat[0, 0]\n",
    "        # calculate speedup by dividing time by time taken using one processor \n",
    "        df['speedup'] = df[\"time\"].rdiv(time_for_one_processor)\n",
    "        frames.append(df)\n",
    "\n",
    "    result = pd.concat(frames)\n",
    "    print(result)\n",
    "\n",
    "    plot_benchmark_by_size(result, size=size, tag=tag, files=files, x=\"processors\", y=\"speedup\")\n",
    "    plt.show()\n",
    "    "
   ]
  },
  {
   "cell_type": "code",
   "execution_count": 72,
   "metadata": {
    "pycharm": {
     "name": "#%%\n"
    }
   },
   "outputs": [
    {
     "name": "stdout",
     "output_type": "stream",
     "text": [
      "LLL log/alex-10000000.log\n",
      "[12, 21.369, 10000000, 'alex-macbookproi7_2400MHz', 'multiprocessing_mergesort']\n",
      "[11, 20.981, 10000000, 'alex-macbookproi7_2400MHz', 'multiprocessing_mergesort']\n",
      "[10, 21.921, 10000000, 'alex-macbookproi7_2400MHz', 'multiprocessing_mergesort']\n",
      "[9, 22.923, 10000000, 'alex-macbookproi7_2400MHz', 'multiprocessing_mergesort']\n",
      "[8, 19.963, 10000000, 'alex-macbookproi7_2400MHz', 'multiprocessing_mergesort']\n",
      "[7, 19.989, 10000000, 'alex-macbookproi7_2400MHz', 'multiprocessing_mergesort']\n",
      "[6, 20.665, 10000000, 'alex-macbookproi7_2400MHz', 'multiprocessing_mergesort']\n",
      "[5, 22.982, 10000000, 'alex-macbookproi7_2400MHz', 'multiprocessing_mergesort']\n",
      "[4, 23.366, 10000000, 'alex-macbookproi7_2400MHz', 'multiprocessing_mergesort']\n",
      "[3, 28.732, 10000000, 'alex-macbookproi7_2400MHz', 'multiprocessing_mergesort']\n",
      "[2, 37.347, 10000000, 'alex-macbookproi7_2400MHz', 'multiprocessing_mergesort']\n",
      "[1, 68.689, 10000000, 'alex-macbookproi7_2400MHz', 'multiprocessing_mergesort']\n",
      "Read: alex\n",
      "LLL log/gregor-10000000.log\n",
      "[32, 7.318, 10000000, 'gregor-5950x', 'multiprocessing_mergesort']\n",
      "[31, 7.232, 10000000, 'gregor-5950x', 'multiprocessing_mergesort']\n",
      "[30, 7.411, 10000000, 'gregor-5950x', 'multiprocessing_mergesort']\n",
      "[29, 7.414, 10000000, 'gregor-5950x', 'multiprocessing_mergesort']\n",
      "[28, 7.458, 10000000, 'gregor-5950x', 'multiprocessing_mergesort']\n",
      "[27, 7.612, 10000000, 'gregor-5950x', 'multiprocessing_mergesort']\n",
      "[26, 7.861, 10000000, 'gregor-5950x', 'multiprocessing_mergesort']\n",
      "[25, 7.68, 10000000, 'gregor-5950x', 'multiprocessing_mergesort']\n",
      "[24, 7.789, 10000000, 'gregor-5950x', 'multiprocessing_mergesort']\n",
      "[23, 8.049, 10000000, 'gregor-5950x', 'multiprocessing_mergesort']\n",
      "[22, 8.056, 10000000, 'gregor-5950x', 'multiprocessing_mergesort']\n",
      "[21, 8.24, 10000000, 'gregor-5950x', 'multiprocessing_mergesort']\n",
      "[20, 8.369, 10000000, 'gregor-5950x', 'multiprocessing_mergesort']\n",
      "[19, 8.726, 10000000, 'gregor-5950x', 'multiprocessing_mergesort']\n",
      "[18, 9.114, 10000000, 'gregor-5950x', 'multiprocessing_mergesort']\n",
      "[17, 9.413, 10000000, 'gregor-5950x', 'multiprocessing_mergesort']\n",
      "[16, 7.672, 10000000, 'gregor-5950x', 'multiprocessing_mergesort']\n",
      "[15, 7.319, 10000000, 'gregor-5950x', 'multiprocessing_mergesort']\n",
      "[14, 7.815, 10000000, 'gregor-5950x', 'multiprocessing_mergesort']\n",
      "[13, 7.836, 10000000, 'gregor-5950x', 'multiprocessing_mergesort']\n",
      "[12, 8.197, 10000000, 'gregor-5950x', 'multiprocessing_mergesort']\n",
      "[11, 8.598, 10000000, 'gregor-5950x', 'multiprocessing_mergesort']\n",
      "[10, 9.162, 10000000, 'gregor-5950x', 'multiprocessing_mergesort']\n",
      "[9, 9.825, 10000000, 'gregor-5950x', 'multiprocessing_mergesort']\n",
      "[8, 8.608, 10000000, 'gregor-5950x', 'multiprocessing_mergesort']\n",
      "[7, 9.489, 10000000, 'gregor-5950x', 'multiprocessing_mergesort']\n",
      "[6, 10.585, 10000000, 'gregor-5950x', 'multiprocessing_mergesort']\n",
      "[5, 12.434, 10000000, 'gregor-5950x', 'multiprocessing_mergesort']\n",
      "[4, 12.992, 10000000, 'gregor-5950x', 'multiprocessing_mergesort']\n",
      "[3, 16.364, 10000000, 'gregor-5950x', 'multiprocessing_mergesort']\n",
      "[2, 21.622, 10000000, 'gregor-5950x', 'multiprocessing_mergesort']\n",
      "[1, 53.127, 10000000, 'gregor-5950x', 'multiprocessing_mergesort']\n",
      "Read: gregor\n",
      "[[12, 21.369, 10000000, 'alex-macbookproi7_2400MHz', 'multiprocessing_mergesort'], [11, 20.981, 10000000, 'alex-macbookproi7_2400MHz', 'multiprocessing_mergesort'], [10, 21.921, 10000000, 'alex-macbookproi7_2400MHz', 'multiprocessing_mergesort'], [9, 22.923, 10000000, 'alex-macbookproi7_2400MHz', 'multiprocessing_mergesort'], [8, 19.963, 10000000, 'alex-macbookproi7_2400MHz', 'multiprocessing_mergesort'], [7, 19.989, 10000000, 'alex-macbookproi7_2400MHz', 'multiprocessing_mergesort'], [6, 20.665, 10000000, 'alex-macbookproi7_2400MHz', 'multiprocessing_mergesort'], [5, 22.982, 10000000, 'alex-macbookproi7_2400MHz', 'multiprocessing_mergesort'], [4, 23.366, 10000000, 'alex-macbookproi7_2400MHz', 'multiprocessing_mergesort'], [3, 28.732, 10000000, 'alex-macbookproi7_2400MHz', 'multiprocessing_mergesort'], [2, 37.347, 10000000, 'alex-macbookproi7_2400MHz', 'multiprocessing_mergesort'], [1, 68.689, 10000000, 'alex-macbookproi7_2400MHz', 'multiprocessing_mergesort'], [32, 7.318, 10000000, 'gregor-5950x', 'multiprocessing_mergesort'], [31, 7.232, 10000000, 'gregor-5950x', 'multiprocessing_mergesort'], [30, 7.411, 10000000, 'gregor-5950x', 'multiprocessing_mergesort'], [29, 7.414, 10000000, 'gregor-5950x', 'multiprocessing_mergesort'], [28, 7.458, 10000000, 'gregor-5950x', 'multiprocessing_mergesort'], [27, 7.612, 10000000, 'gregor-5950x', 'multiprocessing_mergesort'], [26, 7.861, 10000000, 'gregor-5950x', 'multiprocessing_mergesort'], [25, 7.68, 10000000, 'gregor-5950x', 'multiprocessing_mergesort'], [24, 7.789, 10000000, 'gregor-5950x', 'multiprocessing_mergesort'], [23, 8.049, 10000000, 'gregor-5950x', 'multiprocessing_mergesort'], [22, 8.056, 10000000, 'gregor-5950x', 'multiprocessing_mergesort'], [21, 8.24, 10000000, 'gregor-5950x', 'multiprocessing_mergesort'], [20, 8.369, 10000000, 'gregor-5950x', 'multiprocessing_mergesort'], [19, 8.726, 10000000, 'gregor-5950x', 'multiprocessing_mergesort'], [18, 9.114, 10000000, 'gregor-5950x', 'multiprocessing_mergesort'], [17, 9.413, 10000000, 'gregor-5950x', 'multiprocessing_mergesort'], [16, 7.672, 10000000, 'gregor-5950x', 'multiprocessing_mergesort'], [15, 7.319, 10000000, 'gregor-5950x', 'multiprocessing_mergesort'], [14, 7.815, 10000000, 'gregor-5950x', 'multiprocessing_mergesort'], [13, 7.836, 10000000, 'gregor-5950x', 'multiprocessing_mergesort'], [12, 8.197, 10000000, 'gregor-5950x', 'multiprocessing_mergesort'], [11, 8.598, 10000000, 'gregor-5950x', 'multiprocessing_mergesort'], [10, 9.162, 10000000, 'gregor-5950x', 'multiprocessing_mergesort'], [9, 9.825, 10000000, 'gregor-5950x', 'multiprocessing_mergesort'], [8, 8.608, 10000000, 'gregor-5950x', 'multiprocessing_mergesort'], [7, 9.489, 10000000, 'gregor-5950x', 'multiprocessing_mergesort'], [6, 10.585, 10000000, 'gregor-5950x', 'multiprocessing_mergesort'], [5, 12.434, 10000000, 'gregor-5950x', 'multiprocessing_mergesort'], [4, 12.992, 10000000, 'gregor-5950x', 'multiprocessing_mergesort'], [3, 16.364, 10000000, 'gregor-5950x', 'multiprocessing_mergesort'], [2, 21.622, 10000000, 'gregor-5950x', 'multiprocessing_mergesort'], [1, 53.127, 10000000, 'gregor-5950x', 'multiprocessing_mergesort']]\n",
      "0     21.369\n",
      "1     20.981\n",
      "2     21.921\n",
      "3     22.923\n",
      "4     19.963\n",
      "5     19.989\n",
      "6     20.665\n",
      "7     22.982\n",
      "8     23.366\n",
      "9     28.732\n",
      "10    37.347\n",
      "11    68.689\n",
      "12     7.318\n",
      "13     7.232\n",
      "14     7.411\n",
      "15     7.414\n",
      "16     7.458\n",
      "17     7.612\n",
      "18     7.861\n",
      "19     7.680\n",
      "20     7.789\n",
      "21     8.049\n",
      "22     8.056\n",
      "23     8.240\n",
      "24     8.369\n",
      "25     8.726\n",
      "26     9.114\n",
      "27     9.413\n",
      "28     7.672\n",
      "29     7.319\n",
      "30     7.815\n",
      "31     7.836\n",
      "32     8.197\n",
      "33     8.598\n",
      "34     9.162\n",
      "35     9.825\n",
      "36     8.608\n",
      "37     9.489\n",
      "38    10.585\n",
      "39    12.434\n",
      "40    12.992\n",
      "41    16.364\n",
      "42    21.622\n",
      "43    53.127\n",
      "Name: time, dtype: float64\n"
     ]
    },
    {
     "data": {
      "text/plain": "<Figure size 432x288 with 1 Axes>",
      "image/png": "[encoded data removed]"
     },
     "metadata": {},
     "output_type": "display_data"
    },
    {
     "name": "stdout",
     "output_type": "stream",
     "text": [
      "Empty DataFrame\n",
      "Columns: [time, tag, name]\n",
      "Index: []\n"
     ]
    },
    {
     "ename": "IndexError",
     "evalue": "index 0 is out of bounds for axis 0 with size 0",
     "output_type": "error",
     "traceback": [
      "\u001B[0;31m---------------------------------------------------------------------------\u001B[0m",
      "\u001B[0;31mIndexError\u001B[0m                                Traceback (most recent call last)",
      "Input \u001B[0;32mIn [72]\u001B[0m, in \u001B[0;36m<cell line: 2>\u001B[0;34m()\u001B[0m\n\u001B[1;32m      1\u001B[0m size \u001B[38;5;241m=\u001B[39m \u001B[38;5;241m10000000\u001B[39m\n\u001B[0;32m----> 2\u001B[0m \u001B[43mcalculate_speedup\u001B[49m\u001B[43m(\u001B[49m\u001B[43msize\u001B[49m\u001B[43m)\u001B[49m\n",
      "Input \u001B[0;32mIn [71]\u001B[0m, in \u001B[0;36mcalculate_speedup\u001B[0;34m(size)\u001B[0m\n\u001B[1;32m     36\u001B[0m \u001B[38;5;28;01mfor\u001B[39;00m name \u001B[38;5;129;01min\u001B[39;00m files:\n\u001B[1;32m     37\u001B[0m     \u001B[38;5;66;03m# select all times with given user name\u001B[39;00m\n\u001B[1;32m     38\u001B[0m     df \u001B[38;5;241m=\u001B[39m speedup[speedup[\u001B[38;5;124m'\u001B[39m\u001B[38;5;124mname\u001B[39m\u001B[38;5;124m'\u001B[39m] \u001B[38;5;241m==\u001B[39m name]\n\u001B[0;32m---> 39\u001B[0m     time_for_one_processor \u001B[38;5;241m=\u001B[39m \u001B[43mdf\u001B[49m\u001B[38;5;241;43m.\u001B[39;49m\u001B[43mquery\u001B[49m\u001B[43m(\u001B[49m\u001B[38;5;124;43m'\u001B[39;49m\u001B[38;5;124;43mprocessors == 1\u001B[39;49m\u001B[38;5;124;43m'\u001B[39;49m\u001B[43m)\u001B[49m\u001B[38;5;241;43m.\u001B[39;49m\u001B[43miat\u001B[49m\u001B[43m[\u001B[49m\u001B[38;5;241;43m0\u001B[39;49m\u001B[43m,\u001B[49m\u001B[43m \u001B[49m\u001B[38;5;241;43m0\u001B[39;49m\u001B[43m]\u001B[49m\n\u001B[1;32m     40\u001B[0m     \u001B[38;5;66;03m# calculate speedup by dividing time by time taken using one processor \u001B[39;00m\n\u001B[1;32m     41\u001B[0m     df[\u001B[38;5;124m'\u001B[39m\u001B[38;5;124mspeedup\u001B[39m\u001B[38;5;124m'\u001B[39m] \u001B[38;5;241m=\u001B[39m df[\u001B[38;5;124m\"\u001B[39m\u001B[38;5;124mtime\u001B[39m\u001B[38;5;124m\"\u001B[39m]\u001B[38;5;241m.\u001B[39mrdiv(time_for_one_processor)\n",
      "File \u001B[0;32m~/ENV3/lib/python3.10/site-packages/pandas/core/indexing.py:2221\u001B[0m, in \u001B[0;36m_ScalarAccessIndexer.__getitem__\u001B[0;34m(self, key)\u001B[0m\n\u001B[1;32m   2218\u001B[0m         \u001B[38;5;28;01mraise\u001B[39;00m \u001B[38;5;167;01mValueError\u001B[39;00m(\u001B[38;5;124m\"\u001B[39m\u001B[38;5;124mInvalid call for scalar access (getting)!\u001B[39m\u001B[38;5;124m\"\u001B[39m)\n\u001B[1;32m   2220\u001B[0m key \u001B[38;5;241m=\u001B[39m \u001B[38;5;28mself\u001B[39m\u001B[38;5;241m.\u001B[39m_convert_key(key)\n\u001B[0;32m-> 2221\u001B[0m \u001B[38;5;28;01mreturn\u001B[39;00m \u001B[38;5;28;43mself\u001B[39;49m\u001B[38;5;241;43m.\u001B[39;49m\u001B[43mobj\u001B[49m\u001B[38;5;241;43m.\u001B[39;49m\u001B[43m_get_value\u001B[49m\u001B[43m(\u001B[49m\u001B[38;5;241;43m*\u001B[39;49m\u001B[43mkey\u001B[49m\u001B[43m,\u001B[49m\u001B[43m \u001B[49m\u001B[43mtakeable\u001B[49m\u001B[38;5;241;43m=\u001B[39;49m\u001B[38;5;28;43mself\u001B[39;49m\u001B[38;5;241;43m.\u001B[39;49m\u001B[43m_takeable\u001B[49m\u001B[43m)\u001B[49m\n",
      "File \u001B[0;32m~/ENV3/lib/python3.10/site-packages/pandas/core/frame.py:3613\u001B[0m, in \u001B[0;36mDataFrame._get_value\u001B[0;34m(self, index, col, takeable)\u001B[0m\n\u001B[1;32m   3611\u001B[0m \u001B[38;5;28;01mif\u001B[39;00m takeable:\n\u001B[1;32m   3612\u001B[0m     series \u001B[38;5;241m=\u001B[39m \u001B[38;5;28mself\u001B[39m\u001B[38;5;241m.\u001B[39m_ixs(col, axis\u001B[38;5;241m=\u001B[39m\u001B[38;5;241m1\u001B[39m)\n\u001B[0;32m-> 3613\u001B[0m     \u001B[38;5;28;01mreturn\u001B[39;00m \u001B[43mseries\u001B[49m\u001B[38;5;241;43m.\u001B[39;49m\u001B[43m_values\u001B[49m\u001B[43m[\u001B[49m\u001B[43mindex\u001B[49m\u001B[43m]\u001B[49m\n\u001B[1;32m   3615\u001B[0m series \u001B[38;5;241m=\u001B[39m \u001B[38;5;28mself\u001B[39m\u001B[38;5;241m.\u001B[39m_get_item_cache(col)\n\u001B[1;32m   3616\u001B[0m engine \u001B[38;5;241m=\u001B[39m \u001B[38;5;28mself\u001B[39m\u001B[38;5;241m.\u001B[39mindex\u001B[38;5;241m.\u001B[39m_engine\n",
      "\u001B[0;31mIndexError\u001B[0m: index 0 is out of bounds for axis 0 with size 0"
     ]
    }
   ],
   "source": [
    "size = 10000000\n",
    "calculate_speedup(size)\n"
   ]
  },
  {
   "cell_type": "code",
   "execution_count": 73,
   "metadata": {
    "pycharm": {
     "name": "#%%\n"
    }
   },
   "outputs": [],
   "source": [
    "def calculate_efficiency(size):\n",
    "    tag = \"multiprocessing_mergesort\"\n",
    "    data = []\n",
    "\n",
    "    for file in files:\n",
    "        try:\n",
    "            _data = read_log(file, size=size)\n",
    "            data = data + _data\n",
    "        except:\n",
    "            pass\n",
    "    # print data\n",
    "    print(data)\n",
    "\n",
    "    df = pd.DataFrame(data = data, \n",
    "                      columns = [\"processors\", \"time\", \"size\", \"name\", \"tag\"])\n",
    "    # df[\"speedup\"] = df[\"time\"].max()  / df[\"time\"] \n",
    "    print(df[\"time\"])\n",
    "\n",
    "    plot_benchmark_by_size(df, size, tag, files)\n",
    "    plt.show()\n",
    "\n",
    "    # calculate average\n",
    "    avg = pd.DataFrame()\n",
    "    for name in files:\n",
    "        _df = generate_average(df, tag=\"multiprocessing_mergesort\", name=name, size=size)\n",
    "        avg = pd.concat([avg, _df])\n",
    "    # print(avg)\n",
    "\n",
    "    # calculate speedup\n",
    "    speedup = pd.DataFrame(avg)\n",
    "    # speedup[\"p\"] = speedup.index.get_level_values(0).astype(float)\n",
    "\n",
    "    speedup_frames = []\n",
    "    for name in files:\n",
    "        # select all times with given user name\n",
    "        df = speedup[speedup['name'] == name]\n",
    "        time_for_one_processor = df.query('processors == 1').iat[0, 0]\n",
    "        # calculate speedup by dividing time by time taken using one processor \n",
    "        df['speedup'] = df[\"time\"].rdiv(time_for_one_processor)\n",
    "        speedup_frames.append(df)\n",
    "\n",
    "    result = pd.concat(speedup_frames)\n",
    "    result['p'] = speedup.index.get_level_values(0).astype(float)\n",
    "    result['efficiency'] = result['speedup'] / result['p']\n",
    "    # print(result['efficiency'])\n",
    "\n",
    "    plot_benchmark_by_size(result, size=size, tag=tag, files=files, x=\"processors\", y=\"efficiency\")\n",
    "    plt.show()\n",
    "    "
   ]
  },
  {
   "cell_type": "code",
   "execution_count": 74,
   "metadata": {
    "pycharm": {
     "name": "#%%\n"
    }
   },
   "outputs": [
    {
     "name": "stdout",
     "output_type": "stream",
     "text": [
      "LLL log/alex-10000000.log\n",
      "[12, 21.369, 10000000, 'alex-macbookproi7_2400MHz', 'multiprocessing_mergesort']\n",
      "[11, 20.981, 10000000, 'alex-macbookproi7_2400MHz', 'multiprocessing_mergesort']\n",
      "[10, 21.921, 10000000, 'alex-macbookproi7_2400MHz', 'multiprocessing_mergesort']\n",
      "[9, 22.923, 10000000, 'alex-macbookproi7_2400MHz', 'multiprocessing_mergesort']\n",
      "[8, 19.963, 10000000, 'alex-macbookproi7_2400MHz', 'multiprocessing_mergesort']\n",
      "[7, 19.989, 10000000, 'alex-macbookproi7_2400MHz', 'multiprocessing_mergesort']\n",
      "[6, 20.665, 10000000, 'alex-macbookproi7_2400MHz', 'multiprocessing_mergesort']\n",
      "[5, 22.982, 10000000, 'alex-macbookproi7_2400MHz', 'multiprocessing_mergesort']\n",
      "[4, 23.366, 10000000, 'alex-macbookproi7_2400MHz', 'multiprocessing_mergesort']\n",
      "[3, 28.732, 10000000, 'alex-macbookproi7_2400MHz', 'multiprocessing_mergesort']\n",
      "[2, 37.347, 10000000, 'alex-macbookproi7_2400MHz', 'multiprocessing_mergesort']\n",
      "[1, 68.689, 10000000, 'alex-macbookproi7_2400MHz', 'multiprocessing_mergesort']\n",
      "LLL log/gregor-10000000.log\n",
      "[32, 7.318, 10000000, 'gregor-5950x', 'multiprocessing_mergesort']\n",
      "[31, 7.232, 10000000, 'gregor-5950x', 'multiprocessing_mergesort']\n",
      "[30, 7.411, 10000000, 'gregor-5950x', 'multiprocessing_mergesort']\n",
      "[29, 7.414, 10000000, 'gregor-5950x', 'multiprocessing_mergesort']\n",
      "[28, 7.458, 10000000, 'gregor-5950x', 'multiprocessing_mergesort']\n",
      "[27, 7.612, 10000000, 'gregor-5950x', 'multiprocessing_mergesort']\n",
      "[26, 7.861, 10000000, 'gregor-5950x', 'multiprocessing_mergesort']\n",
      "[25, 7.68, 10000000, 'gregor-5950x', 'multiprocessing_mergesort']\n",
      "[24, 7.789, 10000000, 'gregor-5950x', 'multiprocessing_mergesort']\n",
      "[23, 8.049, 10000000, 'gregor-5950x', 'multiprocessing_mergesort']\n",
      "[22, 8.056, 10000000, 'gregor-5950x', 'multiprocessing_mergesort']\n",
      "[21, 8.24, 10000000, 'gregor-5950x', 'multiprocessing_mergesort']\n",
      "[20, 8.369, 10000000, 'gregor-5950x', 'multiprocessing_mergesort']\n",
      "[19, 8.726, 10000000, 'gregor-5950x', 'multiprocessing_mergesort']\n",
      "[18, 9.114, 10000000, 'gregor-5950x', 'multiprocessing_mergesort']\n",
      "[17, 9.413, 10000000, 'gregor-5950x', 'multiprocessing_mergesort']\n",
      "[16, 7.672, 10000000, 'gregor-5950x', 'multiprocessing_mergesort']\n",
      "[15, 7.319, 10000000, 'gregor-5950x', 'multiprocessing_mergesort']\n",
      "[14, 7.815, 10000000, 'gregor-5950x', 'multiprocessing_mergesort']\n",
      "[13, 7.836, 10000000, 'gregor-5950x', 'multiprocessing_mergesort']\n",
      "[12, 8.197, 10000000, 'gregor-5950x', 'multiprocessing_mergesort']\n",
      "[11, 8.598, 10000000, 'gregor-5950x', 'multiprocessing_mergesort']\n",
      "[10, 9.162, 10000000, 'gregor-5950x', 'multiprocessing_mergesort']\n",
      "[9, 9.825, 10000000, 'gregor-5950x', 'multiprocessing_mergesort']\n",
      "[8, 8.608, 10000000, 'gregor-5950x', 'multiprocessing_mergesort']\n",
      "[7, 9.489, 10000000, 'gregor-5950x', 'multiprocessing_mergesort']\n",
      "[6, 10.585, 10000000, 'gregor-5950x', 'multiprocessing_mergesort']\n",
      "[5, 12.434, 10000000, 'gregor-5950x', 'multiprocessing_mergesort']\n",
      "[4, 12.992, 10000000, 'gregor-5950x', 'multiprocessing_mergesort']\n",
      "[3, 16.364, 10000000, 'gregor-5950x', 'multiprocessing_mergesort']\n",
      "[2, 21.622, 10000000, 'gregor-5950x', 'multiprocessing_mergesort']\n",
      "[1, 53.127, 10000000, 'gregor-5950x', 'multiprocessing_mergesort']\n",
      "[[12, 21.369, 10000000, 'alex-macbookproi7_2400MHz', 'multiprocessing_mergesort'], [11, 20.981, 10000000, 'alex-macbookproi7_2400MHz', 'multiprocessing_mergesort'], [10, 21.921, 10000000, 'alex-macbookproi7_2400MHz', 'multiprocessing_mergesort'], [9, 22.923, 10000000, 'alex-macbookproi7_2400MHz', 'multiprocessing_mergesort'], [8, 19.963, 10000000, 'alex-macbookproi7_2400MHz', 'multiprocessing_mergesort'], [7, 19.989, 10000000, 'alex-macbookproi7_2400MHz', 'multiprocessing_mergesort'], [6, 20.665, 10000000, 'alex-macbookproi7_2400MHz', 'multiprocessing_mergesort'], [5, 22.982, 10000000, 'alex-macbookproi7_2400MHz', 'multiprocessing_mergesort'], [4, 23.366, 10000000, 'alex-macbookproi7_2400MHz', 'multiprocessing_mergesort'], [3, 28.732, 10000000, 'alex-macbookproi7_2400MHz', 'multiprocessing_mergesort'], [2, 37.347, 10000000, 'alex-macbookproi7_2400MHz', 'multiprocessing_mergesort'], [1, 68.689, 10000000, 'alex-macbookproi7_2400MHz', 'multiprocessing_mergesort'], [32, 7.318, 10000000, 'gregor-5950x', 'multiprocessing_mergesort'], [31, 7.232, 10000000, 'gregor-5950x', 'multiprocessing_mergesort'], [30, 7.411, 10000000, 'gregor-5950x', 'multiprocessing_mergesort'], [29, 7.414, 10000000, 'gregor-5950x', 'multiprocessing_mergesort'], [28, 7.458, 10000000, 'gregor-5950x', 'multiprocessing_mergesort'], [27, 7.612, 10000000, 'gregor-5950x', 'multiprocessing_mergesort'], [26, 7.861, 10000000, 'gregor-5950x', 'multiprocessing_mergesort'], [25, 7.68, 10000000, 'gregor-5950x', 'multiprocessing_mergesort'], [24, 7.789, 10000000, 'gregor-5950x', 'multiprocessing_mergesort'], [23, 8.049, 10000000, 'gregor-5950x', 'multiprocessing_mergesort'], [22, 8.056, 10000000, 'gregor-5950x', 'multiprocessing_mergesort'], [21, 8.24, 10000000, 'gregor-5950x', 'multiprocessing_mergesort'], [20, 8.369, 10000000, 'gregor-5950x', 'multiprocessing_mergesort'], [19, 8.726, 10000000, 'gregor-5950x', 'multiprocessing_mergesort'], [18, 9.114, 10000000, 'gregor-5950x', 'multiprocessing_mergesort'], [17, 9.413, 10000000, 'gregor-5950x', 'multiprocessing_mergesort'], [16, 7.672, 10000000, 'gregor-5950x', 'multiprocessing_mergesort'], [15, 7.319, 10000000, 'gregor-5950x', 'multiprocessing_mergesort'], [14, 7.815, 10000000, 'gregor-5950x', 'multiprocessing_mergesort'], [13, 7.836, 10000000, 'gregor-5950x', 'multiprocessing_mergesort'], [12, 8.197, 10000000, 'gregor-5950x', 'multiprocessing_mergesort'], [11, 8.598, 10000000, 'gregor-5950x', 'multiprocessing_mergesort'], [10, 9.162, 10000000, 'gregor-5950x', 'multiprocessing_mergesort'], [9, 9.825, 10000000, 'gregor-5950x', 'multiprocessing_mergesort'], [8, 8.608, 10000000, 'gregor-5950x', 'multiprocessing_mergesort'], [7, 9.489, 10000000, 'gregor-5950x', 'multiprocessing_mergesort'], [6, 10.585, 10000000, 'gregor-5950x', 'multiprocessing_mergesort'], [5, 12.434, 10000000, 'gregor-5950x', 'multiprocessing_mergesort'], [4, 12.992, 10000000, 'gregor-5950x', 'multiprocessing_mergesort'], [3, 16.364, 10000000, 'gregor-5950x', 'multiprocessing_mergesort'], [2, 21.622, 10000000, 'gregor-5950x', 'multiprocessing_mergesort'], [1, 53.127, 10000000, 'gregor-5950x', 'multiprocessing_mergesort']]\n",
      "0     21.369\n",
      "1     20.981\n",
      "2     21.921\n",
      "3     22.923\n",
      "4     19.963\n",
      "5     19.989\n",
      "6     20.665\n",
      "7     22.982\n",
      "8     23.366\n",
      "9     28.732\n",
      "10    37.347\n",
      "11    68.689\n",
      "12     7.318\n",
      "13     7.232\n",
      "14     7.411\n",
      "15     7.414\n",
      "16     7.458\n",
      "17     7.612\n",
      "18     7.861\n",
      "19     7.680\n",
      "20     7.789\n",
      "21     8.049\n",
      "22     8.056\n",
      "23     8.240\n",
      "24     8.369\n",
      "25     8.726\n",
      "26     9.114\n",
      "27     9.413\n",
      "28     7.672\n",
      "29     7.319\n",
      "30     7.815\n",
      "31     7.836\n",
      "32     8.197\n",
      "33     8.598\n",
      "34     9.162\n",
      "35     9.825\n",
      "36     8.608\n",
      "37     9.489\n",
      "38    10.585\n",
      "39    12.434\n",
      "40    12.992\n",
      "41    16.364\n",
      "42    21.622\n",
      "43    53.127\n",
      "Name: time, dtype: float64\n"
     ]
    },
    {
     "data": {
      "text/plain": "<Figure size 432x288 with 1 Axes>",
      "image/png": "[encoded data removed]"
     },
     "metadata": {},
     "output_type": "display_data"
    },
    {
     "ename": "IndexError",
     "evalue": "index 0 is out of bounds for axis 0 with size 0",
     "output_type": "error",
     "traceback": [
      "\u001B[0;31m---------------------------------------------------------------------------\u001B[0m",
      "\u001B[0;31mIndexError\u001B[0m                                Traceback (most recent call last)",
      "Input \u001B[0;32mIn [74]\u001B[0m, in \u001B[0;36m<cell line: 2>\u001B[0;34m()\u001B[0m\n\u001B[1;32m      1\u001B[0m size \u001B[38;5;241m=\u001B[39m \u001B[38;5;241m10000000\u001B[39m\n\u001B[0;32m----> 2\u001B[0m \u001B[43mcalculate_efficiency\u001B[49m\u001B[43m(\u001B[49m\u001B[43msize\u001B[49m\u001B[43m)\u001B[49m\n",
      "Input \u001B[0;32mIn [73]\u001B[0m, in \u001B[0;36mcalculate_efficiency\u001B[0;34m(size)\u001B[0m\n\u001B[1;32m     34\u001B[0m \u001B[38;5;28;01mfor\u001B[39;00m name \u001B[38;5;129;01min\u001B[39;00m files:\n\u001B[1;32m     35\u001B[0m     \u001B[38;5;66;03m# select all times with given user name\u001B[39;00m\n\u001B[1;32m     36\u001B[0m     df \u001B[38;5;241m=\u001B[39m speedup[speedup[\u001B[38;5;124m'\u001B[39m\u001B[38;5;124mname\u001B[39m\u001B[38;5;124m'\u001B[39m] \u001B[38;5;241m==\u001B[39m name]\n\u001B[0;32m---> 37\u001B[0m     time_for_one_processor \u001B[38;5;241m=\u001B[39m \u001B[43mdf\u001B[49m\u001B[38;5;241;43m.\u001B[39;49m\u001B[43mquery\u001B[49m\u001B[43m(\u001B[49m\u001B[38;5;124;43m'\u001B[39;49m\u001B[38;5;124;43mprocessors == 1\u001B[39;49m\u001B[38;5;124;43m'\u001B[39;49m\u001B[43m)\u001B[49m\u001B[38;5;241;43m.\u001B[39;49m\u001B[43miat\u001B[49m\u001B[43m[\u001B[49m\u001B[38;5;241;43m0\u001B[39;49m\u001B[43m,\u001B[49m\u001B[43m \u001B[49m\u001B[38;5;241;43m0\u001B[39;49m\u001B[43m]\u001B[49m\n\u001B[1;32m     38\u001B[0m     \u001B[38;5;66;03m# calculate speedup by dividing time by time taken using one processor \u001B[39;00m\n\u001B[1;32m     39\u001B[0m     df[\u001B[38;5;124m'\u001B[39m\u001B[38;5;124mspeedup\u001B[39m\u001B[38;5;124m'\u001B[39m] \u001B[38;5;241m=\u001B[39m df[\u001B[38;5;124m\"\u001B[39m\u001B[38;5;124mtime\u001B[39m\u001B[38;5;124m\"\u001B[39m]\u001B[38;5;241m.\u001B[39mrdiv(time_for_one_processor)\n",
      "File \u001B[0;32m~/ENV3/lib/python3.10/site-packages/pandas/core/indexing.py:2221\u001B[0m, in \u001B[0;36m_ScalarAccessIndexer.__getitem__\u001B[0;34m(self, key)\u001B[0m\n\u001B[1;32m   2218\u001B[0m         \u001B[38;5;28;01mraise\u001B[39;00m \u001B[38;5;167;01mValueError\u001B[39;00m(\u001B[38;5;124m\"\u001B[39m\u001B[38;5;124mInvalid call for scalar access (getting)!\u001B[39m\u001B[38;5;124m\"\u001B[39m)\n\u001B[1;32m   2220\u001B[0m key \u001B[38;5;241m=\u001B[39m \u001B[38;5;28mself\u001B[39m\u001B[38;5;241m.\u001B[39m_convert_key(key)\n\u001B[0;32m-> 2221\u001B[0m \u001B[38;5;28;01mreturn\u001B[39;00m \u001B[38;5;28;43mself\u001B[39;49m\u001B[38;5;241;43m.\u001B[39;49m\u001B[43mobj\u001B[49m\u001B[38;5;241;43m.\u001B[39;49m\u001B[43m_get_value\u001B[49m\u001B[43m(\u001B[49m\u001B[38;5;241;43m*\u001B[39;49m\u001B[43mkey\u001B[49m\u001B[43m,\u001B[49m\u001B[43m \u001B[49m\u001B[43mtakeable\u001B[49m\u001B[38;5;241;43m=\u001B[39;49m\u001B[38;5;28;43mself\u001B[39;49m\u001B[38;5;241;43m.\u001B[39;49m\u001B[43m_takeable\u001B[49m\u001B[43m)\u001B[49m\n",
      "File \u001B[0;32m~/ENV3/lib/python3.10/site-packages/pandas/core/frame.py:3613\u001B[0m, in \u001B[0;36mDataFrame._get_value\u001B[0;34m(self, index, col, takeable)\u001B[0m\n\u001B[1;32m   3611\u001B[0m \u001B[38;5;28;01mif\u001B[39;00m takeable:\n\u001B[1;32m   3612\u001B[0m     series \u001B[38;5;241m=\u001B[39m \u001B[38;5;28mself\u001B[39m\u001B[38;5;241m.\u001B[39m_ixs(col, axis\u001B[38;5;241m=\u001B[39m\u001B[38;5;241m1\u001B[39m)\n\u001B[0;32m-> 3613\u001B[0m     \u001B[38;5;28;01mreturn\u001B[39;00m \u001B[43mseries\u001B[49m\u001B[38;5;241;43m.\u001B[39;49m\u001B[43m_values\u001B[49m\u001B[43m[\u001B[49m\u001B[43mindex\u001B[49m\u001B[43m]\u001B[49m\n\u001B[1;32m   3615\u001B[0m series \u001B[38;5;241m=\u001B[39m \u001B[38;5;28mself\u001B[39m\u001B[38;5;241m.\u001B[39m_get_item_cache(col)\n\u001B[1;32m   3616\u001B[0m engine \u001B[38;5;241m=\u001B[39m \u001B[38;5;28mself\u001B[39m\u001B[38;5;241m.\u001B[39mindex\u001B[38;5;241m.\u001B[39m_engine\n",
      "\u001B[0;31mIndexError\u001B[0m: index 0 is out of bounds for axis 0 with size 0"
     ]
    }
   ],
   "source": [
    "size = 10000000\n",
    "calculate_efficiency(size)"
   ]
  },
  {
   "cell_type": "markdown",
   "source": [],
   "metadata": {
    "collapsed": false,
    "pycharm": {
     "name": "#%% md\n"
    }
   }
  },
  {
   "cell_type": "code",
   "execution_count": null,
   "outputs": [],
   "source": [],
   "metadata": {
    "collapsed": false,
    "pycharm": {
     "name": "#%%\n"
    }
   }
  }
 ],
 "metadata": {
  "interpreter": {
   "hash": "485547d5c3fa777a03807ca29d98ba5d53d74ad27ccec228f488c1a95f851b67"
  },
  "kernelspec": {
   "display_name": "Python 3.10.1 ('ENV3')",
   "language": "python",
   "name": "python3"
  },
  "language_info": {
   "codemirror_mode": {
    "name": "ipython",
    "version": 3
   },
   "file_extension": ".py",
   "mimetype": "text/x-python",
   "name": "python",
   "nbconvert_exporter": "python",
   "pygments_lexer": "ipython3",
   "version": "3.10.1"
  },
  "orig_nbformat": 4
 },
 "nbformat": 4,
 "nbformat_minor": 2
}