{
 "cells": [
  {
   "cell_type": "code",
   "execution_count": 1,
   "metadata": {},
   "outputs": [],
   "source": [
    "import matplotlib.pyplot as plt\n",
    "import seaborn as sns\n",
    "import pandas as pd\n",
    "\n",
    "from analysis import get_data\n",
    "from analysis import read_log, read_logs\n",
    "from analysis import generate_average"
   ]
  },
  {
   "cell_type": "code",
   "execution_count": 2,
   "metadata": {},
   "outputs": [],
   "source": [
    "sizes = [100, 1000, 10000, 100000, 1000000, 10000000]"
   ]
  },
  {
   "cell_type": "code",
   "execution_count": 72,
   "metadata": {},
   "outputs": [],
   "source": [
    "def plot_benchmark_by_size(df, hue_value, size=None, tag=None, files=None, x=\"sizes\", y=\"time\"):\n",
    "    names = \"-\".join(files)\n",
    "    sns.lineplot(data=df, x=x, y=y, hue=\"id\");\n",
    "    t = tag.title()\n",
    "    label = f\"{t}\".replace(\"_\", \" \")\n",
    "    plt.title(f\"{label}\")\n",
    "    if \"time\" in y: y = f\"{y}/s\"\n",
    "    if \"time\" in x: x = f\"{x}/s\"\n",
    "    plt.xlabel(x.capitalize())\n",
    "    plt.ylabel(y.capitalize())\n",
    "    plt.savefig(f\"images/mpi-{tag}-{names}.png\")\n",
    "    plt.savefig(f\"images/mpi-{tag}-{names}.pdf\")"
   ]
  },
  {
   "cell_type": "code",
   "execution_count": 68,
   "metadata": {},
   "outputs": [],
   "source": [
    "def get_data(content, tag=\"mpi_mergesort\", size=None):\n",
    "    \"\"\"\n",
    "    TBD\n",
    "\n",
    "    :param content: data output from running mergesort\n",
    "    :type content: string\n",
    "    :return: none\n",
    "    :rtype: none\n",
    "    \"\"\"\n",
    "    found = []\n",
    "    lines = [line for line in content if \"# csv\" in line]\n",
    "\n",
    "    for line in lines[1:]:\n",
    "        entries = line.split(\",\")\n",
    "        entry = [entries[a] for a in [1, 3, 9]]\n",
    "        time = entry[1]\n",
    "        name = entry[2]\n",
    "        # print(entry[0].split(tag)[1].split(\"_\")[1:])\n",
    "        processors, size, id, repeat = entry[0].split(tag)[1].split(\"_\")[1:]\n",
    "        \n",
    "        # print(\"entry[0\")\n",
    "        entry = [\n",
    "            int(processors),\n",
    "            # int(count),\n",
    "            float(time),\n",
    "            int(size),\n",
    "            id,\n",
    "            name,\n",
    "            tag\n",
    "        ]\n",
    "        found.append(entry)\n",
    "    return found"
   ]
  },
  {
   "cell_type": "code",
   "execution_count": 69,
   "metadata": {},
   "outputs": [],
   "source": [
    "def read_log(log, size=None, tag=\"multiprocessing_mergesort\"):\n",
    "    if \".log\" not in log:\n",
    "        log = f\"log/{log}-{size}.log\"\n",
    "    f = open(log, \"r\")\n",
    "    content = f.read().splitlines()\n",
    "    data = get_data(content, tag=tag, size=size)\n",
    "    return data"
   ]
  },
  {
   "cell_type": "code",
   "execution_count": 75,
   "metadata": {},
   "outputs": [
    {
     "name": "stdout",
     "output_type": "stream",
     "text": [
      "    processes    time      size id  name            tag\n",
      "0           4   0.905       100  0  alex  mpi_mergesort\n",
      "1           4   0.896       100  0  alex  mpi_mergesort\n",
      "2           4   0.917       100  0  alex  mpi_mergesort\n",
      "3           4   0.915       100  0  alex  mpi_mergesort\n",
      "4           4   0.923       100  0  alex  mpi_mergesort\n",
      "..        ...     ...       ... ..   ...            ...\n",
      "55          4  18.241  10000000  1  alex  mpi_mergesort\n",
      "56          4  16.284  10000000  1  alex  mpi_mergesort\n",
      "57          4  15.166  10000000  1  alex  mpi_mergesort\n",
      "58          4  15.500  10000000  1  alex  mpi_mergesort\n",
      "59          4  17.057  10000000  1  alex  mpi_mergesort\n",
      "\n",
      "[110 rows x 6 columns]\n"
     ]
    },
    {
     "name": "stderr",
     "output_type": "stream",
     "text": [
      "/Users/alexandra/ENV3/lib/python3.10/site-packages/seaborn/_core.py:1057: FutureWarning: reindexing with a non-unique Index is deprecated and will raise in a future version.\n",
      "  comp_col.loc[orig.index] = pd.to_numeric(axis.convert_units(orig))\n"
     ]
    },
    {
     "ename": "ValueError",
     "evalue": "cannot reindex on an axis with duplicate labels",
     "output_type": "error",
     "traceback": [
      "\u001b[0;31m---------------------------------------------------------------------------\u001b[0m",
      "\u001b[0;31mValueError\u001b[0m                                Traceback (most recent call last)",
      "\u001b[1;32m/Users/alexandra/Desktop/cm/cloudmesh-mpi/examples/sort/mpi.ipynb Cell 6'\u001b[0m in \u001b[0;36m<cell line: 23>\u001b[0;34m()\u001b[0m\n\u001b[1;32m     <a href='vscode-notebook-cell:/Users/alexandra/Desktop/cm/cloudmesh-mpi/examples/sort/mpi.ipynb#ch0000009?line=20'>21</a>\u001b[0m     df \u001b[39m=\u001b[39m pd\u001b[39m.\u001b[39mconcat([df, _df])\n\u001b[1;32m     <a href='vscode-notebook-cell:/Users/alexandra/Desktop/cm/cloudmesh-mpi/examples/sort/mpi.ipynb#ch0000009?line=21'>22</a>\u001b[0m \u001b[39mprint\u001b[39m(df)\n\u001b[0;32m---> <a href='vscode-notebook-cell:/Users/alexandra/Desktop/cm/cloudmesh-mpi/examples/sort/mpi.ipynb#ch0000009?line=22'>23</a>\u001b[0m plot_benchmark_by_size(df, \u001b[39m\"\u001b[39;49m\u001b[39mid\u001b[39;49m\u001b[39m\"\u001b[39;49m, tag\u001b[39m=\u001b[39;49mtag, files\u001b[39m=\u001b[39;49mids, x\u001b[39m=\u001b[39;49m\u001b[39m\"\u001b[39;49m\u001b[39msize\u001b[39;49m\u001b[39m\"\u001b[39;49m, y\u001b[39m=\u001b[39;49m\u001b[39m\"\u001b[39;49m\u001b[39mtime\u001b[39;49m\u001b[39m\"\u001b[39;49m)\n",
      "\u001b[1;32m/Users/alexandra/Desktop/cm/cloudmesh-mpi/examples/sort/mpi.ipynb Cell 3'\u001b[0m in \u001b[0;36mplot_benchmark_by_size\u001b[0;34m(df, hue_value, size, tag, files, x, y)\u001b[0m\n\u001b[1;32m      <a href='vscode-notebook-cell:/Users/alexandra/Desktop/cm/cloudmesh-mpi/examples/sort/mpi.ipynb#ch0000001?line=0'>1</a>\u001b[0m \u001b[39mdef\u001b[39;00m \u001b[39mplot_benchmark_by_size\u001b[39m(df, hue_value, size\u001b[39m=\u001b[39m\u001b[39mNone\u001b[39;00m, tag\u001b[39m=\u001b[39m\u001b[39mNone\u001b[39;00m, files\u001b[39m=\u001b[39m\u001b[39mNone\u001b[39;00m, x\u001b[39m=\u001b[39m\u001b[39m\"\u001b[39m\u001b[39msizes\u001b[39m\u001b[39m\"\u001b[39m, y\u001b[39m=\u001b[39m\u001b[39m\"\u001b[39m\u001b[39mtime\u001b[39m\u001b[39m\"\u001b[39m):\n\u001b[1;32m      <a href='vscode-notebook-cell:/Users/alexandra/Desktop/cm/cloudmesh-mpi/examples/sort/mpi.ipynb#ch0000001?line=1'>2</a>\u001b[0m     names \u001b[39m=\u001b[39m \u001b[39m\"\u001b[39m\u001b[39m-\u001b[39m\u001b[39m\"\u001b[39m\u001b[39m.\u001b[39mjoin(files)\n\u001b[0;32m----> <a href='vscode-notebook-cell:/Users/alexandra/Desktop/cm/cloudmesh-mpi/examples/sort/mpi.ipynb#ch0000001?line=2'>3</a>\u001b[0m     sns\u001b[39m.\u001b[39;49mlineplot(data\u001b[39m=\u001b[39;49mdf, x\u001b[39m=\u001b[39;49mx, y\u001b[39m=\u001b[39;49my, hue\u001b[39m=\u001b[39;49m\u001b[39m\"\u001b[39;49m\u001b[39mid\u001b[39;49m\u001b[39m\"\u001b[39;49m);\n\u001b[1;32m      <a href='vscode-notebook-cell:/Users/alexandra/Desktop/cm/cloudmesh-mpi/examples/sort/mpi.ipynb#ch0000001?line=3'>4</a>\u001b[0m     t \u001b[39m=\u001b[39m tag\u001b[39m.\u001b[39mtitle()\n\u001b[1;32m      <a href='vscode-notebook-cell:/Users/alexandra/Desktop/cm/cloudmesh-mpi/examples/sort/mpi.ipynb#ch0000001?line=4'>5</a>\u001b[0m     label \u001b[39m=\u001b[39m \u001b[39mf\u001b[39m\u001b[39m\"\u001b[39m\u001b[39m{\u001b[39;00mt\u001b[39m}\u001b[39;00m\u001b[39m\"\u001b[39m\u001b[39m.\u001b[39mreplace(\u001b[39m\"\u001b[39m\u001b[39m_\u001b[39m\u001b[39m\"\u001b[39m, \u001b[39m\"\u001b[39m\u001b[39m \u001b[39m\u001b[39m\"\u001b[39m)\n",
      "File \u001b[0;32m~/ENV3/lib/python3.10/site-packages/seaborn/_decorators.py:46\u001b[0m, in \u001b[0;36m_deprecate_positional_args.<locals>.inner_f\u001b[0;34m(*args, **kwargs)\u001b[0m\n\u001b[1;32m     36\u001b[0m     warnings\u001b[39m.\u001b[39mwarn(\n\u001b[1;32m     37\u001b[0m         \u001b[39m\"\u001b[39m\u001b[39mPass the following variable\u001b[39m\u001b[39m{}\u001b[39;00m\u001b[39m as \u001b[39m\u001b[39m{}\u001b[39;00m\u001b[39mkeyword arg\u001b[39m\u001b[39m{}\u001b[39;00m\u001b[39m: \u001b[39m\u001b[39m{}\u001b[39;00m\u001b[39m. \u001b[39m\u001b[39m\"\u001b[39m\n\u001b[1;32m     38\u001b[0m         \u001b[39m\"\u001b[39m\u001b[39mFrom version 0.12, the only valid positional argument \u001b[39m\u001b[39m\"\u001b[39m\n\u001b[0;32m   (...)\u001b[0m\n\u001b[1;32m     43\u001b[0m         \u001b[39mFutureWarning\u001b[39;00m\n\u001b[1;32m     44\u001b[0m     )\n\u001b[1;32m     45\u001b[0m kwargs\u001b[39m.\u001b[39mupdate({k: arg \u001b[39mfor\u001b[39;00m k, arg \u001b[39min\u001b[39;00m \u001b[39mzip\u001b[39m(sig\u001b[39m.\u001b[39mparameters, args)})\n\u001b[0;32m---> 46\u001b[0m \u001b[39mreturn\u001b[39;00m f(\u001b[39m*\u001b[39;49m\u001b[39m*\u001b[39;49mkwargs)\n",
      "File \u001b[0;32m~/ENV3/lib/python3.10/site-packages/seaborn/relational.py:710\u001b[0m, in \u001b[0;36mlineplot\u001b[0;34m(x, y, hue, size, style, data, palette, hue_order, hue_norm, sizes, size_order, size_norm, dashes, markers, style_order, units, estimator, ci, n_boot, seed, sort, err_style, err_kws, legend, ax, **kwargs)\u001b[0m\n\u001b[1;32m    706\u001b[0m     \u001b[39mreturn\u001b[39;00m ax\n\u001b[1;32m    708\u001b[0m p\u001b[39m.\u001b[39m_attach(ax)\n\u001b[0;32m--> 710\u001b[0m p\u001b[39m.\u001b[39;49mplot(ax, kwargs)\n\u001b[1;32m    711\u001b[0m \u001b[39mreturn\u001b[39;00m ax\n",
      "File \u001b[0;32m~/ENV3/lib/python3.10/site-packages/seaborn/relational.py:471\u001b[0m, in \u001b[0;36m_LinePlotter.plot\u001b[0;34m(self, ax, kws)\u001b[0m\n\u001b[1;32m    469\u001b[0m \u001b[39m# Loop over the semantic subsets and add to the plot\u001b[39;00m\n\u001b[1;32m    470\u001b[0m grouping_vars \u001b[39m=\u001b[39m \u001b[39m\"\u001b[39m\u001b[39mhue\u001b[39m\u001b[39m\"\u001b[39m, \u001b[39m\"\u001b[39m\u001b[39msize\u001b[39m\u001b[39m\"\u001b[39m, \u001b[39m\"\u001b[39m\u001b[39mstyle\u001b[39m\u001b[39m\"\u001b[39m\n\u001b[0;32m--> 471\u001b[0m \u001b[39mfor\u001b[39;00m sub_vars, sub_data \u001b[39min\u001b[39;00m \u001b[39mself\u001b[39m\u001b[39m.\u001b[39miter_data(grouping_vars, from_comp_data\u001b[39m=\u001b[39m\u001b[39mTrue\u001b[39;00m):\n\u001b[1;32m    473\u001b[0m     \u001b[39mif\u001b[39;00m \u001b[39mself\u001b[39m\u001b[39m.\u001b[39msort:\n\u001b[1;32m    474\u001b[0m         sort_vars \u001b[39m=\u001b[39m [\u001b[39m\"\u001b[39m\u001b[39munits\u001b[39m\u001b[39m\"\u001b[39m, \u001b[39m\"\u001b[39m\u001b[39mx\u001b[39m\u001b[39m\"\u001b[39m, \u001b[39m\"\u001b[39m\u001b[39my\u001b[39m\u001b[39m\"\u001b[39m]\n",
      "File \u001b[0;32m~/ENV3/lib/python3.10/site-packages/seaborn/_core.py:983\u001b[0m, in \u001b[0;36mVectorPlotter.iter_data\u001b[0;34m(self, grouping_vars, reverse, from_comp_data)\u001b[0m\n\u001b[1;32m    978\u001b[0m grouping_vars \u001b[39m=\u001b[39m [\n\u001b[1;32m    979\u001b[0m     var \u001b[39mfor\u001b[39;00m var \u001b[39min\u001b[39;00m grouping_vars \u001b[39mif\u001b[39;00m var \u001b[39min\u001b[39;00m \u001b[39mself\u001b[39m\u001b[39m.\u001b[39mvariables\n\u001b[1;32m    980\u001b[0m ]\n\u001b[1;32m    982\u001b[0m \u001b[39mif\u001b[39;00m from_comp_data:\n\u001b[0;32m--> 983\u001b[0m     data \u001b[39m=\u001b[39m \u001b[39mself\u001b[39;49m\u001b[39m.\u001b[39;49mcomp_data\n\u001b[1;32m    984\u001b[0m \u001b[39melse\u001b[39;00m:\n\u001b[1;32m    985\u001b[0m     data \u001b[39m=\u001b[39m \u001b[39mself\u001b[39m\u001b[39m.\u001b[39mplot_data\n",
      "File \u001b[0;32m~/ENV3/lib/python3.10/site-packages/seaborn/_core.py:1057\u001b[0m, in \u001b[0;36mVectorPlotter.comp_data\u001b[0;34m(self)\u001b[0m\n\u001b[1;32m   1055\u001b[0m     orig \u001b[39m=\u001b[39m \u001b[39mself\u001b[39m\u001b[39m.\u001b[39mplot_data[var]\u001b[39m.\u001b[39mdropna()\n\u001b[1;32m   1056\u001b[0m comp_col \u001b[39m=\u001b[39m pd\u001b[39m.\u001b[39mSeries(index\u001b[39m=\u001b[39morig\u001b[39m.\u001b[39mindex, dtype\u001b[39m=\u001b[39m\u001b[39mfloat\u001b[39m, name\u001b[39m=\u001b[39mvar)\n\u001b[0;32m-> 1057\u001b[0m comp_col\u001b[39m.\u001b[39mloc[orig\u001b[39m.\u001b[39mindex] \u001b[39m=\u001b[39m pd\u001b[39m.\u001b[39mto_numeric(axis\u001b[39m.\u001b[39mconvert_units(orig))\n\u001b[1;32m   1059\u001b[0m \u001b[39mif\u001b[39;00m axis\u001b[39m.\u001b[39mget_scale() \u001b[39m==\u001b[39m \u001b[39m\"\u001b[39m\u001b[39mlog\u001b[39m\u001b[39m\"\u001b[39m:\n\u001b[1;32m   1060\u001b[0m     comp_col \u001b[39m=\u001b[39m np\u001b[39m.\u001b[39mlog10(comp_col)\n",
      "File \u001b[0;32m~/ENV3/lib/python3.10/site-packages/pandas/core/indexing.py:716\u001b[0m, in \u001b[0;36m_LocationIndexer.__setitem__\u001b[0;34m(self, key, value)\u001b[0m\n\u001b[1;32m    713\u001b[0m \u001b[39mself\u001b[39m\u001b[39m.\u001b[39m_has_valid_setitem_indexer(key)\n\u001b[1;32m    715\u001b[0m iloc \u001b[39m=\u001b[39m \u001b[39mself\u001b[39m \u001b[39mif\u001b[39;00m \u001b[39mself\u001b[39m\u001b[39m.\u001b[39mname \u001b[39m==\u001b[39m \u001b[39m\"\u001b[39m\u001b[39miloc\u001b[39m\u001b[39m\"\u001b[39m \u001b[39melse\u001b[39;00m \u001b[39mself\u001b[39m\u001b[39m.\u001b[39mobj\u001b[39m.\u001b[39miloc\n\u001b[0;32m--> 716\u001b[0m iloc\u001b[39m.\u001b[39;49m_setitem_with_indexer(indexer, value, \u001b[39mself\u001b[39;49m\u001b[39m.\u001b[39;49mname)\n",
      "File \u001b[0;32m~/ENV3/lib/python3.10/site-packages/pandas/core/indexing.py:1690\u001b[0m, in \u001b[0;36m_iLocIndexer._setitem_with_indexer\u001b[0;34m(self, indexer, value, name)\u001b[0m\n\u001b[1;32m   1688\u001b[0m     \u001b[39mself\u001b[39m\u001b[39m.\u001b[39m_setitem_with_indexer_split_path(indexer, value, name)\n\u001b[1;32m   1689\u001b[0m \u001b[39melse\u001b[39;00m:\n\u001b[0;32m-> 1690\u001b[0m     \u001b[39mself\u001b[39;49m\u001b[39m.\u001b[39;49m_setitem_single_block(indexer, value, name)\n",
      "File \u001b[0;32m~/ENV3/lib/python3.10/site-packages/pandas/core/indexing.py:1929\u001b[0m, in \u001b[0;36m_iLocIndexer._setitem_single_block\u001b[0;34m(self, indexer, value, name)\u001b[0m\n\u001b[1;32m   1923\u001b[0m     indexer \u001b[39m=\u001b[39m maybe_convert_ix(\u001b[39m*\u001b[39mindexer)  \u001b[39m# e.g. test_setitem_frame_align\u001b[39;00m\n\u001b[1;32m   1925\u001b[0m \u001b[39mif\u001b[39;00m (\u001b[39misinstance\u001b[39m(value, ABCSeries) \u001b[39mand\u001b[39;00m name \u001b[39m!=\u001b[39m \u001b[39m\"\u001b[39m\u001b[39miloc\u001b[39m\u001b[39m\"\u001b[39m) \u001b[39mor\u001b[39;00m \u001b[39misinstance\u001b[39m(value, \u001b[39mdict\u001b[39m):\n\u001b[1;32m   1926\u001b[0m     \u001b[39m# TODO(EA): ExtensionBlock.setitem this causes issues with\u001b[39;00m\n\u001b[1;32m   1927\u001b[0m     \u001b[39m# setting for extensionarrays that store dicts. Need to decide\u001b[39;00m\n\u001b[1;32m   1928\u001b[0m     \u001b[39m# if it's worth supporting that.\u001b[39;00m\n\u001b[0;32m-> 1929\u001b[0m     value \u001b[39m=\u001b[39m \u001b[39mself\u001b[39;49m\u001b[39m.\u001b[39;49m_align_series(indexer, Series(value))\n\u001b[1;32m   1931\u001b[0m \u001b[39melif\u001b[39;00m \u001b[39misinstance\u001b[39m(value, ABCDataFrame) \u001b[39mand\u001b[39;00m name \u001b[39m!=\u001b[39m \u001b[39m\"\u001b[39m\u001b[39miloc\u001b[39m\u001b[39m\"\u001b[39m:\n\u001b[1;32m   1932\u001b[0m     value \u001b[39m=\u001b[39m \u001b[39mself\u001b[39m\u001b[39m.\u001b[39m_align_frame(indexer, value)\n",
      "File \u001b[0;32m~/ENV3/lib/python3.10/site-packages/pandas/core/indexing.py:2091\u001b[0m, in \u001b[0;36m_iLocIndexer._align_series\u001b[0;34m(self, indexer, ser, multiindex_indexer)\u001b[0m\n\u001b[1;32m   2089\u001b[0m \u001b[39mif\u001b[39;00m obj\u001b[39m.\u001b[39mndim \u001b[39m==\u001b[39m \u001b[39m2\u001b[39m \u001b[39mand\u001b[39;00m is_empty_indexer(indexer[\u001b[39m0\u001b[39m], ser\u001b[39m.\u001b[39m_values):\n\u001b[1;32m   2090\u001b[0m     \u001b[39mreturn\u001b[39;00m ser\u001b[39m.\u001b[39m_values\u001b[39m.\u001b[39mcopy()\n\u001b[0;32m-> 2091\u001b[0m ser \u001b[39m=\u001b[39m ser\u001b[39m.\u001b[39;49mreindex(obj\u001b[39m.\u001b[39;49maxes[\u001b[39m0\u001b[39;49m][indexer[\u001b[39m0\u001b[39;49m]], copy\u001b[39m=\u001b[39;49m\u001b[39mTrue\u001b[39;49;00m)\u001b[39m.\u001b[39m_values\n\u001b[1;32m   2093\u001b[0m \u001b[39m# single indexer\u001b[39;00m\n\u001b[1;32m   2094\u001b[0m \u001b[39mif\u001b[39;00m \u001b[39mlen\u001b[39m(indexer) \u001b[39m>\u001b[39m \u001b[39m1\u001b[39m \u001b[39mand\u001b[39;00m \u001b[39mnot\u001b[39;00m multiindex_indexer:\n",
      "File \u001b[0;32m~/ENV3/lib/python3.10/site-packages/pandas/core/series.py:4672\u001b[0m, in \u001b[0;36mSeries.reindex\u001b[0;34m(self, *args, **kwargs)\u001b[0m\n\u001b[1;32m   4668\u001b[0m         \u001b[39mraise\u001b[39;00m \u001b[39mTypeError\u001b[39;00m(\n\u001b[1;32m   4669\u001b[0m             \u001b[39m\"\u001b[39m\u001b[39m'\u001b[39m\u001b[39mindex\u001b[39m\u001b[39m'\u001b[39m\u001b[39m passed as both positional and keyword argument\u001b[39m\u001b[39m\"\u001b[39m\n\u001b[1;32m   4670\u001b[0m         )\n\u001b[1;32m   4671\u001b[0m     kwargs\u001b[39m.\u001b[39mupdate({\u001b[39m\"\u001b[39m\u001b[39mindex\u001b[39m\u001b[39m\"\u001b[39m: index})\n\u001b[0;32m-> 4672\u001b[0m \u001b[39mreturn\u001b[39;00m \u001b[39msuper\u001b[39;49m()\u001b[39m.\u001b[39;49mreindex(\u001b[39m*\u001b[39;49m\u001b[39m*\u001b[39;49mkwargs)\n",
      "File \u001b[0;32m~/ENV3/lib/python3.10/site-packages/pandas/core/generic.py:4966\u001b[0m, in \u001b[0;36mNDFrame.reindex\u001b[0;34m(self, *args, **kwargs)\u001b[0m\n\u001b[1;32m   4963\u001b[0m     \u001b[39mreturn\u001b[39;00m \u001b[39mself\u001b[39m\u001b[39m.\u001b[39m_reindex_multi(axes, copy, fill_value)\n\u001b[1;32m   4965\u001b[0m \u001b[39m# perform the reindex on the axes\u001b[39;00m\n\u001b[0;32m-> 4966\u001b[0m \u001b[39mreturn\u001b[39;00m \u001b[39mself\u001b[39;49m\u001b[39m.\u001b[39;49m_reindex_axes(\n\u001b[1;32m   4967\u001b[0m     axes, level, limit, tolerance, method, fill_value, copy\n\u001b[1;32m   4968\u001b[0m )\u001b[39m.\u001b[39m__finalize__(\u001b[39mself\u001b[39m, method\u001b[39m=\u001b[39m\u001b[39m\"\u001b[39m\u001b[39mreindex\u001b[39m\u001b[39m\"\u001b[39m)\n",
      "File \u001b[0;32m~/ENV3/lib/python3.10/site-packages/pandas/core/generic.py:4986\u001b[0m, in \u001b[0;36mNDFrame._reindex_axes\u001b[0;34m(self, axes, level, limit, tolerance, method, fill_value, copy)\u001b[0m\n\u001b[1;32m   4981\u001b[0m new_index, indexer \u001b[39m=\u001b[39m ax\u001b[39m.\u001b[39mreindex(\n\u001b[1;32m   4982\u001b[0m     labels, level\u001b[39m=\u001b[39mlevel, limit\u001b[39m=\u001b[39mlimit, tolerance\u001b[39m=\u001b[39mtolerance, method\u001b[39m=\u001b[39mmethod\n\u001b[1;32m   4983\u001b[0m )\n\u001b[1;32m   4985\u001b[0m axis \u001b[39m=\u001b[39m \u001b[39mself\u001b[39m\u001b[39m.\u001b[39m_get_axis_number(a)\n\u001b[0;32m-> 4986\u001b[0m obj \u001b[39m=\u001b[39m obj\u001b[39m.\u001b[39;49m_reindex_with_indexers(\n\u001b[1;32m   4987\u001b[0m     {axis: [new_index, indexer]},\n\u001b[1;32m   4988\u001b[0m     fill_value\u001b[39m=\u001b[39;49mfill_value,\n\u001b[1;32m   4989\u001b[0m     copy\u001b[39m=\u001b[39;49mcopy,\n\u001b[1;32m   4990\u001b[0m     allow_dups\u001b[39m=\u001b[39;49m\u001b[39mFalse\u001b[39;49;00m,\n\u001b[1;32m   4991\u001b[0m )\n\u001b[1;32m   4992\u001b[0m \u001b[39m# If we've made a copy once, no need to make another one\u001b[39;00m\n\u001b[1;32m   4993\u001b[0m copy \u001b[39m=\u001b[39m \u001b[39mFalse\u001b[39;00m\n",
      "File \u001b[0;32m~/ENV3/lib/python3.10/site-packages/pandas/core/generic.py:5032\u001b[0m, in \u001b[0;36mNDFrame._reindex_with_indexers\u001b[0;34m(self, reindexers, fill_value, copy, allow_dups)\u001b[0m\n\u001b[1;32m   5029\u001b[0m     indexer \u001b[39m=\u001b[39m ensure_platform_int(indexer)\n\u001b[1;32m   5031\u001b[0m \u001b[39m# TODO: speed up on homogeneous DataFrame objects (see _reindex_multi)\u001b[39;00m\n\u001b[0;32m-> 5032\u001b[0m new_data \u001b[39m=\u001b[39m new_data\u001b[39m.\u001b[39;49mreindex_indexer(\n\u001b[1;32m   5033\u001b[0m     index,\n\u001b[1;32m   5034\u001b[0m     indexer,\n\u001b[1;32m   5035\u001b[0m     axis\u001b[39m=\u001b[39;49mbaxis,\n\u001b[1;32m   5036\u001b[0m     fill_value\u001b[39m=\u001b[39;49mfill_value,\n\u001b[1;32m   5037\u001b[0m     allow_dups\u001b[39m=\u001b[39;49mallow_dups,\n\u001b[1;32m   5038\u001b[0m     copy\u001b[39m=\u001b[39;49mcopy,\n\u001b[1;32m   5039\u001b[0m )\n\u001b[1;32m   5040\u001b[0m \u001b[39m# If we've made a copy once, no need to make another one\u001b[39;00m\n\u001b[1;32m   5041\u001b[0m copy \u001b[39m=\u001b[39m \u001b[39mFalse\u001b[39;00m\n",
      "File \u001b[0;32m~/ENV3/lib/python3.10/site-packages/pandas/core/internals/managers.py:679\u001b[0m, in \u001b[0;36mBaseBlockManager.reindex_indexer\u001b[0;34m(self, new_axis, indexer, axis, fill_value, allow_dups, copy, consolidate, only_slice, use_na_proxy)\u001b[0m\n\u001b[1;32m    677\u001b[0m \u001b[39m# some axes don't allow reindexing with dups\u001b[39;00m\n\u001b[1;32m    678\u001b[0m \u001b[39mif\u001b[39;00m \u001b[39mnot\u001b[39;00m allow_dups:\n\u001b[0;32m--> 679\u001b[0m     \u001b[39mself\u001b[39;49m\u001b[39m.\u001b[39;49maxes[axis]\u001b[39m.\u001b[39;49m_validate_can_reindex(indexer)\n\u001b[1;32m    681\u001b[0m \u001b[39mif\u001b[39;00m axis \u001b[39m>\u001b[39m\u001b[39m=\u001b[39m \u001b[39mself\u001b[39m\u001b[39m.\u001b[39mndim:\n\u001b[1;32m    682\u001b[0m     \u001b[39mraise\u001b[39;00m \u001b[39mIndexError\u001b[39;00m(\u001b[39m\"\u001b[39m\u001b[39mRequested axis not found in manager\u001b[39m\u001b[39m\"\u001b[39m)\n",
      "File \u001b[0;32m~/ENV3/lib/python3.10/site-packages/pandas/core/indexes/base.py:4107\u001b[0m, in \u001b[0;36mIndex._validate_can_reindex\u001b[0;34m(self, indexer)\u001b[0m\n\u001b[1;32m   4105\u001b[0m \u001b[39m# trying to reindex on an axis with duplicates\u001b[39;00m\n\u001b[1;32m   4106\u001b[0m \u001b[39mif\u001b[39;00m \u001b[39mnot\u001b[39;00m \u001b[39mself\u001b[39m\u001b[39m.\u001b[39m_index_as_unique \u001b[39mand\u001b[39;00m \u001b[39mlen\u001b[39m(indexer):\n\u001b[0;32m-> 4107\u001b[0m     \u001b[39mraise\u001b[39;00m \u001b[39mValueError\u001b[39;00m(\u001b[39m\"\u001b[39m\u001b[39mcannot reindex on an axis with duplicate labels\u001b[39m\u001b[39m\"\u001b[39m)\n",
      "\u001b[0;31mValueError\u001b[0m: cannot reindex on an axis with duplicate labels"
     ]
    },
    {
     "data": {
      "image/png": "[encoded data removed]",
      "text/plain": [
       "<Figure size 432x288 with 1 Axes>"
      ]
     },
     "metadata": {
      "needs_background": "light"
     },
     "output_type": "display_data"
    }
   ],
   "source": [
    "tag = \"mpi_mergesort\"\n",
    "node = \"2400MHz\"\n",
    "ids = [\"0\", \"1\"]\n",
    "files = [\"alex\"]\n",
    "frames = []\n",
    "for file in files:\n",
    "    for id in ids: \n",
    "        frame = []\n",
    "        for size in sizes: \n",
    "            log = f'{tag}-{node}-{file}-{id}'\n",
    "            _frame = read_log(log, size=size, tag=tag)\n",
    "            frame = frame + _frame\n",
    "        frames.append(frame)\n",
    "# print(frames)\n",
    "\n",
    "\n",
    "df = pd.DataFrame()\n",
    "for frame in frames:\n",
    "    _df = pd.DataFrame(data=frame,\n",
    "                columns=[\"processes\", \"time\", \"size\", \"id\", \"name\", \"tag\"])\n",
    "    df = pd.concat([df, _df])\n",
    "print(df)\n",
    "plot_benchmark_by_size(df, \"id\", tag, ids, x=\"size\", y=\"time\")\n"
   ]
  }
 ],
 "metadata": {
  "kernelspec": {
   "display_name": "Python 3.10.1 ('ENV3')",
   "language": "python",
   "name": "python3"
  },
  "language_info": {
   "codemirror_mode": {
    "name": "ipython",
    "version": 3
   },
   "file_extension": ".py",
   "mimetype": "text/x-python",
   "name": "python",
   "nbconvert_exporter": "python",
   "pygments_lexer": "ipython3",
   "version": "3.10.5"
  },
  "orig_nbformat": 4,
  "vscode": {
   "interpreter": {
    "hash": "485547d5c3fa777a03807ca29d98ba5d53d74ad27ccec228f488c1a95f851b67"
   }
  }
 },
 "nbformat": 4,
 "nbformat_minor": 2
}
