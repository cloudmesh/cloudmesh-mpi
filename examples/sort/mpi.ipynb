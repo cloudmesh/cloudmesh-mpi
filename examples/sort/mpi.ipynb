{
 "cells": [
  {
   "cell_type": "code",
   "execution_count": 1,
   "metadata": {},
   "outputs": [],
   "source": [
    "import matplotlib.pyplot as plt\n",
    "import seaborn as sns\n",
    "import pandas as pd\n",
    "\n",
    "from analysis import get_data\n",
    "from analysis import read_log, read_logs\n",
    "from analysis import generate_average"
   ]
  },
  {
   "cell_type": "code",
   "execution_count": 2,
   "metadata": {},
   "outputs": [],
   "source": [
    "sizes = [100, 1000, 10000, 100000, 1000000, 10000000]"
   ]
  },
  {
   "cell_type": "code",
   "execution_count": 12,
   "metadata": {},
   "outputs": [],
   "source": [
    "def plot_benchmark_by_size(df, size=None, tag=None, files=None, x=\"sizes\", y=\"time\"):\n",
    "    names = \"-\".join(files)\n",
    "    sns.lineplot(data=df, x=x, y=y, hue=\"name\");\n",
    "    t = tag.title()\n",
    "    label = f\"{t}\".replace(\"_\", \" \")\n",
    "    plt.title(f\"{label}\")\n",
    "    if \"time\" in y: y = f\"{y}/s\"\n",
    "    if \"time\" in x: x = f\"{x}/s\"\n",
    "    plt.xlabel(x.capitalize())\n",
    "    plt.ylabel(y.capitalize())\n",
    "    plt.savefig(f\"images/mpi-{tag}-{names}.png\")\n",
    "    plt.savefig(f\"images/mpi-{tag}-{names}.pdf\")"
   ]
  },
  {
   "cell_type": "code",
   "execution_count": 16,
   "metadata": {},
   "outputs": [
    {
     "data": {
      "image/png": "[encoded data removed]",
      "text/plain": [
       "<Figure size 432x288 with 1 Axes>"
      ]
     },
     "metadata": {
      "needs_background": "light"
     },
     "output_type": "display_data"
    }
   ],
   "source": [
    "tag = \"mpi_mergesort\"\n",
    "node = \"2400MHz\"\n",
    "files = [\"alex\"]\n",
    "data = []\n",
    "for file in files:\n",
    "    for size in sizes: \n",
    "        log = f'{tag}-{node}-{file}'\n",
    "        _data = read_log(log, size=size, tag=tag)\n",
    "        data = data + _data\n",
    "# print(data)\n",
    "\n",
    "df = pd.DataFrame(data=data,\n",
    "                columns=[\"processes\", \"time\", \"size\", \"name\", \"tag\"])\n",
    "plot_benchmark_by_size(df, tag=tag, files=files, x=\"size\", y=\"time\")\n"
   ]
  },
  {
   "cell_type": "code",
   "execution_count": 17,
   "metadata": {},
   "outputs": [
    {
     "name": "stdout",
     "output_type": "stream",
     "text": [
      "[[4, 0.916, 100, 'alex', 'mpi_mergesort'], [4, 0.905, 100, 'alex', 'mpi_mergesort'], [4, 0.917, 100, 'alex', 'mpi_mergesort'], [4, 0.917, 100, 'alex', 'mpi_mergesort'], [4, 0.915, 100, 'alex', 'mpi_mergesort'], [4, 0.92, 100, 'alex', 'mpi_mergesort'], [4, 0.923, 100, 'alex', 'mpi_mergesort'], [4, 0.921, 100, 'alex', 'mpi_mergesort'], [4, 0.925, 100, 'alex', 'mpi_mergesort'], [4, 0.932, 100, 'alex', 'mpi_mergesort'], [4, 0.931, 1000, 'alex', 'mpi_mergesort'], [4, 0.937, 1000, 'alex', 'mpi_mergesort'], [4, 0.926, 1000, 'alex', 'mpi_mergesort'], [4, 0.975, 1000, 'alex', 'mpi_mergesort'], [4, 0.959, 1000, 'alex', 'mpi_mergesort'], [4, 0.951, 1000, 'alex', 'mpi_mergesort'], [4, 0.974, 1000, 'alex', 'mpi_mergesort'], [4, 0.942, 1000, 'alex', 'mpi_mergesort'], [4, 0.992, 1000, 'alex', 'mpi_mergesort'], [4, 0.949, 1000, 'alex', 'mpi_mergesort'], [4, 0.967, 10000, 'alex', 'mpi_mergesort'], [4, 0.947, 10000, 'alex', 'mpi_mergesort'], [4, 0.948, 10000, 'alex', 'mpi_mergesort'], [4, 0.958, 10000, 'alex', 'mpi_mergesort'], [4, 0.955, 10000, 'alex', 'mpi_mergesort'], [4, 0.976, 10000, 'alex', 'mpi_mergesort'], [4, 0.986, 10000, 'alex', 'mpi_mergesort'], [4, 0.977, 10000, 'alex', 'mpi_mergesort'], [4, 0.984, 10000, 'alex', 'mpi_mergesort'], [4, 0.984, 10000, 'alex', 'mpi_mergesort'], [4, 1.086, 100000, 'alex', 'mpi_mergesort'], [4, 1.075, 100000, 'alex', 'mpi_mergesort'], [4, 1.025, 100000, 'alex', 'mpi_mergesort'], [4, 1.03, 100000, 'alex', 'mpi_mergesort'], [4, 1.025, 100000, 'alex', 'mpi_mergesort'], [4, 1.026, 100000, 'alex', 'mpi_mergesort'], [4, 1.075, 100000, 'alex', 'mpi_mergesort'], [4, 1.03, 100000, 'alex', 'mpi_mergesort'], [4, 1.032, 100000, 'alex', 'mpi_mergesort'], [4, 1.033, 100000, 'alex', 'mpi_mergesort'], [4, 1.837, 1000000, 'alex', 'mpi_mergesort'], [4, 1.828, 1000000, 'alex', 'mpi_mergesort'], [4, 1.816, 1000000, 'alex', 'mpi_mergesort'], [4, 1.822, 1000000, 'alex', 'mpi_mergesort'], [4, 1.974, 1000000, 'alex', 'mpi_mergesort'], [4, 1.888, 1000000, 'alex', 'mpi_mergesort'], [4, 1.876, 1000000, 'alex', 'mpi_mergesort'], [4, 1.923, 1000000, 'alex', 'mpi_mergesort'], [4, 1.866, 1000000, 'alex', 'mpi_mergesort'], [4, 1.907, 1000000, 'alex', 'mpi_mergesort'], [4, 11.211, 10000000, 'alex', 'mpi_mergesort'], [4, 10.115, 10000000, 'alex', 'mpi_mergesort'], [4, 9.939, 10000000, 'alex', 'mpi_mergesort'], [4, 10.601, 10000000, 'alex', 'mpi_mergesort'], [4, 10.627, 10000000, 'alex', 'mpi_mergesort'], [4, 10.706, 10000000, 'alex', 'mpi_mergesort'], [4, 10.688, 10000000, 'alex', 'mpi_mergesort'], [4, 10.608, 10000000, 'alex', 'mpi_mergesort'], [4, 10.874, 10000000, 'alex', 'mpi_mergesort'], [4, 10.471, 10000000, 'alex', 'mpi_mergesort']]\n"
     ]
    }
   ],
   "source": [
    "print(data)"
   ]
  },
  {
   "cell_type": "code",
   "execution_count": null,
   "metadata": {},
   "outputs": [],
   "source": [
    "def get_data(content, tag=\"mpi_mergesort\", size=None):\n",
    "    \"\"\"\n",
    "    TBD\n",
    "\n",
    "    :param content: data output from running mergesort\n",
    "    :type content: string\n",
    "    :return: none\n",
    "    :rtype: none\n",
    "    \"\"\"\n",
    "    found = []\n",
    "    lines = [line for line in content if \"# csv\" in line]\n",
    "\n",
    "    for line in lines[1:]:\n",
    "        entries = line.split(\",\")\n",
    "        entry = [entries[a] for a in [1, 3, 9]]\n",
    "        time = entry[1]\n",
    "        name = entry[2]\n",
    "        processors, size = entry[0].split(tag)[1].split(\"_\")[1:]\n",
    "\n",
    "        entry = [\n",
    "            int(processors),\n",
    "            # int(count),\n",
    "            float(time),\n",
    "            int(size),\n",
    "            name,\n",
    "            tag\n",
    "        ]\n",
    "        found.append(entry)\n",
    "    return found"
   ]
  }
 ],
 "metadata": {
  "kernelspec": {
   "display_name": "Python 3.10.1 ('ENV3')",
   "language": "python",
   "name": "python3"
  },
  "language_info": {
   "codemirror_mode": {
    "name": "ipython",
    "version": 3
   },
   "file_extension": ".py",
   "mimetype": "text/x-python",
   "name": "python",
   "nbconvert_exporter": "python",
   "pygments_lexer": "ipython3",
   "version": "3.10.5"
  },
  "orig_nbformat": 4,
  "vscode": {
   "interpreter": {
    "hash": "485547d5c3fa777a03807ca29d98ba5d53d74ad27ccec228f488c1a95f851b67"
   }
  }
 },
 "nbformat": 4,
 "nbformat_minor": 2
}
