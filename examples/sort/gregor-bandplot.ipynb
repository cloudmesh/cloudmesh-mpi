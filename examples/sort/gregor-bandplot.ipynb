{
 "cells": [
  {
   "cell_type": "code",
   "execution_count": 5,
   "id": "94187274-c6ac-4299-8754-c6e82ad34375",
   "metadata": {},
   "outputs": [
    {
     "name": "stdout",
     "output_type": "stream",
     "text": [
      "/home/green/ENV3/bin/python\n"
     ]
    }
   ],
   "source": [
    "import matplotlib.pyplot as plt\n",
    "!which python"
   ]
  },
  {
   "cell_type": "code",
   "execution_count": 6,
   "id": "cf7410be-20c6-4e04-b01b-be98c097848c",
   "metadata": {},
   "outputs": [],
   "source": [
    "def get_data(content, tag=\"multiprocessing_mergesort\"):\n",
    "    \"\"\"\n",
    "    TBD\n",
    "\n",
    "    :param content:\n",
    "    :type content:\n",
    "    :param name:\n",
    "    :type name:\n",
    "    :return:\n",
    "    :rtype:\n",
    "    \"\"\"\n",
    "    found = []\n",
    "    lines = [line for line in content if \"# csv\" in line]\n",
    "\n",
    "    for line in lines[1:]:\n",
    "        entries = line.split(\",\")\n",
    "        entry = [entries[a] for a in [1, 3, 9]]\n",
    "        time= entry[1]\n",
    "        name = entry[2]\n",
    "        processes, size, count = entry[0].split(tag)[1].split(\"_\")[1:]\n",
    "        \n",
    "        entry = [\n",
    "                 int(processes),\n",
    "                 int(size),\n",
    "                 int(count),\n",
    "                 float(time),\n",
    "                 name\n",
    "                 ]\n",
    "        found.append(entry)\n",
    "    return found\n",
    "\n",
    "def read_data(log, tag=\"multiprocessing_mergesort\"):\n",
    "    f = open(f\"log/{log}.log\", \"r\")\n",
    "    content = f.read().splitlines()\n",
    "    data = get_data(content, tag=tag)\n",
    "    return data"
   ]
  },
  {
   "cell_type": "code",
   "execution_count": 27,
   "id": "3a76b9ed-d8a3-48a8-9210-1c1abdbf3961",
   "metadata": {},
   "outputs": [],
   "source": [
    "data = []\n",
    "names = []\n",
    "\n",
    "files = [\"alex\", \"gregor\"]\n",
    "\n",
    "for file in files:\n",
    "    processors = []\n",
    "    time = []\n",
    "    name = []\n",
    "    content = read_data(file)\n",
    "    for p, s, c, t, n in content: \n",
    "        processors.append(p)\n",
    "        time.append(t)\n",
    "        name.append(n)\n",
    "    data.append([processors, time, name])\n",
    "        \n",
    "\n"
   ]
  },
  {
   "cell_type": "code",
   "execution_count": 33,
   "id": "3f78e6ce-b299-4734-8881-2c1915ca0c82",
   "metadata": {},
   "outputs": [
    {
     "data": {
      "text/plain": [
       "<matplotlib.legend.Legend at 0x7f23f8ae4100>"
      ]
     },
     "execution_count": 33,
     "metadata": {},
     "output_type": "execute_result"
    },
    {
     "data": {
      "image/png": "[encoded data removed]",
      "text/plain": [
       "<Figure size 432x288 with 1 Axes>"
      ]
     },
     "metadata": {
      "needs_background": "light"
     },
     "output_type": "display_data"
    }
   ],
   "source": [
    "import matplotlib.pyplot as plt\n",
    "import seaborn as sns\n",
    "\n",
    "l = []\n",
    "for i in range(len(data)):\n",
    "    sns.lineplot(x=data[i][0], y=data[i][1])\n",
    "    l.append(files[i])\n",
    "    l.append(\"\")\n",
    "    \n",
    "plt.legend(labels=l)"
   ]
  },
  {
   "cell_type": "code",
   "execution_count": null,
   "id": "e1562dca-92b6-43f4-95cd-8edd00ef89be",
   "metadata": {},
   "outputs": [],
   "source": [
    "plt.scatter("
   ]
  },
  {
   "cell_type": "code",
   "execution_count": null,
   "id": "8a87037e-4540-48cc-8248-13c666013b71",
   "metadata": {},
   "outputs": [],
   "source": []
  },
  {
   "cell_type": "code",
   "execution_count": null,
   "id": "3417cfa3-8847-4b92-a937-dea7f5751d84",
   "metadata": {},
   "outputs": [],
   "source": []
  }
 ],
 "metadata": {
  "kernelspec": {
   "display_name": "Python 3 (ipykernel)",
   "language": "python",
   "name": "python3"
  },
  "language_info": {
   "codemirror_mode": {
    "name": "ipython",
    "version": 3
   },
   "file_extension": ".py",
   "mimetype": "text/x-python",
   "name": "python",
   "nbconvert_exporter": "python",
   "pygments_lexer": "ipython3",
   "version": "3.10.2"
  }
 },
 "nbformat": 4,
 "nbformat_minor": 5
}
