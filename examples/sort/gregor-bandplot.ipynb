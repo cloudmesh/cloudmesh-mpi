{
 "cells": [
  {
   "cell_type": "code",
   "execution_count": 37,
   "id": "94187274-c6ac-4299-8754-c6e82ad34375",
   "metadata": {},
   "outputs": [
    {
     "name": "stdout",
     "output_type": "stream",
     "text": [
      "/home/green/ENV3/bin/python\n"
     ]
    }
   ],
   "source": [
    "import matplotlib.pyplot as plt\n",
    "import matplotlib.pyplot as plt\n",
    "import seaborn as sns\n",
    "\n",
    "!which python\n"
   ]
  },
  {
   "cell_type": "code",
   "execution_count": 38,
   "id": "cf7410be-20c6-4e04-b01b-be98c097848c",
   "metadata": {},
   "outputs": [],
   "source": [
    "def get_data(content, tag=\"multiprocessing_mergesort\"):\n",
    "    \"\"\"\n",
    "    TBD\n",
    "\n",
    "    :param content:\n",
    "    :type content:\n",
    "    :param name:\n",
    "    :type name:\n",
    "    :return:\n",
    "    :rtype:\n",
    "    \"\"\"\n",
    "    found = []\n",
    "    lines = [line for line in content if \"# csv\" in line]\n",
    "\n",
    "    for line in lines[1:]:\n",
    "        entries = line.split(\",\")\n",
    "        entry = [entries[a] for a in [1, 3, 9]]\n",
    "        time= entry[1]\n",
    "        name = entry[2]\n",
    "        processes, size, count = entry[0].split(tag)[1].split(\"_\")[1:]\n",
    "        \n",
    "        entry = [\n",
    "                 int(processes),\n",
    "                 #int(size),\n",
    "                 #int(count),\n",
    "                 float(time),\n",
    "                 name\n",
    "                 ]\n",
    "        found.append(entry)\n",
    "    return found\n",
    "\n",
    "def read_data(log, tag=\"multiprocessing_mergesort\"):\n",
    "    f = open(f\"log/{log}.log\", \"r\")\n",
    "    content = f.read().splitlines()\n",
    "    data = get_data(content, tag=tag)\n",
    "    return data"
   ]
  },
  {
   "cell_type": "code",
   "execution_count": null,
   "id": "76a80606-0ee9-4a52-9925-8fa9e6eee571",
   "metadata": {},
   "outputs": [],
   "source": []
  },
  {
   "cell_type": "code",
   "execution_count": 43,
   "id": "3a76b9ed-d8a3-48a8-9210-1c1abdbf3961",
   "metadata": {},
   "outputs": [],
   "source": [
    "data = []\n",
    "\n",
    "files = [\"alex\", \"gregor\"]\n",
    "\n",
    "for file in files:\n",
    "    content = read_data(file)\n",
    "    data = data + content\n",
    "        \n",
    "# data\n"
   ]
  },
  {
   "cell_type": "code",
   "execution_count": 44,
   "id": "1fe2381a-7f8c-4d5b-ab52-74dc68b6135b",
   "metadata": {},
   "outputs": [
    {
     "data": {
      "text/html": [
       "<div>\n",
       "<style scoped>\n",
       "    .dataframe tbody tr th:only-of-type {\n",
       "        vertical-align: middle;\n",
       "    }\n",
       "\n",
       "    .dataframe tbody tr th {\n",
       "        vertical-align: top;\n",
       "    }\n",
       "\n",
       "    .dataframe thead th {\n",
       "        text-align: right;\n",
       "    }\n",
       "</style>\n",
       "<table border=\"1\" class=\"dataframe\">\n",
       "  <thead>\n",
       "    <tr style=\"text-align: right;\">\n",
       "      <th></th>\n",
       "      <th>processors</th>\n",
       "      <th>time</th>\n",
       "      <th>name</th>\n",
       "    </tr>\n",
       "  </thead>\n",
       "  <tbody>\n",
       "    <tr>\n",
       "      <th>0</th>\n",
       "      <td>1</td>\n",
       "      <td>0.389</td>\n",
       "      <td>alex</td>\n",
       "    </tr>\n",
       "    <tr>\n",
       "      <th>1</th>\n",
       "      <td>1</td>\n",
       "      <td>0.319</td>\n",
       "      <td>alex</td>\n",
       "    </tr>\n",
       "    <tr>\n",
       "      <th>2</th>\n",
       "      <td>1</td>\n",
       "      <td>0.322</td>\n",
       "      <td>alex</td>\n",
       "    </tr>\n",
       "    <tr>\n",
       "      <th>3</th>\n",
       "      <td>1</td>\n",
       "      <td>0.318</td>\n",
       "      <td>alex</td>\n",
       "    </tr>\n",
       "    <tr>\n",
       "      <th>4</th>\n",
       "      <td>1</td>\n",
       "      <td>0.315</td>\n",
       "      <td>alex</td>\n",
       "    </tr>\n",
       "    <tr>\n",
       "      <th>...</th>\n",
       "      <td>...</td>\n",
       "      <td>...</td>\n",
       "      <td>...</td>\n",
       "    </tr>\n",
       "    <tr>\n",
       "      <th>435</th>\n",
       "      <td>32</td>\n",
       "      <td>0.025</td>\n",
       "      <td>gregor</td>\n",
       "    </tr>\n",
       "    <tr>\n",
       "      <th>436</th>\n",
       "      <td>32</td>\n",
       "      <td>0.023</td>\n",
       "      <td>gregor</td>\n",
       "    </tr>\n",
       "    <tr>\n",
       "      <th>437</th>\n",
       "      <td>32</td>\n",
       "      <td>0.023</td>\n",
       "      <td>gregor</td>\n",
       "    </tr>\n",
       "    <tr>\n",
       "      <th>438</th>\n",
       "      <td>32</td>\n",
       "      <td>0.024</td>\n",
       "      <td>gregor</td>\n",
       "    </tr>\n",
       "    <tr>\n",
       "      <th>439</th>\n",
       "      <td>32</td>\n",
       "      <td>0.026</td>\n",
       "      <td>gregor</td>\n",
       "    </tr>\n",
       "  </tbody>\n",
       "</table>\n",
       "<p>440 rows × 3 columns</p>\n",
       "</div>"
      ],
      "text/plain": [
       "     processors   time    name\n",
       "0             1  0.389    alex\n",
       "1             1  0.319    alex\n",
       "2             1  0.322    alex\n",
       "3             1  0.318    alex\n",
       "4             1  0.315    alex\n",
       "..          ...    ...     ...\n",
       "435          32  0.025  gregor\n",
       "436          32  0.023  gregor\n",
       "437          32  0.023  gregor\n",
       "438          32  0.024  gregor\n",
       "439          32  0.026  gregor\n",
       "\n",
       "[440 rows x 3 columns]"
      ]
     },
     "execution_count": 44,
     "metadata": {},
     "output_type": "execute_result"
    }
   ],
   "source": [
    "df = pd.DataFrame(data = data, \n",
    "                  columns = [\"processors\", \"time\", \"name\"])\n",
    "df"
   ]
  },
  {
   "cell_type": "code",
   "execution_count": 45,
   "id": "6635062e-3eff-4982-b024-66f382c7c866",
   "metadata": {},
   "outputs": [
    {
     "data": {
      "text/plain": [
       "<AxesSubplot:xlabel='processors', ylabel='time'>"
      ]
     },
     "execution_count": 45,
     "metadata": {},
     "output_type": "execute_result"
    },
    {
     "data": {
      "image/png": "[encoded data removed]",
      "text/plain": [
       "<Figure size 432x288 with 1 Axes>"
      ]
     },
     "metadata": {
      "needs_background": "light"
     },
     "output_type": "display_data"
    }
   ],
   "source": [
    "sns.lineplot(data=df, x=\"processors\", y=\"time\", hue=\"name\")\n"
   ]
  },
  {
   "cell_type": "code",
   "execution_count": null,
   "id": "8a87037e-4540-48cc-8248-13c666013b71",
   "metadata": {},
   "outputs": [],
   "source": []
  },
  {
   "cell_type": "code",
   "execution_count": null,
   "id": "3417cfa3-8847-4b92-a937-dea7f5751d84",
   "metadata": {},
   "outputs": [],
   "source": []
  }
 ],
 "metadata": {
  "kernelspec": {
   "display_name": "Python 3 (ipykernel)",
   "language": "python",
   "name": "python3"
  },
  "language_info": {
   "codemirror_mode": {
    "name": "ipython",
    "version": 3
   },
   "file_extension": ".py",
   "mimetype": "text/x-python",
   "name": "python",
   "nbconvert_exporter": "python",
   "pygments_lexer": "ipython3",
   "version": "3.10.2"
  }
 },
 "nbformat": 4,
 "nbformat_minor": 5
}
