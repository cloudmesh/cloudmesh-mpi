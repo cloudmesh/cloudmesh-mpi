{
 "cells": [
  {
   "cell_type": "code",
   "execution_count": 3,
   "id": "94187274-c6ac-4299-8754-c6e82ad34375",
   "metadata": {},
   "outputs": [
    {
     "name": "stdout",
     "output_type": "stream",
     "text": [
      "/home/green/ENV3/bin/python\n"
     ]
    }
   ],
   "source": [
    "import matplotlib.pyplot as plt\n",
    "import seaborn as sns\n",
    "import pandas as pd\n",
    "\n",
    "from analysis import read_log, read_logs\n",
    "from analysis import generate_average\n",
    "\n",
    "!which python\n"
   ]
  },
  {
   "cell_type": "code",
   "execution_count": 4,
   "id": "76a80606-0ee9-4a52-9925-8fa9e6eee571",
   "metadata": {},
   "outputs": [],
   "source": [
    "size = 100\n",
    "tag = \"multiprocessing_mergesort\""
   ]
  },
  {
   "cell_type": "code",
   "execution_count": 5,
   "id": "3a76b9ed-d8a3-48a8-9210-1c1abdbf3961",
   "metadata": {},
   "outputs": [],
   "source": [
    "data = []\n",
    "\n",
    "files = [\"alex\", \"gregor\"]\n",
    "\n",
    "for file in files:\n",
    "    content = read_log(file, size=size)\n",
    "    data = data + content\n",
    "        \n",
    "# data"
   ]
  },
  {
   "cell_type": "code",
   "execution_count": 12,
   "id": "1fe2381a-7f8c-4d5b-ab52-74dc68b6135b",
   "metadata": {},
   "outputs": [
    {
     "data": {
      "text/html": [
       "<div>\n",
       "<style scoped>\n",
       "    .dataframe tbody tr th:only-of-type {\n",
       "        vertical-align: middle;\n",
       "    }\n",
       "\n",
       "    .dataframe tbody tr th {\n",
       "        vertical-align: top;\n",
       "    }\n",
       "\n",
       "    .dataframe thead th {\n",
       "        text-align: right;\n",
       "    }\n",
       "</style>\n",
       "<table border=\"1\" class=\"dataframe\">\n",
       "  <thead>\n",
       "    <tr style=\"text-align: right;\">\n",
       "      <th></th>\n",
       "      <th>processors</th>\n",
       "      <th>time</th>\n",
       "      <th>size</th>\n",
       "      <th>name</th>\n",
       "      <th>tag</th>\n",
       "      <th>speedup</th>\n",
       "    </tr>\n",
       "  </thead>\n",
       "  <tbody>\n",
       "    <tr>\n",
       "      <th>0</th>\n",
       "      <td>1</td>\n",
       "      <td>0.389</td>\n",
       "      <td>100</td>\n",
       "      <td>alex</td>\n",
       "      <td>multiprocessing_mergesort</td>\n",
       "      <td>2.136247</td>\n",
       "    </tr>\n",
       "    <tr>\n",
       "      <th>1</th>\n",
       "      <td>1</td>\n",
       "      <td>0.319</td>\n",
       "      <td>100</td>\n",
       "      <td>alex</td>\n",
       "      <td>multiprocessing_mergesort</td>\n",
       "      <td>2.605016</td>\n",
       "    </tr>\n",
       "    <tr>\n",
       "      <th>2</th>\n",
       "      <td>1</td>\n",
       "      <td>0.322</td>\n",
       "      <td>100</td>\n",
       "      <td>alex</td>\n",
       "      <td>multiprocessing_mergesort</td>\n",
       "      <td>2.580745</td>\n",
       "    </tr>\n",
       "    <tr>\n",
       "      <th>3</th>\n",
       "      <td>1</td>\n",
       "      <td>0.318</td>\n",
       "      <td>100</td>\n",
       "      <td>alex</td>\n",
       "      <td>multiprocessing_mergesort</td>\n",
       "      <td>2.613208</td>\n",
       "    </tr>\n",
       "    <tr>\n",
       "      <th>4</th>\n",
       "      <td>1</td>\n",
       "      <td>0.315</td>\n",
       "      <td>100</td>\n",
       "      <td>alex</td>\n",
       "      <td>multiprocessing_mergesort</td>\n",
       "      <td>2.638095</td>\n",
       "    </tr>\n",
       "    <tr>\n",
       "      <th>...</th>\n",
       "      <td>...</td>\n",
       "      <td>...</td>\n",
       "      <td>...</td>\n",
       "      <td>...</td>\n",
       "      <td>...</td>\n",
       "      <td>...</td>\n",
       "    </tr>\n",
       "    <tr>\n",
       "      <th>147</th>\n",
       "      <td>5</td>\n",
       "      <td>0.006</td>\n",
       "      <td>100</td>\n",
       "      <td>gregor</td>\n",
       "      <td>multiprocessing_mergesort</td>\n",
       "      <td>138.500000</td>\n",
       "    </tr>\n",
       "    <tr>\n",
       "      <th>148</th>\n",
       "      <td>4</td>\n",
       "      <td>0.005</td>\n",
       "      <td>100</td>\n",
       "      <td>gregor</td>\n",
       "      <td>multiprocessing_mergesort</td>\n",
       "      <td>166.200000</td>\n",
       "    </tr>\n",
       "    <tr>\n",
       "      <th>149</th>\n",
       "      <td>3</td>\n",
       "      <td>0.004</td>\n",
       "      <td>100</td>\n",
       "      <td>gregor</td>\n",
       "      <td>multiprocessing_mergesort</td>\n",
       "      <td>207.750000</td>\n",
       "    </tr>\n",
       "    <tr>\n",
       "      <th>150</th>\n",
       "      <td>2</td>\n",
       "      <td>0.005</td>\n",
       "      <td>100</td>\n",
       "      <td>gregor</td>\n",
       "      <td>multiprocessing_mergesort</td>\n",
       "      <td>166.200000</td>\n",
       "    </tr>\n",
       "    <tr>\n",
       "      <th>151</th>\n",
       "      <td>1</td>\n",
       "      <td>0.012</td>\n",
       "      <td>100</td>\n",
       "      <td>gregor</td>\n",
       "      <td>multiprocessing_mergesort</td>\n",
       "      <td>69.250000</td>\n",
       "    </tr>\n",
       "  </tbody>\n",
       "</table>\n",
       "<p>152 rows × 6 columns</p>\n",
       "</div>"
      ],
      "text/plain": [
       "     processors   time  size    name                        tag     speedup\n",
       "0             1  0.389   100    alex  multiprocessing_mergesort    2.136247\n",
       "1             1  0.319   100    alex  multiprocessing_mergesort    2.605016\n",
       "2             1  0.322   100    alex  multiprocessing_mergesort    2.580745\n",
       "3             1  0.318   100    alex  multiprocessing_mergesort    2.613208\n",
       "4             1  0.315   100    alex  multiprocessing_mergesort    2.638095\n",
       "..          ...    ...   ...     ...                        ...         ...\n",
       "147           5  0.006   100  gregor  multiprocessing_mergesort  138.500000\n",
       "148           4  0.005   100  gregor  multiprocessing_mergesort  166.200000\n",
       "149           3  0.004   100  gregor  multiprocessing_mergesort  207.750000\n",
       "150           2  0.005   100  gregor  multiprocessing_mergesort  166.200000\n",
       "151           1  0.012   100  gregor  multiprocessing_mergesort   69.250000\n",
       "\n",
       "[152 rows x 6 columns]"
      ]
     },
     "execution_count": 12,
     "metadata": {},
     "output_type": "execute_result"
    }
   ],
   "source": [
    "df = pd.DataFrame(data = data, \n",
    "                  columns = [\"processors\", \"time\", \"size\", \"name\", \"tag\"])\n",
    "df[\"speedup\"] = df[\"time\"].max()  / df[\"time\"] \n",
    "df"
   ]
  },
  {
   "cell_type": "code",
   "execution_count": 13,
   "id": "bc9a8c8a-90b0-40c9-a13c-12269bffd0d2",
   "metadata": {},
   "outputs": [],
   "source": [
    "def plot_benchmark_by_size(df, size=None, tag=None, files=None, x=\"processors\", y=\"time\"):\n",
    "    names = \"-\".join(files)\n",
    "    sns.lineplot(data=df, x=x, y=y, hue=\"name\");\n",
    "    t = tag.title()\n",
    "    label = f\"{t}, Size={size}\".replace(\"_\", \" \")\n",
    "    plt.title(f\"{label}\");\n",
    "    if \"time\" in y: y = f\"{y}/s\"\n",
    "    if \"time\" in x: x = f\"{x}/s\"\n",
    "    plt.xlabel(x.capitalize());\n",
    "    plt.ylabel(y.capitalize());\n",
    "    plt.savefig(f\"images/by-size-{size}-{tag}-{names}.png\")\n",
    "    plt.savefig(f\"images/by-size-{size}-{tag}-{names}.pdf\")\n",
    "    "
   ]
  },
  {
   "cell_type": "code",
   "execution_count": 14,
   "id": "b467aa79-7037-4a03-ac53-9244340ea374",
   "metadata": {},
   "outputs": [
    {
     "data": {
      "image/png": "[encoded data removed]",
      "text/plain": [
       "<Figure size 432x288 with 1 Axes>"
      ]
     },
     "metadata": {
      "needs_background": "light"
     },
     "output_type": "display_data"
    }
   ],
   "source": [
    "plot_benchmark_by_size(df, size, tag, files)"
   ]
  },
  {
   "cell_type": "code",
   "execution_count": 15,
   "id": "28feb54a-ac06-430a-b954-bebbca293704",
   "metadata": {},
   "outputs": [
    {
     "data": {
      "image/png": "[encoded data removed]",
      "text/plain": [
       "<Figure size 432x288 with 1 Axes>"
      ]
     },
     "metadata": {
      "needs_background": "light"
     },
     "output_type": "display_data"
    }
   ],
   "source": [
    "plot_benchmark_by_size(df, size=size, tag=tag, files=files, x=\"processors\", y=\"speedup\")"
   ]
  },
  {
   "cell_type": "code",
   "execution_count": 16,
   "id": "8a87037e-4540-48cc-8248-13c666013b71",
   "metadata": {},
   "outputs": [
    {
     "data": {
      "text/html": [
       "<div>\n",
       "<style scoped>\n",
       "    .dataframe tbody tr th:only-of-type {\n",
       "        vertical-align: middle;\n",
       "    }\n",
       "\n",
       "    .dataframe tbody tr th {\n",
       "        vertical-align: top;\n",
       "    }\n",
       "\n",
       "    .dataframe thead th {\n",
       "        text-align: right;\n",
       "    }\n",
       "</style>\n",
       "<table border=\"1\" class=\"dataframe\">\n",
       "  <thead>\n",
       "    <tr style=\"text-align: right;\">\n",
       "      <th></th>\n",
       "      <th></th>\n",
       "      <th></th>\n",
       "      <th></th>\n",
       "      <th>time</th>\n",
       "      <th>speedup</th>\n",
       "      <th>tag</th>\n",
       "      <th>name</th>\n",
       "    </tr>\n",
       "    <tr>\n",
       "      <th>processors</th>\n",
       "      <th>name</th>\n",
       "      <th>size</th>\n",
       "      <th>tag</th>\n",
       "      <th></th>\n",
       "      <th></th>\n",
       "      <th></th>\n",
       "      <th></th>\n",
       "    </tr>\n",
       "  </thead>\n",
       "  <tbody>\n",
       "    <tr>\n",
       "      <th>1</th>\n",
       "      <th>alex</th>\n",
       "      <th>100</th>\n",
       "      <th>multiprocessing_mergesort</th>\n",
       "      <td>0.3239</td>\n",
       "      <td>2.575592</td>\n",
       "      <td>multiprocessing_mergesort</td>\n",
       "      <td>alex</td>\n",
       "    </tr>\n",
       "    <tr>\n",
       "      <th>2</th>\n",
       "      <th>alex</th>\n",
       "      <th>100</th>\n",
       "      <th>multiprocessing_mergesort</th>\n",
       "      <td>0.3042</td>\n",
       "      <td>2.731925</td>\n",
       "      <td>multiprocessing_mergesort</td>\n",
       "      <td>alex</td>\n",
       "    </tr>\n",
       "    <tr>\n",
       "      <th>3</th>\n",
       "      <th>alex</th>\n",
       "      <th>100</th>\n",
       "      <th>multiprocessing_mergesort</th>\n",
       "      <td>0.3101</td>\n",
       "      <td>2.679916</td>\n",
       "      <td>multiprocessing_mergesort</td>\n",
       "      <td>alex</td>\n",
       "    </tr>\n",
       "    <tr>\n",
       "      <th>4</th>\n",
       "      <th>alex</th>\n",
       "      <th>100</th>\n",
       "      <th>multiprocessing_mergesort</th>\n",
       "      <td>0.3238</td>\n",
       "      <td>2.566828</td>\n",
       "      <td>multiprocessing_mergesort</td>\n",
       "      <td>alex</td>\n",
       "    </tr>\n",
       "    <tr>\n",
       "      <th>5</th>\n",
       "      <th>alex</th>\n",
       "      <th>100</th>\n",
       "      <th>multiprocessing_mergesort</th>\n",
       "      <td>0.3417</td>\n",
       "      <td>2.432238</td>\n",
       "      <td>multiprocessing_mergesort</td>\n",
       "      <td>alex</td>\n",
       "    </tr>\n",
       "  </tbody>\n",
       "</table>\n",
       "</div>"
      ],
      "text/plain": [
       "                                                  time   speedup  \\\n",
       "processors name size tag                                           \n",
       "1          alex 100  multiprocessing_mergesort  0.3239  2.575592   \n",
       "2          alex 100  multiprocessing_mergesort  0.3042  2.731925   \n",
       "3          alex 100  multiprocessing_mergesort  0.3101  2.679916   \n",
       "4          alex 100  multiprocessing_mergesort  0.3238  2.566828   \n",
       "5          alex 100  multiprocessing_mergesort  0.3417  2.432238   \n",
       "\n",
       "                                                                      tag  \\\n",
       "processors name size tag                                                    \n",
       "1          alex 100  multiprocessing_mergesort  multiprocessing_mergesort   \n",
       "2          alex 100  multiprocessing_mergesort  multiprocessing_mergesort   \n",
       "3          alex 100  multiprocessing_mergesort  multiprocessing_mergesort   \n",
       "4          alex 100  multiprocessing_mergesort  multiprocessing_mergesort   \n",
       "5          alex 100  multiprocessing_mergesort  multiprocessing_mergesort   \n",
       "\n",
       "                                                name  \n",
       "processors name size tag                              \n",
       "1          alex 100  multiprocessing_mergesort  alex  \n",
       "2          alex 100  multiprocessing_mergesort  alex  \n",
       "3          alex 100  multiprocessing_mergesort  alex  \n",
       "4          alex 100  multiprocessing_mergesort  alex  \n",
       "5          alex 100  multiprocessing_mergesort  alex  "
      ]
     },
     "execution_count": 16,
     "metadata": {},
     "output_type": "execute_result"
    }
   ],
   "source": [
    "avg = pd.DataFrame()\n",
    "for name in files:\n",
    "    _df = generate_average(df, tag=\"multiprocessing_mergesort\", name=name, size=100)\n",
    "    avg = pd.concat([avg, _df])\n",
    "avg.head()"
   ]
  },
  {
   "cell_type": "code",
   "execution_count": 17,
   "id": "3417cfa3-8847-4b92-a937-dea7f5751d84",
   "metadata": {},
   "outputs": [
    {
     "name": "stdout",
     "output_type": "stream",
     "text": [
      "['alex', 'gregor'] 100 multiprocessing_mergesort\n"
     ]
    },
    {
     "data": {
      "image/png": "[encoded data removed]",
      "text/plain": [
       "<Figure size 432x288 with 1 Axes>"
      ]
     },
     "metadata": {
      "needs_background": "light"
     },
     "output_type": "display_data"
    }
   ],
   "source": [
    "print(files, size, tag)\n",
    "plot_benchmark_by_size(avg, size=size, tag=tag, files=files)"
   ]
  },
  {
   "cell_type": "code",
   "execution_count": 20,
   "id": "5abe3bd8-f317-4a04-b855-c757bfefeffb",
   "metadata": {},
   "outputs": [],
   "source": [
    "speedup = pd.DataFrame(avg)\n",
    "speedup[\"p\"] = speedup.index.get_level_values(0).astype(float)\n",
    "speedup[\"speedup\"] = speedup[\"time\"].max() / speedup[\"p\"]"
   ]
  },
  {
   "cell_type": "code",
   "execution_count": 21,
   "id": "c6a1bbb1-0805-4c69-b16b-23859af0fe6c",
   "metadata": {},
   "outputs": [
    {
     "data": {
      "text/html": [
       "<div>\n",
       "<style scoped>\n",
       "    .dataframe tbody tr th:only-of-type {\n",
       "        vertical-align: middle;\n",
       "    }\n",
       "\n",
       "    .dataframe tbody tr th {\n",
       "        vertical-align: top;\n",
       "    }\n",
       "\n",
       "    .dataframe thead th {\n",
       "        text-align: right;\n",
       "    }\n",
       "</style>\n",
       "<table border=\"1\" class=\"dataframe\">\n",
       "  <thead>\n",
       "    <tr style=\"text-align: right;\">\n",
       "      <th></th>\n",
       "      <th></th>\n",
       "      <th></th>\n",
       "      <th></th>\n",
       "      <th>time</th>\n",
       "      <th>speedup</th>\n",
       "      <th>tag</th>\n",
       "      <th>name</th>\n",
       "      <th>p</th>\n",
       "    </tr>\n",
       "    <tr>\n",
       "      <th>processors</th>\n",
       "      <th>name</th>\n",
       "      <th>size</th>\n",
       "      <th>tag</th>\n",
       "      <th></th>\n",
       "      <th></th>\n",
       "      <th></th>\n",
       "      <th></th>\n",
       "      <th></th>\n",
       "    </tr>\n",
       "  </thead>\n",
       "  <tbody>\n",
       "    <tr>\n",
       "      <th>1</th>\n",
       "      <th>alex</th>\n",
       "      <th>100</th>\n",
       "      <th>multiprocessing_mergesort</th>\n",
       "      <td>0.3239</td>\n",
       "      <td>0.742700</td>\n",
       "      <td>multiprocessing_mergesort</td>\n",
       "      <td>alex</td>\n",
       "      <td>1.0</td>\n",
       "    </tr>\n",
       "    <tr>\n",
       "      <th>2</th>\n",
       "      <th>alex</th>\n",
       "      <th>100</th>\n",
       "      <th>multiprocessing_mergesort</th>\n",
       "      <td>0.3042</td>\n",
       "      <td>0.371350</td>\n",
       "      <td>multiprocessing_mergesort</td>\n",
       "      <td>alex</td>\n",
       "      <td>2.0</td>\n",
       "    </tr>\n",
       "    <tr>\n",
       "      <th>3</th>\n",
       "      <th>alex</th>\n",
       "      <th>100</th>\n",
       "      <th>multiprocessing_mergesort</th>\n",
       "      <td>0.3101</td>\n",
       "      <td>0.247567</td>\n",
       "      <td>multiprocessing_mergesort</td>\n",
       "      <td>alex</td>\n",
       "      <td>3.0</td>\n",
       "    </tr>\n",
       "    <tr>\n",
       "      <th>4</th>\n",
       "      <th>alex</th>\n",
       "      <th>100</th>\n",
       "      <th>multiprocessing_mergesort</th>\n",
       "      <td>0.3238</td>\n",
       "      <td>0.185675</td>\n",
       "      <td>multiprocessing_mergesort</td>\n",
       "      <td>alex</td>\n",
       "      <td>4.0</td>\n",
       "    </tr>\n",
       "    <tr>\n",
       "      <th>5</th>\n",
       "      <th>alex</th>\n",
       "      <th>100</th>\n",
       "      <th>multiprocessing_mergesort</th>\n",
       "      <td>0.3417</td>\n",
       "      <td>0.148540</td>\n",
       "      <td>multiprocessing_mergesort</td>\n",
       "      <td>alex</td>\n",
       "      <td>5.0</td>\n",
       "    </tr>\n",
       "  </tbody>\n",
       "</table>\n",
       "</div>"
      ],
      "text/plain": [
       "                                                  time   speedup  \\\n",
       "processors name size tag                                           \n",
       "1          alex 100  multiprocessing_mergesort  0.3239  0.742700   \n",
       "2          alex 100  multiprocessing_mergesort  0.3042  0.371350   \n",
       "3          alex 100  multiprocessing_mergesort  0.3101  0.247567   \n",
       "4          alex 100  multiprocessing_mergesort  0.3238  0.185675   \n",
       "5          alex 100  multiprocessing_mergesort  0.3417  0.148540   \n",
       "\n",
       "                                                                      tag  \\\n",
       "processors name size tag                                                    \n",
       "1          alex 100  multiprocessing_mergesort  multiprocessing_mergesort   \n",
       "2          alex 100  multiprocessing_mergesort  multiprocessing_mergesort   \n",
       "3          alex 100  multiprocessing_mergesort  multiprocessing_mergesort   \n",
       "4          alex 100  multiprocessing_mergesort  multiprocessing_mergesort   \n",
       "5          alex 100  multiprocessing_mergesort  multiprocessing_mergesort   \n",
       "\n",
       "                                                name    p  \n",
       "processors name size tag                                   \n",
       "1          alex 100  multiprocessing_mergesort  alex  1.0  \n",
       "2          alex 100  multiprocessing_mergesort  alex  2.0  \n",
       "3          alex 100  multiprocessing_mergesort  alex  3.0  \n",
       "4          alex 100  multiprocessing_mergesort  alex  4.0  \n",
       "5          alex 100  multiprocessing_mergesort  alex  5.0  "
      ]
     },
     "execution_count": 21,
     "metadata": {},
     "output_type": "execute_result"
    }
   ],
   "source": [
    "speedup. head()"
   ]
  },
  {
   "cell_type": "code",
   "execution_count": 22,
   "id": "1ddc1fc1-81b8-490f-975b-4263ca74114f",
   "metadata": {
    "pycharm": {
     "name": "#%%\n"
    }
   },
   "outputs": [
    {
     "data": {
      "image/png": "[encoded data removed]",
      "text/plain": [
       "<Figure size 432x288 with 1 Axes>"
      ]
     },
     "metadata": {
      "needs_background": "light"
     },
     "output_type": "display_data"
    }
   ],
   "source": [
    "plot_benchmark_by_size(avg, size=size, tag=tag, files=files, x=\"processors\", y=\"speedup\")"
   ]
  }
 ],
 "metadata": {
  "kernelspec": {
   "display_name": "Python 3 (ipykernel)",
   "language": "python",
   "name": "python3"
  },
  "language_info": {
   "codemirror_mode": {
    "name": "ipython",
    "version": 3
   },
   "file_extension": ".py",
   "mimetype": "text/x-python",
   "name": "python",
   "nbconvert_exporter": "python",
   "pygments_lexer": "ipython3",
   "version": "3.10.2"
  }
 },
 "nbformat": 4,
 "nbformat_minor": 5
}
