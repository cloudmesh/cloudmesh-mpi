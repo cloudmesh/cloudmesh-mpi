{
 "cells": [
  {
   "cell_type": "code",
   "execution_count": 1,
   "id": "94187274-c6ac-4299-8754-c6e82ad34375",
   "metadata": {},
   "outputs": [
    {
     "name": "stdout",
     "output_type": "stream",
     "text": [
      "/home/green/ENV3/bin/python\r\n"
     ]
    }
   ],
   "source": [
    "import matplotlib.pyplot as plt\n",
    "import matplotlib.pyplot as plt\n",
    "import seaborn as sns\n",
    "import pandas as pd\n",
    "\n",
    "from analysis import read_log, read_logs\n",
    "from analysis import generate_average\n",
    "\n",
    "!which python\n"
   ]
  },
  {
   "cell_type": "code",
   "execution_count": 2,
   "id": "76a80606-0ee9-4a52-9925-8fa9e6eee571",
   "metadata": {},
   "outputs": [],
   "source": [
    "size = 10000000\n",
    "tag = \"multiprocessing_mergesort\""
   ]
  },
  {
   "cell_type": "code",
   "execution_count": 3,
   "id": "3a76b9ed-d8a3-48a8-9210-1c1abdbf3961",
   "metadata": {},
   "outputs": [],
   "source": [
    "data = []\n",
    "\n",
    "#files = [\"alex\", \"gregor\"]\n",
    "files = [\"gregor\"]\n",
    "\n",
    "for file in files:\n",
    "    content = read_log(file, size=size)\n",
    "    data = data + content\n",
    "        \n",
    "# data"
   ]
  },
  {
   "cell_type": "code",
   "execution_count": 4,
   "id": "1fe2381a-7f8c-4d5b-ab52-74dc68b6135b",
   "metadata": {},
   "outputs": [
    {
     "data": {
      "text/html": [
       "<div>\n",
       "<style scoped>\n",
       "    .dataframe tbody tr th:only-of-type {\n",
       "        vertical-align: middle;\n",
       "    }\n",
       "\n",
       "    .dataframe tbody tr th {\n",
       "        vertical-align: top;\n",
       "    }\n",
       "\n",
       "    .dataframe thead th {\n",
       "        text-align: right;\n",
       "    }\n",
       "</style>\n",
       "<table border=\"1\" class=\"dataframe\">\n",
       "  <thead>\n",
       "    <tr style=\"text-align: right;\">\n",
       "      <th></th>\n",
       "      <th>processors</th>\n",
       "      <th>time</th>\n",
       "      <th>size</th>\n",
       "      <th>name</th>\n",
       "      <th>tag</th>\n",
       "      <th>speedup</th>\n",
       "    </tr>\n",
       "  </thead>\n",
       "  <tbody>\n",
       "    <tr>\n",
       "      <th>0</th>\n",
       "      <td>32</td>\n",
       "      <td>7.318</td>\n",
       "      <td>10000000</td>\n",
       "      <td>gregor</td>\n",
       "      <td>multiprocessing_mergesort</td>\n",
       "      <td>1.000000</td>\n",
       "    </tr>\n",
       "    <tr>\n",
       "      <th>1</th>\n",
       "      <td>31</td>\n",
       "      <td>7.232</td>\n",
       "      <td>10000000</td>\n",
       "      <td>gregor</td>\n",
       "      <td>multiprocessing_mergesort</td>\n",
       "      <td>1.011892</td>\n",
       "    </tr>\n",
       "    <tr>\n",
       "      <th>2</th>\n",
       "      <td>30</td>\n",
       "      <td>7.411</td>\n",
       "      <td>10000000</td>\n",
       "      <td>gregor</td>\n",
       "      <td>multiprocessing_mergesort</td>\n",
       "      <td>0.987451</td>\n",
       "    </tr>\n",
       "    <tr>\n",
       "      <th>3</th>\n",
       "      <td>29</td>\n",
       "      <td>7.414</td>\n",
       "      <td>10000000</td>\n",
       "      <td>gregor</td>\n",
       "      <td>multiprocessing_mergesort</td>\n",
       "      <td>0.987052</td>\n",
       "    </tr>\n",
       "    <tr>\n",
       "      <th>4</th>\n",
       "      <td>28</td>\n",
       "      <td>7.458</td>\n",
       "      <td>10000000</td>\n",
       "      <td>gregor</td>\n",
       "      <td>multiprocessing_mergesort</td>\n",
       "      <td>0.981228</td>\n",
       "    </tr>\n",
       "  </tbody>\n",
       "</table>\n",
       "</div>"
      ],
      "text/plain": [
       "   processors   time      size    name                        tag   speedup\n",
       "0          32  7.318  10000000  gregor  multiprocessing_mergesort  1.000000\n",
       "1          31  7.232  10000000  gregor  multiprocessing_mergesort  1.011892\n",
       "2          30  7.411  10000000  gregor  multiprocessing_mergesort  0.987451\n",
       "3          29  7.414  10000000  gregor  multiprocessing_mergesort  0.987052\n",
       "4          28  7.458  10000000  gregor  multiprocessing_mergesort  0.981228"
      ]
     },
     "execution_count": 4,
     "metadata": {},
     "output_type": "execute_result"
    }
   ],
   "source": [
    "df = pd.DataFrame(data = data, \n",
    "                  columns = [\"processors\", \"time\", \"size\", \"name\", \"tag\"])\n",
    "df[\"speedup\"] = df[\"time\"][0] / df[\"time\"]  \n",
    "df.head()"
   ]
  },
  {
   "cell_type": "code",
   "execution_count": 5,
   "id": "ec979999-d114-4bb1-9879-11afb227bba1",
   "metadata": {},
   "outputs": [
    {
     "data": {
      "text/html": [
       "<div>\n",
       "<style scoped>\n",
       "    .dataframe tbody tr th:only-of-type {\n",
       "        vertical-align: middle;\n",
       "    }\n",
       "\n",
       "    .dataframe tbody tr th {\n",
       "        vertical-align: top;\n",
       "    }\n",
       "\n",
       "    .dataframe thead th {\n",
       "        text-align: right;\n",
       "    }\n",
       "</style>\n",
       "<table border=\"1\" class=\"dataframe\">\n",
       "  <thead>\n",
       "    <tr style=\"text-align: right;\">\n",
       "      <th></th>\n",
       "      <th>processors</th>\n",
       "      <th>time</th>\n",
       "      <th>size</th>\n",
       "      <th>speedup</th>\n",
       "    </tr>\n",
       "  </thead>\n",
       "  <tbody>\n",
       "    <tr>\n",
       "      <th>count</th>\n",
       "      <td>32.000000</td>\n",
       "      <td>32.000000</td>\n",
       "      <td>32.0</td>\n",
       "      <td>32.000000</td>\n",
       "    </tr>\n",
       "    <tr>\n",
       "      <th>mean</th>\n",
       "      <td>16.500000</td>\n",
       "      <td>10.605844</td>\n",
       "      <td>10000000.0</td>\n",
       "      <td>0.820339</td>\n",
       "    </tr>\n",
       "    <tr>\n",
       "      <th>std</th>\n",
       "      <td>9.380832</td>\n",
       "      <td>8.309627</td>\n",
       "      <td>0.0</td>\n",
       "      <td>0.205255</td>\n",
       "    </tr>\n",
       "    <tr>\n",
       "      <th>min</th>\n",
       "      <td>1.000000</td>\n",
       "      <td>7.232000</td>\n",
       "      <td>10000000.0</td>\n",
       "      <td>0.137745</td>\n",
       "    </tr>\n",
       "    <tr>\n",
       "      <th>25%</th>\n",
       "      <td>8.750000</td>\n",
       "      <td>7.678000</td>\n",
       "      <td>10000000.0</td>\n",
       "      <td>0.775879</td>\n",
       "    </tr>\n",
       "    <tr>\n",
       "      <th>50%</th>\n",
       "      <td>16.500000</td>\n",
       "      <td>8.218500</td>\n",
       "      <td>10000000.0</td>\n",
       "      <td>0.890436</td>\n",
       "    </tr>\n",
       "    <tr>\n",
       "      <th>75%</th>\n",
       "      <td>24.250000</td>\n",
       "      <td>9.432000</td>\n",
       "      <td>10000000.0</td>\n",
       "      <td>0.953113</td>\n",
       "    </tr>\n",
       "    <tr>\n",
       "      <th>max</th>\n",
       "      <td>32.000000</td>\n",
       "      <td>53.127000</td>\n",
       "      <td>10000000.0</td>\n",
       "      <td>1.011892</td>\n",
       "    </tr>\n",
       "  </tbody>\n",
       "</table>\n",
       "</div>"
      ],
      "text/plain": [
       "       processors       time        size    speedup\n",
       "count   32.000000  32.000000        32.0  32.000000\n",
       "mean    16.500000  10.605844  10000000.0   0.820339\n",
       "std      9.380832   8.309627         0.0   0.205255\n",
       "min      1.000000   7.232000  10000000.0   0.137745\n",
       "25%      8.750000   7.678000  10000000.0   0.775879\n",
       "50%     16.500000   8.218500  10000000.0   0.890436\n",
       "75%     24.250000   9.432000  10000000.0   0.953113\n",
       "max     32.000000  53.127000  10000000.0   1.011892"
      ]
     },
     "execution_count": 5,
     "metadata": {},
     "output_type": "execute_result"
    }
   ],
   "source": [
    "df.describe()"
   ]
  },
  {
   "cell_type": "code",
   "execution_count": 5,
   "id": "a733104e-29c0-487c-b7a1-385659a90b43",
   "metadata": {},
   "outputs": [],
   "source": []
  },
  {
   "cell_type": "code",
   "execution_count": 6,
   "id": "bc9a8c8a-90b0-40c9-a13c-12269bffd0d2",
   "metadata": {},
   "outputs": [],
   "source": [
    "def plot_benchmark_by_size(df, size=None, tag=None, files=None, x=\"processors\", y=\"time\"):\n",
    "    names = \"-\".join(files)\n",
    "    sns.lineplot(data=df, x=x, y=y, hue=\"name\");\n",
    "    t = tag.title()\n",
    "    label = f\"{t}, Size={size}\".replace(\"_\", \" \")\n",
    "    plt.title(f\"{label}\");\n",
    "    if \"time\" in y: y = f\"{y}/s\"\n",
    "    if \"time\" in x: x = f\"{x}/s\"\n",
    "    plt.xlabel(x.capitalize());\n",
    "    plt.ylabel(y.capitalize());\n",
    "    plt.savefig(f\"images/by-size-{size}-{tag}-{names}.png\")\n",
    "    plt.savefig(f\"images/by-size-{size}-{tag}-{names}.pdf\")\n",
    "    "
   ]
  },
  {
   "cell_type": "code",
   "execution_count": 7,
   "id": "b467aa79-7037-4a03-ac53-9244340ea374",
   "metadata": {},
   "outputs": [
    {
     "data": {
      "image/png": "[encoded data removed]",
      "text/plain": [
       "<Figure size 432x288 with 1 Axes>"
      ]
     },
     "metadata": {
      "needs_background": "light"
     },
     "output_type": "display_data"
    }
   ],
   "source": [
    "plot_benchmark_by_size(df, size, tag, files)"
   ]
  },
  {
   "cell_type": "code",
   "execution_count": 8,
   "id": "28feb54a-ac06-430a-b954-bebbca293704",
   "metadata": {},
   "outputs": [
    {
     "data": {
      "image/png": "[encoded data removed]",
      "text/plain": [
       "<Figure size 432x288 with 1 Axes>"
      ]
     },
     "metadata": {
      "needs_background": "light"
     },
     "output_type": "display_data"
    }
   ],
   "source": [
    "plot_benchmark_by_size(df, size=size, tag=tag, files=files, x=\"processors\", y=\"speedup\")"
   ]
  },
  {
   "cell_type": "code",
   "execution_count": 9,
   "id": "9e8d5031-30ba-45f8-88ac-f50872d89110",
   "metadata": {},
   "outputs": [
    {
     "data": {
      "text/html": [
       "<div>\n",
       "<style scoped>\n",
       "    .dataframe tbody tr th:only-of-type {\n",
       "        vertical-align: middle;\n",
       "    }\n",
       "\n",
       "    .dataframe tbody tr th {\n",
       "        vertical-align: top;\n",
       "    }\n",
       "\n",
       "    .dataframe thead th {\n",
       "        text-align: right;\n",
       "    }\n",
       "</style>\n",
       "<table border=\"1\" class=\"dataframe\">\n",
       "  <thead>\n",
       "    <tr style=\"text-align: right;\">\n",
       "      <th></th>\n",
       "      <th>processors</th>\n",
       "      <th>time</th>\n",
       "      <th>size</th>\n",
       "      <th>speedup</th>\n",
       "    </tr>\n",
       "  </thead>\n",
       "  <tbody>\n",
       "    <tr>\n",
       "      <th>count</th>\n",
       "      <td>32.000000</td>\n",
       "      <td>32.000000</td>\n",
       "      <td>32.0</td>\n",
       "      <td>32.000000</td>\n",
       "    </tr>\n",
       "    <tr>\n",
       "      <th>mean</th>\n",
       "      <td>16.500000</td>\n",
       "      <td>10.605844</td>\n",
       "      <td>10000000.0</td>\n",
       "      <td>0.820339</td>\n",
       "    </tr>\n",
       "    <tr>\n",
       "      <th>std</th>\n",
       "      <td>9.380832</td>\n",
       "      <td>8.309627</td>\n",
       "      <td>0.0</td>\n",
       "      <td>0.205255</td>\n",
       "    </tr>\n",
       "    <tr>\n",
       "      <th>min</th>\n",
       "      <td>1.000000</td>\n",
       "      <td>7.232000</td>\n",
       "      <td>10000000.0</td>\n",
       "      <td>0.137745</td>\n",
       "    </tr>\n",
       "    <tr>\n",
       "      <th>25%</th>\n",
       "      <td>8.750000</td>\n",
       "      <td>7.678000</td>\n",
       "      <td>10000000.0</td>\n",
       "      <td>0.775879</td>\n",
       "    </tr>\n",
       "    <tr>\n",
       "      <th>50%</th>\n",
       "      <td>16.500000</td>\n",
       "      <td>8.218500</td>\n",
       "      <td>10000000.0</td>\n",
       "      <td>0.890436</td>\n",
       "    </tr>\n",
       "    <tr>\n",
       "      <th>75%</th>\n",
       "      <td>24.250000</td>\n",
       "      <td>9.432000</td>\n",
       "      <td>10000000.0</td>\n",
       "      <td>0.953113</td>\n",
       "    </tr>\n",
       "    <tr>\n",
       "      <th>max</th>\n",
       "      <td>32.000000</td>\n",
       "      <td>53.127000</td>\n",
       "      <td>10000000.0</td>\n",
       "      <td>1.011892</td>\n",
       "    </tr>\n",
       "  </tbody>\n",
       "</table>\n",
       "</div>"
      ],
      "text/plain": [
       "       processors       time        size    speedup\n",
       "count   32.000000  32.000000        32.0  32.000000\n",
       "mean    16.500000  10.605844  10000000.0   0.820339\n",
       "std      9.380832   8.309627         0.0   0.205255\n",
       "min      1.000000   7.232000  10000000.0   0.137745\n",
       "25%      8.750000   7.678000  10000000.0   0.775879\n",
       "50%     16.500000   8.218500  10000000.0   0.890436\n",
       "75%     24.250000   9.432000  10000000.0   0.953113\n",
       "max     32.000000  53.127000  10000000.0   1.011892"
      ]
     },
     "execution_count": 9,
     "metadata": {},
     "output_type": "execute_result"
    }
   ],
   "source": [
    "df.describe()"
   ]
  },
  {
   "cell_type": "code",
   "execution_count": 10,
   "id": "8a87037e-4540-48cc-8248-13c666013b71",
   "metadata": {},
   "outputs": [
    {
     "data": {
      "text/html": [
       "<div>\n",
       "<style scoped>\n",
       "    .dataframe tbody tr th:only-of-type {\n",
       "        vertical-align: middle;\n",
       "    }\n",
       "\n",
       "    .dataframe tbody tr th {\n",
       "        vertical-align: top;\n",
       "    }\n",
       "\n",
       "    .dataframe thead th {\n",
       "        text-align: right;\n",
       "    }\n",
       "</style>\n",
       "<table border=\"1\" class=\"dataframe\">\n",
       "  <thead>\n",
       "    <tr style=\"text-align: right;\">\n",
       "      <th></th>\n",
       "      <th></th>\n",
       "      <th></th>\n",
       "      <th></th>\n",
       "      <th>time</th>\n",
       "      <th>speedup</th>\n",
       "      <th>tag</th>\n",
       "      <th>name</th>\n",
       "    </tr>\n",
       "    <tr>\n",
       "      <th>processors</th>\n",
       "      <th>name</th>\n",
       "      <th>size</th>\n",
       "      <th>tag</th>\n",
       "      <th></th>\n",
       "      <th></th>\n",
       "      <th></th>\n",
       "      <th></th>\n",
       "    </tr>\n",
       "  </thead>\n",
       "  <tbody>\n",
       "  </tbody>\n",
       "</table>\n",
       "</div>"
      ],
      "text/plain": [
       "Empty DataFrame\n",
       "Columns: [time, speedup, tag, name]\n",
       "Index: []"
      ]
     },
     "execution_count": 10,
     "metadata": {},
     "output_type": "execute_result"
    }
   ],
   "source": [
    "avg = pd.DataFrame()\n",
    "for name in files:\n",
    "    _df = generate_average(df, tag=\"multiprocessing_mergesort\", name=name, size=100)\n",
    "    avg = pd.concat([avg, _df])\n",
    "avg.head()"
   ]
  },
  {
   "cell_type": "code",
   "execution_count": 11,
   "id": "3417cfa3-8847-4b92-a937-dea7f5751d84",
   "metadata": {},
   "outputs": [
    {
     "name": "stdout",
     "output_type": "stream",
     "text": [
      "['gregor'] 10000000 multiprocessing_mergesort\n"
     ]
    },
    {
     "data": {
      "image/png": "[encoded data removed]",
      "text/plain": [
       "<Figure size 432x288 with 1 Axes>"
      ]
     },
     "metadata": {
      "needs_background": "light"
     },
     "output_type": "display_data"
    }
   ],
   "source": [
    "print(files, size, tag)\n",
    "plot_benchmark_by_size(avg, size=size, tag=tag, files=files)"
   ]
  },
  {
   "cell_type": "code",
   "execution_count": 12,
   "id": "5abe3bd8-f317-4a04-b855-c757bfefeffb",
   "metadata": {},
   "outputs": [],
   "source": [
    "speedup = pd.DataFrame(avg)\n",
    "speedup[\"p\"] = speedup.index.get_level_values(0).astype(float)\n",
    "speedup[\"speedup\"] = speedup[\"time\"] / speedup[\"p\"]"
   ]
  },
  {
   "cell_type": "code",
   "execution_count": 13,
   "id": "c6a1bbb1-0805-4c69-b16b-23859af0fe6c",
   "metadata": {},
   "outputs": [
    {
     "data": {
      "text/html": [
       "<div>\n",
       "<style scoped>\n",
       "    .dataframe tbody tr th:only-of-type {\n",
       "        vertical-align: middle;\n",
       "    }\n",
       "\n",
       "    .dataframe tbody tr th {\n",
       "        vertical-align: top;\n",
       "    }\n",
       "\n",
       "    .dataframe thead th {\n",
       "        text-align: right;\n",
       "    }\n",
       "</style>\n",
       "<table border=\"1\" class=\"dataframe\">\n",
       "  <thead>\n",
       "    <tr style=\"text-align: right;\">\n",
       "      <th></th>\n",
       "      <th></th>\n",
       "      <th></th>\n",
       "      <th></th>\n",
       "      <th>time</th>\n",
       "      <th>speedup</th>\n",
       "      <th>tag</th>\n",
       "      <th>name</th>\n",
       "      <th>p</th>\n",
       "    </tr>\n",
       "    <tr>\n",
       "      <th>processors</th>\n",
       "      <th>name</th>\n",
       "      <th>size</th>\n",
       "      <th>tag</th>\n",
       "      <th></th>\n",
       "      <th></th>\n",
       "      <th></th>\n",
       "      <th></th>\n",
       "      <th></th>\n",
       "    </tr>\n",
       "  </thead>\n",
       "  <tbody>\n",
       "  </tbody>\n",
       "</table>\n",
       "</div>"
      ],
      "text/plain": [
       "Empty DataFrame\n",
       "Columns: [time, speedup, tag, name, p]\n",
       "Index: []"
      ]
     },
     "execution_count": 13,
     "metadata": {},
     "output_type": "execute_result"
    }
   ],
   "source": [
    "speedup. head()"
   ]
  },
  {
   "cell_type": "code",
   "execution_count": 14,
   "id": "1ddc1fc1-81b8-490f-975b-4263ca74114f",
   "metadata": {
    "pycharm": {
     "name": "#%%\n"
    }
   },
   "outputs": [
    {
     "data": {
      "image/png": "[encoded data removed]",
      "text/plain": [
       "<Figure size 432x288 with 1 Axes>"
      ]
     },
     "metadata": {
      "needs_background": "light"
     },
     "output_type": "display_data"
    }
   ],
   "source": [
    "plot_benchmark_by_size(avg, size=size, tag=tag, files=files, x=\"processors\", y=\"speedup\")"
   ]
  },
  {
   "cell_type": "markdown",
   "id": "f7385447",
   "metadata": {},
   "source": []
  }
 ],
 "metadata": {
  "kernelspec": {
   "display_name": "Python 3 (ipykernel)",
   "language": "python",
   "name": "python3"
  },
  "language_info": {
   "codemirror_mode": {
    "name": "ipython",
    "version": 3
   },
   "file_extension": ".py",
   "mimetype": "text/x-python",
   "name": "python",
   "nbconvert_exporter": "python",
   "pygments_lexer": "ipython3",
   "version": "3.10.2"
  }
 },
 "nbformat": 4,
 "nbformat_minor": 5
}
