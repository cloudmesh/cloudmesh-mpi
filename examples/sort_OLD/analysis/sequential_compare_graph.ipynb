{
 "cells": [
  {
   "cell_type": "code",
   "execution_count": 1,
   "metadata": {
    "collapsed": true
   },
   "outputs": [
    {
     "name": "stdout",
     "output_type": "stream",
     "text": [
      "\u001b[32mLog file sequential-data-gregor-5950x.log found\u001b[0m\n"
     ]
    }
   ],
   "source": [
    "from sequential.bubblesort import bubblesort\n",
    "from sequential.heapsort import heapsort\n",
    "from sequential.quicksort import quicksort\n",
    "from sequential.insertionsort import insertionsort\n",
    "from sequential.selectionsort import selectionsort\n",
    "from sequential.listsort import listsort\n",
    "\n",
    "#from sequential_numba.bubblesort import bubblesort as bubblesort_numba\n",
    "#from sequential_numba.heapsort import heapsort as heapsort_numba\n",
    "#from sequential_numba.quicksort import quicksort as quicksort_numba\n",
    "from sequential_numba.insertionsort import insertionsort as insertionsort_numba\n",
    "#from sequential_numba.selectionsort import selectionsort as selectionsort_numba\n",
    "\n",
    "from cloudmesh.common.Shell import Shell\n",
    "from cloudmesh.common.util import readfile\n",
    "from cloudmesh.common.console import Console\n",
    "from cloudmesh.common.StopWatch import StopWatch\n",
    "from generate import Generator\n",
    "import os\n",
    "\n",
    "user = \"gregor\"\n",
    "node = \"5950x\"\n",
    "logfile = f\"sequential-data-{user}-{node}.log\"\n",
    "\n",
    "if not os.path.exists(logfile):\n",
    "    Console.error(f\"please run `python sequential_compare.py | tee {logfile}` first\")\n",
    "else:\n",
    "    Console.ok(f\"Log file {logfile} found\")"
   ]
  },
  {
   "cell_type": "code",
   "execution_count": 28,
   "metadata": {
    "collapsed": false,
    "pycharm": {
     "name": "#%%\n"
    }
   },
   "outputs": [
    {
     "name": "stdout",
     "output_type": "stream",
     "text": [
      "[1, 3, 9, 8]\n"
     ]
    },
    {
     "data": {
      "text/plain": [
       "{'headers': ['timer', 'time', 'user', 'uname.node', 'name', 'n'],\n",
       " 'data': [['listsort 100', '0.0', 'gregor', '5950x', 'listsort', '100'],\n",
       "  ['selectionsort 100', '0.0', 'gregor', '5950x', 'selectionsort', '100'],\n",
       "  ['quicksort 100', '0.0', 'gregor', '5950x', 'quicksort', '100'],\n",
       "  ['insertionsort 100', '0.0', 'gregor', '5950x', 'insertionsort', '100'],\n",
       "  ['heapsort 100', '0.0', 'gregor', '5950x', 'heapsort', '100'],\n",
       "  ['bubblesort 100', '0.001', 'gregor', '5950x', 'bubblesort', '100'],\n",
       "  ['listsort 1000', '0.0', 'gregor', '5950x', 'listsort', '1000'],\n",
       "  ['selectionsort 1000', '0.023', 'gregor', '5950x', 'selectionsort', '1000'],\n",
       "  ['quicksort 1000', '0.001', 'gregor', '5950x', 'quicksort', '1000'],\n",
       "  ['insertionsort 1000', '0.019', 'gregor', '5950x', 'insertionsort', '1000'],\n",
       "  ['heapsort 1000', '0.002', 'gregor', '5950x', 'heapsort', '1000'],\n",
       "  ['bubblesort 1000', '0.043', 'gregor', '5950x', 'bubblesort', '1000'],\n",
       "  ['listsort 10000', '0.001', 'gregor', '5950x', 'listsort', '10000'],\n",
       "  ['selectionsort 10000',\n",
       "   '2.009',\n",
       "   'gregor',\n",
       "   '5950x',\n",
       "   'selectionsort',\n",
       "   '10000'],\n",
       "  ['quicksort 10000', '0.012', 'gregor', '5950x', 'quicksort', '10000'],\n",
       "  ['insertionsort 10000',\n",
       "   '1.863',\n",
       "   'gregor',\n",
       "   '5950x',\n",
       "   'insertionsort',\n",
       "   '10000'],\n",
       "  ['heapsort 10000', '0.029', 'gregor', '5950x', 'heapsort', '10000'],\n",
       "  ['bubblesort 10000', '4.341', 'gregor', '5950x', 'bubblesort', '10000']]}"
      ]
     },
     "execution_count": 28,
     "metadata": {},
     "output_type": "execute_result"
    }
   ],
   "source": [
    "def load(filename, label=[\"name\"], attributes=['timer',\n",
    "    'status',\n",
    "    'time',\n",
    "    'sum',\n",
    "    'start',\n",
    "    'tag',\n",
    "    'msg',\n",
    "    'uname.node',\n",
    "    'user',\n",
    "    'uname.system',\n",
    "    'platform.version']):\n",
    "    data = []\n",
    "    headers = []\n",
    "    content = readfile(logfile)\n",
    "    lines = Shell.find_lines_with(content, what=\"# csv\")\n",
    "    data_attributes = lines[0].split(\",\")\n",
    "    index_attributes = []\n",
    "    for attribute in attributes:\n",
    "        index_attributes.append(data_attributes.index(attribute))\n",
    "    print (index_attributes)\n",
    "    headers = attributes + label\n",
    "    del lines[0]\n",
    "    for line in lines:\n",
    "        entry = line.split(\",\")\n",
    "        entry = [entry[i] for i in index_attributes]\n",
    "        label_tags = entry[0].split(\" \")\n",
    "        entry = entry + label_tags\n",
    "        data.append(entry)\n",
    "\n",
    "    return {\"headers\": headers,\n",
    "            \"data\": data}\n",
    "data = load(logfile, label=[\"name\", \"n\"], attributes=[\"timer\", \"time\", \"user\", \"uname.node\"])\n",
    "data"
   ]
  },
  {
   "cell_type": "code",
   "execution_count": null,
   "metadata": {
    "collapsed": false,
    "pycharm": {
     "name": "#%%\n"
    }
   },
   "outputs": [],
   "source": []
  }
 ],
 "metadata": {
  "kernelspec": {
   "display_name": "Python 3.10.1 ('ENV3')",
   "language": "python",
   "name": "python3"
  },
  "language_info": {
   "codemirror_mode": {
    "name": "ipython",
    "version": 2
   },
   "file_extension": ".py",
   "mimetype": "text/x-python",
   "name": "python",
   "nbconvert_exporter": "python",
   "pygments_lexer": "ipython2",
   "version": "3.11.0"
  },
  "vscode": {
   "interpreter": {
    "hash": "485547d5c3fa777a03807ca29d98ba5d53d74ad27ccec228f488c1a95f851b67"
   }
  }
 },
 "nbformat": 4,
 "nbformat_minor": 0
}
