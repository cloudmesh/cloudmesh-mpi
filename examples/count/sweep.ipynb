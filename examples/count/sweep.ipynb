{
 "cells": [
  {
   "cell_type": "markdown",
   "id": "5f61112f-554f-4abe-9d4e-33da013349f0",
   "metadata": {},
   "source": [
    "When benchmarking you **MUST**\n",
    "\n",
    "1. close all applications\n",
    "2. close docker\n",
    "3. close all but this Web windows\n",
    "4. all pen editors other than jupyter-lab (this notebook)\n"
   ]
  },
  {
   "cell_type": "code",
   "execution_count": 38,
   "id": "49f68aa9-9191-4e13-97ad-de20c8a79123",
   "metadata": {},
   "outputs": [],
   "source": [
    "import os\n",
    "from cloudmesh.common.Shell import Shell\n",
    "from pprint import pprint\n",
    "import matplotlib.pyplot as plt\n",
    "import seaborn as sns\n",
    "%matplotlib inline\n",
    "\n",
    "import pandas as pd\n",
    "from tqdm.notebook import tqdm\n",
    "from cloudmesh.common.util import readfile\n",
    "from cloudmesh.common.util import writefile\n",
    "from cloudmesh.common.StopWatch import StopWatch \n",
    "from cloudmesh.common.systeminfo import systeminfo\n",
    "import ipywidgets as widgets\n",
    "\n",
    "sns.set_theme(style=\"whitegrid\")"
   ]
  },
  {
   "cell_type": "code",
   "execution_count": 39,
   "id": "3bba2a97-b267-4f4a-a13e-f1af543a81b2",
   "metadata": {},
   "outputs": [],
   "source": [
    "info = systeminfo()\n",
    "user = info[\"user\"]\n",
    "node = info[\"uname.node\"]\n",
    "processors = 4"
   ]
  },
  {
   "cell_type": "code",
   "execution_count": 40,
   "id": "8db07274-0225-475c-81c1-20ebb4c4bf12",
   "metadata": {},
   "outputs": [
    {
     "data": {
      "application/vnd.jupyter.widget-view+json": {
       "model_id": "b5c75757fd844315ba3afa0d1ca2eb02",
       "version_major": 2,
       "version_minor": 0
      },
      "text/plain": [
       "IntSlider(value=4, continuous_update=False, description='Processors:', max=64, min=2)"
      ]
     },
     "metadata": {},
     "output_type": "display_data"
    },
    {
     "data": {
      "application/vnd.jupyter.widget-view+json": {
       "model_id": "e029e731037f414fa7d430a672cfcd7d",
       "version_major": 2,
       "version_minor": 0
      },
      "text/plain": [
       "Text(value='green', description='User:', placeholder='The user name')"
      ]
     },
     "metadata": {},
     "output_type": "display_data"
    },
    {
     "data": {
      "application/vnd.jupyter.widget-view+json": {
       "model_id": "8213a39fbbf6430fa602ce1798ae78a4",
       "version_major": 2,
       "version_minor": 0
      },
      "text/plain": [
       "Text(value='alien', description='Computer:', placeholder='The computer name')"
      ]
     },
     "metadata": {},
     "output_type": "display_data"
    }
   ],
   "source": [
    "p = widgets.IntSlider(\n",
    "    value=processors,\n",
    "    min=2,\n",
    "    max=64,\n",
    "    step=1,\n",
    "    description='Processors:',\n",
    "    disabled=False,\n",
    "    continuous_update=False,\n",
    "    orientation='horizontal',\n",
    "    readout=True,\n",
    "    readout_format='d'\n",
    ")\n",
    "u = widgets.Text(value=user, placeholder='The user name', description='User:', disabled=False)\n",
    "n = widgets.Text(value=node, placeholder='The computer name', description='Computer:', disabled=False)\n",
    "\n",
    "display(p)\n",
    "display(u)\n",
    "display(n)"
   ]
  },
  {
   "cell_type": "code",
   "execution_count": 42,
   "id": "c3cc9322-3fed-463a-b998-1fb3d9e7ad9c",
   "metadata": {},
   "outputs": [
    {
     "name": "stdout",
     "output_type": "stream",
     "text": [
      "8 gregor alienware\n"
     ]
    }
   ],
   "source": [
    "processors = p.value\n",
    "user = u.value\n",
    "node = n.value\n",
    "print (processors, user, node)"
   ]
  },
  {
   "cell_type": "code",
   "execution_count": 43,
   "id": "6b9f415b-d848-4af3-9436-6680835180dd",
   "metadata": {},
   "outputs": [],
   "source": [
    "\n",
    "experiments = 10\n",
    "maximum = 1024 * 100000\n",
    "intervals = 10"
   ]
  },
  {
   "cell_type": "code",
   "execution_count": 44,
   "id": "a1ce2a6c-4d24-46f1-9478-a9949694b928",
   "metadata": {},
   "outputs": [
    {
     "name": "stdout",
     "output_type": "stream",
     "text": [
      "[64, 10240000, 20480000, 30720000, 40960000, 51200000, 61440000, 71680000, 81920000, 92160000]\n",
      "[8, 1280000, 2560000, 3840000, 5120000, 6400000, 7680000, 8960000, 10240000, 11520000]\n"
     ]
    }
   ],
   "source": [
    "label = f\"{user}-{node}-{processors}\"\n",
    "output = f\"benchmark/{user}\"\n",
    "\n",
    "delta = int(maximum / intervals)\n",
    "\n",
    "totals = [64] + list(range(0,maximum, delta))[1:]\n",
    "points = [int(t/processors) for t in totals]\n",
    "print (totals)\n",
    "print(points)"
   ]
  },
  {
   "cell_type": "code",
   "execution_count": 45,
   "id": "0a54c0dc-d4de-4a66-97e3-c41a2171204c",
   "metadata": {},
   "outputs": [],
   "source": [
    "os.makedirs(output, exist_ok=True)"
   ]
  },
  {
   "cell_type": "code",
   "execution_count": 46,
   "id": "fc2fcdef-f19c-4a13-98a9-cf6f482ae9e7",
   "metadata": {},
   "outputs": [
    {
     "name": "stdout",
     "output_type": "stream",
     "text": [
      "+---------------------+------------------------------------------------------------------+\n",
      "| Attribute           | Value                                                            |\n",
      "|---------------------+------------------------------------------------------------------|\n",
      "| BUG_REPORT_URL      | \"https://bugs.launchpad.net/ubuntu/\"                             |\n",
      "| DISTRIB_CODENAME    | hirsute                                                          |\n",
      "| DISTRIB_DESCRIPTION | \"Ubuntu 21.04\"                                                   |\n",
      "| DISTRIB_ID          | Ubuntu                                                           |\n",
      "| DISTRIB_RELEASE     | 21.04                                                            |\n",
      "| HOME_URL            | \"https://www.ubuntu.com/\"                                        |\n",
      "| ID                  | ubuntu                                                           |\n",
      "| ID_LIKE             | debian                                                           |\n",
      "| NAME                | \"Ubuntu\"                                                         |\n",
      "| PRETTY_NAME         | \"Ubuntu 21.04\"                                                   |\n",
      "| PRIVACY_POLICY_URL  | \"https://www.ubuntu.com/legal/terms-and-policies/privacy-policy\" |\n",
      "| SUPPORT_URL         | \"https://help.ubuntu.com/\"                                       |\n",
      "| UBUNTU_CODENAME     | hirsute                                                          |\n",
      "| VERSION             | \"21.04 (Hirsute Hippo)\"                                          |\n",
      "| VERSION_CODENAME    | hirsute                                                          |\n",
      "| VERSION_ID          | \"21.04\"                                                          |\n",
      "| cpu                 | AMD Ryzen 9 3950X 16-Core Processor                              |\n",
      "| cpu_count           | 32                                                               |\n",
      "| frequency           | scpufreq(current=2373.5208125, min=2200.0, max=3500.0)           |\n",
      "| mem.active          | 9.5 GiB                                                          |\n",
      "| mem.available       | 55.7 GiB                                                         |\n",
      "| mem.free            | 35.1 GiB                                                         |\n",
      "| mem.inactive        | 13.3 GiB                                                         |\n",
      "| mem.percent         | 11.3 %                                                           |\n",
      "| mem.total           | 62.8 GiB                                                         |\n",
      "| mem.used            | 6.3 GiB                                                          |\n",
      "| platform.version    | #19-Ubuntu SMP Fri May 7 14:22:03 UTC 2021                       |\n",
      "| python              | 3.9.4 (default, Apr  5 2021, 18:24:44)                           |\n",
      "|                     | [GCC 9.3.0]                                                      |\n",
      "| python.pip          | 21.1.2                                                           |\n",
      "| python.version      | 3.9.4                                                            |\n",
      "| sys.platform        | linux                                                            |\n",
      "| uname.machine       | x86_64                                                           |\n",
      "| uname.node          | alien                                                            |\n",
      "| uname.processor     | x86_64                                                           |\n",
      "| uname.release       | 5.11.0-18-generic                                                |\n",
      "| uname.system        | Linux                                                            |\n",
      "| uname.version       | #19-Ubuntu SMP Fri May 7 14:22:03 UTC 2021                       |\n",
      "| user                | green                                                            |\n",
      "+---------------------+------------------------------------------------------------------+\n"
     ]
    }
   ],
   "source": [
    "systeminfo = StopWatch.systeminfo()\n",
    "writefile(f\"{output}/{label}-sysinfo.log\", systeminfo)\n",
    "print (systeminfo)"
   ]
  },
  {
   "cell_type": "code",
   "execution_count": 47,
   "id": "530d02c4-11ab-4042-98c9-57979ad54871",
   "metadata": {},
   "outputs": [],
   "source": [
    "df = pd.DataFrame(\n",
    "{\"Size\": points}\n",
    ")\n",
    "df = df.set_index('Size')"
   ]
  },
  {
   "cell_type": "code",
   "execution_count": null,
   "id": "b5a46162-7fc0-4e52-bc53-b4beb5ce6836",
   "metadata": {},
   "outputs": [
    {
     "data": {
      "application/vnd.jupyter.widget-view+json": {
       "model_id": "fd2c8fd0afc045899b6ea63d02c1e928",
       "version_major": 2,
       "version_minor": 0
      },
      "text/plain": [
       "Experiment:   0%|          | 0/10 [00:00<?, ?it/s]"
      ]
     },
     "metadata": {},
     "output_type": "display_data"
    },
    {
     "data": {
      "application/vnd.jupyter.widget-view+json": {
       "model_id": "f59a08b8d75a40c5889e0f41483b9e2a",
       "version_major": 2,
       "version_minor": 0
      },
      "text/plain": [
       "Benchmark 8                    10 | 0/10 [00:00<?, ?it/s]"
      ]
     },
     "metadata": {},
     "output_type": "display_data"
    }
   ],
   "source": [
    "\n",
    "\n",
    "experiment_progress = tqdm(range(0, experiments), desc =\"Experiment\")\n",
    "\n",
    "experiment = -1\n",
    "for experiment in experiment_progress:\n",
    "    exoeriment = experiment + 1\n",
    "\n",
    "    log = f\"{output}/{label}-{experiment}-log.log\"\n",
    "    os.system(f\"rm {log}\")\n",
    "\n",
    "\n",
    "    name = points[experiment]\n",
    "    progress = tqdm(range(0, len(points)), \n",
    "                    desc =f\"Benchmark {name}\",\n",
    "                    bar_format=\"{desc:<30} {total_fmt} {r_bar}\")\n",
    "    \n",
    "    i = -1\n",
    "    for state in progress:\n",
    "        i = i + 1\n",
    "        n = points[i]\n",
    "        #if linux, os:\n",
    "        command = f\"mpiexec -n {processors} python count-click.py \" + \\\n",
    "                  f\"--n {n} --max_number 10 --find 8 --label {label} \" + \\\n",
    "                  f\"--user {user} --node={node} \" + \\\n",
    "                  f\"| tee -a {log}\"\n",
    "        #if windows: \n",
    "        #command = f\"mpiexec -n {processors} python count-click.py \" + \\\n",
    "        #          f\"--n {n} --max_number 10 --find 8 --label {label} \" + \\\n",
    "        #          f\"--user {user} --node={node} \" + \\\n",
    "        #          f\">> {log}\"\n",
    "        \n",
    "        os.system (command)\n",
    "\n",
    "    content = readfile(log).splitlines()\n",
    "    lines = Shell.cm_grep(content, \"csv,Result:\")\n",
    "    # print(lines)\n",
    "    values = []\n",
    "    times = []\n",
    "\n",
    "    for line in lines:\n",
    "        msg = line.split(\",\")[7]\n",
    "        t = line.split(\",\")[4]\n",
    "\n",
    "        total, overall, trials, find, label = msg.split(\" \")\n",
    "        values.append(int(overall))\n",
    "        times.append(float(t))\n",
    "        # print (t, overall)\n",
    "\n",
    "\n",
    "    #data = pd.DataFrame(values, times, columns=[\"Values\", \"Time\"])\n",
    "\n",
    "    #print (data.describe())\n",
    "    #sns.lineplot(data=data, palette=\"tab10\", linewidth=2.5)\n",
    "    # df[\"Size\"] = values\n",
    "    df[f\"Time_{experiment}\"] = times\n",
    "    # print(df)\n"
   ]
  },
  {
   "cell_type": "code",
   "execution_count": null,
   "id": "6247ec43-6d8b-4f42-8d1d-4c7b5f67312b",
   "metadata": {},
   "outputs": [],
   "source": [
    "\n",
    "df = df.rename_axis(columns=\"Time\")\n",
    "df\n",
    "    "
   ]
  },
  {
   "cell_type": "code",
   "execution_count": null,
   "id": "1c6a28b5-3300-4683-83e1-68afec4fefc7",
   "metadata": {},
   "outputs": [],
   "source": [
    "sns.lineplot(data=df, markers=True);"
   ]
  },
  {
   "cell_type": "code",
   "execution_count": null,
   "id": "b1c65630-3895-4018-8449-8495edcad3e4",
   "metadata": {},
   "outputs": [],
   "source": [
    "plt.savefig(f'{output}/{label}-line.png');\n",
    "plt.savefig(f'{output}/{label}-line.pdf');"
   ]
  },
  {
   "cell_type": "code",
   "execution_count": null,
   "id": "0bd63fd7-70c6-4b4b-b213-4af734b8035e",
   "metadata": {},
   "outputs": [],
   "source": [
    "dfs = df.stack().reset_index()\n",
    "dfs = dfs.set_index('Size')\n",
    "dfs = dfs.drop(columns=['Time'])\n",
    "dfs = dfs.rename(columns={0:'Time'})\n",
    "dfs"
   ]
  },
  {
   "cell_type": "code",
   "execution_count": null,
   "id": "a6114d9f-a63a-449d-9b8c-178c036c31a6",
   "metadata": {},
   "outputs": [],
   "source": [
    "sns.scatterplot(data=dfs, x=\"Size\", y=\"Time\");\n",
    "plt.savefig(f\"{output}/{label}-scatter.pdf\")\n",
    "plt.savefig(f\"{output}/{label}-scatter.png\")"
   ]
  },
  {
   "cell_type": "code",
   "execution_count": null,
   "id": "09ba121b-76b2-43a2-a58c-356fca482ba1",
   "metadata": {},
   "outputs": [],
   "source": [
    "sns.relplot(x=\"Size\", y=\"Time\", kind=\"line\", data=dfs);\n",
    "plt.savefig(f\"{output}/{label}-relplot.pdf\")\n",
    "plt.savefig(f\"{output}/{label}-relplot.png\")"
   ]
  },
  {
   "cell_type": "code",
   "execution_count": null,
   "id": "3b651569-60f4-45ae-a06a-e0fa4b509ac3",
   "metadata": {},
   "outputs": [],
   "source": [
    "df.to_pickle(f\"{output}/{label}-df.pkl\")"
   ]
  },
  {
   "cell_type": "code",
   "execution_count": null,
   "id": "a20cd2a5-ba19-489e-930e-d0b2765db5f7",
   "metadata": {},
   "outputs": [],
   "source": []
  },
  {
   "cell_type": "code",
   "execution_count": null,
   "id": "14bc4867-3229-4e1b-adeb-cdab84e722c1",
   "metadata": {},
   "outputs": [],
   "source": []
  }
 ],
 "metadata": {
  "kernelspec": {
   "display_name": "Python 3",
   "language": "python",
   "name": "python3"
  },
  "language_info": {
   "codemirror_mode": {
    "name": "ipython",
    "version": 3
   },
   "file_extension": ".py",
   "mimetype": "text/x-python",
   "name": "python",
   "nbconvert_exporter": "python",
   "pygments_lexer": "ipython3",
   "version": "3.9.4"
  }
 },
 "nbformat": 4,
 "nbformat_minor": 5
}
