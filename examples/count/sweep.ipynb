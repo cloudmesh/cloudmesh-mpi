{
 "cells": [
  {
   "cell_type": "markdown",
   "id": "5f61112f-554f-4abe-9d4e-33da013349f0",
   "metadata": {},
   "source": [
    "When benchmarking you **MUST**\n",
    "\n",
    "1. close all applications\n",
    "2. close docker\n",
    "3. close all but this Web windows\n",
    "4. all pen editors other than jupyter-lab (this notebook)\n"
   ]
  },
  {
   "cell_type": "code",
   "execution_count": 28,
   "id": "49f68aa9-9191-4e13-97ad-de20c8a79123",
   "metadata": {},
   "outputs": [],
   "source": [
    "import os\n",
    "from cloudmesh.common.Shell import Shell\n",
    "from pprint import pprint\n",
    "import matplotlib.pyplot as plt\n",
    "import seaborn as sns\n",
    "%matplotlib inline\n",
    "\n",
    "sns.set_theme(style=\"whitegrid\")\n",
    "import pandas as pd\n",
    "from tqdm.notebook import tqdm\n",
    "from cloudmesh.common.util import readfile\n",
    "from cloudmesh.common.util import writefile\n",
    "from cloudmesh.common.StopWatch import StopWatch "
   ]
  },
  {
   "cell_type": "code",
   "execution_count": 29,
   "id": "6b9f415b-d848-4af3-9436-6680835180dd",
   "metadata": {},
   "outputs": [],
   "source": [
    "user = \"gregor\"\n",
    "node = \"mac\"\n",
    "\n",
    "processors = 4\n",
    "experiments = 10\n",
    "maximum = 1024 * 100000\n",
    "intervals = 10"
   ]
  },
  {
   "cell_type": "code",
   "execution_count": 30,
   "id": "a1ce2a6c-4d24-46f1-9478-a9949694b928",
   "metadata": {},
   "outputs": [
    {
     "name": "stdout",
     "output_type": "stream",
     "text": [
      "[64, 10240000, 20480000, 30720000, 40960000, 51200000, 61440000, 71680000, 81920000, 92160000]\n",
      "[16, 2560000, 5120000, 7680000, 10240000, 12800000, 15360000, 17920000, 20480000, 23040000]\n"
     ]
    }
   ],
   "source": [
    "label = f\"{user}-{node}\"\n",
    "\n",
    "delta = int(maximum / intervals)\n",
    "\n",
    "totals = [64] + list(range(0,maximum, delta))[1:]\n",
    "points = [int(t/processors) for t in totals]\n",
    "print (totals)\n",
    "print(points)"
   ]
  },
  {
   "cell_type": "code",
   "execution_count": 31,
   "id": "fc2fcdef-f19c-4a13-98a9-cf6f482ae9e7",
   "metadata": {},
   "outputs": [
    {
     "name": "stdout",
     "output_type": "stream",
     "text": [
      "+------------------+--------------------------------------------------------------------------------------------------+\n",
      "| Attribute        | Value                                                                                            |\n",
      "|------------------+--------------------------------------------------------------------------------------------------|\n",
      "| cpu              | Intel(R) Core(TM) i7-7920HQ CPU @ 3.10GHz                                                        |\n",
      "| cpu_count        | 8                                                                                                |\n",
      "| frequency        | scpufreq(current=3100, min=3100, max=3100)                                                       |\n",
      "| mem.active       | 5.5 GiB                                                                                          |\n",
      "| mem.available    | 6.4 GiB                                                                                          |\n",
      "| mem.free         | 805.2 MiB                                                                                        |\n",
      "| mem.inactive     | 4.8 GiB                                                                                          |\n",
      "| mem.percent      | 59.8 %                                                                                           |\n",
      "| mem.total        | 16.0 GiB                                                                                         |\n",
      "| mem.used         | 8.1 GiB                                                                                          |\n",
      "| mem.wired        | 2.7 GiB                                                                                          |\n",
      "| platform.version | 10.16                                                                                            |\n",
      "| python           | 3.9.5 (v3.9.5:0a7dcbdb13, May  3 2021, 13:17:02)                                                 |\n",
      "|                  | [Clang 6.0 (clang-600.0.57)]                                                                     |\n",
      "| python.pip       | 21.1.2                                                                                           |\n",
      "| python.version   | 3.9.5                                                                                            |\n",
      "| sys.platform     | darwin                                                                                           |\n",
      "| uname.machine    | x86_64                                                                                           |\n",
      "| uname.node       | gamera                                                                                           |\n",
      "| uname.processor  | i386                                                                                             |\n",
      "| uname.release    | 20.5.0                                                                                           |\n",
      "| uname.system     | Darwin                                                                                           |\n",
      "| uname.version    | Darwin Kernel Version 20.5.0: Sat May  8 05:10:33 PDT 2021; root:xnu-7195.121.3~9/RELEASE_X86_64 |\n",
      "| user             | grey                                                                                             |\n",
      "+------------------+--------------------------------------------------------------------------------------------------+\n"
     ]
    }
   ],
   "source": [
    "\n",
    "systeminfo = StopWatch.systeminfo()\n",
    "writefile(f\"benchmark/{label}-sysinfo.log\", systeminfo)\n",
    "print (systeminfo)"
   ]
  },
  {
   "cell_type": "code",
   "execution_count": 5,
   "id": "530d02c4-11ab-4042-98c9-57979ad54871",
   "metadata": {},
   "outputs": [],
   "source": [
    "df = pd.DataFrame(\n",
    "{\"Size\": points}\n",
    ")\n",
    "df = df.set_index('Size')"
   ]
  },
  {
   "cell_type": "code",
   "execution_count": 6,
   "id": "b5a46162-7fc0-4e52-bc53-b4beb5ce6836",
   "metadata": {},
   "outputs": [
    {
     "data": {
      "application/vnd.jupyter.widget-view+json": {
       "model_id": "393dba8e973143fc8d16ad6dba9f77e8",
       "version_major": 2,
       "version_minor": 0
      },
      "text/plain": [
       "Experiment:   0%|          | 0/10 [00:00<?, ?it/s]"
      ]
     },
     "metadata": {},
     "output_type": "display_data"
    },
    {
     "data": {
      "application/vnd.jupyter.widget-view+json": {
       "model_id": "6a4e20edf6b349a2ab8fe31ad4b3684f",
       "version_major": 2,
       "version_minor": 0
      },
      "text/plain": [
       "Benchmark 16                   10 | 0/10 [00:00<?, ?it/s]"
      ]
     },
     "metadata": {},
     "output_type": "display_data"
    },
    {
     "data": {
      "application/vnd.jupyter.widget-view+json": {
       "model_id": "fbd63ca45665436a802fe8e53854d071",
       "version_major": 2,
       "version_minor": 0
      },
      "text/plain": [
       "Benchmark 2560000              10 | 0/10 [00:00<?, ?it/s]"
      ]
     },
     "metadata": {},
     "output_type": "display_data"
    },
    {
     "data": {
      "application/vnd.jupyter.widget-view+json": {
       "model_id": "25bc4b67eeca46c9865944650365e118",
       "version_major": 2,
       "version_minor": 0
      },
      "text/plain": [
       "Benchmark 5120000              10 | 0/10 [00:00<?, ?it/s]"
      ]
     },
     "metadata": {},
     "output_type": "display_data"
    },
    {
     "data": {
      "application/vnd.jupyter.widget-view+json": {
       "model_id": "2af1cebde9e747ba95dd0febae72ef06",
       "version_major": 2,
       "version_minor": 0
      },
      "text/plain": [
       "Benchmark 7680000              10 | 0/10 [00:00<?, ?it/s]"
      ]
     },
     "metadata": {},
     "output_type": "display_data"
    },
    {
     "data": {
      "application/vnd.jupyter.widget-view+json": {
       "model_id": "bdc4f1ec9a2a4c76ae5a41f7919395da",
       "version_major": 2,
       "version_minor": 0
      },
      "text/plain": [
       "Benchmark 10240000             10 | 0/10 [00:00<?, ?it/s]"
      ]
     },
     "metadata": {},
     "output_type": "display_data"
    },
    {
     "data": {
      "application/vnd.jupyter.widget-view+json": {
       "model_id": "6a70dc8a4ae2450fb95ee025fb7ac903",
       "version_major": 2,
       "version_minor": 0
      },
      "text/plain": [
       "Benchmark 12800000             10 | 0/10 [00:00<?, ?it/s]"
      ]
     },
     "metadata": {},
     "output_type": "display_data"
    },
    {
     "data": {
      "application/vnd.jupyter.widget-view+json": {
       "model_id": "4470f3d1a40446a39e3d672bcc6eb85d",
       "version_major": 2,
       "version_minor": 0
      },
      "text/plain": [
       "Benchmark 15360000             10 | 0/10 [00:00<?, ?it/s]"
      ]
     },
     "metadata": {},
     "output_type": "display_data"
    },
    {
     "data": {
      "application/vnd.jupyter.widget-view+json": {
       "model_id": "67cf426ada6849d28ef78caaef9b68a6",
       "version_major": 2,
       "version_minor": 0
      },
      "text/plain": [
       "Benchmark 17920000             10 | 0/10 [00:00<?, ?it/s]"
      ]
     },
     "metadata": {},
     "output_type": "display_data"
    },
    {
     "data": {
      "application/vnd.jupyter.widget-view+json": {
       "model_id": "0d73fe146d0f44f1a0ffa09549155587",
       "version_major": 2,
       "version_minor": 0
      },
      "text/plain": [
       "Benchmark 20480000             10 | 0/10 [00:00<?, ?it/s]"
      ]
     },
     "metadata": {},
     "output_type": "display_data"
    },
    {
     "data": {
      "application/vnd.jupyter.widget-view+json": {
       "model_id": "096a76157ca74d96a5982be383b65103",
       "version_major": 2,
       "version_minor": 0
      },
      "text/plain": [
       "Benchmark 23040000             10 | 0/10 [00:00<?, ?it/s]"
      ]
     },
     "metadata": {},
     "output_type": "display_data"
    }
   ],
   "source": [
    "os.makedirs(\"benchmark\", exist_ok=True)\n",
    "\n",
    "experiment_progress = tqdm(range(0, experiments), desc =\"Experiment\")\n",
    "\n",
    "experiment = -1\n",
    "for experiment in experiment_progress:\n",
    "    exoeriment = experiment + 1\n",
    "\n",
    "    label=\"gregor-mac\"\n",
    "    log = f\"benchmark/result-{label}-{experiment}.log\"\n",
    "    os.system(f\"rm {log}\")\n",
    "\n",
    "\n",
    "    name = points[experiment]\n",
    "    progress = tqdm(range(0, len(points)), \n",
    "                    desc =f\"Benchmark {name}\",\n",
    "                    bar_format=\"{desc:<30} {total_fmt} {r_bar}\")\n",
    "    \n",
    "    i = -1\n",
    "    for state in progress:\n",
    "        i = i + 1\n",
    "        n = points[i]\n",
    "        command = f\"mpiexec -n {processors} python count-click.py \" + \\\n",
    "                  f\"--n {n} --max_number 10 --find 8 --label {label} \" + \\\n",
    "                  f\"--user {user} --node={node} \" + \\\n",
    "                  f\"| tee -a {log}\"\n",
    "        os.system (command)\n",
    "\n",
    "    content = readfile(log).splitlines()\n",
    "    lines = Shell.cm_grep(content, \"csv,Result:\")\n",
    "    # print(lines)\n",
    "    values = []\n",
    "    times = []\n",
    "\n",
    "    for line in lines:\n",
    "        msg = line.split(\",\")[7]\n",
    "        t = line.split(\",\")[4]\n",
    "\n",
    "        total, overall, trials, find, label = msg.split(\" \")\n",
    "        values.append(int(overall))\n",
    "        times.append(float(t))\n",
    "        # print (t, overall)\n",
    "\n",
    "\n",
    "    #data = pd.DataFrame(values, times, columns=[\"Values\", \"Time\"])\n",
    "\n",
    "    #print (data.describe())\n",
    "    #sns.lineplot(data=data, palette=\"tab10\", linewidth=2.5)\n",
    "    # df[\"Size\"] = values\n",
    "    df[f\"Time_{experiment}\"] = times\n",
    "    # print(df)\n"
   ]
  },
  {
   "cell_type": "code",
   "execution_count": 7,
   "id": "6247ec43-6d8b-4f42-8d1d-4c7b5f67312b",
   "metadata": {},
   "outputs": [
    {
     "data": {
      "text/html": [
       "<div>\n",
       "<style scoped>\n",
       "    .dataframe tbody tr th:only-of-type {\n",
       "        vertical-align: middle;\n",
       "    }\n",
       "\n",
       "    .dataframe tbody tr th {\n",
       "        vertical-align: top;\n",
       "    }\n",
       "\n",
       "    .dataframe thead th {\n",
       "        text-align: right;\n",
       "    }\n",
       "</style>\n",
       "<table border=\"1\" class=\"dataframe\">\n",
       "  <thead>\n",
       "    <tr style=\"text-align: right;\">\n",
       "      <th>Time</th>\n",
       "      <th>Time_0</th>\n",
       "      <th>Time_1</th>\n",
       "      <th>Time_2</th>\n",
       "      <th>Time_3</th>\n",
       "      <th>Time_4</th>\n",
       "      <th>Time_5</th>\n",
       "      <th>Time_6</th>\n",
       "      <th>Time_7</th>\n",
       "      <th>Time_8</th>\n",
       "      <th>Time_9</th>\n",
       "    </tr>\n",
       "    <tr>\n",
       "      <th>Size</th>\n",
       "      <th></th>\n",
       "      <th></th>\n",
       "      <th></th>\n",
       "      <th></th>\n",
       "      <th></th>\n",
       "      <th></th>\n",
       "      <th></th>\n",
       "      <th></th>\n",
       "      <th></th>\n",
       "      <th></th>\n",
       "    </tr>\n",
       "  </thead>\n",
       "  <tbody>\n",
       "    <tr>\n",
       "      <th>16</th>\n",
       "      <td>0.002</td>\n",
       "      <td>0.001</td>\n",
       "      <td>0.001</td>\n",
       "      <td>0.005</td>\n",
       "      <td>0.001</td>\n",
       "      <td>0.004</td>\n",
       "      <td>0.002</td>\n",
       "      <td>0.001</td>\n",
       "      <td>0.001</td>\n",
       "      <td>0.001</td>\n",
       "    </tr>\n",
       "    <tr>\n",
       "      <th>2560000</th>\n",
       "      <td>2.509</td>\n",
       "      <td>2.728</td>\n",
       "      <td>2.836</td>\n",
       "      <td>2.766</td>\n",
       "      <td>2.714</td>\n",
       "      <td>2.724</td>\n",
       "      <td>2.802</td>\n",
       "      <td>2.852</td>\n",
       "      <td>2.793</td>\n",
       "      <td>2.746</td>\n",
       "    </tr>\n",
       "    <tr>\n",
       "      <th>5120000</th>\n",
       "      <td>5.043</td>\n",
       "      <td>5.678</td>\n",
       "      <td>5.694</td>\n",
       "      <td>5.691</td>\n",
       "      <td>5.683</td>\n",
       "      <td>5.758</td>\n",
       "      <td>5.755</td>\n",
       "      <td>5.918</td>\n",
       "      <td>5.714</td>\n",
       "      <td>5.650</td>\n",
       "    </tr>\n",
       "    <tr>\n",
       "      <th>7680000</th>\n",
       "      <td>8.338</td>\n",
       "      <td>8.765</td>\n",
       "      <td>8.474</td>\n",
       "      <td>8.679</td>\n",
       "      <td>8.591</td>\n",
       "      <td>8.699</td>\n",
       "      <td>8.593</td>\n",
       "      <td>8.623</td>\n",
       "      <td>8.649</td>\n",
       "      <td>8.744</td>\n",
       "    </tr>\n",
       "    <tr>\n",
       "      <th>10240000</th>\n",
       "      <td>10.888</td>\n",
       "      <td>11.411</td>\n",
       "      <td>11.369</td>\n",
       "      <td>11.630</td>\n",
       "      <td>11.409</td>\n",
       "      <td>11.383</td>\n",
       "      <td>11.475</td>\n",
       "      <td>11.588</td>\n",
       "      <td>11.439</td>\n",
       "      <td>13.072</td>\n",
       "    </tr>\n",
       "    <tr>\n",
       "      <th>12800000</th>\n",
       "      <td>14.382</td>\n",
       "      <td>15.228</td>\n",
       "      <td>14.853</td>\n",
       "      <td>14.849</td>\n",
       "      <td>14.329</td>\n",
       "      <td>14.688</td>\n",
       "      <td>14.464</td>\n",
       "      <td>14.428</td>\n",
       "      <td>14.781</td>\n",
       "      <td>15.221</td>\n",
       "    </tr>\n",
       "    <tr>\n",
       "      <th>15360000</th>\n",
       "      <td>16.987</td>\n",
       "      <td>17.087</td>\n",
       "      <td>17.441</td>\n",
       "      <td>18.333</td>\n",
       "      <td>17.354</td>\n",
       "      <td>17.426</td>\n",
       "      <td>17.307</td>\n",
       "      <td>17.417</td>\n",
       "      <td>17.366</td>\n",
       "      <td>18.782</td>\n",
       "    </tr>\n",
       "    <tr>\n",
       "      <th>17920000</th>\n",
       "      <td>19.905</td>\n",
       "      <td>19.883</td>\n",
       "      <td>19.960</td>\n",
       "      <td>20.126</td>\n",
       "      <td>20.233</td>\n",
       "      <td>20.698</td>\n",
       "      <td>20.595</td>\n",
       "      <td>21.731</td>\n",
       "      <td>20.439</td>\n",
       "      <td>21.297</td>\n",
       "    </tr>\n",
       "    <tr>\n",
       "      <th>20480000</th>\n",
       "      <td>22.995</td>\n",
       "      <td>22.982</td>\n",
       "      <td>23.147</td>\n",
       "      <td>22.808</td>\n",
       "      <td>22.856</td>\n",
       "      <td>23.479</td>\n",
       "      <td>23.136</td>\n",
       "      <td>23.760</td>\n",
       "      <td>23.021</td>\n",
       "      <td>24.993</td>\n",
       "    </tr>\n",
       "    <tr>\n",
       "      <th>23040000</th>\n",
       "      <td>25.915</td>\n",
       "      <td>25.678</td>\n",
       "      <td>25.840</td>\n",
       "      <td>26.685</td>\n",
       "      <td>25.766</td>\n",
       "      <td>26.204</td>\n",
       "      <td>25.854</td>\n",
       "      <td>26.763</td>\n",
       "      <td>26.513</td>\n",
       "      <td>27.498</td>\n",
       "    </tr>\n",
       "  </tbody>\n",
       "</table>\n",
       "</div>"
      ],
      "text/plain": [
       "Time      Time_0  Time_1  Time_2  Time_3  Time_4  Time_5  Time_6  Time_7  \\\n",
       "Size                                                                       \n",
       "16         0.002   0.001   0.001   0.005   0.001   0.004   0.002   0.001   \n",
       "2560000    2.509   2.728   2.836   2.766   2.714   2.724   2.802   2.852   \n",
       "5120000    5.043   5.678   5.694   5.691   5.683   5.758   5.755   5.918   \n",
       "7680000    8.338   8.765   8.474   8.679   8.591   8.699   8.593   8.623   \n",
       "10240000  10.888  11.411  11.369  11.630  11.409  11.383  11.475  11.588   \n",
       "12800000  14.382  15.228  14.853  14.849  14.329  14.688  14.464  14.428   \n",
       "15360000  16.987  17.087  17.441  18.333  17.354  17.426  17.307  17.417   \n",
       "17920000  19.905  19.883  19.960  20.126  20.233  20.698  20.595  21.731   \n",
       "20480000  22.995  22.982  23.147  22.808  22.856  23.479  23.136  23.760   \n",
       "23040000  25.915  25.678  25.840  26.685  25.766  26.204  25.854  26.763   \n",
       "\n",
       "Time      Time_8  Time_9  \n",
       "Size                      \n",
       "16         0.001   0.001  \n",
       "2560000    2.793   2.746  \n",
       "5120000    5.714   5.650  \n",
       "7680000    8.649   8.744  \n",
       "10240000  11.439  13.072  \n",
       "12800000  14.781  15.221  \n",
       "15360000  17.366  18.782  \n",
       "17920000  20.439  21.297  \n",
       "20480000  23.021  24.993  \n",
       "23040000  26.513  27.498  "
      ]
     },
     "execution_count": 7,
     "metadata": {},
     "output_type": "execute_result"
    }
   ],
   "source": [
    "\n",
    "df = df.rename_axis(columns=\"Time\")\n",
    "df\n",
    "    "
   ]
  },
  {
   "cell_type": "code",
   "execution_count": 8,
   "id": "1c6a28b5-3300-4683-83e1-68afec4fefc7",
   "metadata": {},
   "outputs": [
    {
     "data": {
      "text/plain": [
       "<AxesSubplot:xlabel='Size'>"
      ]
     },
     "execution_count": 8,
     "metadata": {},
     "output_type": "execute_result"
    },
    {
     "data": {
      "image/png": "[encoded data removed]",
      "text/plain": [
       "<Figure size 432x288 with 1 Axes>"
      ]
     },
     "metadata": {},
     "output_type": "display_data"
    }
   ],
   "source": [
    "sns.lineplot(data=df, markers=True)"
   ]
  },
  {
   "cell_type": "code",
   "execution_count": 9,
   "id": "95e037bf-3638-43cc-9378-b52feb30eb83",
   "metadata": {},
   "outputs": [],
   "source": [
    "plt.show()"
   ]
  },
  {
   "cell_type": "code",
   "execution_count": 10,
   "id": "b1c65630-3895-4018-8449-8495edcad3e4",
   "metadata": {},
   "outputs": [
    {
     "data": {
      "text/plain": [
       "<Figure size 432x288 with 0 Axes>"
      ]
     },
     "metadata": {},
     "output_type": "display_data"
    }
   ],
   "source": [
    "plt.savefig(f'benchmark/benchmark-{label}.png')"
   ]
  },
  {
   "cell_type": "code",
   "execution_count": 11,
   "id": "785f3383-e873-40a2-9767-c08399f3bc76",
   "metadata": {},
   "outputs": [
    {
     "data": {
      "text/plain": [
       "<Figure size 432x288 with 0 Axes>"
      ]
     },
     "metadata": {},
     "output_type": "display_data"
    }
   ],
   "source": [
    "plt.savefig(f'benchmark/benchmark-{label}.pdf')"
   ]
  },
  {
   "cell_type": "code",
   "execution_count": 12,
   "id": "9fe96641-56c7-409c-a280-ce021f108317",
   "metadata": {},
   "outputs": [],
   "source": [
    "plt.show()"
   ]
  },
  {
   "cell_type": "code",
   "execution_count": 13,
   "id": "0bd63fd7-70c6-4b4b-b213-4af734b8035e",
   "metadata": {},
   "outputs": [
    {
     "data": {
      "text/html": [
       "<div>\n",
       "<style scoped>\n",
       "    .dataframe tbody tr th:only-of-type {\n",
       "        vertical-align: middle;\n",
       "    }\n",
       "\n",
       "    .dataframe tbody tr th {\n",
       "        vertical-align: top;\n",
       "    }\n",
       "\n",
       "    .dataframe thead th {\n",
       "        text-align: right;\n",
       "    }\n",
       "</style>\n",
       "<table border=\"1\" class=\"dataframe\">\n",
       "  <thead>\n",
       "    <tr style=\"text-align: right;\">\n",
       "      <th></th>\n",
       "      <th>Time</th>\n",
       "    </tr>\n",
       "    <tr>\n",
       "      <th>Size</th>\n",
       "      <th></th>\n",
       "    </tr>\n",
       "  </thead>\n",
       "  <tbody>\n",
       "    <tr>\n",
       "      <th>16</th>\n",
       "      <td>0.002</td>\n",
       "    </tr>\n",
       "    <tr>\n",
       "      <th>16</th>\n",
       "      <td>0.001</td>\n",
       "    </tr>\n",
       "    <tr>\n",
       "      <th>16</th>\n",
       "      <td>0.001</td>\n",
       "    </tr>\n",
       "    <tr>\n",
       "      <th>16</th>\n",
       "      <td>0.005</td>\n",
       "    </tr>\n",
       "    <tr>\n",
       "      <th>16</th>\n",
       "      <td>0.001</td>\n",
       "    </tr>\n",
       "    <tr>\n",
       "      <th>...</th>\n",
       "      <td>...</td>\n",
       "    </tr>\n",
       "    <tr>\n",
       "      <th>23040000</th>\n",
       "      <td>26.204</td>\n",
       "    </tr>\n",
       "    <tr>\n",
       "      <th>23040000</th>\n",
       "      <td>25.854</td>\n",
       "    </tr>\n",
       "    <tr>\n",
       "      <th>23040000</th>\n",
       "      <td>26.763</td>\n",
       "    </tr>\n",
       "    <tr>\n",
       "      <th>23040000</th>\n",
       "      <td>26.513</td>\n",
       "    </tr>\n",
       "    <tr>\n",
       "      <th>23040000</th>\n",
       "      <td>27.498</td>\n",
       "    </tr>\n",
       "  </tbody>\n",
       "</table>\n",
       "<p>100 rows × 1 columns</p>\n",
       "</div>"
      ],
      "text/plain": [
       "            Time\n",
       "Size            \n",
       "16         0.002\n",
       "16         0.001\n",
       "16         0.001\n",
       "16         0.005\n",
       "16         0.001\n",
       "...          ...\n",
       "23040000  26.204\n",
       "23040000  25.854\n",
       "23040000  26.763\n",
       "23040000  26.513\n",
       "23040000  27.498\n",
       "\n",
       "[100 rows x 1 columns]"
      ]
     },
     "execution_count": 13,
     "metadata": {},
     "output_type": "execute_result"
    }
   ],
   "source": [
    "dfs = df.stack().reset_index()\n",
    "dfs = dfs.set_index('Size')\n",
    "dfs = dfs.drop(columns=['Time'])\n",
    "dfs = dfs.rename(columns={0:'Time'})\n",
    "dfs"
   ]
  },
  {
   "cell_type": "code",
   "execution_count": 14,
   "id": "1469491f-2aa5-4f1e-a667-1fac70dce463",
   "metadata": {},
   "outputs": [
    {
     "data": {
      "image/png": "[encoded data removed]",
      "text/plain": [
       "<Figure size 432x288 with 1 Axes>"
      ]
     },
     "metadata": {},
     "output_type": "display_data"
    },
    {
     "data": {
      "image/png": "[encoded data removed]",
      "text/plain": [
       "<Figure size 360x360 with 1 Axes>"
      ]
     },
     "metadata": {},
     "output_type": "display_data"
    }
   ],
   "source": [
    "sns.scatterplot(data=dfs, x=\"Size\", y=\"Time\")\n",
    "sns.relplot(x=\"Size\", y=\"Time\", kind=\"line\", data=dfs);"
   ]
  },
  {
   "cell_type": "code",
   "execution_count": 16,
   "id": "3b651569-60f4-45ae-a06a-e0fa4b509ac3",
   "metadata": {},
   "outputs": [],
   "source": [
    "df.to_pickle(f\"benchmark/{label}-df.pkl\")"
   ]
  },
  {
   "cell_type": "code",
   "execution_count": null,
   "id": "a20cd2a5-ba19-489e-930e-d0b2765db5f7",
   "metadata": {},
   "outputs": [],
   "source": []
  }
 ],
 "metadata": {
  "kernelspec": {
   "display_name": "Python 3",
   "language": "python",
   "name": "python3"
  },
  "language_info": {
   "codemirror_mode": {
    "name": "ipython",
    "version": 3
   },
   "file_extension": ".py",
   "mimetype": "text/x-python",
   "name": "python",
   "nbconvert_exporter": "python",
   "pygments_lexer": "ipython3",
   "version": "3.9.5"
  }
 },
 "nbformat": 4,
 "nbformat_minor": 5
}
