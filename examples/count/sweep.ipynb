{
 "cells": [
  {
   "cell_type": "markdown",
   "id": "5f61112f-554f-4abe-9d4e-33da013349f0",
   "metadata": {},
   "source": [
    "When benchmarking you **MUST**\n",
    "\n",
    "1. close all applications\n",
    "2. close docker\n",
    "3. close all but this Web windows\n",
    "4. all pen editors other than jupyter-lab (this notebook)\n"
   ]
  },
  {
   "cell_type": "code",
   "execution_count": 38,
   "id": "49f68aa9-9191-4e13-97ad-de20c8a79123",
   "metadata": {},
   "outputs": [],
   "source": [
    "import os\n",
    "from cloudmesh.common.Shell import Shell\n",
    "from pprint import pprint\n",
    "import matplotlib.pyplot as plt\n",
    "import seaborn as sns\n",
    "%matplotlib inline\n",
    "\n",
    "import pandas as pd\n",
    "from tqdm.notebook import tqdm\n",
    "from cloudmesh.common.util import readfile\n",
    "from cloudmesh.common.util import writefile\n",
    "from cloudmesh.common.StopWatch import StopWatch \n",
    "from cloudmesh.common.systeminfo import systeminfo\n",
    "import ipywidgets as widgets\n",
    "\n",
    "sns.set_theme(style=\"whitegrid\")"
   ]
  },
  {
   "cell_type": "code",
   "execution_count": 39,
   "id": "3bba2a97-b267-4f4a-a13e-f1af543a81b2",
   "metadata": {},
   "outputs": [],
   "source": [
    "info = systeminfo()\n",
    "user = info[\"user\"]\n",
    "node = info[\"uname.node\"]\n",
    "processors = 4"
   ]
  },
  {
   "cell_type": "code",
   "execution_count": 57,
   "id": "8db07274-0225-475c-81c1-20ebb4c4bf12",
   "metadata": {},
   "outputs": [
    {
     "data": {
      "application/vnd.jupyter.widget-view+json": {
       "model_id": "b991e07a29644949a5882f81adf27409",
       "version_major": 2,
       "version_minor": 0
      },
      "text/plain": [
       "IntSlider(value=4, continuous_update=False, description='Processors:', max=64, min=2)"
      ]
     },
     "metadata": {},
     "output_type": "display_data"
    },
    {
     "data": {
      "application/vnd.jupyter.widget-view+json": {
       "model_id": "18a3e27e22c042b6ab0da3817e864fb1",
       "version_major": 2,
       "version_minor": 0
      },
      "text/plain": [
       "Text(value='gregor', description='User:', placeholder='The user name')"
      ]
     },
     "metadata": {},
     "output_type": "display_data"
    },
    {
     "data": {
      "application/vnd.jupyter.widget-view+json": {
       "model_id": "d0b2dad48c814755b6041086a5c4a594",
       "version_major": 2,
       "version_minor": 0
      },
      "text/plain": [
       "Text(value='alienware', description='Computer:', placeholder='The computer name')"
      ]
     },
     "metadata": {},
     "output_type": "display_data"
    }
   ],
   "source": [
    "p = widgets.IntSlider(\n",
    "    value=processors,\n",
    "    min=2,\n",
    "    max=64,\n",
    "    step=1,\n",
    "    description='Processors:',\n",
    "    disabled=False,\n",
    "    continuous_update=False,\n",
    "    orientation='horizontal',\n",
    "    readout=True,\n",
    "    readout_format='d'\n",
    ")\n",
    "u = widgets.Text(value=user, placeholder='The user name', description='User:', disabled=False)\n",
    "n = widgets.Text(value=node, placeholder='The computer name', description='Computer:', disabled=False)\n",
    "\n",
    "display(p)\n",
    "display(u)\n",
    "display(n)"
   ]
  },
  {
   "cell_type": "code",
   "execution_count": 58,
   "id": "c3cc9322-3fed-463a-b998-1fb3d9e7ad9c",
   "metadata": {},
   "outputs": [
    {
     "name": "stdout",
     "output_type": "stream",
     "text": [
      "4 gregor alienware\n"
     ]
    }
   ],
   "source": [
    "processors = p.value\n",
    "user = u.value\n",
    "node = n.value\n",
    "print (processors, user, node)"
   ]
  },
  {
   "cell_type": "code",
   "execution_count": 59,
   "id": "6b9f415b-d848-4af3-9436-6680835180dd",
   "metadata": {},
   "outputs": [],
   "source": [
    "\n",
    "experiments = 10\n",
    "maximum = 1024 * 100000\n",
    "intervals = 10"
   ]
  },
  {
   "cell_type": "code",
   "execution_count": 60,
   "id": "a1ce2a6c-4d24-46f1-9478-a9949694b928",
   "metadata": {},
   "outputs": [
    {
     "name": "stdout",
     "output_type": "stream",
     "text": [
      "[64, 10240000, 20480000, 30720000, 40960000, 51200000, 61440000, 71680000, 81920000, 92160000]\n",
      "[16, 2560000, 5120000, 7680000, 10240000, 12800000, 15360000, 17920000, 20480000, 23040000]\n"
     ]
    }
   ],
   "source": [
    "label = f\"{user}-{node}-{processors}\"\n",
    "output = f\"benchmark/{user}\"\n",
    "\n",
    "delta = int(maximum / intervals)\n",
    "\n",
    "totals = [64] + list(range(0,maximum, delta))[1:]\n",
    "points = [int(t/processors) for t in totals]\n",
    "print (totals)\n",
    "print(points)"
   ]
  },
  {
   "cell_type": "code",
   "execution_count": 61,
   "id": "0a54c0dc-d4de-4a66-97e3-c41a2171204c",
   "metadata": {},
   "outputs": [],
   "source": [
    "os.makedirs(output, exist_ok=True)"
   ]
  },
  {
   "cell_type": "code",
   "execution_count": 62,
   "id": "fc2fcdef-f19c-4a13-98a9-cf6f482ae9e7",
   "metadata": {},
   "outputs": [
    {
     "name": "stdout",
     "output_type": "stream",
     "text": [
      "+---------------------+------------------------------------------------------------------+\n",
      "| Attribute           | Value                                                            |\n",
      "|---------------------+------------------------------------------------------------------|\n",
      "| BUG_REPORT_URL      | \"https://bugs.launchpad.net/ubuntu/\"                             |\n",
      "| DISTRIB_CODENAME    | hirsute                                                          |\n",
      "| DISTRIB_DESCRIPTION | \"Ubuntu 21.04\"                                                   |\n",
      "| DISTRIB_ID          | Ubuntu                                                           |\n",
      "| DISTRIB_RELEASE     | 21.04                                                            |\n",
      "| HOME_URL            | \"https://www.ubuntu.com/\"                                        |\n",
      "| ID                  | ubuntu                                                           |\n",
      "| ID_LIKE             | debian                                                           |\n",
      "| NAME                | \"Ubuntu\"                                                         |\n",
      "| PRETTY_NAME         | \"Ubuntu 21.04\"                                                   |\n",
      "| PRIVACY_POLICY_URL  | \"https://www.ubuntu.com/legal/terms-and-policies/privacy-policy\" |\n",
      "| SUPPORT_URL         | \"https://help.ubuntu.com/\"                                       |\n",
      "| UBUNTU_CODENAME     | hirsute                                                          |\n",
      "| VERSION             | \"21.04 (Hirsute Hippo)\"                                          |\n",
      "| VERSION_CODENAME    | hirsute                                                          |\n",
      "| VERSION_ID          | \"21.04\"                                                          |\n",
      "| cpu                 | AMD Ryzen 9 3950X 16-Core Processor                              |\n",
      "| cpu_count           | 32                                                               |\n",
      "| frequency           | scpufreq(current=2311.0274062499993, min=2200.0, max=3500.0)     |\n",
      "| mem.active          | 9.5 GiB                                                          |\n",
      "| mem.available       | 55.7 GiB                                                         |\n",
      "| mem.free            | 35.1 GiB                                                         |\n",
      "| mem.inactive        | 13.3 GiB                                                         |\n",
      "| mem.percent         | 11.2 %                                                           |\n",
      "| mem.total           | 62.8 GiB                                                         |\n",
      "| mem.used            | 6.3 GiB                                                          |\n",
      "| platform.version    | #19-Ubuntu SMP Fri May 7 14:22:03 UTC 2021                       |\n",
      "| python              | 3.9.4 (default, Apr  5 2021, 18:24:44)                           |\n",
      "|                     | [GCC 9.3.0]                                                      |\n",
      "| python.pip          | 21.1.2                                                           |\n",
      "| python.version      | 3.9.4                                                            |\n",
      "| sys.platform        | linux                                                            |\n",
      "| uname.machine       | x86_64                                                           |\n",
      "| uname.node          | alien                                                            |\n",
      "| uname.processor     | x86_64                                                           |\n",
      "| uname.release       | 5.11.0-18-generic                                                |\n",
      "| uname.system        | Linux                                                            |\n",
      "| uname.version       | #19-Ubuntu SMP Fri May 7 14:22:03 UTC 2021                       |\n",
      "| user                | green                                                            |\n",
      "+---------------------+------------------------------------------------------------------+\n"
     ]
    }
   ],
   "source": [
    "systeminfo = StopWatch.systeminfo()\n",
    "writefile(f\"{output}/{label}-sysinfo.log\", systeminfo)\n",
    "print (systeminfo)"
   ]
  },
  {
   "cell_type": "code",
   "execution_count": 63,
   "id": "530d02c4-11ab-4042-98c9-57979ad54871",
   "metadata": {},
   "outputs": [],
   "source": [
    "df = pd.DataFrame(\n",
    "{\"Size\": points}\n",
    ")\n",
    "df = df.set_index('Size')"
   ]
  },
  {
   "cell_type": "code",
   "execution_count": 64,
   "id": "b5a46162-7fc0-4e52-bc53-b4beb5ce6836",
   "metadata": {},
   "outputs": [
    {
     "data": {
      "application/vnd.jupyter.widget-view+json": {
       "model_id": "77b2519b1b4341ada7829cbeec283032",
       "version_major": 2,
       "version_minor": 0
      },
      "text/plain": [
       "Experiment:   0%|          | 0/10 [00:00<?, ?it/s]"
      ]
     },
     "metadata": {},
     "output_type": "display_data"
    },
    {
     "data": {
      "application/vnd.jupyter.widget-view+json": {
       "model_id": "fffe240619314ebdafbf0245f062b511",
       "version_major": 2,
       "version_minor": 0
      },
      "text/plain": [
       "Benchmark 16                   10 | 0/10 [00:00<?, ?it/s]"
      ]
     },
     "metadata": {},
     "output_type": "display_data"
    },
    {
     "data": {
      "application/vnd.jupyter.widget-view+json": {
       "model_id": "2f8bd9cbaaec490b8a8af6cba9b06fcd",
       "version_major": 2,
       "version_minor": 0
      },
      "text/plain": [
       "Benchmark 2560000              10 | 0/10 [00:00<?, ?it/s]"
      ]
     },
     "metadata": {},
     "output_type": "display_data"
    },
    {
     "data": {
      "application/vnd.jupyter.widget-view+json": {
       "model_id": "b408d240303b4d3ab2ee0caa8f3aa7d3",
       "version_major": 2,
       "version_minor": 0
      },
      "text/plain": [
       "Benchmark 5120000              10 | 0/10 [00:00<?, ?it/s]"
      ]
     },
     "metadata": {},
     "output_type": "display_data"
    },
    {
     "data": {
      "application/vnd.jupyter.widget-view+json": {
       "model_id": "5b52789f274a48b6969aa61894a7fd67",
       "version_major": 2,
       "version_minor": 0
      },
      "text/plain": [
       "Benchmark 7680000              10 | 0/10 [00:00<?, ?it/s]"
      ]
     },
     "metadata": {},
     "output_type": "display_data"
    },
    {
     "data": {
      "application/vnd.jupyter.widget-view+json": {
       "model_id": "84b0be7e0e9a4515a6e8aa342339e4ae",
       "version_major": 2,
       "version_minor": 0
      },
      "text/plain": [
       "Benchmark 10240000             10 | 0/10 [00:00<?, ?it/s]"
      ]
     },
     "metadata": {},
     "output_type": "display_data"
    },
    {
     "data": {
      "application/vnd.jupyter.widget-view+json": {
       "model_id": "1d14ae9e3eef48b8a1743fad55950cef",
       "version_major": 2,
       "version_minor": 0
      },
      "text/plain": [
       "Benchmark 12800000             10 | 0/10 [00:00<?, ?it/s]"
      ]
     },
     "metadata": {},
     "output_type": "display_data"
    },
    {
     "data": {
      "application/vnd.jupyter.widget-view+json": {
       "model_id": "88c0c7f317184a29a81fab64033e2018",
       "version_major": 2,
       "version_minor": 0
      },
      "text/plain": [
       "Benchmark 15360000             10 | 0/10 [00:00<?, ?it/s]"
      ]
     },
     "metadata": {},
     "output_type": "display_data"
    },
    {
     "data": {
      "application/vnd.jupyter.widget-view+json": {
       "model_id": "c3460f4b8f7c4cd58c62adf9a2de0944",
       "version_major": 2,
       "version_minor": 0
      },
      "text/plain": [
       "Benchmark 17920000             10 | 0/10 [00:00<?, ?it/s]"
      ]
     },
     "metadata": {},
     "output_type": "display_data"
    },
    {
     "data": {
      "application/vnd.jupyter.widget-view+json": {
       "model_id": "eabc13404a674ccfb4ccfa8626b2ad47",
       "version_major": 2,
       "version_minor": 0
      },
      "text/plain": [
       "Benchmark 20480000             10 | 0/10 [00:00<?, ?it/s]"
      ]
     },
     "metadata": {},
     "output_type": "display_data"
    },
    {
     "data": {
      "application/vnd.jupyter.widget-view+json": {
       "model_id": "071f26f804cd4befb91cc25f0a39f9c4",
       "version_major": 2,
       "version_minor": 0
      },
      "text/plain": [
       "Benchmark 23040000             10 | 0/10 [00:00<?, ?it/s]"
      ]
     },
     "metadata": {},
     "output_type": "display_data"
    }
   ],
   "source": [
    "\n",
    "\n",
    "experiment_progress = tqdm(range(0, experiments), desc =\"Experiment\")\n",
    "\n",
    "experiment = -1\n",
    "for experiment in experiment_progress:\n",
    "    exoeriment = experiment + 1\n",
    "\n",
    "    log = f\"{output}/{label}-{experiment}-log.log\"\n",
    "    os.system(f\"rm {log}\")\n",
    "\n",
    "\n",
    "    name = points[experiment]\n",
    "    progress = tqdm(range(0, len(points)), \n",
    "                    desc =f\"Benchmark {name}\",\n",
    "                    bar_format=\"{desc:<30} {total_fmt} {r_bar}\")\n",
    "    \n",
    "    i = -1\n",
    "    for state in progress:\n",
    "        i = i + 1\n",
    "        n = points[i]\n",
    "        #if linux, os:\n",
    "        command = f\"mpiexec -n {processors} python count-click.py \" + \\\n",
    "                  f\"--n {n} --max_number 10 --find 8 --label {label} \" + \\\n",
    "                  f\"--user {user} --node={node} \" + \\\n",
    "                  f\"| tee -a {log}\"\n",
    "        #if windows: \n",
    "        #command = f\"mpiexec -n {processors} python count-click.py \" + \\\n",
    "        #          f\"--n {n} --max_number 10 --find 8 --label {label} \" + \\\n",
    "        #          f\"--user {user} --node={node} \" + \\\n",
    "        #          f\">> {log}\"\n",
    "        \n",
    "        os.system (command)\n",
    "\n",
    "    content = readfile(log).splitlines()\n",
    "    lines = Shell.cm_grep(content, \"csv,Result:\")\n",
    "    # print(lines)\n",
    "    values = []\n",
    "    times = []\n",
    "\n",
    "    for line in lines:\n",
    "        msg = line.split(\",\")[7]\n",
    "        t = line.split(\",\")[4]\n",
    "\n",
    "        total, overall, trials, find, label = msg.split(\" \")\n",
    "        values.append(int(overall))\n",
    "        times.append(float(t))\n",
    "        # print (t, overall)\n",
    "\n",
    "\n",
    "    #data = pd.DataFrame(values, times, columns=[\"Values\", \"Time\"])\n",
    "\n",
    "    #print (data.describe())\n",
    "    #sns.lineplot(data=data, palette=\"tab10\", linewidth=2.5)\n",
    "    # df[\"Size\"] = values\n",
    "    df[f\"Time_{experiment}\"] = times\n",
    "    # print(df)\n"
   ]
  },
  {
   "cell_type": "code",
   "execution_count": 65,
   "id": "6247ec43-6d8b-4f42-8d1d-4c7b5f67312b",
   "metadata": {},
   "outputs": [
    {
     "data": {
      "text/html": [
       "<div>\n",
       "<style scoped>\n",
       "    .dataframe tbody tr th:only-of-type {\n",
       "        vertical-align: middle;\n",
       "    }\n",
       "\n",
       "    .dataframe tbody tr th {\n",
       "        vertical-align: top;\n",
       "    }\n",
       "\n",
       "    .dataframe thead th {\n",
       "        text-align: right;\n",
       "    }\n",
       "</style>\n",
       "<table border=\"1\" class=\"dataframe\">\n",
       "  <thead>\n",
       "    <tr style=\"text-align: right;\">\n",
       "      <th>Time</th>\n",
       "      <th>Time_0</th>\n",
       "      <th>Time_1</th>\n",
       "      <th>Time_2</th>\n",
       "      <th>Time_3</th>\n",
       "      <th>Time_4</th>\n",
       "      <th>Time_5</th>\n",
       "      <th>Time_6</th>\n",
       "      <th>Time_7</th>\n",
       "      <th>Time_8</th>\n",
       "      <th>Time_9</th>\n",
       "    </tr>\n",
       "    <tr>\n",
       "      <th>Size</th>\n",
       "      <th></th>\n",
       "      <th></th>\n",
       "      <th></th>\n",
       "      <th></th>\n",
       "      <th></th>\n",
       "      <th></th>\n",
       "      <th></th>\n",
       "      <th></th>\n",
       "      <th></th>\n",
       "      <th></th>\n",
       "    </tr>\n",
       "  </thead>\n",
       "  <tbody>\n",
       "    <tr>\n",
       "      <th>16</th>\n",
       "      <td>0.008</td>\n",
       "      <td>0.008</td>\n",
       "      <td>0.036</td>\n",
       "      <td>0.028</td>\n",
       "      <td>0.001</td>\n",
       "      <td>0.020</td>\n",
       "      <td>0.042</td>\n",
       "      <td>0.017</td>\n",
       "      <td>0.010</td>\n",
       "      <td>0.009</td>\n",
       "    </tr>\n",
       "    <tr>\n",
       "      <th>2560000</th>\n",
       "      <td>2.069</td>\n",
       "      <td>2.143</td>\n",
       "      <td>2.131</td>\n",
       "      <td>2.101</td>\n",
       "      <td>2.106</td>\n",
       "      <td>2.098</td>\n",
       "      <td>2.179</td>\n",
       "      <td>2.107</td>\n",
       "      <td>2.139</td>\n",
       "      <td>2.116</td>\n",
       "    </tr>\n",
       "    <tr>\n",
       "      <th>5120000</th>\n",
       "      <td>4.205</td>\n",
       "      <td>4.207</td>\n",
       "      <td>4.133</td>\n",
       "      <td>4.227</td>\n",
       "      <td>4.215</td>\n",
       "      <td>4.183</td>\n",
       "      <td>4.154</td>\n",
       "      <td>4.150</td>\n",
       "      <td>4.252</td>\n",
       "      <td>4.239</td>\n",
       "    </tr>\n",
       "    <tr>\n",
       "      <th>7680000</th>\n",
       "      <td>6.362</td>\n",
       "      <td>6.367</td>\n",
       "      <td>6.345</td>\n",
       "      <td>6.511</td>\n",
       "      <td>6.311</td>\n",
       "      <td>6.245</td>\n",
       "      <td>6.411</td>\n",
       "      <td>6.770</td>\n",
       "      <td>6.340</td>\n",
       "      <td>6.275</td>\n",
       "    </tr>\n",
       "    <tr>\n",
       "      <th>10240000</th>\n",
       "      <td>8.411</td>\n",
       "      <td>8.691</td>\n",
       "      <td>8.406</td>\n",
       "      <td>8.500</td>\n",
       "      <td>8.417</td>\n",
       "      <td>8.385</td>\n",
       "      <td>8.384</td>\n",
       "      <td>8.339</td>\n",
       "      <td>8.351</td>\n",
       "      <td>8.208</td>\n",
       "    </tr>\n",
       "    <tr>\n",
       "      <th>12800000</th>\n",
       "      <td>10.516</td>\n",
       "      <td>10.313</td>\n",
       "      <td>10.358</td>\n",
       "      <td>10.601</td>\n",
       "      <td>10.418</td>\n",
       "      <td>10.536</td>\n",
       "      <td>10.424</td>\n",
       "      <td>10.263</td>\n",
       "      <td>10.411</td>\n",
       "      <td>10.459</td>\n",
       "    </tr>\n",
       "    <tr>\n",
       "      <th>15360000</th>\n",
       "      <td>12.647</td>\n",
       "      <td>12.462</td>\n",
       "      <td>12.663</td>\n",
       "      <td>12.502</td>\n",
       "      <td>12.561</td>\n",
       "      <td>12.322</td>\n",
       "      <td>12.556</td>\n",
       "      <td>12.310</td>\n",
       "      <td>12.586</td>\n",
       "      <td>12.710</td>\n",
       "    </tr>\n",
       "    <tr>\n",
       "      <th>17920000</th>\n",
       "      <td>14.561</td>\n",
       "      <td>15.117</td>\n",
       "      <td>14.833</td>\n",
       "      <td>15.110</td>\n",
       "      <td>14.857</td>\n",
       "      <td>14.557</td>\n",
       "      <td>14.604</td>\n",
       "      <td>14.513</td>\n",
       "      <td>14.556</td>\n",
       "      <td>15.009</td>\n",
       "    </tr>\n",
       "    <tr>\n",
       "      <th>20480000</th>\n",
       "      <td>16.456</td>\n",
       "      <td>16.696</td>\n",
       "      <td>16.579</td>\n",
       "      <td>16.786</td>\n",
       "      <td>16.625</td>\n",
       "      <td>16.599</td>\n",
       "      <td>16.835</td>\n",
       "      <td>17.289</td>\n",
       "      <td>16.516</td>\n",
       "      <td>17.200</td>\n",
       "    </tr>\n",
       "    <tr>\n",
       "      <th>23040000</th>\n",
       "      <td>18.678</td>\n",
       "      <td>18.826</td>\n",
       "      <td>18.714</td>\n",
       "      <td>18.814</td>\n",
       "      <td>19.048</td>\n",
       "      <td>18.620</td>\n",
       "      <td>18.570</td>\n",
       "      <td>19.048</td>\n",
       "      <td>18.925</td>\n",
       "      <td>18.748</td>\n",
       "    </tr>\n",
       "  </tbody>\n",
       "</table>\n",
       "</div>"
      ],
      "text/plain": [
       "Time      Time_0  Time_1  Time_2  Time_3  Time_4  Time_5  Time_6  Time_7  \\\n",
       "Size                                                                       \n",
       "16         0.008   0.008   0.036   0.028   0.001   0.020   0.042   0.017   \n",
       "2560000    2.069   2.143   2.131   2.101   2.106   2.098   2.179   2.107   \n",
       "5120000    4.205   4.207   4.133   4.227   4.215   4.183   4.154   4.150   \n",
       "7680000    6.362   6.367   6.345   6.511   6.311   6.245   6.411   6.770   \n",
       "10240000   8.411   8.691   8.406   8.500   8.417   8.385   8.384   8.339   \n",
       "12800000  10.516  10.313  10.358  10.601  10.418  10.536  10.424  10.263   \n",
       "15360000  12.647  12.462  12.663  12.502  12.561  12.322  12.556  12.310   \n",
       "17920000  14.561  15.117  14.833  15.110  14.857  14.557  14.604  14.513   \n",
       "20480000  16.456  16.696  16.579  16.786  16.625  16.599  16.835  17.289   \n",
       "23040000  18.678  18.826  18.714  18.814  19.048  18.620  18.570  19.048   \n",
       "\n",
       "Time      Time_8  Time_9  \n",
       "Size                      \n",
       "16         0.010   0.009  \n",
       "2560000    2.139   2.116  \n",
       "5120000    4.252   4.239  \n",
       "7680000    6.340   6.275  \n",
       "10240000   8.351   8.208  \n",
       "12800000  10.411  10.459  \n",
       "15360000  12.586  12.710  \n",
       "17920000  14.556  15.009  \n",
       "20480000  16.516  17.200  \n",
       "23040000  18.925  18.748  "
      ]
     },
     "execution_count": 65,
     "metadata": {},
     "output_type": "execute_result"
    }
   ],
   "source": [
    "\n",
    "df = df.rename_axis(columns=\"Time\")\n",
    "df\n",
    "    "
   ]
  },
  {
   "cell_type": "code",
   "execution_count": 66,
   "id": "1c6a28b5-3300-4683-83e1-68afec4fefc7",
   "metadata": {},
   "outputs": [
    {
     "data": {
      "image/png": "[encoded data removed]",
      "text/plain": [
       "<Figure size 432x288 with 1 Axes>"
      ]
     },
     "metadata": {},
     "output_type": "display_data"
    }
   ],
   "source": [
    "sns.lineplot(data=df, markers=True);"
   ]
  },
  {
   "cell_type": "code",
   "execution_count": 67,
   "id": "b1c65630-3895-4018-8449-8495edcad3e4",
   "metadata": {},
   "outputs": [
    {
     "data": {
      "text/plain": [
       "<Figure size 432x288 with 0 Axes>"
      ]
     },
     "metadata": {},
     "output_type": "display_data"
    }
   ],
   "source": [
    "plt.savefig(f'{output}/{label}-line.png');\n",
    "plt.savefig(f'{output}/{label}-line.pdf');"
   ]
  },
  {
   "cell_type": "code",
   "execution_count": 68,
   "id": "0bd63fd7-70c6-4b4b-b213-4af734b8035e",
   "metadata": {},
   "outputs": [
    {
     "data": {
      "text/html": [
       "<div>\n",
       "<style scoped>\n",
       "    .dataframe tbody tr th:only-of-type {\n",
       "        vertical-align: middle;\n",
       "    }\n",
       "\n",
       "    .dataframe tbody tr th {\n",
       "        vertical-align: top;\n",
       "    }\n",
       "\n",
       "    .dataframe thead th {\n",
       "        text-align: right;\n",
       "    }\n",
       "</style>\n",
       "<table border=\"1\" class=\"dataframe\">\n",
       "  <thead>\n",
       "    <tr style=\"text-align: right;\">\n",
       "      <th></th>\n",
       "      <th>Time</th>\n",
       "    </tr>\n",
       "    <tr>\n",
       "      <th>Size</th>\n",
       "      <th></th>\n",
       "    </tr>\n",
       "  </thead>\n",
       "  <tbody>\n",
       "    <tr>\n",
       "      <th>16</th>\n",
       "      <td>0.008</td>\n",
       "    </tr>\n",
       "    <tr>\n",
       "      <th>16</th>\n",
       "      <td>0.008</td>\n",
       "    </tr>\n",
       "    <tr>\n",
       "      <th>16</th>\n",
       "      <td>0.036</td>\n",
       "    </tr>\n",
       "    <tr>\n",
       "      <th>16</th>\n",
       "      <td>0.028</td>\n",
       "    </tr>\n",
       "    <tr>\n",
       "      <th>16</th>\n",
       "      <td>0.001</td>\n",
       "    </tr>\n",
       "    <tr>\n",
       "      <th>...</th>\n",
       "      <td>...</td>\n",
       "    </tr>\n",
       "    <tr>\n",
       "      <th>23040000</th>\n",
       "      <td>18.620</td>\n",
       "    </tr>\n",
       "    <tr>\n",
       "      <th>23040000</th>\n",
       "      <td>18.570</td>\n",
       "    </tr>\n",
       "    <tr>\n",
       "      <th>23040000</th>\n",
       "      <td>19.048</td>\n",
       "    </tr>\n",
       "    <tr>\n",
       "      <th>23040000</th>\n",
       "      <td>18.925</td>\n",
       "    </tr>\n",
       "    <tr>\n",
       "      <th>23040000</th>\n",
       "      <td>18.748</td>\n",
       "    </tr>\n",
       "  </tbody>\n",
       "</table>\n",
       "<p>100 rows × 1 columns</p>\n",
       "</div>"
      ],
      "text/plain": [
       "            Time\n",
       "Size            \n",
       "16         0.008\n",
       "16         0.008\n",
       "16         0.036\n",
       "16         0.028\n",
       "16         0.001\n",
       "...          ...\n",
       "23040000  18.620\n",
       "23040000  18.570\n",
       "23040000  19.048\n",
       "23040000  18.925\n",
       "23040000  18.748\n",
       "\n",
       "[100 rows x 1 columns]"
      ]
     },
     "execution_count": 68,
     "metadata": {},
     "output_type": "execute_result"
    }
   ],
   "source": [
    "dfs = df.stack().reset_index()\n",
    "dfs = dfs.set_index('Size')\n",
    "dfs = dfs.drop(columns=['Time'])\n",
    "dfs = dfs.rename(columns={0:'Time'})\n",
    "dfs"
   ]
  },
  {
   "cell_type": "code",
   "execution_count": 69,
   "id": "a6114d9f-a63a-449d-9b8c-178c036c31a6",
   "metadata": {},
   "outputs": [
    {
     "data": {
      "image/png": "[encoded data removed]",
      "text/plain": [
       "<Figure size 432x288 with 1 Axes>"
      ]
     },
     "metadata": {},
     "output_type": "display_data"
    }
   ],
   "source": [
    "sns.scatterplot(data=dfs, x=\"Size\", y=\"Time\");\n",
    "plt.savefig(f\"{output}/{label}-scatter.pdf\")\n",
    "plt.savefig(f\"{output}/{label}-scatter.png\")"
   ]
  },
  {
   "cell_type": "code",
   "execution_count": 70,
   "id": "09ba121b-76b2-43a2-a58c-356fca482ba1",
   "metadata": {},
   "outputs": [
    {
     "data": {
      "image/png": "[encoded data removed]",
      "text/plain": [
       "<Figure size 360x360 with 1 Axes>"
      ]
     },
     "metadata": {},
     "output_type": "display_data"
    }
   ],
   "source": [
    "sns.relplot(x=\"Size\", y=\"Time\", kind=\"line\", data=dfs);\n",
    "plt.savefig(f\"{output}/{label}-relplot.pdf\")\n",
    "plt.savefig(f\"{output}/{label}-relplot.png\")"
   ]
  },
  {
   "cell_type": "code",
   "execution_count": 71,
   "id": "3b651569-60f4-45ae-a06a-e0fa4b509ac3",
   "metadata": {},
   "outputs": [],
   "source": [
    "df.to_pickle(f\"{output}/{label}-df.pkl\")"
   ]
  },
  {
   "cell_type": "code",
   "execution_count": null,
   "id": "a20cd2a5-ba19-489e-930e-d0b2765db5f7",
   "metadata": {},
   "outputs": [],
   "source": []
  },
  {
   "cell_type": "code",
   "execution_count": null,
   "id": "14bc4867-3229-4e1b-adeb-cdab84e722c1",
   "metadata": {},
   "outputs": [],
   "source": []
  }
 ],
 "metadata": {
  "kernelspec": {
   "display_name": "Python 3",
   "language": "python",
   "name": "python3"
  },
  "language_info": {
   "codemirror_mode": {
    "name": "ipython",
    "version": 3
   },
   "file_extension": ".py",
   "mimetype": "text/x-python",
   "name": "python",
   "nbconvert_exporter": "python",
   "pygments_lexer": "ipython3",
   "version": "3.9.4"
  }
 },
 "nbformat": 4,
 "nbformat_minor": 5
}
