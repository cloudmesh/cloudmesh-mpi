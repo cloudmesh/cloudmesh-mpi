{
 "cells": [
  {
   "cell_type": "markdown",
   "id": "5f61112f-554f-4abe-9d4e-33da013349f0",
   "metadata": {},
   "source": [
    "When benchmarking you **MUST**\n",
    "\n",
    "1. close all applications\n",
    "2. close docker\n",
    "3. close all but this Web windows\n",
    "4. all pen editors other than jupyter-lab (this notebook)\n"
   ]
  },
  {
   "cell_type": "code",
   "execution_count": 1,
   "id": "49f68aa9-9191-4e13-97ad-de20c8a79123",
   "metadata": {},
   "outputs": [],
   "source": [
    "import os\n",
    "from cloudmesh.common.Shell import Shell\n",
    "from pprint import pprint\n",
    "import matplotlib.pyplot as plt\n",
    "import seaborn as sns\n",
    "%matplotlib inline\n",
    "\n",
    "import pandas as pd\n",
    "from tqdm.notebook import tqdm\n",
    "from cloudmesh.common.util import readfile\n",
    "from cloudmesh.common.util import writefile\n",
    "from cloudmesh.common.StopWatch import StopWatch \n",
    "from cloudmesh.common.systeminfo import systeminfo\n",
    "import ipywidgets as widgets\n",
    "\n",
    "sns.set_theme(style=\"whitegrid\")\n",
    "info = systeminfo()"
   ]
  },
  {
   "cell_type": "code",
   "execution_count": 2,
   "id": "3bba2a97-b267-4f4a-a13e-f1af543a81b2",
   "metadata": {
    "tags": [
     "parameters"
    ]
   },
   "outputs": [],
   "source": [
    "\n",
    "user = info[\"user\"] \n",
    "node = info[\"uname.node\"]\n",
    "processors = 4"
   ]
  },
  {
   "cell_type": "code",
   "execution_count": 3,
   "id": "8db07274-0225-475c-81c1-20ebb4c4bf12",
   "metadata": {},
   "outputs": [
    {
     "data": {
      "application/vnd.jupyter.widget-view+json": {
       "model_id": "d1f77a5f114a49988a54013b93829044",
       "version_major": 2,
       "version_minor": 0
      },
      "text/plain": [
       "IntSlider(value=4, continuous_update=False, description='Processors:', max=64, min=1)"
      ]
     },
     "metadata": {},
     "output_type": "display_data"
    },
    {
     "data": {
      "application/vnd.jupyter.widget-view+json": {
       "model_id": "c82ca23570a94f2db8b7460897e1b8be",
       "version_major": 2,
       "version_minor": 0
      },
      "text/plain": [
       "Text(value='grey', description='User:', placeholder='The user name')"
      ]
     },
     "metadata": {},
     "output_type": "display_data"
    },
    {
     "data": {
      "application/vnd.jupyter.widget-view+json": {
       "model_id": "4fe5bbdc6df441d4adb5d2e2fb2d6cb3",
       "version_major": 2,
       "version_minor": 0
      },
      "text/plain": [
       "Text(value='gamera', description='Computer:', placeholder='The computer name')"
      ]
     },
     "metadata": {},
     "output_type": "display_data"
    }
   ],
   "source": [
    "p = widgets.IntSlider(\n",
    "    value=processors,\n",
    "    min=1,\n",
    "    max=64,\n",
    "    step=1,\n",
    "    description='Processors:',\n",
    "    disabled=False,\n",
    "    continuous_update=False,\n",
    "    orientation='horizontal',\n",
    "    readout=True,\n",
    "    readout_format='d'\n",
    ")\n",
    "u = widgets.Text(value=user, placeholder='The user name', description='User:', disabled=False)\n",
    "n = widgets.Text(value=node, placeholder='The computer name', description='Computer:', disabled=False)\n",
    "\n",
    "display(p)\n",
    "display(u)\n",
    "display(n)"
   ]
  },
  {
   "cell_type": "code",
   "execution_count": 4,
   "id": "c3cc9322-3fed-463a-b998-1fb3d9e7ad9c",
   "metadata": {},
   "outputs": [
    {
     "name": "stdout",
     "output_type": "stream",
     "text": [
      "4 grey gamera\n"
     ]
    }
   ],
   "source": [
    "processors = p.value\n",
    "user = u.value\n",
    "node = n.value\n",
    "print (processors, user, node)"
   ]
  },
  {
   "cell_type": "code",
   "execution_count": 5,
   "id": "6b9f415b-d848-4af3-9436-6680835180dd",
   "metadata": {},
   "outputs": [],
   "source": [
    "\n",
    "experiments = 10\n",
    "maximum = 1024 * 100000\n",
    "intervals = 10"
   ]
  },
  {
   "cell_type": "code",
   "execution_count": 6,
   "id": "a1ce2a6c-4d24-46f1-9478-a9949694b928",
   "metadata": {},
   "outputs": [
    {
     "name": "stdout",
     "output_type": "stream",
     "text": [
      "[64, 10240000, 20480000, 30720000, 40960000, 51200000, 61440000, 71680000, 81920000, 92160000]\n",
      "[16, 2560000, 5120000, 7680000, 10240000, 12800000, 15360000, 17920000, 20480000, 23040000]\n"
     ]
    }
   ],
   "source": [
    "label = f\"{user}-{node}-{processors}\"\n",
    "output = f\"benchmark/{user}\"\n",
    "\n",
    "delta = int(maximum / intervals)\n",
    "\n",
    "totals = [64] + list(range(0,maximum, delta))[1:]\n",
    "points = [int(t/processors) for t in totals]\n",
    "print (totals)\n",
    "print(points)"
   ]
  },
  {
   "cell_type": "code",
   "execution_count": 7,
   "id": "0a54c0dc-d4de-4a66-97e3-c41a2171204c",
   "metadata": {},
   "outputs": [],
   "source": [
    "os.makedirs(output, exist_ok=True)"
   ]
  },
  {
   "cell_type": "code",
   "execution_count": 8,
   "id": "fc2fcdef-f19c-4a13-98a9-cf6f482ae9e7",
   "metadata": {},
   "outputs": [
    {
     "name": "stdout",
     "output_type": "stream",
     "text": [
      "+------------------+--------------------------------------------------------------------------------------------------+\n",
      "| Attribute        | Value                                                                                            |\n",
      "|------------------+--------------------------------------------------------------------------------------------------|\n",
      "| cpu              | Intel(R) Core(TM) i7-7920HQ CPU @ 3.10GHz                                                        |\n",
      "| cpu_count        | 8                                                                                                |\n",
      "| frequency        | scpufreq(current=3100, min=3100, max=3100)                                                       |\n",
      "| mem.active       | 6.6 GiB                                                                                          |\n",
      "| mem.available    | 6.6 GiB                                                                                          |\n",
      "| mem.free         | 15.5 MiB                                                                                         |\n",
      "| mem.inactive     | 6.4 GiB                                                                                          |\n",
      "| mem.percent      | 58.8 %                                                                                           |\n",
      "| mem.total        | 16.0 GiB                                                                                         |\n",
      "| mem.used         | 8.8 GiB                                                                                          |\n",
      "| mem.wired        | 2.2 GiB                                                                                          |\n",
      "| platform.version | 10.16                                                                                            |\n",
      "| python           | 3.9.5 (v3.9.5:0a7dcbdb13, May  3 2021, 13:17:02)                                                 |\n",
      "|                  | [Clang 6.0 (clang-600.0.57)]                                                                     |\n",
      "| python.pip       | 21.1.2                                                                                           |\n",
      "| python.version   | 3.9.5                                                                                            |\n",
      "| sys.platform     | darwin                                                                                           |\n",
      "| uname.machine    | x86_64                                                                                           |\n",
      "| uname.node       | gamera                                                                                           |\n",
      "| uname.processor  | i386                                                                                             |\n",
      "| uname.release    | 20.5.0                                                                                           |\n",
      "| uname.system     | Darwin                                                                                           |\n",
      "| uname.version    | Darwin Kernel Version 20.5.0: Sat May  8 05:10:33 PDT 2021; root:xnu-7195.121.3~9/RELEASE_X86_64 |\n",
      "| user             | grey                                                                                             |\n",
      "+------------------+--------------------------------------------------------------------------------------------------+\n"
     ]
    }
   ],
   "source": [
    "systeminfo = StopWatch.systeminfo({\"user\": user, \"uname.node\": node})\n",
    "writefile(f\"{output}/{label}-sysinfo.log\", systeminfo)\n",
    "print (systeminfo)"
   ]
  },
  {
   "cell_type": "code",
   "execution_count": 9,
   "id": "530d02c4-11ab-4042-98c9-57979ad54871",
   "metadata": {},
   "outputs": [],
   "source": [
    "df = pd.DataFrame(\n",
    "{\"Size\": points}\n",
    ")\n",
    "df = df.set_index('Size')"
   ]
  },
  {
   "cell_type": "code",
   "execution_count": 10,
   "id": "b5a46162-7fc0-4e52-bc53-b4beb5ce6836",
   "metadata": {},
   "outputs": [
    {
     "data": {
      "application/vnd.jupyter.widget-view+json": {
       "model_id": "e983e6b2f9db440e8615b5edb8ac7e81",
       "version_major": 2,
       "version_minor": 0
      },
      "text/plain": [
       "Experiment:   0%|          | 0/10 [00:00<?, ?it/s]"
      ]
     },
     "metadata": {},
     "output_type": "display_data"
    },
    {
     "data": {
      "application/vnd.jupyter.widget-view+json": {
       "model_id": "1a0840ba98fc44b6b36de750d768abba",
       "version_major": 2,
       "version_minor": 0
      },
      "text/plain": [
       "Benchmark 16                   10 | 0/10 [00:00<?, ?it/s]"
      ]
     },
     "metadata": {},
     "output_type": "display_data"
    },
    {
     "name": "stderr",
     "output_type": "stream",
     "text": [
      "ERROR:root:Internal Python error in the inspect module.\n",
      "Below is the traceback from this internal error.\n",
      "\n"
     ]
    },
    {
     "name": "stdout",
     "output_type": "stream",
     "text": [
      "Traceback (most recent call last):\n",
      "  File \"/Users/grey/ENV4/lib/python3.9/site-packages/IPython/core/interactiveshell.py\", line 3441, in run_code\n",
      "    exec(code_obj, self.user_global_ns, self.user_ns)\n",
      "  File \"<ipython-input-10-ef3f430961db>\", line 54, in <module>\n",
      "    df[f\"Time_{experiment}\"] = times\n",
      "  File \"/Users/grey/ENV4/lib/python3.9/site-packages/pandas/core/frame.py\", line 3163, in __setitem__\n",
      "    self._set_item(key, value)\n",
      "  File \"/Users/grey/ENV4/lib/python3.9/site-packages/pandas/core/frame.py\", line 3242, in _set_item\n",
      "    value = self._sanitize_column(key, value)\n",
      "  File \"/Users/grey/ENV4/lib/python3.9/site-packages/pandas/core/frame.py\", line 3899, in _sanitize_column\n",
      "    value = sanitize_index(value, self.index)\n",
      "  File \"/Users/grey/ENV4/lib/python3.9/site-packages/pandas/core/internals/construction.py\", line 751, in sanitize_index\n",
      "    raise ValueError(\n",
      "ValueError: Length of values (2) does not match length of index (10)\n",
      "\n",
      "During handling of the above exception, another exception occurred:\n",
      "\n",
      "Traceback (most recent call last):\n",
      "  File \"/Users/grey/ENV4/lib/python3.9/site-packages/IPython/core/interactiveshell.py\", line 2061, in showtraceback\n",
      "    stb = value._render_traceback_()\n",
      "AttributeError: 'ValueError' object has no attribute '_render_traceback_'\n",
      "\n",
      "During handling of the above exception, another exception occurred:\n",
      "\n",
      "Traceback (most recent call last):\n",
      "  File \"/Users/grey/ENV4/lib/python3.9/site-packages/IPython/core/ultratb.py\", line 1101, in get_records\n",
      "    return _fixed_getinnerframes(etb, number_of_lines_of_context, tb_offset)\n",
      "  File \"/Users/grey/ENV4/lib/python3.9/site-packages/IPython/core/ultratb.py\", line 248, in wrapped\n",
      "    return f(*args, **kwargs)\n",
      "  File \"/Users/grey/ENV4/lib/python3.9/site-packages/IPython/core/ultratb.py\", line 281, in _fixed_getinnerframes\n",
      "    records = fix_frame_records_filenames(inspect.getinnerframes(etb, context))\n",
      "  File \"/Library/Frameworks/Python.framework/Versions/3.9/lib/python3.9/inspect.py\", line 1541, in getinnerframes\n",
      "    frameinfo = (tb.tb_frame,) + getframeinfo(tb, context)\n",
      "  File \"/Library/Frameworks/Python.framework/Versions/3.9/lib/python3.9/inspect.py\", line 1499, in getframeinfo\n",
      "    filename = getsourcefile(frame) or getfile(frame)\n",
      "  File \"/Library/Frameworks/Python.framework/Versions/3.9/lib/python3.9/inspect.py\", line 709, in getsourcefile\n",
      "    if getattr(getmodule(object, filename), '__loader__', None) is not None:\n",
      "  File \"/Library/Frameworks/Python.framework/Versions/3.9/lib/python3.9/inspect.py\", line 755, in getmodule\n",
      "    os.path.realpath(f)] = module.__name__\n",
      "  File \"/Library/Frameworks/Python.framework/Versions/3.9/lib/python3.9/posixpath.py\", line 391, in realpath\n",
      "    path, ok = _joinrealpath(filename[:0], filename, {})\n",
      "  File \"/Library/Frameworks/Python.framework/Versions/3.9/lib/python3.9/posixpath.py\", line 424, in _joinrealpath\n",
      "    newpath = join(path, name)\n",
      "  File \"/Library/Frameworks/Python.framework/Versions/3.9/lib/python3.9/posixpath.py\", line 77, in join\n",
      "    sep = _get_sep(a)\n",
      "KeyboardInterrupt\n"
     ]
    },
    {
     "ename": "TypeError",
     "evalue": "object of type 'NoneType' has no len()",
     "output_type": "error",
     "traceback": [
      "\u001b[0;31m---------------------------------------------------------------------------\u001b[0m",
      "\u001b[0;31mValueError\u001b[0m                                Traceback (most recent call last)",
      "    \u001b[0;31m[... skipping hidden 1 frame]\u001b[0m\n",
      "\u001b[0;32m<ipython-input-10-ef3f430961db>\u001b[0m in \u001b[0;36m<module>\u001b[0;34m\u001b[0m\n\u001b[1;32m     53\u001b[0m     \u001b[0;31m# df[\"Size\"] = values\u001b[0m\u001b[0;34m\u001b[0m\u001b[0;34m\u001b[0m\u001b[0;34m\u001b[0m\u001b[0m\n\u001b[0;32m---> 54\u001b[0;31m     \u001b[0mdf\u001b[0m\u001b[0;34m[\u001b[0m\u001b[0;34mf\"Time_{experiment}\"\u001b[0m\u001b[0;34m]\u001b[0m \u001b[0;34m=\u001b[0m \u001b[0mtimes\u001b[0m\u001b[0;34m\u001b[0m\u001b[0;34m\u001b[0m\u001b[0m\n\u001b[0m\u001b[1;32m     55\u001b[0m     \u001b[0;31m# print(df)\u001b[0m\u001b[0;34m\u001b[0m\u001b[0;34m\u001b[0m\u001b[0;34m\u001b[0m\u001b[0m\n",
      "\u001b[0;32m~/ENV4/lib/python3.9/site-packages/pandas/core/frame.py\u001b[0m in \u001b[0;36m__setitem__\u001b[0;34m(self, key, value)\u001b[0m\n\u001b[1;32m   3162\u001b[0m             \u001b[0;31m# set column\u001b[0m\u001b[0;34m\u001b[0m\u001b[0;34m\u001b[0m\u001b[0;34m\u001b[0m\u001b[0m\n\u001b[0;32m-> 3163\u001b[0;31m             \u001b[0mself\u001b[0m\u001b[0;34m.\u001b[0m\u001b[0m_set_item\u001b[0m\u001b[0;34m(\u001b[0m\u001b[0mkey\u001b[0m\u001b[0;34m,\u001b[0m \u001b[0mvalue\u001b[0m\u001b[0;34m)\u001b[0m\u001b[0;34m\u001b[0m\u001b[0;34m\u001b[0m\u001b[0m\n\u001b[0m\u001b[1;32m   3164\u001b[0m \u001b[0;34m\u001b[0m\u001b[0m\n",
      "\u001b[0;32m~/ENV4/lib/python3.9/site-packages/pandas/core/frame.py\u001b[0m in \u001b[0;36m_set_item\u001b[0;34m(self, key, value)\u001b[0m\n\u001b[1;32m   3241\u001b[0m         \u001b[0mself\u001b[0m\u001b[0;34m.\u001b[0m\u001b[0m_ensure_valid_index\u001b[0m\u001b[0;34m(\u001b[0m\u001b[0mvalue\u001b[0m\u001b[0;34m)\u001b[0m\u001b[0;34m\u001b[0m\u001b[0;34m\u001b[0m\u001b[0m\n\u001b[0;32m-> 3242\u001b[0;31m         \u001b[0mvalue\u001b[0m \u001b[0;34m=\u001b[0m \u001b[0mself\u001b[0m\u001b[0;34m.\u001b[0m\u001b[0m_sanitize_column\u001b[0m\u001b[0;34m(\u001b[0m\u001b[0mkey\u001b[0m\u001b[0;34m,\u001b[0m \u001b[0mvalue\u001b[0m\u001b[0;34m)\u001b[0m\u001b[0;34m\u001b[0m\u001b[0;34m\u001b[0m\u001b[0m\n\u001b[0m\u001b[1;32m   3243\u001b[0m         \u001b[0mNDFrame\u001b[0m\u001b[0;34m.\u001b[0m\u001b[0m_set_item\u001b[0m\u001b[0;34m(\u001b[0m\u001b[0mself\u001b[0m\u001b[0;34m,\u001b[0m \u001b[0mkey\u001b[0m\u001b[0;34m,\u001b[0m \u001b[0mvalue\u001b[0m\u001b[0;34m)\u001b[0m\u001b[0;34m\u001b[0m\u001b[0;34m\u001b[0m\u001b[0m\n",
      "\u001b[0;32m~/ENV4/lib/python3.9/site-packages/pandas/core/frame.py\u001b[0m in \u001b[0;36m_sanitize_column\u001b[0;34m(self, key, value, broadcast)\u001b[0m\n\u001b[1;32m   3898\u001b[0m             \u001b[0;31m# turn me into an ndarray\u001b[0m\u001b[0;34m\u001b[0m\u001b[0;34m\u001b[0m\u001b[0;34m\u001b[0m\u001b[0m\n\u001b[0;32m-> 3899\u001b[0;31m             \u001b[0mvalue\u001b[0m \u001b[0;34m=\u001b[0m \u001b[0msanitize_index\u001b[0m\u001b[0;34m(\u001b[0m\u001b[0mvalue\u001b[0m\u001b[0;34m,\u001b[0m \u001b[0mself\u001b[0m\u001b[0;34m.\u001b[0m\u001b[0mindex\u001b[0m\u001b[0;34m)\u001b[0m\u001b[0;34m\u001b[0m\u001b[0;34m\u001b[0m\u001b[0m\n\u001b[0m\u001b[1;32m   3900\u001b[0m             \u001b[0;32mif\u001b[0m \u001b[0;32mnot\u001b[0m \u001b[0misinstance\u001b[0m\u001b[0;34m(\u001b[0m\u001b[0mvalue\u001b[0m\u001b[0;34m,\u001b[0m \u001b[0;34m(\u001b[0m\u001b[0mnp\u001b[0m\u001b[0;34m.\u001b[0m\u001b[0mndarray\u001b[0m\u001b[0;34m,\u001b[0m \u001b[0mIndex\u001b[0m\u001b[0;34m)\u001b[0m\u001b[0;34m)\u001b[0m\u001b[0;34m:\u001b[0m\u001b[0;34m\u001b[0m\u001b[0;34m\u001b[0m\u001b[0m\n",
      "\u001b[0;32m~/ENV4/lib/python3.9/site-packages/pandas/core/internals/construction.py\u001b[0m in \u001b[0;36msanitize_index\u001b[0;34m(data, index)\u001b[0m\n\u001b[1;32m    750\u001b[0m     \u001b[0;32mif\u001b[0m \u001b[0mlen\u001b[0m\u001b[0;34m(\u001b[0m\u001b[0mdata\u001b[0m\u001b[0;34m)\u001b[0m \u001b[0;34m!=\u001b[0m \u001b[0mlen\u001b[0m\u001b[0;34m(\u001b[0m\u001b[0mindex\u001b[0m\u001b[0;34m)\u001b[0m\u001b[0;34m:\u001b[0m\u001b[0;34m\u001b[0m\u001b[0;34m\u001b[0m\u001b[0m\n\u001b[0;32m--> 751\u001b[0;31m         raise ValueError(\n\u001b[0m\u001b[1;32m    752\u001b[0m             \u001b[0;34m\"Length of values \"\u001b[0m\u001b[0;34m\u001b[0m\u001b[0;34m\u001b[0m\u001b[0m\n",
      "\u001b[0;31mValueError\u001b[0m: Length of values (2) does not match length of index (10)",
      "\nDuring handling of the above exception, another exception occurred:\n",
      "\u001b[0;31mAttributeError\u001b[0m                            Traceback (most recent call last)",
      "\u001b[0;32m~/ENV4/lib/python3.9/site-packages/IPython/core/interactiveshell.py\u001b[0m in \u001b[0;36mshowtraceback\u001b[0;34m(self, exc_tuple, filename, tb_offset, exception_only, running_compiled_code)\u001b[0m\n\u001b[1;32m   2060\u001b[0m                         \u001b[0;31m# in the engines. This should return a list of strings.\u001b[0m\u001b[0;34m\u001b[0m\u001b[0;34m\u001b[0m\u001b[0;34m\u001b[0m\u001b[0m\n\u001b[0;32m-> 2061\u001b[0;31m                         \u001b[0mstb\u001b[0m \u001b[0;34m=\u001b[0m \u001b[0mvalue\u001b[0m\u001b[0;34m.\u001b[0m\u001b[0m_render_traceback_\u001b[0m\u001b[0;34m(\u001b[0m\u001b[0;34m)\u001b[0m\u001b[0;34m\u001b[0m\u001b[0;34m\u001b[0m\u001b[0m\n\u001b[0m\u001b[1;32m   2062\u001b[0m                     \u001b[0;32mexcept\u001b[0m \u001b[0mException\u001b[0m\u001b[0;34m:\u001b[0m\u001b[0;34m\u001b[0m\u001b[0;34m\u001b[0m\u001b[0m\n",
      "\u001b[0;31mAttributeError\u001b[0m: 'ValueError' object has no attribute '_render_traceback_'",
      "\nDuring handling of the above exception, another exception occurred:\n",
      "\u001b[0;31mTypeError\u001b[0m                                 Traceback (most recent call last)",
      "    \u001b[0;31m[... skipping hidden 1 frame]\u001b[0m\n",
      "\u001b[0;32m~/ENV4/lib/python3.9/site-packages/IPython/core/interactiveshell.py\u001b[0m in \u001b[0;36mshowtraceback\u001b[0;34m(self, exc_tuple, filename, tb_offset, exception_only, running_compiled_code)\u001b[0m\n\u001b[1;32m   2061\u001b[0m                         \u001b[0mstb\u001b[0m \u001b[0;34m=\u001b[0m \u001b[0mvalue\u001b[0m\u001b[0;34m.\u001b[0m\u001b[0m_render_traceback_\u001b[0m\u001b[0;34m(\u001b[0m\u001b[0;34m)\u001b[0m\u001b[0;34m\u001b[0m\u001b[0;34m\u001b[0m\u001b[0m\n\u001b[1;32m   2062\u001b[0m                     \u001b[0;32mexcept\u001b[0m \u001b[0mException\u001b[0m\u001b[0;34m:\u001b[0m\u001b[0;34m\u001b[0m\u001b[0;34m\u001b[0m\u001b[0m\n\u001b[0;32m-> 2063\u001b[0;31m                         stb = self.InteractiveTB.structured_traceback(etype,\n\u001b[0m\u001b[1;32m   2064\u001b[0m                                             value, tb, tb_offset=tb_offset)\n\u001b[1;32m   2065\u001b[0m \u001b[0;34m\u001b[0m\u001b[0m\n",
      "\u001b[0;32m~/ENV4/lib/python3.9/site-packages/IPython/core/ultratb.py\u001b[0m in \u001b[0;36mstructured_traceback\u001b[0;34m(self, etype, value, tb, tb_offset, number_of_lines_of_context)\u001b[0m\n\u001b[1;32m   1365\u001b[0m         \u001b[0;32melse\u001b[0m\u001b[0;34m:\u001b[0m\u001b[0;34m\u001b[0m\u001b[0;34m\u001b[0m\u001b[0m\n\u001b[1;32m   1366\u001b[0m             \u001b[0mself\u001b[0m\u001b[0;34m.\u001b[0m\u001b[0mtb\u001b[0m \u001b[0;34m=\u001b[0m \u001b[0mtb\u001b[0m\u001b[0;34m\u001b[0m\u001b[0;34m\u001b[0m\u001b[0m\n\u001b[0;32m-> 1367\u001b[0;31m         return FormattedTB.structured_traceback(\n\u001b[0m\u001b[1;32m   1368\u001b[0m             self, etype, value, tb, tb_offset, number_of_lines_of_context)\n\u001b[1;32m   1369\u001b[0m \u001b[0;34m\u001b[0m\u001b[0m\n",
      "\u001b[0;32m~/ENV4/lib/python3.9/site-packages/IPython/core/ultratb.py\u001b[0m in \u001b[0;36mstructured_traceback\u001b[0;34m(self, etype, value, tb, tb_offset, number_of_lines_of_context)\u001b[0m\n\u001b[1;32m   1265\u001b[0m         \u001b[0;32mif\u001b[0m \u001b[0mmode\u001b[0m \u001b[0;32min\u001b[0m \u001b[0mself\u001b[0m\u001b[0;34m.\u001b[0m\u001b[0mverbose_modes\u001b[0m\u001b[0;34m:\u001b[0m\u001b[0;34m\u001b[0m\u001b[0;34m\u001b[0m\u001b[0m\n\u001b[1;32m   1266\u001b[0m             \u001b[0;31m# Verbose modes need a full traceback\u001b[0m\u001b[0;34m\u001b[0m\u001b[0;34m\u001b[0m\u001b[0;34m\u001b[0m\u001b[0m\n\u001b[0;32m-> 1267\u001b[0;31m             return VerboseTB.structured_traceback(\n\u001b[0m\u001b[1;32m   1268\u001b[0m                 \u001b[0mself\u001b[0m\u001b[0;34m,\u001b[0m \u001b[0metype\u001b[0m\u001b[0;34m,\u001b[0m \u001b[0mvalue\u001b[0m\u001b[0;34m,\u001b[0m \u001b[0mtb\u001b[0m\u001b[0;34m,\u001b[0m \u001b[0mtb_offset\u001b[0m\u001b[0;34m,\u001b[0m \u001b[0mnumber_of_lines_of_context\u001b[0m\u001b[0;34m\u001b[0m\u001b[0;34m\u001b[0m\u001b[0m\n\u001b[1;32m   1269\u001b[0m             )\n",
      "\u001b[0;32m~/ENV4/lib/python3.9/site-packages/IPython/core/ultratb.py\u001b[0m in \u001b[0;36mstructured_traceback\u001b[0;34m(self, etype, evalue, etb, tb_offset, number_of_lines_of_context)\u001b[0m\n\u001b[1;32m   1122\u001b[0m         \u001b[0;34m\"\"\"Return a nice text document describing the traceback.\"\"\"\u001b[0m\u001b[0;34m\u001b[0m\u001b[0;34m\u001b[0m\u001b[0m\n\u001b[1;32m   1123\u001b[0m \u001b[0;34m\u001b[0m\u001b[0m\n\u001b[0;32m-> 1124\u001b[0;31m         formatted_exception = self.format_exception_as_a_whole(etype, evalue, etb, number_of_lines_of_context,\n\u001b[0m\u001b[1;32m   1125\u001b[0m                                                                tb_offset)\n\u001b[1;32m   1126\u001b[0m \u001b[0;34m\u001b[0m\u001b[0m\n",
      "\u001b[0;32m~/ENV4/lib/python3.9/site-packages/IPython/core/ultratb.py\u001b[0m in \u001b[0;36mformat_exception_as_a_whole\u001b[0;34m(self, etype, evalue, etb, number_of_lines_of_context, tb_offset)\u001b[0m\n\u001b[1;32m   1080\u001b[0m \u001b[0;34m\u001b[0m\u001b[0m\n\u001b[1;32m   1081\u001b[0m \u001b[0;34m\u001b[0m\u001b[0m\n\u001b[0;32m-> 1082\u001b[0;31m         \u001b[0mlast_unique\u001b[0m\u001b[0;34m,\u001b[0m \u001b[0mrecursion_repeat\u001b[0m \u001b[0;34m=\u001b[0m \u001b[0mfind_recursion\u001b[0m\u001b[0;34m(\u001b[0m\u001b[0morig_etype\u001b[0m\u001b[0;34m,\u001b[0m \u001b[0mevalue\u001b[0m\u001b[0;34m,\u001b[0m \u001b[0mrecords\u001b[0m\u001b[0;34m)\u001b[0m\u001b[0;34m\u001b[0m\u001b[0;34m\u001b[0m\u001b[0m\n\u001b[0m\u001b[1;32m   1083\u001b[0m \u001b[0;34m\u001b[0m\u001b[0m\n\u001b[1;32m   1084\u001b[0m         \u001b[0mframes\u001b[0m \u001b[0;34m=\u001b[0m \u001b[0mself\u001b[0m\u001b[0;34m.\u001b[0m\u001b[0mformat_records\u001b[0m\u001b[0;34m(\u001b[0m\u001b[0mrecords\u001b[0m\u001b[0;34m,\u001b[0m \u001b[0mlast_unique\u001b[0m\u001b[0;34m,\u001b[0m \u001b[0mrecursion_repeat\u001b[0m\u001b[0;34m)\u001b[0m\u001b[0;34m\u001b[0m\u001b[0;34m\u001b[0m\u001b[0m\n",
      "\u001b[0;32m~/ENV4/lib/python3.9/site-packages/IPython/core/ultratb.py\u001b[0m in \u001b[0;36mfind_recursion\u001b[0;34m(etype, value, records)\u001b[0m\n\u001b[1;32m    380\u001b[0m     \u001b[0;31m# first frame (from in to out) that looks different.\u001b[0m\u001b[0;34m\u001b[0m\u001b[0;34m\u001b[0m\u001b[0;34m\u001b[0m\u001b[0m\n\u001b[1;32m    381\u001b[0m     \u001b[0;32mif\u001b[0m \u001b[0;32mnot\u001b[0m \u001b[0mis_recursion_error\u001b[0m\u001b[0;34m(\u001b[0m\u001b[0metype\u001b[0m\u001b[0;34m,\u001b[0m \u001b[0mvalue\u001b[0m\u001b[0;34m,\u001b[0m \u001b[0mrecords\u001b[0m\u001b[0;34m)\u001b[0m\u001b[0;34m:\u001b[0m\u001b[0;34m\u001b[0m\u001b[0;34m\u001b[0m\u001b[0m\n\u001b[0;32m--> 382\u001b[0;31m         \u001b[0;32mreturn\u001b[0m \u001b[0mlen\u001b[0m\u001b[0;34m(\u001b[0m\u001b[0mrecords\u001b[0m\u001b[0;34m)\u001b[0m\u001b[0;34m,\u001b[0m \u001b[0;36m0\u001b[0m\u001b[0;34m\u001b[0m\u001b[0;34m\u001b[0m\u001b[0m\n\u001b[0m\u001b[1;32m    383\u001b[0m \u001b[0;34m\u001b[0m\u001b[0m\n\u001b[1;32m    384\u001b[0m     \u001b[0;31m# Select filename, lineno, func_name to track frames with\u001b[0m\u001b[0;34m\u001b[0m\u001b[0;34m\u001b[0m\u001b[0;34m\u001b[0m\u001b[0m\n",
      "\u001b[0;31mTypeError\u001b[0m: object of type 'NoneType' has no len()"
     ]
    }
   ],
   "source": [
    "\n",
    "\n",
    "experiment_progress = tqdm(range(0, experiments), desc =\"Experiment\")\n",
    "\n",
    "experiment = -1\n",
    "for experiment in experiment_progress:\n",
    "    exoeriment = experiment + 1\n",
    "\n",
    "    log = f\"{output}/{label}-{experiment}-log.log\"\n",
    "    os.system(f\"rm {log}\")\n",
    "\n",
    "\n",
    "    name = points[experiment]\n",
    "    progress = tqdm(range(0, len(points)), \n",
    "                    desc =f\"Benchmark {name}\",\n",
    "                    bar_format=\"{desc:<30} {total_fmt} {r_bar}\")\n",
    "    \n",
    "    i = -1\n",
    "    for state in progress:\n",
    "        i = i + 1\n",
    "        n = points[i]\n",
    "        #if linux, os:\n",
    "        command = f\"mpiexec -n {processors} python count-click.py \" + \\\n",
    "                  f\"--n {n} --max_number 10 --find 8 --label {label} \" + \\\n",
    "                  f\"--user {user} --node={node} \" + \\\n",
    "                  f\"| tee -a {log}\"\n",
    "        #if windows: \n",
    "        #command = f\"mpiexec -n {processors} python count-click.py \" + \\\n",
    "        #          f\"--n {n} --max_number 10 --find 8 --label {label} \" + \\\n",
    "        #          f\"--user {user} --node={node} \" + \\\n",
    "        #          f\">> {log}\"\n",
    "        \n",
    "        os.system (command)\n",
    "\n",
    "    content = readfile(log).splitlines()\n",
    "    lines = Shell.cm_grep(content, \"csv,Result:\")\n",
    "    # print(lines)\n",
    "    values = []\n",
    "    times = []\n",
    "\n",
    "    for line in lines:\n",
    "        msg = line.split(\",\")[7]\n",
    "        t = line.split(\",\")[4]\n",
    "\n",
    "        total, overall, trials, find, label = msg.split(\" \")\n",
    "        values.append(int(overall))\n",
    "        times.append(float(t))\n",
    "        # print (t, overall)\n",
    "\n",
    "\n",
    "    #data = pd.DataFrame(values, times, columns=[\"Values\", \"Time\"])\n",
    "\n",
    "    #print (data.describe())\n",
    "    #sns.lineplot(data=data, palette=\"tab10\", linewidth=2.5)\n",
    "    # df[\"Size\"] = values\n",
    "    df[f\"Time_{experiment}\"] = times\n",
    "    # print(df)\n"
   ]
  },
  {
   "cell_type": "code",
   "execution_count": null,
   "id": "6247ec43-6d8b-4f42-8d1d-4c7b5f67312b",
   "metadata": {},
   "outputs": [],
   "source": [
    "\n",
    "df = df.rename_axis(columns=\"Time\")\n",
    "df\n",
    "    "
   ]
  },
  {
   "cell_type": "code",
   "execution_count": null,
   "id": "1c6a28b5-3300-4683-83e1-68afec4fefc7",
   "metadata": {},
   "outputs": [],
   "source": [
    "sns.lineplot(data=df, markers=True);"
   ]
  },
  {
   "cell_type": "code",
   "execution_count": null,
   "id": "b1c65630-3895-4018-8449-8495edcad3e4",
   "metadata": {},
   "outputs": [],
   "source": [
    "plt.savefig(f'{output}/{label}-line.png');\n",
    "plt.savefig(f'{output}/{label}-line.pdf');"
   ]
  },
  {
   "cell_type": "code",
   "execution_count": null,
   "id": "0bd63fd7-70c6-4b4b-b213-4af734b8035e",
   "metadata": {},
   "outputs": [],
   "source": [
    "dfs = df.stack().reset_index()\n",
    "dfs = dfs.set_index('Size')\n",
    "dfs = dfs.drop(columns=['Time'])\n",
    "dfs = dfs.rename(columns={0:'Time'})\n",
    "dfs"
   ]
  },
  {
   "cell_type": "code",
   "execution_count": null,
   "id": "a6114d9f-a63a-449d-9b8c-178c036c31a6",
   "metadata": {},
   "outputs": [],
   "source": [
    "sns.scatterplot(data=dfs, x=\"Size\", y=\"Time\");\n",
    "plt.savefig(f\"{output}/{label}-scatter.pdf\")\n",
    "plt.savefig(f\"{output}/{label}-scatter.png\")"
   ]
  },
  {
   "cell_type": "code",
   "execution_count": null,
   "id": "09ba121b-76b2-43a2-a58c-356fca482ba1",
   "metadata": {},
   "outputs": [],
   "source": [
    "sns.relplot(x=\"Size\", y=\"Time\", kind=\"line\", data=dfs);\n",
    "plt.savefig(f\"{output}/{label}-relplot.pdf\")\n",
    "plt.savefig(f\"{output}/{label}-relplot.png\")"
   ]
  },
  {
   "cell_type": "code",
   "execution_count": null,
   "id": "3b651569-60f4-45ae-a06a-e0fa4b509ac3",
   "metadata": {},
   "outputs": [],
   "source": [
    "df.to_pickle(f\"{output}/{label}-df.pkl\")"
   ]
  },
  {
   "cell_type": "code",
   "execution_count": null,
   "id": "a20cd2a5-ba19-489e-930e-d0b2765db5f7",
   "metadata": {},
   "outputs": [],
   "source": []
  },
  {
   "cell_type": "code",
   "execution_count": null,
   "id": "14bc4867-3229-4e1b-adeb-cdab84e722c1",
   "metadata": {},
   "outputs": [],
   "source": []
  }
 ],
 "metadata": {
  "kernelspec": {
   "display_name": "Python 3",
   "language": "python",
   "name": "python3"
  },
  "language_info": {
   "codemirror_mode": {
    "name": "ipython",
    "version": 3
   },
   "file_extension": ".py",
   "mimetype": "text/x-python",
   "name": "python",
   "nbconvert_exporter": "python",
   "pygments_lexer": "ipython3",
   "version": "3.9.5"
  }
 },
 "nbformat": 4,
 "nbformat_minor": 5
}
