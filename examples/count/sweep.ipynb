{
 "cells": [
  {
   "cell_type": "markdown",
   "id": "5f61112f-554f-4abe-9d4e-33da013349f0",
   "metadata": {},
   "source": [
    "When benchmarking you **MUST**\n",
    "\n",
    "1. close all applications\n",
    "2. close docker\n",
    "3. close all but this Web windows\n",
    "4. all pen editors other than jupyter-lab (this notebook)\n"
   ]
  },
  {
   "cell_type": "code",
   "execution_count": 1,
   "id": "49f68aa9-9191-4e13-97ad-de20c8a79123",
   "metadata": {},
   "outputs": [],
   "source": [
    "import os\n",
    "from cloudmesh.common.Shell import Shell\n",
    "from pprint import pprint\n",
    "import matplotlib.pyplot as plt\n",
    "import seaborn as sns\n",
    "%matplotlib inline\n",
    "\n",
    "import pandas as pd\n",
    "from tqdm.notebook import tqdm\n",
    "from cloudmesh.common.util import readfile\n",
    "from cloudmesh.common.util import writefile\n",
    "from cloudmesh.common.StopWatch import StopWatch \n",
    "from cloudmesh.common.systeminfo import systeminfo\n",
    "import ipywidgets as widgets\n",
    "\n",
    "sns.set_theme(style=\"whitegrid\")\n",
    "info = systeminfo()"
   ]
  },
  {
   "cell_type": "code",
   "execution_count": 2,
   "id": "3bba2a97-b267-4f4a-a13e-f1af543a81b2",
   "metadata": {
    "tags": [
     "parameters"
    ]
   },
   "outputs": [],
   "source": [
    "\n",
    "user = info[\"user\"] \n",
    "node = info[\"uname.node\"]\n",
    "processors = 4"
   ]
  },
  {
   "cell_type": "code",
   "execution_count": 3,
   "id": "8db07274-0225-475c-81c1-20ebb4c4bf12",
   "metadata": {},
   "outputs": [
    {
     "data": {
      "application/vnd.jupyter.widget-view+json": {
       "model_id": "ac9c2451f5574b93a0e612ece4156a1c",
       "version_major": 2,
       "version_minor": 0
      },
      "text/plain": [
       "IntSlider(value=4, continuous_update=False, description='Processors:', max=64, min=1)"
      ]
     },
     "metadata": {},
     "output_type": "display_data"
    },
    {
     "data": {
      "application/vnd.jupyter.widget-view+json": {
       "model_id": "066d179374434bcd900a1ba4cf829c92",
       "version_major": 2,
       "version_minor": 0
      },
      "text/plain": [
       "Text(value='green', description='User:', placeholder='The user name')"
      ]
     },
     "metadata": {},
     "output_type": "display_data"
    },
    {
     "data": {
      "application/vnd.jupyter.widget-view+json": {
       "model_id": "17c3e7be5cc140929799bff243802f0e",
       "version_major": 2,
       "version_minor": 0
      },
      "text/plain": [
       "Text(value='earth', description='Computer:', placeholder='The computer name')"
      ]
     },
     "metadata": {},
     "output_type": "display_data"
    }
   ],
   "source": [
    "p = widgets.IntSlider(\n",
    "    value=processors,\n",
    "    min=1,\n",
    "    max=64,\n",
    "    step=1,\n",
    "    description='Processors:',\n",
    "    disabled=False,\n",
    "    continuous_update=False,\n",
    "    orientation='horizontal',\n",
    "    readout=True,\n",
    "    readout_format='d'\n",
    ")\n",
    "u = widgets.Text(value=user, placeholder='The user name', description='User:', disabled=False)\n",
    "n = widgets.Text(value=node, placeholder='The computer name', description='Computer:', disabled=False)\n",
    "\n",
    "display(p)\n",
    "display(u)\n",
    "display(n)"
   ]
  },
  {
   "cell_type": "code",
   "execution_count": 4,
   "id": "c3cc9322-3fed-463a-b998-1fb3d9e7ad9c",
   "metadata": {},
   "outputs": [
    {
     "name": "stdout",
     "output_type": "stream",
     "text": [
      "4 green earth\n"
     ]
    }
   ],
   "source": [
    "processors = p.value\n",
    "user = u.value\n",
    "node = n.value\n",
    "print (processors, user, node)"
   ]
  },
  {
   "cell_type": "code",
   "execution_count": 5,
   "id": "6b9f415b-d848-4af3-9436-6680835180dd",
   "metadata": {},
   "outputs": [],
   "source": [
    "\n",
    "experiments = 10\n",
    "maximum = 1024 * 100000\n",
    "intervals = 10"
   ]
  },
  {
   "cell_type": "code",
   "execution_count": 6,
   "id": "a1ce2a6c-4d24-46f1-9478-a9949694b928",
   "metadata": {},
   "outputs": [
    {
     "name": "stdout",
     "output_type": "stream",
     "text": [
      "[64, 10240000, 20480000, 30720000, 40960000, 51200000, 61440000, 71680000, 81920000, 92160000]\n",
      "[16, 2560000, 5120000, 7680000, 10240000, 12800000, 15360000, 17920000, 20480000, 23040000]\n"
     ]
    }
   ],
   "source": [
    "label = f\"{user}-{node}-{processors}\"\n",
    "output = f\"benchmark/{user}\"\n",
    "\n",
    "delta = int(maximum / intervals)\n",
    "\n",
    "totals = [64] + list(range(0,maximum, delta))[1:]\n",
    "points = [int(t/processors) for t in totals]\n",
    "print (totals)\n",
    "print(points)"
   ]
  },
  {
   "cell_type": "code",
   "execution_count": 7,
   "id": "0a54c0dc-d4de-4a66-97e3-c41a2171204c",
   "metadata": {},
   "outputs": [],
   "source": [
    "os.makedirs(output, exist_ok=True)"
   ]
  },
  {
   "cell_type": "code",
   "execution_count": 8,
   "id": "fc2fcdef-f19c-4a13-98a9-cf6f482ae9e7",
   "metadata": {},
   "outputs": [
    {
     "name": "stdout",
     "output_type": "stream",
     "text": [
      "+---------------------+------------------------------------------------------------------+\n",
      "| Attribute           | Value                                                            |\n",
      "|---------------------+------------------------------------------------------------------|\n",
      "| BUG_REPORT_URL      | \"https://bugs.launchpad.net/ubuntu/\"                             |\n",
      "| DISTRIB_CODENAME    | hirsute                                                          |\n",
      "| DISTRIB_DESCRIPTION | \"Ubuntu 21.04\"                                                   |\n",
      "| DISTRIB_ID          | Ubuntu                                                           |\n",
      "| DISTRIB_RELEASE     | 21.04                                                            |\n",
      "| HOME_URL            | \"https://www.ubuntu.com/\"                                        |\n",
      "| ID                  | ubuntu                                                           |\n",
      "| ID_LIKE             | debian                                                           |\n",
      "| NAME                | \"Ubuntu\"                                                         |\n",
      "| PRETTY_NAME         | \"Ubuntu 21.04\"                                                   |\n",
      "| PRIVACY_POLICY_URL  | \"https://www.ubuntu.com/legal/terms-and-policies/privacy-policy\" |\n",
      "| SUPPORT_URL         | \"https://help.ubuntu.com/\"                                       |\n",
      "| UBUNTU_CODENAME     | hirsute                                                          |\n",
      "| VERSION             | \"21.04 (Hirsute Hippo)\"                                          |\n",
      "| VERSION_CODENAME    | hirsute                                                          |\n",
      "| VERSION_ID          | \"21.04\"                                                          |\n",
      "| cpu                 | Intel(R) Core(TM) i5-10400 CPU @ 2.90GHz                         |\n",
      "| cpu_count           | 12                                                               |\n",
      "| frequency           | scpufreq(current=3479.12225, min=800.0, max=4300.0)              |\n",
      "| mem.active          | 988.0 MiB                                                        |\n",
      "| mem.available       | 119.7 GiB                                                        |\n",
      "| mem.free            | 118.1 GiB                                                        |\n",
      "| mem.inactive        | 5.1 GiB                                                          |\n",
      "| mem.percent         | 4.7 %                                                            |\n",
      "| mem.total           | 125.7 GiB                                                        |\n",
      "| mem.used            | 3.7 GiB                                                          |\n",
      "| platform.version    | #23-Ubuntu SMP Thu Jun 17 00:34:23 UTC 2021                      |\n",
      "| python              | 3.9.5 (default, May 11 2021, 08:20:37)                           |\n",
      "|                     | [GCC 10.3.0]                                                     |\n",
      "| python.pip          | 20.3.4                                                           |\n",
      "| python.version      | 3.9.5                                                            |\n",
      "| sys.platform        | linux                                                            |\n",
      "| uname.machine       | x86_64                                                           |\n",
      "| uname.node          | earth                                                            |\n",
      "| uname.processor     | x86_64                                                           |\n",
      "| uname.release       | 5.11.0-22-generic                                                |\n",
      "| uname.system        | Linux                                                            |\n",
      "| uname.version       | #23-Ubuntu SMP Thu Jun 17 00:34:23 UTC 2021                      |\n",
      "| user                | green                                                            |\n",
      "+---------------------+------------------------------------------------------------------+\n"
     ]
    }
   ],
   "source": [
    "systeminfo = StopWatch.systeminfo({\"user\": user, \"uname.node\": node})\n",
    "writefile(f\"{output}/{label}-sysinfo.log\", systeminfo)\n",
    "print (systeminfo)"
   ]
  },
  {
   "cell_type": "code",
   "execution_count": 9,
   "id": "530d02c4-11ab-4042-98c9-57979ad54871",
   "metadata": {},
   "outputs": [],
   "source": [
    "df = pd.DataFrame(\n",
    "{\"Size\": points}\n",
    ")\n",
    "df = df.set_index('Size')"
   ]
  },
  {
   "cell_type": "code",
   "execution_count": 10,
   "id": "b5a46162-7fc0-4e52-bc53-b4beb5ce6836",
   "metadata": {},
   "outputs": [
    {
     "data": {
      "application/vnd.jupyter.widget-view+json": {
       "model_id": "1d3933c3a89e4b1682f515b30ee21b58",
       "version_major": 2,
       "version_minor": 0
      },
      "text/plain": [
       "Experiment:   0%|          | 0/10 [00:00<?, ?it/s]"
      ]
     },
     "metadata": {},
     "output_type": "display_data"
    },
    {
     "data": {
      "application/vnd.jupyter.widget-view+json": {
       "model_id": "df5996c2e9c74a8bb2c056c0e76df328",
       "version_major": 2,
       "version_minor": 0
      },
      "text/plain": [
       "Benchmark 16                   10 | 0/10 [00:00<?, ?it/s]"
      ]
     },
     "metadata": {},
     "output_type": "display_data"
    },
    {
     "ename": "ValueError",
     "evalue": "Length of values (3) does not match length of index (10)",
     "output_type": "error",
     "traceback": [
      "\u001b[0;31m---------------------------------------------------------------------------\u001b[0m",
      "\u001b[0;31mValueError\u001b[0m                                Traceback (most recent call last)",
      "\u001b[0;32m<ipython-input-10-ef3f430961db>\u001b[0m in \u001b[0;36m<module>\u001b[0;34m\u001b[0m\n\u001b[1;32m     52\u001b[0m     \u001b[0;31m#sns.lineplot(data=data, palette=\"tab10\", linewidth=2.5)\u001b[0m\u001b[0;34m\u001b[0m\u001b[0;34m\u001b[0m\u001b[0;34m\u001b[0m\u001b[0m\n\u001b[1;32m     53\u001b[0m     \u001b[0;31m# df[\"Size\"] = values\u001b[0m\u001b[0;34m\u001b[0m\u001b[0;34m\u001b[0m\u001b[0;34m\u001b[0m\u001b[0m\n\u001b[0;32m---> 54\u001b[0;31m     \u001b[0mdf\u001b[0m\u001b[0;34m[\u001b[0m\u001b[0;34mf\"Time_{experiment}\"\u001b[0m\u001b[0;34m]\u001b[0m \u001b[0;34m=\u001b[0m \u001b[0mtimes\u001b[0m\u001b[0;34m\u001b[0m\u001b[0;34m\u001b[0m\u001b[0m\n\u001b[0m\u001b[1;32m     55\u001b[0m     \u001b[0;31m# print(df)\u001b[0m\u001b[0;34m\u001b[0m\u001b[0;34m\u001b[0m\u001b[0;34m\u001b[0m\u001b[0m\n",
      "\u001b[0;32m~/ENV3/lib/python3.9/site-packages/pandas/core/frame.py\u001b[0m in \u001b[0;36m__setitem__\u001b[0;34m(self, key, value)\u001b[0m\n\u001b[1;32m   3161\u001b[0m         \u001b[0;32melse\u001b[0m\u001b[0;34m:\u001b[0m\u001b[0;34m\u001b[0m\u001b[0;34m\u001b[0m\u001b[0m\n\u001b[1;32m   3162\u001b[0m             \u001b[0;31m# set column\u001b[0m\u001b[0;34m\u001b[0m\u001b[0;34m\u001b[0m\u001b[0;34m\u001b[0m\u001b[0m\n\u001b[0;32m-> 3163\u001b[0;31m             \u001b[0mself\u001b[0m\u001b[0;34m.\u001b[0m\u001b[0m_set_item\u001b[0m\u001b[0;34m(\u001b[0m\u001b[0mkey\u001b[0m\u001b[0;34m,\u001b[0m \u001b[0mvalue\u001b[0m\u001b[0;34m)\u001b[0m\u001b[0;34m\u001b[0m\u001b[0;34m\u001b[0m\u001b[0m\n\u001b[0m\u001b[1;32m   3164\u001b[0m \u001b[0;34m\u001b[0m\u001b[0m\n\u001b[1;32m   3165\u001b[0m     \u001b[0;32mdef\u001b[0m \u001b[0m_setitem_slice\u001b[0m\u001b[0;34m(\u001b[0m\u001b[0mself\u001b[0m\u001b[0;34m,\u001b[0m \u001b[0mkey\u001b[0m\u001b[0;34m:\u001b[0m \u001b[0mslice\u001b[0m\u001b[0;34m,\u001b[0m \u001b[0mvalue\u001b[0m\u001b[0;34m)\u001b[0m\u001b[0;34m:\u001b[0m\u001b[0;34m\u001b[0m\u001b[0;34m\u001b[0m\u001b[0m\n",
      "\u001b[0;32m~/ENV3/lib/python3.9/site-packages/pandas/core/frame.py\u001b[0m in \u001b[0;36m_set_item\u001b[0;34m(self, key, value)\u001b[0m\n\u001b[1;32m   3240\u001b[0m         \"\"\"\n\u001b[1;32m   3241\u001b[0m         \u001b[0mself\u001b[0m\u001b[0;34m.\u001b[0m\u001b[0m_ensure_valid_index\u001b[0m\u001b[0;34m(\u001b[0m\u001b[0mvalue\u001b[0m\u001b[0;34m)\u001b[0m\u001b[0;34m\u001b[0m\u001b[0;34m\u001b[0m\u001b[0m\n\u001b[0;32m-> 3242\u001b[0;31m         \u001b[0mvalue\u001b[0m \u001b[0;34m=\u001b[0m \u001b[0mself\u001b[0m\u001b[0;34m.\u001b[0m\u001b[0m_sanitize_column\u001b[0m\u001b[0;34m(\u001b[0m\u001b[0mkey\u001b[0m\u001b[0;34m,\u001b[0m \u001b[0mvalue\u001b[0m\u001b[0;34m)\u001b[0m\u001b[0;34m\u001b[0m\u001b[0;34m\u001b[0m\u001b[0m\n\u001b[0m\u001b[1;32m   3243\u001b[0m         \u001b[0mNDFrame\u001b[0m\u001b[0;34m.\u001b[0m\u001b[0m_set_item\u001b[0m\u001b[0;34m(\u001b[0m\u001b[0mself\u001b[0m\u001b[0;34m,\u001b[0m \u001b[0mkey\u001b[0m\u001b[0;34m,\u001b[0m \u001b[0mvalue\u001b[0m\u001b[0;34m)\u001b[0m\u001b[0;34m\u001b[0m\u001b[0;34m\u001b[0m\u001b[0m\n\u001b[1;32m   3244\u001b[0m \u001b[0;34m\u001b[0m\u001b[0m\n",
      "\u001b[0;32m~/ENV3/lib/python3.9/site-packages/pandas/core/frame.py\u001b[0m in \u001b[0;36m_sanitize_column\u001b[0;34m(self, key, value, broadcast)\u001b[0m\n\u001b[1;32m   3897\u001b[0m \u001b[0;34m\u001b[0m\u001b[0m\n\u001b[1;32m   3898\u001b[0m             \u001b[0;31m# turn me into an ndarray\u001b[0m\u001b[0;34m\u001b[0m\u001b[0;34m\u001b[0m\u001b[0;34m\u001b[0m\u001b[0m\n\u001b[0;32m-> 3899\u001b[0;31m             \u001b[0mvalue\u001b[0m \u001b[0;34m=\u001b[0m \u001b[0msanitize_index\u001b[0m\u001b[0;34m(\u001b[0m\u001b[0mvalue\u001b[0m\u001b[0;34m,\u001b[0m \u001b[0mself\u001b[0m\u001b[0;34m.\u001b[0m\u001b[0mindex\u001b[0m\u001b[0;34m)\u001b[0m\u001b[0;34m\u001b[0m\u001b[0;34m\u001b[0m\u001b[0m\n\u001b[0m\u001b[1;32m   3900\u001b[0m             \u001b[0;32mif\u001b[0m \u001b[0;32mnot\u001b[0m \u001b[0misinstance\u001b[0m\u001b[0;34m(\u001b[0m\u001b[0mvalue\u001b[0m\u001b[0;34m,\u001b[0m \u001b[0;34m(\u001b[0m\u001b[0mnp\u001b[0m\u001b[0;34m.\u001b[0m\u001b[0mndarray\u001b[0m\u001b[0;34m,\u001b[0m \u001b[0mIndex\u001b[0m\u001b[0;34m)\u001b[0m\u001b[0;34m)\u001b[0m\u001b[0;34m:\u001b[0m\u001b[0;34m\u001b[0m\u001b[0;34m\u001b[0m\u001b[0m\n\u001b[1;32m   3901\u001b[0m                 \u001b[0;32mif\u001b[0m \u001b[0misinstance\u001b[0m\u001b[0;34m(\u001b[0m\u001b[0mvalue\u001b[0m\u001b[0;34m,\u001b[0m \u001b[0mlist\u001b[0m\u001b[0;34m)\u001b[0m \u001b[0;32mand\u001b[0m \u001b[0mlen\u001b[0m\u001b[0;34m(\u001b[0m\u001b[0mvalue\u001b[0m\u001b[0;34m)\u001b[0m \u001b[0;34m>\u001b[0m \u001b[0;36m0\u001b[0m\u001b[0;34m:\u001b[0m\u001b[0;34m\u001b[0m\u001b[0;34m\u001b[0m\u001b[0m\n",
      "\u001b[0;32m~/ENV3/lib/python3.9/site-packages/pandas/core/internals/construction.py\u001b[0m in \u001b[0;36msanitize_index\u001b[0;34m(data, index)\u001b[0m\n\u001b[1;32m    749\u001b[0m     \"\"\"\n\u001b[1;32m    750\u001b[0m     \u001b[0;32mif\u001b[0m \u001b[0mlen\u001b[0m\u001b[0;34m(\u001b[0m\u001b[0mdata\u001b[0m\u001b[0;34m)\u001b[0m \u001b[0;34m!=\u001b[0m \u001b[0mlen\u001b[0m\u001b[0;34m(\u001b[0m\u001b[0mindex\u001b[0m\u001b[0;34m)\u001b[0m\u001b[0;34m:\u001b[0m\u001b[0;34m\u001b[0m\u001b[0;34m\u001b[0m\u001b[0m\n\u001b[0;32m--> 751\u001b[0;31m         raise ValueError(\n\u001b[0m\u001b[1;32m    752\u001b[0m             \u001b[0;34m\"Length of values \"\u001b[0m\u001b[0;34m\u001b[0m\u001b[0;34m\u001b[0m\u001b[0m\n\u001b[1;32m    753\u001b[0m             \u001b[0;34mf\"({len(data)}) \"\u001b[0m\u001b[0;34m\u001b[0m\u001b[0;34m\u001b[0m\u001b[0m\n",
      "\u001b[0;31mValueError\u001b[0m: Length of values (3) does not match length of index (10)"
     ]
    }
   ],
   "source": [
    "\n",
    "\n",
    "experiment_progress = tqdm(range(0, experiments), desc =\"Experiment\")\n",
    "\n",
    "experiment = -1\n",
    "for experiment in experiment_progress:\n",
    "    exoeriment = experiment + 1\n",
    "\n",
    "    log = f\"{output}/{label}-{experiment}-log.log\"\n",
    "    os.system(f\"rm {log}\")\n",
    "\n",
    "\n",
    "    name = points[experiment]\n",
    "    progress = tqdm(range(0, len(points)), \n",
    "                    desc =f\"Benchmark {name}\",\n",
    "                    bar_format=\"{desc:<30} {total_fmt} {r_bar}\")\n",
    "    \n",
    "    i = -1\n",
    "    for state in progress:\n",
    "        i = i + 1\n",
    "        n = points[i]\n",
    "        #if linux, os:\n",
    "        command = f\"mpiexec -n {processors} python count-click.py \" + \\\n",
    "                  f\"--n {n} --max_number 10 --find 8 --label {label} \" + \\\n",
    "                  f\"--user {user} --node={node} \" + \\\n",
    "                  f\"| tee -a {log}\"\n",
    "        #if windows: \n",
    "        #command = f\"mpiexec -n {processors} python count-click.py \" + \\\n",
    "        #          f\"--n {n} --max_number 10 --find 8 --label {label} \" + \\\n",
    "        #          f\"--user {user} --node={node} \" + \\\n",
    "        #          f\">> {log}\"\n",
    "        \n",
    "        os.system (command)\n",
    "\n",
    "    content = readfile(log).splitlines()\n",
    "    lines = Shell.cm_grep(content, \"csv,Result:\")\n",
    "    # print(lines)\n",
    "    values = []\n",
    "    times = []\n",
    "\n",
    "    for line in lines:\n",
    "        msg = line.split(\",\")[7]\n",
    "        t = line.split(\",\")[4]\n",
    "\n",
    "        total, overall, trials, find, label = msg.split(\" \")\n",
    "        values.append(int(overall))\n",
    "        times.append(float(t))\n",
    "        # print (t, overall)\n",
    "\n",
    "\n",
    "    #data = pd.DataFrame(values, times, columns=[\"Values\", \"Time\"])\n",
    "\n",
    "    #print (data.describe())\n",
    "    #sns.lineplot(data=data, palette=\"tab10\", linewidth=2.5)\n",
    "    # df[\"Size\"] = values\n",
    "    df[f\"Time_{experiment}\"] = times\n",
    "    # print(df)\n"
   ]
  },
  {
   "cell_type": "code",
   "execution_count": null,
   "id": "6247ec43-6d8b-4f42-8d1d-4c7b5f67312b",
   "metadata": {},
   "outputs": [],
   "source": [
    "\n",
    "df = df.rename_axis(columns=\"Time\")\n",
    "df\n",
    "    "
   ]
  },
  {
   "cell_type": "code",
   "execution_count": null,
   "id": "1c6a28b5-3300-4683-83e1-68afec4fefc7",
   "metadata": {},
   "outputs": [],
   "source": [
    "sns.lineplot(data=df, markers=True);"
   ]
  },
  {
   "cell_type": "code",
   "execution_count": null,
   "id": "b1c65630-3895-4018-8449-8495edcad3e4",
   "metadata": {},
   "outputs": [],
   "source": [
    "plt.savefig(f'{output}/{label}-line.png');\n",
    "plt.savefig(f'{output}/{label}-line.pdf');"
   ]
  },
  {
   "cell_type": "code",
   "execution_count": null,
   "id": "0bd63fd7-70c6-4b4b-b213-4af734b8035e",
   "metadata": {},
   "outputs": [],
   "source": [
    "dfs = df.stack().reset_index()\n",
    "dfs = dfs.set_index('Size')\n",
    "dfs = dfs.drop(columns=['Time'])\n",
    "dfs = dfs.rename(columns={0:'Time'})\n",
    "dfs"
   ]
  },
  {
   "cell_type": "code",
   "execution_count": null,
   "id": "a6114d9f-a63a-449d-9b8c-178c036c31a6",
   "metadata": {},
   "outputs": [],
   "source": [
    "sns.scatterplot(data=dfs, x=\"Size\", y=\"Time\");\n",
    "plt.savefig(f\"{output}/{label}-scatter.pdf\")\n",
    "plt.savefig(f\"{output}/{label}-scatter.png\")"
   ]
  },
  {
   "cell_type": "code",
   "execution_count": null,
   "id": "09ba121b-76b2-43a2-a58c-356fca482ba1",
   "metadata": {},
   "outputs": [],
   "source": [
    "sns.relplot(x=\"Size\", y=\"Time\", kind=\"line\", data=dfs);\n",
    "plt.savefig(f\"{output}/{label}-relplot.pdf\")\n",
    "plt.savefig(f\"{output}/{label}-relplot.png\")"
   ]
  },
  {
   "cell_type": "code",
   "execution_count": null,
   "id": "3b651569-60f4-45ae-a06a-e0fa4b509ac3",
   "metadata": {},
   "outputs": [],
   "source": [
    "df.to_pickle(f\"{output}/{label}-df.pkl\")"
   ]
  },
  {
   "cell_type": "code",
   "execution_count": null,
   "id": "a20cd2a5-ba19-489e-930e-d0b2765db5f7",
   "metadata": {},
   "outputs": [],
   "source": []
  },
  {
   "cell_type": "code",
   "execution_count": null,
   "id": "14bc4867-3229-4e1b-adeb-cdab84e722c1",
   "metadata": {},
   "outputs": [],
   "source": []
  }
 ],
 "metadata": {
  "kernelspec": {
   "display_name": "Python 3",
   "language": "python",
   "name": "python3"
  },
  "language_info": {
   "codemirror_mode": {
    "name": "ipython",
    "version": 3
   },
   "file_extension": ".py",
   "mimetype": "text/x-python",
   "name": "python",
   "nbconvert_exporter": "python",
   "pygments_lexer": "ipython3",
   "version": "3.9.5"
  }
 },
 "nbformat": 4,
 "nbformat_minor": 5
}