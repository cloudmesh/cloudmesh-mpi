{
 "cells": [
  {
   "cell_type": "markdown",
   "id": "5f61112f-554f-4abe-9d4e-33da013349f0",
   "metadata": {},
   "source": [
    "When benchmarking you **MUST**\n",
    "\n",
    "1. close all applications\n",
    "2. close docker\n",
    "3. close all but this Web windows\n",
    "4. all pen editors other than jupyter-lab (this notebook)\n"
   ]
  },
  {
   "cell_type": "code",
   "execution_count": 1,
   "id": "49f68aa9-9191-4e13-97ad-de20c8a79123",
   "metadata": {},
   "outputs": [],
   "source": [
    "import os\n",
    "from cloudmesh.common.Shell import Shell\n",
    "from pprint import pprint\n",
    "import matplotlib.pyplot as plt\n",
    "import seaborn as sns\n",
    "%matplotlib inline\n",
    "\n",
    "import pandas as pd\n",
    "from tqdm.notebook import tqdm\n",
    "from cloudmesh.common.util import readfile\n",
    "from cloudmesh.common.util import writefile\n",
    "from cloudmesh.common.StopWatch import StopWatch \n",
    "\n",
    "sns.set_theme(style=\"whitegrid\")"
   ]
  },
  {
   "cell_type": "code",
   "execution_count": 2,
   "id": "6b9f415b-d848-4af3-9436-6680835180dd",
   "metadata": {},
   "outputs": [],
   "source": [
    "user = \"gregor\"\n",
    "node = \"mac\"\n",
    "\n",
    "processors = 4\n",
    "experiments = 10\n",
    "maximum = 1024 * 100000\n",
    "intervals = 10"
   ]
  },
  {
   "cell_type": "code",
   "execution_count": 3,
   "id": "a1ce2a6c-4d24-46f1-9478-a9949694b928",
   "metadata": {},
   "outputs": [
    {
     "name": "stdout",
     "output_type": "stream",
     "text": [
      "[64, 10240000, 20480000, 30720000, 40960000, 51200000, 61440000, 71680000, 81920000, 92160000]\n",
      "[16, 2560000, 5120000, 7680000, 10240000, 12800000, 15360000, 17920000, 20480000, 23040000]\n"
     ]
    }
   ],
   "source": [
    "label = f\"{user}-{node}\"\n",
    "\n",
    "delta = int(maximum / intervals)\n",
    "\n",
    "totals = [64] + list(range(0,maximum, delta))[1:]\n",
    "points = [int(t/processors) for t in totals]\n",
    "print (totals)\n",
    "print(points)"
   ]
  },
  {
   "cell_type": "code",
   "execution_count": 4,
   "id": "fc2fcdef-f19c-4a13-98a9-cf6f482ae9e7",
   "metadata": {},
   "outputs": [
    {
     "name": "stdout",
     "output_type": "stream",
     "text": [
      "+------------------+--------------------------------------------------------------------------------------------------+\n",
      "| Attribute        | Value                                                                                            |\n",
      "|------------------+--------------------------------------------------------------------------------------------------|\n",
      "| cpu              | Intel(R) Core(TM) i7-7920HQ CPU @ 3.10GHz                                                        |\n",
      "| cpu_count        | 8                                                                                                |\n",
      "| frequency        | scpufreq(current=3100, min=3100, max=3100)                                                       |\n",
      "| mem.active       | 5.6 GiB                                                                                          |\n",
      "| mem.available    | 6.2 GiB                                                                                          |\n",
      "| mem.free         | 508.4 MiB                                                                                        |\n",
      "| mem.inactive     | 5.4 GiB                                                                                          |\n",
      "| mem.percent      | 61.2 %                                                                                           |\n",
      "| mem.total        | 16.0 GiB                                                                                         |\n",
      "| mem.used         | 8.2 GiB                                                                                          |\n",
      "| mem.wired        | 2.6 GiB                                                                                          |\n",
      "| platform.version | 10.16                                                                                            |\n",
      "| python           | 3.9.5 (v3.9.5:0a7dcbdb13, May  3 2021, 13:17:02)                                                 |\n",
      "|                  | [Clang 6.0 (clang-600.0.57)]                                                                     |\n",
      "| python.pip       | 21.1.2                                                                                           |\n",
      "| python.version   | 3.9.5                                                                                            |\n",
      "| sys.platform     | darwin                                                                                           |\n",
      "| uname.machine    | x86_64                                                                                           |\n",
      "| uname.node       | gamera                                                                                           |\n",
      "| uname.processor  | i386                                                                                             |\n",
      "| uname.release    | 20.5.0                                                                                           |\n",
      "| uname.system     | Darwin                                                                                           |\n",
      "| uname.version    | Darwin Kernel Version 20.5.0: Sat May  8 05:10:33 PDT 2021; root:xnu-7195.121.3~9/RELEASE_X86_64 |\n",
      "| user             | grey                                                                                             |\n",
      "+------------------+--------------------------------------------------------------------------------------------------+\n"
     ]
    }
   ],
   "source": [
    "\n",
    "systeminfo = StopWatch.systeminfo()\n",
    "writefile(f\"benchmark/{label}-sysinfo.log\", systeminfo)\n",
    "print (systeminfo)"
   ]
  },
  {
   "cell_type": "code",
   "execution_count": 5,
   "id": "530d02c4-11ab-4042-98c9-57979ad54871",
   "metadata": {},
   "outputs": [],
   "source": [
    "df = pd.DataFrame(\n",
    "{\"Size\": points}\n",
    ")\n",
    "df = df.set_index('Size')"
   ]
  },
  {
   "cell_type": "code",
   "execution_count": 6,
   "id": "b5a46162-7fc0-4e52-bc53-b4beb5ce6836",
   "metadata": {},
   "outputs": [
    {
     "data": {
      "application/vnd.jupyter.widget-view+json": {
       "model_id": "0a2b5872e8d34365b91738230b25d347",
       "version_major": 2,
       "version_minor": 0
      },
      "text/plain": [
       "Experiment:   0%|          | 0/10 [00:00<?, ?it/s]"
      ]
     },
     "metadata": {},
     "output_type": "display_data"
    },
    {
     "data": {
      "application/vnd.jupyter.widget-view+json": {
       "model_id": "0ca025a88fe84605a82486103547ffb6",
       "version_major": 2,
       "version_minor": 0
      },
      "text/plain": [
       "Benchmark 16                   10 | 0/10 [00:00<?, ?it/s]"
      ]
     },
     "metadata": {},
     "output_type": "display_data"
    },
    {
     "data": {
      "application/vnd.jupyter.widget-view+json": {
       "model_id": "b6cea38977614e2b86cf01da4d690901",
       "version_major": 2,
       "version_minor": 0
      },
      "text/plain": [
       "Benchmark 2560000              10 | 0/10 [00:00<?, ?it/s]"
      ]
     },
     "metadata": {},
     "output_type": "display_data"
    },
    {
     "data": {
      "application/vnd.jupyter.widget-view+json": {
       "model_id": "a125d45521784049b55bf18d6b3e998b",
       "version_major": 2,
       "version_minor": 0
      },
      "text/plain": [
       "Benchmark 5120000              10 | 0/10 [00:00<?, ?it/s]"
      ]
     },
     "metadata": {},
     "output_type": "display_data"
    },
    {
     "data": {
      "application/vnd.jupyter.widget-view+json": {
       "model_id": "547a14ed9bb7414ca2c90d517570ac46",
       "version_major": 2,
       "version_minor": 0
      },
      "text/plain": [
       "Benchmark 7680000              10 | 0/10 [00:00<?, ?it/s]"
      ]
     },
     "metadata": {},
     "output_type": "display_data"
    },
    {
     "data": {
      "application/vnd.jupyter.widget-view+json": {
       "model_id": "e4ffb837292f4533ac141a2cf9034282",
       "version_major": 2,
       "version_minor": 0
      },
      "text/plain": [
       "Benchmark 10240000             10 | 0/10 [00:00<?, ?it/s]"
      ]
     },
     "metadata": {},
     "output_type": "display_data"
    },
    {
     "data": {
      "application/vnd.jupyter.widget-view+json": {
       "model_id": "880dd25344b54daa9fc00f06a7c94223",
       "version_major": 2,
       "version_minor": 0
      },
      "text/plain": [
       "Benchmark 12800000             10 | 0/10 [00:00<?, ?it/s]"
      ]
     },
     "metadata": {},
     "output_type": "display_data"
    },
    {
     "data": {
      "application/vnd.jupyter.widget-view+json": {
       "model_id": "4d99e794187741eeb1045fa7e1c0f512",
       "version_major": 2,
       "version_minor": 0
      },
      "text/plain": [
       "Benchmark 15360000             10 | 0/10 [00:00<?, ?it/s]"
      ]
     },
     "metadata": {},
     "output_type": "display_data"
    },
    {
     "data": {
      "application/vnd.jupyter.widget-view+json": {
       "model_id": "14b04f1ddd254693b0f7c94c1c47890d",
       "version_major": 2,
       "version_minor": 0
      },
      "text/plain": [
       "Benchmark 17920000             10 | 0/10 [00:00<?, ?it/s]"
      ]
     },
     "metadata": {},
     "output_type": "display_data"
    },
    {
     "data": {
      "application/vnd.jupyter.widget-view+json": {
       "model_id": "530dd4e6b6c34cfba9d063a8beef4429",
       "version_major": 2,
       "version_minor": 0
      },
      "text/plain": [
       "Benchmark 20480000             10 | 0/10 [00:00<?, ?it/s]"
      ]
     },
     "metadata": {},
     "output_type": "display_data"
    },
    {
     "data": {
      "application/vnd.jupyter.widget-view+json": {
       "model_id": "1264a12a928f451ebd553c20e953e386",
       "version_major": 2,
       "version_minor": 0
      },
      "text/plain": [
       "Benchmark 23040000             10 | 0/10 [00:00<?, ?it/s]"
      ]
     },
     "metadata": {},
     "output_type": "display_data"
    }
   ],
   "source": [
    "os.makedirs(\"benchmark\", exist_ok=True)\n",
    "\n",
    "experiment_progress = tqdm(range(0, experiments), desc =\"Experiment\")\n",
    "\n",
    "experiment = -1\n",
    "for experiment in experiment_progress:\n",
    "    exoeriment = experiment + 1\n",
    "\n",
    "    label=\"gregor-mac\"\n",
    "    log = f\"benchmark/result-{label}-{experiment}.log\"\n",
    "    os.system(f\"rm {log}\")\n",
    "\n",
    "\n",
    "    name = points[experiment]\n",
    "    progress = tqdm(range(0, len(points)), \n",
    "                    desc =f\"Benchmark {name}\",\n",
    "                    bar_format=\"{desc:<30} {total_fmt} {r_bar}\")\n",
    "    \n",
    "    i = -1\n",
    "    for state in progress:\n",
    "        i = i + 1\n",
    "        n = points[i]\n",
    "        command = f\"mpiexec -n {processors} python count-click.py \" + \\\n",
    "                  f\"--n {n} --max_number 10 --find 8 --label {label} \" + \\\n",
    "                  f\"--user {user} --node={node} \" + \\\n",
    "                  f\"| tee -a {log}\"\n",
    "        os.system (command)\n",
    "\n",
    "    content = readfile(log).splitlines()\n",
    "    lines = Shell.cm_grep(content, \"csv,Result:\")\n",
    "    # print(lines)\n",
    "    values = []\n",
    "    times = []\n",
    "\n",
    "    for line in lines:\n",
    "        msg = line.split(\",\")[7]\n",
    "        t = line.split(\",\")[4]\n",
    "\n",
    "        total, overall, trials, find, label = msg.split(\" \")\n",
    "        values.append(int(overall))\n",
    "        times.append(float(t))\n",
    "        # print (t, overall)\n",
    "\n",
    "\n",
    "    #data = pd.DataFrame(values, times, columns=[\"Values\", \"Time\"])\n",
    "\n",
    "    #print (data.describe())\n",
    "    #sns.lineplot(data=data, palette=\"tab10\", linewidth=2.5)\n",
    "    # df[\"Size\"] = values\n",
    "    df[f\"Time_{experiment}\"] = times\n",
    "    # print(df)\n"
   ]
  },
  {
   "cell_type": "code",
   "execution_count": 7,
   "id": "6247ec43-6d8b-4f42-8d1d-4c7b5f67312b",
   "metadata": {},
   "outputs": [
    {
     "data": {
      "text/html": [
       "<div>\n",
       "<style scoped>\n",
       "    .dataframe tbody tr th:only-of-type {\n",
       "        vertical-align: middle;\n",
       "    }\n",
       "\n",
       "    .dataframe tbody tr th {\n",
       "        vertical-align: top;\n",
       "    }\n",
       "\n",
       "    .dataframe thead th {\n",
       "        text-align: right;\n",
       "    }\n",
       "</style>\n",
       "<table border=\"1\" class=\"dataframe\">\n",
       "  <thead>\n",
       "    <tr style=\"text-align: right;\">\n",
       "      <th>Time</th>\n",
       "      <th>Time_0</th>\n",
       "      <th>Time_1</th>\n",
       "      <th>Time_2</th>\n",
       "      <th>Time_3</th>\n",
       "      <th>Time_4</th>\n",
       "      <th>Time_5</th>\n",
       "      <th>Time_6</th>\n",
       "      <th>Time_7</th>\n",
       "      <th>Time_8</th>\n",
       "      <th>Time_9</th>\n",
       "    </tr>\n",
       "    <tr>\n",
       "      <th>Size</th>\n",
       "      <th></th>\n",
       "      <th></th>\n",
       "      <th></th>\n",
       "      <th></th>\n",
       "      <th></th>\n",
       "      <th></th>\n",
       "      <th></th>\n",
       "      <th></th>\n",
       "      <th></th>\n",
       "      <th></th>\n",
       "    </tr>\n",
       "  </thead>\n",
       "  <tbody>\n",
       "    <tr>\n",
       "      <th>16</th>\n",
       "      <td>0.001</td>\n",
       "      <td>0.000</td>\n",
       "      <td>0.000</td>\n",
       "      <td>0.008</td>\n",
       "      <td>0.004</td>\n",
       "      <td>0.001</td>\n",
       "      <td>0.003</td>\n",
       "      <td>0.002</td>\n",
       "      <td>0.000</td>\n",
       "      <td>0.000</td>\n",
       "    </tr>\n",
       "    <tr>\n",
       "      <th>2560000</th>\n",
       "      <td>2.523</td>\n",
       "      <td>2.708</td>\n",
       "      <td>2.742</td>\n",
       "      <td>2.739</td>\n",
       "      <td>2.805</td>\n",
       "      <td>2.729</td>\n",
       "      <td>2.749</td>\n",
       "      <td>2.859</td>\n",
       "      <td>2.769</td>\n",
       "      <td>2.742</td>\n",
       "    </tr>\n",
       "    <tr>\n",
       "      <th>5120000</th>\n",
       "      <td>5.275</td>\n",
       "      <td>5.608</td>\n",
       "      <td>5.677</td>\n",
       "      <td>5.823</td>\n",
       "      <td>5.733</td>\n",
       "      <td>5.649</td>\n",
       "      <td>5.707</td>\n",
       "      <td>5.726</td>\n",
       "      <td>5.712</td>\n",
       "      <td>5.702</td>\n",
       "    </tr>\n",
       "    <tr>\n",
       "      <th>7680000</th>\n",
       "      <td>8.435</td>\n",
       "      <td>8.579</td>\n",
       "      <td>9.204</td>\n",
       "      <td>8.768</td>\n",
       "      <td>8.551</td>\n",
       "      <td>8.701</td>\n",
       "      <td>8.554</td>\n",
       "      <td>8.552</td>\n",
       "      <td>8.671</td>\n",
       "      <td>8.720</td>\n",
       "    </tr>\n",
       "    <tr>\n",
       "      <th>10240000</th>\n",
       "      <td>11.311</td>\n",
       "      <td>11.377</td>\n",
       "      <td>11.451</td>\n",
       "      <td>11.519</td>\n",
       "      <td>11.820</td>\n",
       "      <td>13.657</td>\n",
       "      <td>11.496</td>\n",
       "      <td>11.794</td>\n",
       "      <td>11.461</td>\n",
       "      <td>11.492</td>\n",
       "    </tr>\n",
       "    <tr>\n",
       "      <th>12800000</th>\n",
       "      <td>13.644</td>\n",
       "      <td>14.164</td>\n",
       "      <td>14.350</td>\n",
       "      <td>14.367</td>\n",
       "      <td>14.453</td>\n",
       "      <td>14.428</td>\n",
       "      <td>14.363</td>\n",
       "      <td>14.368</td>\n",
       "      <td>14.838</td>\n",
       "      <td>14.424</td>\n",
       "    </tr>\n",
       "    <tr>\n",
       "      <th>15360000</th>\n",
       "      <td>16.877</td>\n",
       "      <td>16.958</td>\n",
       "      <td>17.188</td>\n",
       "      <td>17.575</td>\n",
       "      <td>17.202</td>\n",
       "      <td>17.217</td>\n",
       "      <td>17.288</td>\n",
       "      <td>17.966</td>\n",
       "      <td>18.030</td>\n",
       "      <td>17.560</td>\n",
       "    </tr>\n",
       "    <tr>\n",
       "      <th>17920000</th>\n",
       "      <td>19.694</td>\n",
       "      <td>20.117</td>\n",
       "      <td>20.141</td>\n",
       "      <td>20.420</td>\n",
       "      <td>20.148</td>\n",
       "      <td>20.011</td>\n",
       "      <td>20.353</td>\n",
       "      <td>20.113</td>\n",
       "      <td>19.998</td>\n",
       "      <td>20.402</td>\n",
       "    </tr>\n",
       "    <tr>\n",
       "      <th>20480000</th>\n",
       "      <td>22.603</td>\n",
       "      <td>22.881</td>\n",
       "      <td>22.900</td>\n",
       "      <td>22.899</td>\n",
       "      <td>22.946</td>\n",
       "      <td>22.954</td>\n",
       "      <td>24.037</td>\n",
       "      <td>22.950</td>\n",
       "      <td>23.468</td>\n",
       "      <td>23.125</td>\n",
       "    </tr>\n",
       "    <tr>\n",
       "      <th>23040000</th>\n",
       "      <td>26.360</td>\n",
       "      <td>26.015</td>\n",
       "      <td>26.202</td>\n",
       "      <td>25.950</td>\n",
       "      <td>25.709</td>\n",
       "      <td>25.946</td>\n",
       "      <td>25.811</td>\n",
       "      <td>26.659</td>\n",
       "      <td>25.946</td>\n",
       "      <td>26.415</td>\n",
       "    </tr>\n",
       "  </tbody>\n",
       "</table>\n",
       "</div>"
      ],
      "text/plain": [
       "Time      Time_0  Time_1  Time_2  Time_3  Time_4  Time_5  Time_6  Time_7  \\\n",
       "Size                                                                       \n",
       "16         0.001   0.000   0.000   0.008   0.004   0.001   0.003   0.002   \n",
       "2560000    2.523   2.708   2.742   2.739   2.805   2.729   2.749   2.859   \n",
       "5120000    5.275   5.608   5.677   5.823   5.733   5.649   5.707   5.726   \n",
       "7680000    8.435   8.579   9.204   8.768   8.551   8.701   8.554   8.552   \n",
       "10240000  11.311  11.377  11.451  11.519  11.820  13.657  11.496  11.794   \n",
       "12800000  13.644  14.164  14.350  14.367  14.453  14.428  14.363  14.368   \n",
       "15360000  16.877  16.958  17.188  17.575  17.202  17.217  17.288  17.966   \n",
       "17920000  19.694  20.117  20.141  20.420  20.148  20.011  20.353  20.113   \n",
       "20480000  22.603  22.881  22.900  22.899  22.946  22.954  24.037  22.950   \n",
       "23040000  26.360  26.015  26.202  25.950  25.709  25.946  25.811  26.659   \n",
       "\n",
       "Time      Time_8  Time_9  \n",
       "Size                      \n",
       "16         0.000   0.000  \n",
       "2560000    2.769   2.742  \n",
       "5120000    5.712   5.702  \n",
       "7680000    8.671   8.720  \n",
       "10240000  11.461  11.492  \n",
       "12800000  14.838  14.424  \n",
       "15360000  18.030  17.560  \n",
       "17920000  19.998  20.402  \n",
       "20480000  23.468  23.125  \n",
       "23040000  25.946  26.415  "
      ]
     },
     "execution_count": 7,
     "metadata": {},
     "output_type": "execute_result"
    }
   ],
   "source": [
    "\n",
    "df = df.rename_axis(columns=\"Time\")\n",
    "df\n",
    "    "
   ]
  },
  {
   "cell_type": "code",
   "execution_count": 8,
   "id": "1c6a28b5-3300-4683-83e1-68afec4fefc7",
   "metadata": {},
   "outputs": [
    {
     "data": {
      "text/plain": [
       "<AxesSubplot:xlabel='Size'>"
      ]
     },
     "execution_count": 8,
     "metadata": {},
     "output_type": "execute_result"
    },
    {
     "data": {
      "image/png": "[encoded data removed]",
      "text/plain": [
       "<Figure size 432x288 with 1 Axes>"
      ]
     },
     "metadata": {},
     "output_type": "display_data"
    }
   ],
   "source": [
    "sns.lineplot(data=df, markers=True)"
   ]
  },
  {
   "cell_type": "code",
   "execution_count": 9,
   "id": "95e037bf-3638-43cc-9378-b52feb30eb83",
   "metadata": {},
   "outputs": [],
   "source": [
    "plt.show()"
   ]
  },
  {
   "cell_type": "code",
   "execution_count": 10,
   "id": "b1c65630-3895-4018-8449-8495edcad3e4",
   "metadata": {},
   "outputs": [
    {
     "data": {
      "text/plain": [
       "<Figure size 432x288 with 0 Axes>"
      ]
     },
     "metadata": {},
     "output_type": "display_data"
    }
   ],
   "source": [
    "plt.savefig(f'benchmark/benchmark-{label}.png')"
   ]
  },
  {
   "cell_type": "code",
   "execution_count": 11,
   "id": "785f3383-e873-40a2-9767-c08399f3bc76",
   "metadata": {},
   "outputs": [
    {
     "data": {
      "text/plain": [
       "<Figure size 432x288 with 0 Axes>"
      ]
     },
     "metadata": {},
     "output_type": "display_data"
    }
   ],
   "source": [
    "plt.savefig(f'benchmark/benchmark-{label}.pdf')"
   ]
  },
  {
   "cell_type": "code",
   "execution_count": 12,
   "id": "9fe96641-56c7-409c-a280-ce021f108317",
   "metadata": {},
   "outputs": [],
   "source": [
    "plt.show()"
   ]
  },
  {
   "cell_type": "code",
   "execution_count": 13,
   "id": "0bd63fd7-70c6-4b4b-b213-4af734b8035e",
   "metadata": {},
   "outputs": [
    {
     "data": {
      "text/html": [
       "<div>\n",
       "<style scoped>\n",
       "    .dataframe tbody tr th:only-of-type {\n",
       "        vertical-align: middle;\n",
       "    }\n",
       "\n",
       "    .dataframe tbody tr th {\n",
       "        vertical-align: top;\n",
       "    }\n",
       "\n",
       "    .dataframe thead th {\n",
       "        text-align: right;\n",
       "    }\n",
       "</style>\n",
       "<table border=\"1\" class=\"dataframe\">\n",
       "  <thead>\n",
       "    <tr style=\"text-align: right;\">\n",
       "      <th></th>\n",
       "      <th>Time</th>\n",
       "    </tr>\n",
       "    <tr>\n",
       "      <th>Size</th>\n",
       "      <th></th>\n",
       "    </tr>\n",
       "  </thead>\n",
       "  <tbody>\n",
       "    <tr>\n",
       "      <th>16</th>\n",
       "      <td>0.001</td>\n",
       "    </tr>\n",
       "    <tr>\n",
       "      <th>16</th>\n",
       "      <td>0.000</td>\n",
       "    </tr>\n",
       "    <tr>\n",
       "      <th>16</th>\n",
       "      <td>0.000</td>\n",
       "    </tr>\n",
       "    <tr>\n",
       "      <th>16</th>\n",
       "      <td>0.008</td>\n",
       "    </tr>\n",
       "    <tr>\n",
       "      <th>16</th>\n",
       "      <td>0.004</td>\n",
       "    </tr>\n",
       "    <tr>\n",
       "      <th>...</th>\n",
       "      <td>...</td>\n",
       "    </tr>\n",
       "    <tr>\n",
       "      <th>23040000</th>\n",
       "      <td>25.946</td>\n",
       "    </tr>\n",
       "    <tr>\n",
       "      <th>23040000</th>\n",
       "      <td>25.811</td>\n",
       "    </tr>\n",
       "    <tr>\n",
       "      <th>23040000</th>\n",
       "      <td>26.659</td>\n",
       "    </tr>\n",
       "    <tr>\n",
       "      <th>23040000</th>\n",
       "      <td>25.946</td>\n",
       "    </tr>\n",
       "    <tr>\n",
       "      <th>23040000</th>\n",
       "      <td>26.415</td>\n",
       "    </tr>\n",
       "  </tbody>\n",
       "</table>\n",
       "<p>100 rows × 1 columns</p>\n",
       "</div>"
      ],
      "text/plain": [
       "            Time\n",
       "Size            \n",
       "16         0.001\n",
       "16         0.000\n",
       "16         0.000\n",
       "16         0.008\n",
       "16         0.004\n",
       "...          ...\n",
       "23040000  25.946\n",
       "23040000  25.811\n",
       "23040000  26.659\n",
       "23040000  25.946\n",
       "23040000  26.415\n",
       "\n",
       "[100 rows x 1 columns]"
      ]
     },
     "execution_count": 13,
     "metadata": {},
     "output_type": "execute_result"
    }
   ],
   "source": [
    "dfs = df.stack().reset_index()\n",
    "dfs = dfs.set_index('Size')\n",
    "dfs = dfs.drop(columns=['Time'])\n",
    "dfs = dfs.rename(columns={0:'Time'})\n",
    "dfs"
   ]
  },
  {
   "cell_type": "code",
   "execution_count": 18,
   "id": "41b98d8e-bfc4-4f1b-bbee-af08cf044bd7",
   "metadata": {},
   "outputs": [
    {
     "data": {
      "image/png": "[encoded data removed]",
      "text/plain": [
       "<Figure size 432x288 with 1 Axes>"
      ]
     },
     "metadata": {},
     "output_type": "display_data"
    }
   ],
   "source": [
    "sns.scatterplot(data=dfs, x=\"Size\", y=\"Time\");\n",
    "plt.savefig(f\"benchmark/benchmark-{label}-scatter.pdf\")"
   ]
  },
  {
   "cell_type": "code",
   "execution_count": 14,
   "id": "178a73db-b541-4d1a-b231-1d5afb73d63b",
   "metadata": {},
   "outputs": [
    {
     "data": {
      "image/png": "[encoded data removed]",
      "text/plain": [
       "<Figure size 432x288 with 1 Axes>"
      ]
     },
     "metadata": {},
     "output_type": "display_data"
    },
    {
     "data": {
      "image/png": "[encoded data removed]",
      "text/plain": [
       "<Figure size 360x360 with 1 Axes>"
      ]
     },
     "metadata": {},
     "output_type": "display_data"
    }
   ],
   "source": [
    "sns.relplot(x=\"Size\", y=\"Time\", kind=\"line\", data=dfs);\n",
    "plt.savefig(f\"benchmark/benchmark-{label}-line.pdf\")"
   ]
  },
  {
   "cell_type": "code",
   "execution_count": null,
   "id": "eec7e66a-1cee-4cd3-bf05-e92e2165d6a2",
   "metadata": {},
   "outputs": [],
   "source": [
    "plt.save"
   ]
  },
  {
   "cell_type": "code",
   "execution_count": 15,
   "id": "3b651569-60f4-45ae-a06a-e0fa4b509ac3",
   "metadata": {},
   "outputs": [],
   "source": [
    "df.to_pickle(f\"benchmark/{label}-df.pkl\")"
   ]
  },
  {
   "cell_type": "code",
   "execution_count": null,
   "id": "a20cd2a5-ba19-489e-930e-d0b2765db5f7",
   "metadata": {},
   "outputs": [],
   "source": []
  }
 ],
 "metadata": {
  "kernelspec": {
   "display_name": "Python 3",
   "language": "python",
   "name": "python3"
  },
  "language_info": {
   "codemirror_mode": {
    "name": "ipython",
    "version": 3
   },
   "file_extension": ".py",
   "mimetype": "text/x-python",
   "name": "python",
   "nbconvert_exporter": "python",
   "pygments_lexer": "ipython3",
   "version": "3.9.5"
  }
 },
 "nbformat": 4,
 "nbformat_minor": 5
}
