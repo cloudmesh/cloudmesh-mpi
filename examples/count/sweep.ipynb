{
 "cells": [
  {
   "cell_type": "code",
   "execution_count": 1,
   "id": "149ad827-876f-46d6-b083-54aeac298c2d",
   "metadata": {},
   "outputs": [
    {
     "name": "stdout",
     "output_type": "stream",
     "text": [
      "Using matplotlib backend: TkAgg\n"
     ]
    }
   ],
   "source": [
    "import os\n",
    "from cloudmesh.common.Shell import Shell\n",
    "from pprint import pprint\n",
    "import matplotlib.pyplot as plt\n",
    "import seaborn as sns\n",
    "%matplotlib\n",
    "\n",
    "sns.set_theme(style=\"whitegrid\")\n",
    "import pandas as pd"
   ]
  },
  {
   "cell_type": "code",
   "execution_count": 2,
   "id": "b5a46162-7fc0-4e52-bc53-b4beb5ce6836",
   "metadata": {},
   "outputs": [
    {
     "name": "stdout",
     "output_type": "stream",
     "text": [
      "\u001b[31mERROR: The method cloudmesh.common.Shell is not implemented in Windows.\u001b[0m\n"
     ]
    },
    {
     "ename": "SystemExit",
     "evalue": "",
     "output_type": "error",
     "traceback": [
      "An exception has occurred, use %tb to see the full traceback.\n",
      "\u001b[1;31mSystemExit\u001b[0m\n"
     ]
    },
    {
     "name": "stderr",
     "output_type": "stream",
     "text": [
      "c:\\users\\coope\\env3\\lib\\site-packages\\IPython\\core\\interactiveshell.py:3449: UserWarning: To exit: use 'exit', 'quit', or Ctrl-D.\n",
      "  warn(\"To exit: use 'exit', 'quit', or Ctrl-D.\", stacklevel=1)\n"
     ]
    }
   ],
   "source": [
    "log = \"result.log\"\n",
    "os.system(f\"rm {log}\")\n",
    "\n",
    "\n",
    "\n",
    "for n in [10,\n",
    "          100,\n",
    "          1000, \n",
    "          10000, \n",
    "          100000, \n",
    "          1000000,\n",
    "          10000000]:\n",
    "    os.system (f\"mpiexec -n 4 python count-click.py --n {n} --max_number 10 --find 8 \"\n",
    "               f\"| tee -a {log}\")\n",
    "\n",
    "lines = Shell.grep(\"csv,Result:\", log)"
   ]
  },
  {
   "cell_type": "code",
   "execution_count": null,
   "id": "6247ec43-6d8b-4f42-8d1d-4c7b5f67312b",
   "metadata": {},
   "outputs": [],
   "source": [
    "print(lines)"
   ]
  },
  {
   "cell_type": "code",
   "execution_count": null,
   "id": "ead63903-2ef3-45a4-b56b-d4efb6ce3f19",
   "metadata": {},
   "outputs": [],
   "source": [
    "values = []\n",
    "times = []\n",
    "\n",
    "for line in lines.splitlines():\n",
    "    msg = line.split(\",\")[7]\n",
    "    t = line.split(\",\")[4]\n",
    "\n",
    "    total, overall, trials, find = msg.split(\" \")\n",
    "    values.append(int(overall))\n",
    "    times.append(float(t))\n",
    "    print (t)\n",
    "\n",
    "\n",
    "#data = pd.DataFrame(values, times, columns=[\"Values\", \"Time\"])\n",
    "\n",
    "#print (data.describe())\n",
    "#sns.lineplot(data=data, palette=\"tab10\", linewidth=2.5)"
   ]
  },
  {
   "cell_type": "code",
   "execution_count": null,
   "id": "3ee74f5c-5214-430b-b225-8aa1473fcd51",
   "metadata": {},
   "outputs": [],
   "source": [
    "data = {\n",
    "    \"Size\": values,\n",
    "    \"Time\": times\n",
    "}"
   ]
  },
  {
   "cell_type": "code",
   "execution_count": null,
   "id": "66fc8f17-97a3-46d5-b1c7-a510ac4ae6f6",
   "metadata": {},
   "outputs": [],
   "source": [
    "df = pd.DataFrame(data)"
   ]
  },
  {
   "cell_type": "code",
   "execution_count": null,
   "id": "631190c8-f16a-4c2c-9ec1-2a4566ea6780",
   "metadata": {},
   "outputs": [],
   "source": [
    "df"
   ]
  },
  {
   "cell_type": "code",
   "execution_count": null,
   "id": "1b2f8057-6396-47c8-9c08-135352959a49",
   "metadata": {},
   "outputs": [],
   "source": [
    "sns.lineplot(data=data, x=\"Size\", y=\"Time\")\n",
    "sns.scatterplot(data=data, x=\"Size\", y=\"Time\")"
   ]
  },
  {
   "cell_type": "code",
   "execution_count": null,
   "id": "b1c65630-3895-4018-8449-8495edcad3e4",
   "metadata": {},
   "outputs": [],
   "source": [
    "plt.savefig('benchmark.png')\n"
   ]
  },
  {
   "cell_type": "code",
   "execution_count": null,
   "id": "785f3383-e873-40a2-9767-c08399f3bc76",
   "metadata": {},
   "outputs": [],
   "source": [
    "plt.savefig('benchmark.pdf')"
   ]
  },
  {
   "cell_type": "code",
   "execution_count": null,
   "id": "9fe96641-56c7-409c-a280-ce021f108317",
   "metadata": {},
   "outputs": [],
   "source": [
    "plt.show()"
   ]
  },
  {
   "cell_type": "code",
   "execution_count": null,
   "id": "1469491f-2aa5-4f1e-a667-1fac70dce463",
   "metadata": {},
   "outputs": [],
   "source": []
  },
  {
   "cell_type": "code",
   "execution_count": null,
   "id": "b6bbe1e8-e660-46a5-87a3-db90df299dc0",
   "metadata": {},
   "outputs": [],
   "source": []
  }
 ],
 "metadata": {
  "kernelspec": {
   "display_name": "Python 3",
   "language": "python",
   "name": "python3"
  },
  "language_info": {
   "codemirror_mode": {
    "name": "ipython",
    "version": 3
   },
   "file_extension": ".py",
   "mimetype": "text/x-python",
   "name": "python",
   "nbconvert_exporter": "python",
   "pygments_lexer": "ipython3",
   "version": "3.9.5"
  }
 },
 "nbformat": 4,
 "nbformat_minor": 5
}
