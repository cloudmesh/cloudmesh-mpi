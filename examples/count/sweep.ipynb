{
 "cells": [
  {
   "cell_type": "code",
   "execution_count": 1,
   "id": "149ad827-876f-46d6-b083-54aeac298c2d",
   "metadata": {},
   "outputs": [
    {
     "name": "stdout",
     "output_type": "stream",
     "text": [
      "Using matplotlib backend: MacOSX\n"
     ]
    }
   ],
   "source": [
    "import os\n",
    "from cloudmesh.common.Shell import Shell\n",
    "from pprint import pprint\n",
    "import matplotlib.pyplot as plt\n",
    "import seaborn as sns\n",
    "%matplotlib\n",
    "\n",
    "sns.set_theme(style=\"whitegrid\")\n",
    "import pandas as pd"
   ]
  },
  {
   "cell_type": "code",
   "execution_count": 2,
   "id": "b5a46162-7fc0-4e52-bc53-b4beb5ce6836",
   "metadata": {},
   "outputs": [],
   "source": [
    "log = \"result.log\"\n",
    "os.system(f\"rm {log}\")\n",
    "\n",
    "\n",
    "\n",
    "for n in [10,\n",
    "          100,\n",
    "          1000, \n",
    "          10000, \n",
    "          100000, \n",
    "          1000000,\n",
    "          10000000]:\n",
    "    os.system (f\"mpiexec -n 4 python count-click.py --n {n} --max_number 10 --find 8 \"\n",
    "               f\"| tee -a {log}\")\n",
    "\n",
    "lines = Shell.grep(\"csv,Result:\", log)"
   ]
  },
  {
   "cell_type": "code",
   "execution_count": 3,
   "id": "6247ec43-6d8b-4f42-8d1d-4c7b5f67312b",
   "metadata": {},
   "outputs": [
    {
     "name": "stdout",
     "output_type": "stream",
     "text": [
      "# csv,Result: 10,ok,0.01,0.01,2021-06-21 14:45:09,,4 40 10 8,gamera,grey,Darwin,10.16\n",
      "# csv,Result: 100,ok,0.001,0.001,2021-06-21 14:45:10,,29 400 100 8,gamera,grey,Darwin,10.16\n",
      "# csv,Result: 1000,ok,0.003,0.003,2021-06-21 14:45:10,,399 4000 1000 8,gamera,grey,Darwin,10.16\n",
      "# csv,Result: 10000,ok,0.011,0.011,2021-06-21 14:45:11,,4010 40000 10000 8,gamera,grey,Darwin,10.16\n",
      "# csv,Result: 100000,ok,0.098,0.098,2021-06-21 14:45:12,,39726 400000 100000 8,gamera,grey,Darwin,10.16\n",
      "# csv,Result: 1000000,ok,1.048,1.048,2021-06-21 14:45:12,,399139 4000000 1000000 8,gamera,grey,Darwin,10.16\n",
      "# csv,Result: 10000000,ok,11.45,11.45,2021-06-21 14:45:14,,4001875 40000000 10000000 8,gamera,grey,Darwin,10.16\n"
     ]
    }
   ],
   "source": [
    "print(lines)"
   ]
  },
  {
   "cell_type": "code",
   "execution_count": 4,
   "id": "ead63903-2ef3-45a4-b56b-d4efb6ce3f19",
   "metadata": {},
   "outputs": [
    {
     "name": "stdout",
     "output_type": "stream",
     "text": [
      "0.01\n",
      "0.001\n",
      "0.003\n",
      "0.011\n",
      "0.098\n",
      "1.048\n",
      "11.45\n"
     ]
    }
   ],
   "source": [
    "values = []\n",
    "times = []\n",
    "\n",
    "for line in lines.splitlines():\n",
    "    msg = line.split(\",\")[7]\n",
    "    t = line.split(\",\")[4]\n",
    "\n",
    "    total, overall, trials, find = msg.split(\" \")\n",
    "    values.append(int(overall))\n",
    "    times.append(float(t))\n",
    "    print (t)\n",
    "\n",
    "\n",
    "#data = pd.DataFrame(values, times, columns=[\"Values\", \"Time\"])\n",
    "\n",
    "#print (data.describe())\n",
    "#sns.lineplot(data=data, palette=\"tab10\", linewidth=2.5)"
   ]
  },
  {
   "cell_type": "code",
   "execution_count": 5,
   "id": "3ee74f5c-5214-430b-b225-8aa1473fcd51",
   "metadata": {},
   "outputs": [],
   "source": [
    "data = {\n",
    "    \"Size\": values,\n",
    "    \"Time\": times\n",
    "}"
   ]
  },
  {
   "cell_type": "code",
   "execution_count": 6,
   "id": "66fc8f17-97a3-46d5-b1c7-a510ac4ae6f6",
   "metadata": {},
   "outputs": [],
   "source": [
    "df = pd.DataFrame(data)"
   ]
  },
  {
   "cell_type": "code",
   "execution_count": 7,
   "id": "631190c8-f16a-4c2c-9ec1-2a4566ea6780",
   "metadata": {},
   "outputs": [
    {
     "data": {
      "text/html": [
       "<div>\n",
       "<style scoped>\n",
       "    .dataframe tbody tr th:only-of-type {\n",
       "        vertical-align: middle;\n",
       "    }\n",
       "\n",
       "    .dataframe tbody tr th {\n",
       "        vertical-align: top;\n",
       "    }\n",
       "\n",
       "    .dataframe thead th {\n",
       "        text-align: right;\n",
       "    }\n",
       "</style>\n",
       "<table border=\"1\" class=\"dataframe\">\n",
       "  <thead>\n",
       "    <tr style=\"text-align: right;\">\n",
       "      <th></th>\n",
       "      <th>Size</th>\n",
       "      <th>Time</th>\n",
       "    </tr>\n",
       "  </thead>\n",
       "  <tbody>\n",
       "    <tr>\n",
       "      <th>0</th>\n",
       "      <td>40</td>\n",
       "      <td>0.010</td>\n",
       "    </tr>\n",
       "    <tr>\n",
       "      <th>1</th>\n",
       "      <td>400</td>\n",
       "      <td>0.001</td>\n",
       "    </tr>\n",
       "    <tr>\n",
       "      <th>2</th>\n",
       "      <td>4000</td>\n",
       "      <td>0.003</td>\n",
       "    </tr>\n",
       "    <tr>\n",
       "      <th>3</th>\n",
       "      <td>40000</td>\n",
       "      <td>0.011</td>\n",
       "    </tr>\n",
       "    <tr>\n",
       "      <th>4</th>\n",
       "      <td>400000</td>\n",
       "      <td>0.098</td>\n",
       "    </tr>\n",
       "    <tr>\n",
       "      <th>5</th>\n",
       "      <td>4000000</td>\n",
       "      <td>1.048</td>\n",
       "    </tr>\n",
       "    <tr>\n",
       "      <th>6</th>\n",
       "      <td>40000000</td>\n",
       "      <td>11.450</td>\n",
       "    </tr>\n",
       "  </tbody>\n",
       "</table>\n",
       "</div>"
      ],
      "text/plain": [
       "       Size    Time\n",
       "0        40   0.010\n",
       "1       400   0.001\n",
       "2      4000   0.003\n",
       "3     40000   0.011\n",
       "4    400000   0.098\n",
       "5   4000000   1.048\n",
       "6  40000000  11.450"
      ]
     },
     "execution_count": 7,
     "metadata": {},
     "output_type": "execute_result"
    }
   ],
   "source": [
    "df"
   ]
  },
  {
   "cell_type": "code",
   "execution_count": 8,
   "id": "1b2f8057-6396-47c8-9c08-135352959a49",
   "metadata": {},
   "outputs": [
    {
     "data": {
      "text/plain": [
       "<AxesSubplot:xlabel='Size', ylabel='Time'>"
      ]
     },
     "execution_count": 8,
     "metadata": {},
     "output_type": "execute_result"
    }
   ],
   "source": [
    "sns.lineplot(data=data, x=\"Size\", y=\"Time\")\n",
    "sns.scatterplot(data=data, x=\"Size\", y=\"Time\")"
   ]
  },
  {
   "cell_type": "code",
   "execution_count": 9,
   "id": "b1c65630-3895-4018-8449-8495edcad3e4",
   "metadata": {},
   "outputs": [],
   "source": [
    "plt.savefig('benchmark.png')\n"
   ]
  },
  {
   "cell_type": "code",
   "execution_count": 10,
   "id": "785f3383-e873-40a2-9767-c08399f3bc76",
   "metadata": {},
   "outputs": [],
   "source": [
    "plt.savefig('benchmark.pdf')"
   ]
  },
  {
   "cell_type": "code",
   "execution_count": 11,
   "id": "9fe96641-56c7-409c-a280-ce021f108317",
   "metadata": {},
   "outputs": [],
   "source": [
    "plt.show()"
   ]
  },
  {
   "cell_type": "code",
   "execution_count": null,
   "id": "1469491f-2aa5-4f1e-a667-1fac70dce463",
   "metadata": {},
   "outputs": [],
   "source": []
  }
 ],
 "metadata": {
  "kernelspec": {
   "display_name": "Python 3",
   "language": "python",
   "name": "python3"
  },
  "language_info": {
   "codemirror_mode": {
    "name": "ipython",
    "version": 3
   },
   "file_extension": ".py",
   "mimetype": "text/x-python",
   "name": "python",
   "nbconvert_exporter": "python",
   "pygments_lexer": "ipython3",
   "version": "3.9.5"
  }
 },
 "nbformat": 4,
 "nbformat_minor": 5
}
