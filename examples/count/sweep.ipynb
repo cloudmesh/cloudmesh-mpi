{
 "cells": [
  {
   "cell_type": "markdown",
   "id": "5f61112f-554f-4abe-9d4e-33da013349f0",
   "metadata": {},
   "source": [
    "When benchmarking you **MUST**\n",
    "\n",
    "1. close all applications\n",
    "2. close docker\n",
    "3. close all but this Web windows\n",
    "4. all pen editors other than jupyter-lab (this notebook)\n"
   ]
  },
  {
   "cell_type": "code",
   "execution_count": 1,
   "id": "49f68aa9-9191-4e13-97ad-de20c8a79123",
   "metadata": {},
   "outputs": [
    {
     "name": "stderr",
     "output_type": "stream",
     "text": [
      "/home/green/ENV3/lib/python3.9/site-packages/pandas/compat/__init__.py:97: UserWarning: Could not import the lzma module. Your installed Python is incomplete. Attempting to use lzma compression will result in a RuntimeError.\n",
      "  warnings.warn(msg)\n"
     ]
    }
   ],
   "source": [
    "import os\n",
    "from cloudmesh.common.Shell import Shell\n",
    "from pprint import pprint\n",
    "import matplotlib.pyplot as plt\n",
    "import seaborn as sns\n",
    "%matplotlib inline\n",
    "\n",
    "import pandas as pd\n",
    "from tqdm.notebook import tqdm\n",
    "from cloudmesh.common.util import readfile\n",
    "from cloudmesh.common.util import writefile\n",
    "from cloudmesh.common.StopWatch import StopWatch \n",
    "from cloudmesh.common.systeminfo import systeminfo\n",
    "import ipywidgets as widgets\n",
    "\n",
    "sns.set_theme(style=\"whitegrid\")\n",
    "info = systeminfo()"
   ]
  },
  {
   "cell_type": "code",
   "execution_count": 2,
   "id": "3bba2a97-b267-4f4a-a13e-f1af543a81b2",
   "metadata": {
    "tags": [
     "parameters"
    ]
   },
   "outputs": [],
   "source": [
    "\n",
    "user = info[\"user\"] \n",
    "node = info[\"uname.node\"]\n",
    "processors = 4"
   ]
  },
  {
   "cell_type": "code",
   "execution_count": 3,
   "id": "8db07274-0225-475c-81c1-20ebb4c4bf12",
   "metadata": {},
   "outputs": [
    {
     "data": {
      "application/vnd.jupyter.widget-view+json": {
       "model_id": "feb542fbaf344052bd115777e304c789",
       "version_major": 2,
       "version_minor": 0
      },
      "text/plain": [
       "IntSlider(value=4, continuous_update=False, description='Processors:', max=64, min=1)"
      ]
     },
     "metadata": {},
     "output_type": "display_data"
    },
    {
     "data": {
      "application/vnd.jupyter.widget-view+json": {
       "model_id": "c5aacffe63454ab995f7c2dbc2e51d60",
       "version_major": 2,
       "version_minor": 0
      },
      "text/plain": [
       "Text(value='green', description='User:', placeholder='The user name')"
      ]
     },
     "metadata": {},
     "output_type": "display_data"
    },
    {
     "data": {
      "application/vnd.jupyter.widget-view+json": {
       "model_id": "e47f231e89fa4f2e97d4a3c8680ab174",
       "version_major": 2,
       "version_minor": 0
      },
      "text/plain": [
       "Text(value='alien', description='Computer:', placeholder='The computer name')"
      ]
     },
     "metadata": {},
     "output_type": "display_data"
    }
   ],
   "source": [
    "p = widgets.IntSlider(\n",
    "    value=processors,\n",
    "    min=1,\n",
    "    max=64,\n",
    "    step=1,\n",
    "    description='Processors:',\n",
    "    disabled=False,\n",
    "    continuous_update=False,\n",
    "    orientation='horizontal',\n",
    "    readout=True,\n",
    "    readout_format='d'\n",
    ")\n",
    "u = widgets.Text(value=user, placeholder='The user name', description='User:', disabled=False)\n",
    "n = widgets.Text(value=node, placeholder='The computer name', description='Computer:', disabled=False)\n",
    "\n",
    "display(p)\n",
    "display(u)\n",
    "display(n)"
   ]
  },
  {
   "cell_type": "code",
   "execution_count": 4,
   "id": "c3cc9322-3fed-463a-b998-1fb3d9e7ad9c",
   "metadata": {},
   "outputs": [
    {
     "name": "stdout",
     "output_type": "stream",
     "text": [
      "4 green alien\n"
     ]
    }
   ],
   "source": [
    "processors = p.value\n",
    "user = u.value\n",
    "node = n.value\n",
    "print (processors, user, node)"
   ]
  },
  {
   "cell_type": "code",
   "execution_count": 5,
   "id": "6b9f415b-d848-4af3-9436-6680835180dd",
   "metadata": {},
   "outputs": [],
   "source": [
    "\n",
    "experiments = 10\n",
    "maximum = 1024 * 100000\n",
    "intervals = 10"
   ]
  },
  {
   "cell_type": "code",
   "execution_count": 6,
   "id": "a1ce2a6c-4d24-46f1-9478-a9949694b928",
   "metadata": {},
   "outputs": [
    {
     "name": "stdout",
     "output_type": "stream",
     "text": [
      "[64, 10240000, 20480000, 30720000, 40960000, 51200000, 61440000, 71680000, 81920000, 92160000]\n",
      "[16, 2560000, 5120000, 7680000, 10240000, 12800000, 15360000, 17920000, 20480000, 23040000]\n"
     ]
    }
   ],
   "source": [
    "label = f\"{user}-{node}-{processors}\"\n",
    "output = f\"benchmark/{user}\"\n",
    "\n",
    "delta = int(maximum / intervals)\n",
    "\n",
    "totals = [64] + list(range(0,maximum, delta))[1:]\n",
    "points = [int(t/processors) for t in totals]\n",
    "print (totals)\n",
    "print(points)"
   ]
  },
  {
   "cell_type": "code",
   "execution_count": 7,
   "id": "0a54c0dc-d4de-4a66-97e3-c41a2171204c",
   "metadata": {},
   "outputs": [],
   "source": [
    "os.makedirs(output, exist_ok=True)"
   ]
  },
  {
   "cell_type": "code",
   "execution_count": 8,
   "id": "fc2fcdef-f19c-4a13-98a9-cf6f482ae9e7",
   "metadata": {},
   "outputs": [
    {
     "name": "stdout",
     "output_type": "stream",
     "text": [
      "+---------------------+------------------------------------------------------------------+\n",
      "| Attribute           | Value                                                            |\n",
      "|---------------------+------------------------------------------------------------------|\n",
      "| BUG_REPORT_URL      | \"https://bugs.launchpad.net/ubuntu/\"                             |\n",
      "| DISTRIB_CODENAME    | hirsute                                                          |\n",
      "| DISTRIB_DESCRIPTION | \"Ubuntu 21.04\"                                                   |\n",
      "| DISTRIB_ID          | Ubuntu                                                           |\n",
      "| DISTRIB_RELEASE     | 21.04                                                            |\n",
      "| HOME_URL            | \"https://www.ubuntu.com/\"                                        |\n",
      "| ID                  | ubuntu                                                           |\n",
      "| ID_LIKE             | debian                                                           |\n",
      "| NAME                | \"Ubuntu\"                                                         |\n",
      "| PRETTY_NAME         | \"Ubuntu 21.04\"                                                   |\n",
      "| PRIVACY_POLICY_URL  | \"https://www.ubuntu.com/legal/terms-and-policies/privacy-policy\" |\n",
      "| SUPPORT_URL         | \"https://help.ubuntu.com/\"                                       |\n",
      "| UBUNTU_CODENAME     | hirsute                                                          |\n",
      "| VERSION             | \"21.04 (Hirsute Hippo)\"                                          |\n",
      "| VERSION_CODENAME    | hirsute                                                          |\n",
      "| VERSION_ID          | \"21.04\"                                                          |\n",
      "| cpu                 | AMD Ryzen 9 3950X 16-Core Processor                              |\n",
      "| cpu_count           | 32                                                               |\n",
      "| frequency           | scpufreq(current=3363.9050937500006, min=2200.0, max=3500.0)     |\n",
      "| mem.active          | 8.5 GiB                                                          |\n",
      "| mem.available       | 54.2 GiB                                                         |\n",
      "| mem.free            | 34.1 GiB                                                         |\n",
      "| mem.inactive        | 15.2 GiB                                                         |\n",
      "| mem.percent         | 13.6 %                                                           |\n",
      "| mem.total           | 62.8 GiB                                                         |\n",
      "| mem.used            | 7.7 GiB                                                          |\n",
      "| platform.version    | #23-Ubuntu SMP Thu Jun 17 00:34:23 UTC 2021                      |\n",
      "| python              | 3.9.4 (default, Apr  5 2021, 18:24:44)                           |\n",
      "|                     | [GCC 9.3.0]                                                      |\n",
      "| python.pip          | 21.1.2                                                           |\n",
      "| python.version      | 3.9.4                                                            |\n",
      "| sys.platform        | linux                                                            |\n",
      "| uname.machine       | x86_64                                                           |\n",
      "| uname.node          | alien                                                            |\n",
      "| uname.processor     | x86_64                                                           |\n",
      "| uname.release       | 5.11.0-22-generic                                                |\n",
      "| uname.system        | Linux                                                            |\n",
      "| uname.version       | #23-Ubuntu SMP Thu Jun 17 00:34:23 UTC 2021                      |\n",
      "| user                | green                                                            |\n",
      "+---------------------+------------------------------------------------------------------+\n"
     ]
    }
   ],
   "source": [
    "systeminfo = StopWatch.systeminfo({\"user\": user, \"uname.node\": node})\n",
    "writefile(f\"{output}/{label}-sysinfo.log\", systeminfo)\n",
    "print (systeminfo)"
   ]
  },
  {
   "cell_type": "code",
   "execution_count": 9,
   "id": "530d02c4-11ab-4042-98c9-57979ad54871",
   "metadata": {},
   "outputs": [],
   "source": [
    "df = pd.DataFrame(\n",
    "{\"Size\": points}\n",
    ")\n",
    "df = df.set_index('Size')"
   ]
  },
  {
   "cell_type": "code",
   "execution_count": 10,
   "id": "b5a46162-7fc0-4e52-bc53-b4beb5ce6836",
   "metadata": {},
   "outputs": [
    {
     "data": {
      "application/vnd.jupyter.widget-view+json": {
       "model_id": "d6e2f7a913414b0a9dd1bc468d4c7a38",
       "version_major": 2,
       "version_minor": 0
      },
      "text/plain": [
       "Experiment:   0%|          | 0/10 [00:00<?, ?it/s]"
      ]
     },
     "metadata": {},
     "output_type": "display_data"
    },
    {
     "data": {
      "application/vnd.jupyter.widget-view+json": {
       "model_id": "ea8ba1aaa86146728f97c25673475779",
       "version_major": 2,
       "version_minor": 0
      },
      "text/plain": [
       "Benchmark 16                   10 | 0/10 [00:00<?, ?it/s]"
      ]
     },
     "metadata": {},
     "output_type": "display_data"
    },
    {
     "data": {
      "application/vnd.jupyter.widget-view+json": {
       "model_id": "fbfdefa8db1d49eb999b00c217bedc3a",
       "version_major": 2,
       "version_minor": 0
      },
      "text/plain": [
       "Benchmark 2560000              10 | 0/10 [00:00<?, ?it/s]"
      ]
     },
     "metadata": {},
     "output_type": "display_data"
    },
    {
     "data": {
      "application/vnd.jupyter.widget-view+json": {
       "model_id": "e27196b136134c2993268e4ca8ed8c94",
       "version_major": 2,
       "version_minor": 0
      },
      "text/plain": [
       "Benchmark 5120000              10 | 0/10 [00:00<?, ?it/s]"
      ]
     },
     "metadata": {},
     "output_type": "display_data"
    },
    {
     "data": {
      "application/vnd.jupyter.widget-view+json": {
       "model_id": "f8dec91b4b19411392229a00f22001dc",
       "version_major": 2,
       "version_minor": 0
      },
      "text/plain": [
       "Benchmark 7680000              10 | 0/10 [00:00<?, ?it/s]"
      ]
     },
     "metadata": {},
     "output_type": "display_data"
    },
    {
     "data": {
      "application/vnd.jupyter.widget-view+json": {
       "model_id": "2774352fc56e4dc7a835a812015d44c2",
       "version_major": 2,
       "version_minor": 0
      },
      "text/plain": [
       "Benchmark 10240000             10 | 0/10 [00:00<?, ?it/s]"
      ]
     },
     "metadata": {},
     "output_type": "display_data"
    },
    {
     "data": {
      "application/vnd.jupyter.widget-view+json": {
       "model_id": "23fd55506d5446ef97566a9df09c9b37",
       "version_major": 2,
       "version_minor": 0
      },
      "text/plain": [
       "Benchmark 12800000             10 | 0/10 [00:00<?, ?it/s]"
      ]
     },
     "metadata": {},
     "output_type": "display_data"
    },
    {
     "data": {
      "application/vnd.jupyter.widget-view+json": {
       "model_id": "ee239f072e8f460ab59a7710737eabff",
       "version_major": 2,
       "version_minor": 0
      },
      "text/plain": [
       "Benchmark 15360000             10 | 0/10 [00:00<?, ?it/s]"
      ]
     },
     "metadata": {},
     "output_type": "display_data"
    },
    {
     "data": {
      "application/vnd.jupyter.widget-view+json": {
       "model_id": "8a478f92be514526ac06dd4e4014af66",
       "version_major": 2,
       "version_minor": 0
      },
      "text/plain": [
       "Benchmark 17920000             10 | 0/10 [00:00<?, ?it/s]"
      ]
     },
     "metadata": {},
     "output_type": "display_data"
    },
    {
     "data": {
      "application/vnd.jupyter.widget-view+json": {
       "model_id": "5e7c39628f5c4651a346141eb59aca95",
       "version_major": 2,
       "version_minor": 0
      },
      "text/plain": [
       "Benchmark 20480000             10 | 0/10 [00:00<?, ?it/s]"
      ]
     },
     "metadata": {},
     "output_type": "display_data"
    },
    {
     "data": {
      "application/vnd.jupyter.widget-view+json": {
       "model_id": "41532b9fe70c4e33ba7f5a0ee336bd95",
       "version_major": 2,
       "version_minor": 0
      },
      "text/plain": [
       "Benchmark 23040000             10 | 0/10 [00:00<?, ?it/s]"
      ]
     },
     "metadata": {},
     "output_type": "display_data"
    }
   ],
   "source": [
    "\n",
    "\n",
    "experiment_progress = tqdm(range(0, experiments), desc =\"Experiment\")\n",
    "\n",
    "experiment = -1\n",
    "for experiment in experiment_progress:\n",
    "    exoeriment = experiment + 1\n",
    "\n",
    "    log = f\"{output}/{label}-{experiment}-log.log\"\n",
    "    os.system(f\"rm {log}\")\n",
    "\n",
    "\n",
    "    name = points[experiment]\n",
    "    progress = tqdm(range(0, len(points)), \n",
    "                    desc =f\"Benchmark {name}\",\n",
    "                    bar_format=\"{desc:<30} {total_fmt} {r_bar}\")\n",
    "    \n",
    "    i = -1\n",
    "    for state in progress:\n",
    "        i = i + 1\n",
    "        n = points[i]\n",
    "        #if linux, os:\n",
    "        command = f\"mpiexec -n {processors} python count-click.py \" + \\\n",
    "                  f\"--n {n} --max_number 10 --find 8 --label {label} \" + \\\n",
    "                  f\"--user {user} --node={node} \" + \\\n",
    "                  f\"| tee -a {log}\"\n",
    "        #if windows: \n",
    "        #command = f\"mpiexec -n {processors} python count-click.py \" + \\\n",
    "        #          f\"--n {n} --max_number 10 --find 8 --label {label} \" + \\\n",
    "        #          f\"--user {user} --node={node} \" + \\\n",
    "        #          f\">> {log}\"\n",
    "        \n",
    "        os.system (command)\n",
    "\n",
    "    content = readfile(log).splitlines()\n",
    "    lines = Shell.cm_grep(content, \"csv,Result:\")\n",
    "    # print(lines)\n",
    "    values = []\n",
    "    times = []\n",
    "\n",
    "    for line in lines:\n",
    "        msg = line.split(\",\")[7]\n",
    "        t = line.split(\",\")[4]\n",
    "\n",
    "        total, overall, trials, find, label = msg.split(\" \")\n",
    "        values.append(int(overall))\n",
    "        times.append(float(t))\n",
    "        # print (t, overall)\n",
    "\n",
    "\n",
    "    #data = pd.DataFrame(values, times, columns=[\"Values\", \"Time\"])\n",
    "\n",
    "    #print (data.describe())\n",
    "    #sns.lineplot(data=data, palette=\"tab10\", linewidth=2.5)\n",
    "    # df[\"Size\"] = values\n",
    "    df[f\"Time_{experiment}\"] = times\n",
    "    # print(df)\n"
   ]
  },
  {
   "cell_type": "code",
   "execution_count": 11,
   "id": "6247ec43-6d8b-4f42-8d1d-4c7b5f67312b",
   "metadata": {},
   "outputs": [
    {
     "data": {
      "text/html": [
       "<div>\n",
       "<style scoped>\n",
       "    .dataframe tbody tr th:only-of-type {\n",
       "        vertical-align: middle;\n",
       "    }\n",
       "\n",
       "    .dataframe tbody tr th {\n",
       "        vertical-align: top;\n",
       "    }\n",
       "\n",
       "    .dataframe thead th {\n",
       "        text-align: right;\n",
       "    }\n",
       "</style>\n",
       "<table border=\"1\" class=\"dataframe\">\n",
       "  <thead>\n",
       "    <tr style=\"text-align: right;\">\n",
       "      <th>Time</th>\n",
       "      <th>Time_0</th>\n",
       "      <th>Time_1</th>\n",
       "      <th>Time_2</th>\n",
       "      <th>Time_3</th>\n",
       "      <th>Time_4</th>\n",
       "      <th>Time_5</th>\n",
       "      <th>Time_6</th>\n",
       "      <th>Time_7</th>\n",
       "      <th>Time_8</th>\n",
       "      <th>Time_9</th>\n",
       "    </tr>\n",
       "    <tr>\n",
       "      <th>Size</th>\n",
       "      <th></th>\n",
       "      <th></th>\n",
       "      <th></th>\n",
       "      <th></th>\n",
       "      <th></th>\n",
       "      <th></th>\n",
       "      <th></th>\n",
       "      <th></th>\n",
       "      <th></th>\n",
       "      <th></th>\n",
       "    </tr>\n",
       "  </thead>\n",
       "  <tbody>\n",
       "    <tr>\n",
       "      <th>16</th>\n",
       "      <td>0.000</td>\n",
       "      <td>0.000</td>\n",
       "      <td>0.008</td>\n",
       "      <td>0.022</td>\n",
       "      <td>0.000</td>\n",
       "      <td>0.000</td>\n",
       "      <td>0.000</td>\n",
       "      <td>0.001</td>\n",
       "      <td>0.036</td>\n",
       "      <td>0.041</td>\n",
       "    </tr>\n",
       "    <tr>\n",
       "      <th>2560000</th>\n",
       "      <td>2.084</td>\n",
       "      <td>2.073</td>\n",
       "      <td>2.184</td>\n",
       "      <td>2.061</td>\n",
       "      <td>2.115</td>\n",
       "      <td>2.174</td>\n",
       "      <td>2.129</td>\n",
       "      <td>2.159</td>\n",
       "      <td>2.094</td>\n",
       "      <td>2.111</td>\n",
       "    </tr>\n",
       "    <tr>\n",
       "      <th>5120000</th>\n",
       "      <td>4.244</td>\n",
       "      <td>4.284</td>\n",
       "      <td>4.246</td>\n",
       "      <td>4.244</td>\n",
       "      <td>4.170</td>\n",
       "      <td>4.220</td>\n",
       "      <td>4.191</td>\n",
       "      <td>4.290</td>\n",
       "      <td>4.268</td>\n",
       "      <td>4.289</td>\n",
       "    </tr>\n",
       "    <tr>\n",
       "      <th>7680000</th>\n",
       "      <td>6.283</td>\n",
       "      <td>6.263</td>\n",
       "      <td>6.352</td>\n",
       "      <td>6.352</td>\n",
       "      <td>6.275</td>\n",
       "      <td>6.312</td>\n",
       "      <td>6.277</td>\n",
       "      <td>6.293</td>\n",
       "      <td>6.309</td>\n",
       "      <td>6.223</td>\n",
       "    </tr>\n",
       "    <tr>\n",
       "      <th>10240000</th>\n",
       "      <td>8.328</td>\n",
       "      <td>8.490</td>\n",
       "      <td>8.417</td>\n",
       "      <td>8.453</td>\n",
       "      <td>8.330</td>\n",
       "      <td>8.401</td>\n",
       "      <td>8.349</td>\n",
       "      <td>8.414</td>\n",
       "      <td>8.426</td>\n",
       "      <td>8.369</td>\n",
       "    </tr>\n",
       "    <tr>\n",
       "      <th>12800000</th>\n",
       "      <td>10.267</td>\n",
       "      <td>10.463</td>\n",
       "      <td>10.445</td>\n",
       "      <td>10.493</td>\n",
       "      <td>10.458</td>\n",
       "      <td>10.565</td>\n",
       "      <td>10.541</td>\n",
       "      <td>10.623</td>\n",
       "      <td>10.518</td>\n",
       "      <td>10.460</td>\n",
       "    </tr>\n",
       "    <tr>\n",
       "      <th>15360000</th>\n",
       "      <td>12.413</td>\n",
       "      <td>12.492</td>\n",
       "      <td>12.475</td>\n",
       "      <td>12.605</td>\n",
       "      <td>12.568</td>\n",
       "      <td>12.486</td>\n",
       "      <td>12.576</td>\n",
       "      <td>12.542</td>\n",
       "      <td>12.685</td>\n",
       "      <td>12.556</td>\n",
       "    </tr>\n",
       "    <tr>\n",
       "      <th>17920000</th>\n",
       "      <td>14.713</td>\n",
       "      <td>14.886</td>\n",
       "      <td>14.400</td>\n",
       "      <td>14.525</td>\n",
       "      <td>14.720</td>\n",
       "      <td>14.633</td>\n",
       "      <td>14.509</td>\n",
       "      <td>14.706</td>\n",
       "      <td>14.932</td>\n",
       "      <td>14.505</td>\n",
       "    </tr>\n",
       "    <tr>\n",
       "      <th>20480000</th>\n",
       "      <td>16.782</td>\n",
       "      <td>16.599</td>\n",
       "      <td>16.687</td>\n",
       "      <td>16.829</td>\n",
       "      <td>16.943</td>\n",
       "      <td>16.831</td>\n",
       "      <td>16.737</td>\n",
       "      <td>17.025</td>\n",
       "      <td>16.809</td>\n",
       "      <td>16.968</td>\n",
       "    </tr>\n",
       "    <tr>\n",
       "      <th>23040000</th>\n",
       "      <td>18.766</td>\n",
       "      <td>18.622</td>\n",
       "      <td>18.693</td>\n",
       "      <td>18.834</td>\n",
       "      <td>18.897</td>\n",
       "      <td>19.032</td>\n",
       "      <td>18.812</td>\n",
       "      <td>18.760</td>\n",
       "      <td>18.898</td>\n",
       "      <td>19.068</td>\n",
       "    </tr>\n",
       "  </tbody>\n",
       "</table>\n",
       "</div>"
      ],
      "text/plain": [
       "Time      Time_0  Time_1  Time_2  Time_3  Time_4  Time_5  Time_6  Time_7  \\\n",
       "Size                                                                       \n",
       "16         0.000   0.000   0.008   0.022   0.000   0.000   0.000   0.001   \n",
       "2560000    2.084   2.073   2.184   2.061   2.115   2.174   2.129   2.159   \n",
       "5120000    4.244   4.284   4.246   4.244   4.170   4.220   4.191   4.290   \n",
       "7680000    6.283   6.263   6.352   6.352   6.275   6.312   6.277   6.293   \n",
       "10240000   8.328   8.490   8.417   8.453   8.330   8.401   8.349   8.414   \n",
       "12800000  10.267  10.463  10.445  10.493  10.458  10.565  10.541  10.623   \n",
       "15360000  12.413  12.492  12.475  12.605  12.568  12.486  12.576  12.542   \n",
       "17920000  14.713  14.886  14.400  14.525  14.720  14.633  14.509  14.706   \n",
       "20480000  16.782  16.599  16.687  16.829  16.943  16.831  16.737  17.025   \n",
       "23040000  18.766  18.622  18.693  18.834  18.897  19.032  18.812  18.760   \n",
       "\n",
       "Time      Time_8  Time_9  \n",
       "Size                      \n",
       "16         0.036   0.041  \n",
       "2560000    2.094   2.111  \n",
       "5120000    4.268   4.289  \n",
       "7680000    6.309   6.223  \n",
       "10240000   8.426   8.369  \n",
       "12800000  10.518  10.460  \n",
       "15360000  12.685  12.556  \n",
       "17920000  14.932  14.505  \n",
       "20480000  16.809  16.968  \n",
       "23040000  18.898  19.068  "
      ]
     },
     "execution_count": 11,
     "metadata": {},
     "output_type": "execute_result"
    }
   ],
   "source": [
    "\n",
    "df = df.rename_axis(columns=\"Time\")\n",
    "df\n",
    "    "
   ]
  },
  {
   "cell_type": "code",
   "execution_count": 12,
   "id": "1c6a28b5-3300-4683-83e1-68afec4fefc7",
   "metadata": {},
   "outputs": [
    {
     "data": {
      "image/png": "[encoded data removed]",
      "text/plain": [
       "<Figure size 432x288 with 1 Axes>"
      ]
     },
     "metadata": {},
     "output_type": "display_data"
    }
   ],
   "source": [
    "sns.lineplot(data=df, markers=True);"
   ]
  },
  {
   "cell_type": "code",
   "execution_count": 13,
   "id": "b1c65630-3895-4018-8449-8495edcad3e4",
   "metadata": {},
   "outputs": [
    {
     "data": {
      "text/plain": [
       "<Figure size 432x288 with 0 Axes>"
      ]
     },
     "metadata": {},
     "output_type": "display_data"
    }
   ],
   "source": [
    "plt.savefig(f'{output}/{label}-line.png');\n",
    "plt.savefig(f'{output}/{label}-line.pdf');"
   ]
  },
  {
   "cell_type": "code",
   "execution_count": 14,
   "id": "0bd63fd7-70c6-4b4b-b213-4af734b8035e",
   "metadata": {},
   "outputs": [
    {
     "data": {
      "text/html": [
       "<div>\n",
       "<style scoped>\n",
       "    .dataframe tbody tr th:only-of-type {\n",
       "        vertical-align: middle;\n",
       "    }\n",
       "\n",
       "    .dataframe tbody tr th {\n",
       "        vertical-align: top;\n",
       "    }\n",
       "\n",
       "    .dataframe thead th {\n",
       "        text-align: right;\n",
       "    }\n",
       "</style>\n",
       "<table border=\"1\" class=\"dataframe\">\n",
       "  <thead>\n",
       "    <tr style=\"text-align: right;\">\n",
       "      <th></th>\n",
       "      <th>Time</th>\n",
       "    </tr>\n",
       "    <tr>\n",
       "      <th>Size</th>\n",
       "      <th></th>\n",
       "    </tr>\n",
       "  </thead>\n",
       "  <tbody>\n",
       "    <tr>\n",
       "      <th>16</th>\n",
       "      <td>0.000</td>\n",
       "    </tr>\n",
       "    <tr>\n",
       "      <th>16</th>\n",
       "      <td>0.000</td>\n",
       "    </tr>\n",
       "    <tr>\n",
       "      <th>16</th>\n",
       "      <td>0.008</td>\n",
       "    </tr>\n",
       "    <tr>\n",
       "      <th>16</th>\n",
       "      <td>0.022</td>\n",
       "    </tr>\n",
       "    <tr>\n",
       "      <th>16</th>\n",
       "      <td>0.000</td>\n",
       "    </tr>\n",
       "    <tr>\n",
       "      <th>...</th>\n",
       "      <td>...</td>\n",
       "    </tr>\n",
       "    <tr>\n",
       "      <th>23040000</th>\n",
       "      <td>19.032</td>\n",
       "    </tr>\n",
       "    <tr>\n",
       "      <th>23040000</th>\n",
       "      <td>18.812</td>\n",
       "    </tr>\n",
       "    <tr>\n",
       "      <th>23040000</th>\n",
       "      <td>18.760</td>\n",
       "    </tr>\n",
       "    <tr>\n",
       "      <th>23040000</th>\n",
       "      <td>18.898</td>\n",
       "    </tr>\n",
       "    <tr>\n",
       "      <th>23040000</th>\n",
       "      <td>19.068</td>\n",
       "    </tr>\n",
       "  </tbody>\n",
       "</table>\n",
       "<p>100 rows × 1 columns</p>\n",
       "</div>"
      ],
      "text/plain": [
       "            Time\n",
       "Size            \n",
       "16         0.000\n",
       "16         0.000\n",
       "16         0.008\n",
       "16         0.022\n",
       "16         0.000\n",
       "...          ...\n",
       "23040000  19.032\n",
       "23040000  18.812\n",
       "23040000  18.760\n",
       "23040000  18.898\n",
       "23040000  19.068\n",
       "\n",
       "[100 rows x 1 columns]"
      ]
     },
     "execution_count": 14,
     "metadata": {},
     "output_type": "execute_result"
    }
   ],
   "source": [
    "dfs = df.stack().reset_index()\n",
    "dfs = dfs.set_index('Size')\n",
    "dfs = dfs.drop(columns=['Time'])\n",
    "dfs = dfs.rename(columns={0:'Time'})\n",
    "dfs"
   ]
  },
  {
   "cell_type": "code",
   "execution_count": 15,
   "id": "a6114d9f-a63a-449d-9b8c-178c036c31a6",
   "metadata": {},
   "outputs": [
    {
     "data": {
      "image/png": "[encoded data removed]",
      "text/plain": [
       "<Figure size 432x288 with 1 Axes>"
      ]
     },
     "metadata": {},
     "output_type": "display_data"
    }
   ],
   "source": [
    "sns.scatterplot(data=dfs, x=\"Size\", y=\"Time\");\n",
    "plt.savefig(f\"{output}/{label}-scatter.pdf\")\n",
    "plt.savefig(f\"{output}/{label}-scatter.png\")"
   ]
  },
  {
   "cell_type": "code",
   "execution_count": 16,
   "id": "09ba121b-76b2-43a2-a58c-356fca482ba1",
   "metadata": {},
   "outputs": [
    {
     "data": {
      "image/png": "[encoded data removed]",
      "text/plain": [
       "<Figure size 360x360 with 1 Axes>"
      ]
     },
     "metadata": {},
     "output_type": "display_data"
    }
   ],
   "source": [
    "sns.relplot(x=\"Size\", y=\"Time\", kind=\"line\", data=dfs);\n",
    "plt.savefig(f\"{output}/{label}-relplot.pdf\")\n",
    "plt.savefig(f\"{output}/{label}-relplot.png\")"
   ]
  },
  {
   "cell_type": "code",
   "execution_count": 17,
   "id": "3b651569-60f4-45ae-a06a-e0fa4b509ac3",
   "metadata": {},
   "outputs": [],
   "source": [
    "df.to_pickle(f\"{output}/{label}-df.pkl\")"
   ]
  },
  {
   "cell_type": "code",
   "execution_count": null,
   "id": "a20cd2a5-ba19-489e-930e-d0b2765db5f7",
   "metadata": {},
   "outputs": [],
   "source": []
  },
  {
   "cell_type": "code",
   "execution_count": null,
   "id": "14bc4867-3229-4e1b-adeb-cdab84e722c1",
   "metadata": {},
   "outputs": [],
   "source": []
  }
 ],
 "metadata": {
  "kernelspec": {
   "display_name": "Python 3",
   "language": "python",
   "name": "python3"
  },
  "language_info": {
   "codemirror_mode": {
    "name": "ipython",
    "version": 3
   },
   "file_extension": ".py",
   "mimetype": "text/x-python",
   "name": "python",
   "nbconvert_exporter": "python",
   "pygments_lexer": "ipython3",
   "version": "3.9.4"
  }
 },
 "nbformat": 4,
 "nbformat_minor": 5
}