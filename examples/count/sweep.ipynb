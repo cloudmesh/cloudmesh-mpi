{
 "cells": [
  {
   "cell_type": "code",
   "execution_count": 56,
   "id": "49f68aa9-9191-4e13-97ad-de20c8a79123",
   "metadata": {},
   "outputs": [],
   "source": [
    "import os\n",
    "from cloudmesh.common.Shell import Shell\n",
    "from pprint import pprint\n",
    "import matplotlib.pyplot as plt\n",
    "import seaborn as sns\n",
    "%matplotlib inline\n",
    "\n",
    "sns.set_theme(style=\"whitegrid\")\n",
    "import pandas as pd\n",
    "from tqdm.notebook import tqdm"
   ]
  },
  {
   "cell_type": "code",
   "execution_count": 69,
   "id": "1d82054e-d3d7-4b31-a2a6-b86816360d53",
   "metadata": {},
   "outputs": [
    {
     "name": "stdout",
     "output_type": "stream",
     "text": [
      "[64, 10240000, 20480000, 30720000, 40960000, 51200000, 61440000, 71680000, 81920000, 92160000]\n",
      "[16, 2560000, 5120000, 7680000, 10240000, 12800000, 15360000, 17920000, 20480000, 23040000]\n"
     ]
    }
   ],
   "source": [
    "processors = 4\n",
    "experiments = 10\n",
    "maximum = 1024 * 100000\n",
    "intervals = 10\n",
    "\n",
    "delta = int(maximum / intervals)\n",
    "\n",
    "totals = [64] + list(range(0,maximum, delta))[1:]\n",
    "points = [int(t/processors) for t in totals]\n",
    "print (totals)\n",
    "print(points)\n"
   ]
  },
  {
   "cell_type": "code",
   "execution_count": 70,
   "id": "530d02c4-11ab-4042-98c9-57979ad54871",
   "metadata": {},
   "outputs": [],
   "source": [
    "df = pd.DataFrame(\n",
    "{\"Size\": points}\n",
    ")\n",
    "df = df.set_index('Size')"
   ]
  },
  {
   "cell_type": "code",
   "execution_count": 72,
   "id": "b5a46162-7fc0-4e52-bc53-b4beb5ce6836",
   "metadata": {},
   "outputs": [
    {
     "data": {
      "application/vnd.jupyter.widget-view+json": {
       "model_id": "255dfc5bc70e44b5a210cc0e80ac64d1",
       "version_major": 2,
       "version_minor": 0
      },
      "text/plain": [
       "Experiment:   0%|          | 0/10 [00:00<?, ?it/s]"
      ]
     },
     "metadata": {},
     "output_type": "display_data"
    },
    {
     "data": {
      "application/vnd.jupyter.widget-view+json": {
       "model_id": "0b31763364df4d1eb2f5c4ee0f31e968",
       "version_major": 2,
       "version_minor": 0
      },
      "text/plain": [
       "Benchmark 16                   10 | 0/10 [00:00<?, ?it/s]"
      ]
     },
     "metadata": {},
     "output_type": "display_data"
    },
    {
     "data": {
      "application/vnd.jupyter.widget-view+json": {
       "model_id": "88a34b66063c4631b15f535523f61d36",
       "version_major": 2,
       "version_minor": 0
      },
      "text/plain": [
       "Benchmark 2560000              10 | 0/10 [00:00<?, ?it/s]"
      ]
     },
     "metadata": {},
     "output_type": "display_data"
    },
    {
     "data": {
      "application/vnd.jupyter.widget-view+json": {
       "model_id": "52a6fc0847604669b54d995ce2b8b73f",
       "version_major": 2,
       "version_minor": 0
      },
      "text/plain": [
       "Benchmark 5120000              10 | 0/10 [00:00<?, ?it/s]"
      ]
     },
     "metadata": {},
     "output_type": "display_data"
    },
    {
     "data": {
      "application/vnd.jupyter.widget-view+json": {
       "model_id": "5e7344a6a03344f79cf8d90b2b61a7d6",
       "version_major": 2,
       "version_minor": 0
      },
      "text/plain": [
       "Benchmark 7680000              10 | 0/10 [00:00<?, ?it/s]"
      ]
     },
     "metadata": {},
     "output_type": "display_data"
    },
    {
     "data": {
      "application/vnd.jupyter.widget-view+json": {
       "model_id": "17f929d3974b4e5ebeac466269b2ef2e",
       "version_major": 2,
       "version_minor": 0
      },
      "text/plain": [
       "Benchmark 10240000             10 | 0/10 [00:00<?, ?it/s]"
      ]
     },
     "metadata": {},
     "output_type": "display_data"
    },
    {
     "data": {
      "application/vnd.jupyter.widget-view+json": {
       "model_id": "7e7705b1d3d64c4cbb60bb6d54b838ab",
       "version_major": 2,
       "version_minor": 0
      },
      "text/plain": [
       "Benchmark 12800000             10 | 0/10 [00:00<?, ?it/s]"
      ]
     },
     "metadata": {},
     "output_type": "display_data"
    },
    {
     "data": {
      "application/vnd.jupyter.widget-view+json": {
       "model_id": "c910f756996746bc8e518f66916ccc39",
       "version_major": 2,
       "version_minor": 0
      },
      "text/plain": [
       "Benchmark 15360000             10 | 0/10 [00:00<?, ?it/s]"
      ]
     },
     "metadata": {},
     "output_type": "display_data"
    },
    {
     "data": {
      "application/vnd.jupyter.widget-view+json": {
       "model_id": "ccc8333c86d4458086ed023d10e59d87",
       "version_major": 2,
       "version_minor": 0
      },
      "text/plain": [
       "Benchmark 17920000             10 | 0/10 [00:00<?, ?it/s]"
      ]
     },
     "metadata": {},
     "output_type": "display_data"
    },
    {
     "data": {
      "application/vnd.jupyter.widget-view+json": {
       "model_id": "af3f793ed17f4354b772e55a048dafa6",
       "version_major": 2,
       "version_minor": 0
      },
      "text/plain": [
       "Benchmark 20480000             10 | 0/10 [00:00<?, ?it/s]"
      ]
     },
     "metadata": {},
     "output_type": "display_data"
    },
    {
     "data": {
      "application/vnd.jupyter.widget-view+json": {
       "model_id": "1279860c016348029c16e627e5b39e53",
       "version_major": 2,
       "version_minor": 0
      },
      "text/plain": [
       "Benchmark 23040000             10 | 0/10 [00:00<?, ?it/s]"
      ]
     },
     "metadata": {},
     "output_type": "display_data"
    }
   ],
   "source": [
    "experiment_progress = tqdm(range(0, experiments), desc =\"Experiment\")\n",
    "\n",
    "experiment = -1\n",
    "for experiment in experiment_progress:\n",
    "    exoeriment = experiment + 1\n",
    "\n",
    "    label=\"gregor-mac\"\n",
    "    log = f\"result-{label}-{experiment}.log\"\n",
    "    os.system(f\"rm {log}\")\n",
    "\n",
    "\n",
    "    name = points[experiment]\n",
    "    progress = tqdm(range(0, len(points)), \n",
    "                    desc =f\"Benchmark {name}\",\n",
    "                    bar_format=\"{desc:<30} {total_fmt} {r_bar}\")\n",
    "    \n",
    "    i = -1\n",
    "    for state in progress:\n",
    "        i = i + 1\n",
    "        n = points[i]\n",
    "        os.system (f\"mpiexec -n {processors} python count-click.py --n {n} --max_number 10 --find 8 --label gregor-mac\"\n",
    "                   f\"| tee -a {log}\")\n",
    "\n",
    "    lines = Shell.grep(\"csv,Result:\", log)\n",
    "    # print(lines)\n",
    "    values = []\n",
    "    times = []\n",
    "\n",
    "    for line in lines.splitlines():\n",
    "        msg = line.split(\",\")[7]\n",
    "        t = line.split(\",\")[4]\n",
    "\n",
    "        total, overall, trials, find, label = msg.split(\" \")\n",
    "        values.append(int(overall))\n",
    "        times.append(float(t))\n",
    "        # print (t, overall)\n",
    "\n",
    "\n",
    "    #data = pd.DataFrame(values, times, columns=[\"Values\", \"Time\"])\n",
    "\n",
    "    #print (data.describe())\n",
    "    #sns.lineplot(data=data, palette=\"tab10\", linewidth=2.5)\n",
    "    # df[\"Size\"] = values\n",
    "    df[f\"Time_{experiment}\"] = times\n",
    "    # print(df)\n"
   ]
  },
  {
   "cell_type": "code",
   "execution_count": 73,
   "id": "6247ec43-6d8b-4f42-8d1d-4c7b5f67312b",
   "metadata": {},
   "outputs": [
    {
     "data": {
      "text/html": [
       "<div>\n",
       "<style scoped>\n",
       "    .dataframe tbody tr th:only-of-type {\n",
       "        vertical-align: middle;\n",
       "    }\n",
       "\n",
       "    .dataframe tbody tr th {\n",
       "        vertical-align: top;\n",
       "    }\n",
       "\n",
       "    .dataframe thead th {\n",
       "        text-align: right;\n",
       "    }\n",
       "</style>\n",
       "<table border=\"1\" class=\"dataframe\">\n",
       "  <thead>\n",
       "    <tr style=\"text-align: right;\">\n",
       "      <th>Time</th>\n",
       "      <th>Time_0</th>\n",
       "      <th>Time_1</th>\n",
       "      <th>Time_2</th>\n",
       "      <th>Time_3</th>\n",
       "      <th>Time_4</th>\n",
       "      <th>Time_5</th>\n",
       "      <th>Time_6</th>\n",
       "      <th>Time_7</th>\n",
       "      <th>Time_8</th>\n",
       "      <th>Time_9</th>\n",
       "    </tr>\n",
       "    <tr>\n",
       "      <th>Size</th>\n",
       "      <th></th>\n",
       "      <th></th>\n",
       "      <th></th>\n",
       "      <th></th>\n",
       "      <th></th>\n",
       "      <th></th>\n",
       "      <th></th>\n",
       "      <th></th>\n",
       "      <th></th>\n",
       "      <th></th>\n",
       "    </tr>\n",
       "  </thead>\n",
       "  <tbody>\n",
       "    <tr>\n",
       "      <th>16</th>\n",
       "      <td>0.005</td>\n",
       "      <td>0.001</td>\n",
       "      <td>0.000</td>\n",
       "      <td>0.000</td>\n",
       "      <td>0.000</td>\n",
       "      <td>0.001</td>\n",
       "      <td>0.000</td>\n",
       "      <td>0.001</td>\n",
       "      <td>0.001</td>\n",
       "      <td>0.000</td>\n",
       "    </tr>\n",
       "    <tr>\n",
       "      <th>2560000</th>\n",
       "      <td>2.509</td>\n",
       "      <td>2.753</td>\n",
       "      <td>3.103</td>\n",
       "      <td>3.389</td>\n",
       "      <td>3.415</td>\n",
       "      <td>3.397</td>\n",
       "      <td>3.117</td>\n",
       "      <td>3.363</td>\n",
       "      <td>3.149</td>\n",
       "      <td>3.922</td>\n",
       "    </tr>\n",
       "    <tr>\n",
       "      <th>5120000</th>\n",
       "      <td>5.086</td>\n",
       "      <td>5.843</td>\n",
       "      <td>6.776</td>\n",
       "      <td>6.964</td>\n",
       "      <td>6.689</td>\n",
       "      <td>7.309</td>\n",
       "      <td>6.699</td>\n",
       "      <td>6.963</td>\n",
       "      <td>7.483</td>\n",
       "      <td>6.179</td>\n",
       "    </tr>\n",
       "    <tr>\n",
       "      <th>7680000</th>\n",
       "      <td>8.200</td>\n",
       "      <td>9.357</td>\n",
       "      <td>10.152</td>\n",
       "      <td>10.459</td>\n",
       "      <td>10.778</td>\n",
       "      <td>12.191</td>\n",
       "      <td>10.964</td>\n",
       "      <td>12.386</td>\n",
       "      <td>10.676</td>\n",
       "      <td>9.517</td>\n",
       "    </tr>\n",
       "    <tr>\n",
       "      <th>10240000</th>\n",
       "      <td>11.114</td>\n",
       "      <td>11.781</td>\n",
       "      <td>13.750</td>\n",
       "      <td>15.003</td>\n",
       "      <td>14.089</td>\n",
       "      <td>16.220</td>\n",
       "      <td>13.062</td>\n",
       "      <td>15.536</td>\n",
       "      <td>14.395</td>\n",
       "      <td>14.272</td>\n",
       "    </tr>\n",
       "    <tr>\n",
       "      <th>12800000</th>\n",
       "      <td>14.456</td>\n",
       "      <td>14.622</td>\n",
       "      <td>15.720</td>\n",
       "      <td>17.704</td>\n",
       "      <td>20.284</td>\n",
       "      <td>17.602</td>\n",
       "      <td>16.982</td>\n",
       "      <td>18.689</td>\n",
       "      <td>18.335</td>\n",
       "      <td>17.283</td>\n",
       "    </tr>\n",
       "    <tr>\n",
       "      <th>15360000</th>\n",
       "      <td>18.609</td>\n",
       "      <td>17.453</td>\n",
       "      <td>19.827</td>\n",
       "      <td>19.855</td>\n",
       "      <td>22.719</td>\n",
       "      <td>21.523</td>\n",
       "      <td>22.332</td>\n",
       "      <td>23.541</td>\n",
       "      <td>20.260</td>\n",
       "      <td>21.027</td>\n",
       "    </tr>\n",
       "    <tr>\n",
       "      <th>17920000</th>\n",
       "      <td>22.165</td>\n",
       "      <td>22.192</td>\n",
       "      <td>23.205</td>\n",
       "      <td>24.136</td>\n",
       "      <td>25.253</td>\n",
       "      <td>25.285</td>\n",
       "      <td>23.365</td>\n",
       "      <td>26.113</td>\n",
       "      <td>26.877</td>\n",
       "      <td>25.460</td>\n",
       "    </tr>\n",
       "    <tr>\n",
       "      <th>20480000</th>\n",
       "      <td>23.842</td>\n",
       "      <td>24.056</td>\n",
       "      <td>28.558</td>\n",
       "      <td>27.062</td>\n",
       "      <td>30.923</td>\n",
       "      <td>28.231</td>\n",
       "      <td>28.554</td>\n",
       "      <td>29.864</td>\n",
       "      <td>29.753</td>\n",
       "      <td>27.830</td>\n",
       "    </tr>\n",
       "    <tr>\n",
       "      <th>23040000</th>\n",
       "      <td>26.168</td>\n",
       "      <td>29.767</td>\n",
       "      <td>32.061</td>\n",
       "      <td>29.430</td>\n",
       "      <td>33.066</td>\n",
       "      <td>32.016</td>\n",
       "      <td>31.949</td>\n",
       "      <td>32.555</td>\n",
       "      <td>32.378</td>\n",
       "      <td>34.116</td>\n",
       "    </tr>\n",
       "  </tbody>\n",
       "</table>\n",
       "</div>"
      ],
      "text/plain": [
       "Time      Time_0  Time_1  Time_2  Time_3  Time_4  Time_5  Time_6  Time_7  \\\n",
       "Size                                                                       \n",
       "16         0.005   0.001   0.000   0.000   0.000   0.001   0.000   0.001   \n",
       "2560000    2.509   2.753   3.103   3.389   3.415   3.397   3.117   3.363   \n",
       "5120000    5.086   5.843   6.776   6.964   6.689   7.309   6.699   6.963   \n",
       "7680000    8.200   9.357  10.152  10.459  10.778  12.191  10.964  12.386   \n",
       "10240000  11.114  11.781  13.750  15.003  14.089  16.220  13.062  15.536   \n",
       "12800000  14.456  14.622  15.720  17.704  20.284  17.602  16.982  18.689   \n",
       "15360000  18.609  17.453  19.827  19.855  22.719  21.523  22.332  23.541   \n",
       "17920000  22.165  22.192  23.205  24.136  25.253  25.285  23.365  26.113   \n",
       "20480000  23.842  24.056  28.558  27.062  30.923  28.231  28.554  29.864   \n",
       "23040000  26.168  29.767  32.061  29.430  33.066  32.016  31.949  32.555   \n",
       "\n",
       "Time      Time_8  Time_9  \n",
       "Size                      \n",
       "16         0.001   0.000  \n",
       "2560000    3.149   3.922  \n",
       "5120000    7.483   6.179  \n",
       "7680000   10.676   9.517  \n",
       "10240000  14.395  14.272  \n",
       "12800000  18.335  17.283  \n",
       "15360000  20.260  21.027  \n",
       "17920000  26.877  25.460  \n",
       "20480000  29.753  27.830  \n",
       "23040000  32.378  34.116  "
      ]
     },
     "execution_count": 73,
     "metadata": {},
     "output_type": "execute_result"
    }
   ],
   "source": [
    "\n",
    "df = df.rename_axis(columns=\"Time\")\n",
    "df\n",
    "    "
   ]
  },
  {
   "cell_type": "code",
   "execution_count": 74,
   "id": "1c6a28b5-3300-4683-83e1-68afec4fefc7",
   "metadata": {},
   "outputs": [
    {
     "data": {
      "text/plain": [
       "<AxesSubplot:xlabel='Size'>"
      ]
     },
     "execution_count": 74,
     "metadata": {},
     "output_type": "execute_result"
    },
    {
     "data": {
      "image/png": "[encoded data removed]",
      "text/plain": [
       "<Figure size 432x288 with 1 Axes>"
      ]
     },
     "metadata": {},
     "output_type": "display_data"
    }
   ],
   "source": [
    "sns.lineplot(data=df, markers=True)"
   ]
  },
  {
   "cell_type": "code",
   "execution_count": 75,
   "id": "95e037bf-3638-43cc-9378-b52feb30eb83",
   "metadata": {},
   "outputs": [],
   "source": [
    "plt.show()"
   ]
  },
  {
   "cell_type": "code",
   "execution_count": 76,
   "id": "b1c65630-3895-4018-8449-8495edcad3e4",
   "metadata": {},
   "outputs": [
    {
     "data": {
      "text/plain": [
       "<Figure size 432x288 with 0 Axes>"
      ]
     },
     "metadata": {},
     "output_type": "display_data"
    }
   ],
   "source": [
    "plt.savefig(f'benchmark-{label}.png')\n"
   ]
  },
  {
   "cell_type": "code",
   "execution_count": 77,
   "id": "785f3383-e873-40a2-9767-c08399f3bc76",
   "metadata": {},
   "outputs": [
    {
     "data": {
      "text/plain": [
       "<Figure size 432x288 with 0 Axes>"
      ]
     },
     "metadata": {},
     "output_type": "display_data"
    }
   ],
   "source": [
    "plt.savefig(f'benchmark-{label}.pdf')"
   ]
  },
  {
   "cell_type": "code",
   "execution_count": 78,
   "id": "9fe96641-56c7-409c-a280-ce021f108317",
   "metadata": {},
   "outputs": [],
   "source": [
    "plt.show()"
   ]
  },
  {
   "cell_type": "code",
   "execution_count": 79,
   "id": "0bd63fd7-70c6-4b4b-b213-4af734b8035e",
   "metadata": {},
   "outputs": [
    {
     "data": {
      "text/html": [
       "<div>\n",
       "<style scoped>\n",
       "    .dataframe tbody tr th:only-of-type {\n",
       "        vertical-align: middle;\n",
       "    }\n",
       "\n",
       "    .dataframe tbody tr th {\n",
       "        vertical-align: top;\n",
       "    }\n",
       "\n",
       "    .dataframe thead th {\n",
       "        text-align: right;\n",
       "    }\n",
       "</style>\n",
       "<table border=\"1\" class=\"dataframe\">\n",
       "  <thead>\n",
       "    <tr style=\"text-align: right;\">\n",
       "      <th></th>\n",
       "      <th>Time</th>\n",
       "    </tr>\n",
       "    <tr>\n",
       "      <th>Size</th>\n",
       "      <th></th>\n",
       "    </tr>\n",
       "  </thead>\n",
       "  <tbody>\n",
       "    <tr>\n",
       "      <th>16</th>\n",
       "      <td>0.005</td>\n",
       "    </tr>\n",
       "    <tr>\n",
       "      <th>16</th>\n",
       "      <td>0.001</td>\n",
       "    </tr>\n",
       "    <tr>\n",
       "      <th>16</th>\n",
       "      <td>0.000</td>\n",
       "    </tr>\n",
       "    <tr>\n",
       "      <th>16</th>\n",
       "      <td>0.000</td>\n",
       "    </tr>\n",
       "    <tr>\n",
       "      <th>16</th>\n",
       "      <td>0.000</td>\n",
       "    </tr>\n",
       "    <tr>\n",
       "      <th>...</th>\n",
       "      <td>...</td>\n",
       "    </tr>\n",
       "    <tr>\n",
       "      <th>23040000</th>\n",
       "      <td>32.016</td>\n",
       "    </tr>\n",
       "    <tr>\n",
       "      <th>23040000</th>\n",
       "      <td>31.949</td>\n",
       "    </tr>\n",
       "    <tr>\n",
       "      <th>23040000</th>\n",
       "      <td>32.555</td>\n",
       "    </tr>\n",
       "    <tr>\n",
       "      <th>23040000</th>\n",
       "      <td>32.378</td>\n",
       "    </tr>\n",
       "    <tr>\n",
       "      <th>23040000</th>\n",
       "      <td>34.116</td>\n",
       "    </tr>\n",
       "  </tbody>\n",
       "</table>\n",
       "<p>100 rows × 1 columns</p>\n",
       "</div>"
      ],
      "text/plain": [
       "            Time\n",
       "Size            \n",
       "16         0.005\n",
       "16         0.001\n",
       "16         0.000\n",
       "16         0.000\n",
       "16         0.000\n",
       "...          ...\n",
       "23040000  32.016\n",
       "23040000  31.949\n",
       "23040000  32.555\n",
       "23040000  32.378\n",
       "23040000  34.116\n",
       "\n",
       "[100 rows x 1 columns]"
      ]
     },
     "execution_count": 79,
     "metadata": {},
     "output_type": "execute_result"
    }
   ],
   "source": [
    "dfs = df.stack().reset_index()\n",
    "dfs = dfs.set_index('Size')\n",
    "dfs = dfs.drop(columns=['Time'])\n",
    "dfs = dfs.rename(columns={0:'Time'})\n",
    "dfs"
   ]
  },
  {
   "cell_type": "code",
   "execution_count": 80,
   "id": "1469491f-2aa5-4f1e-a667-1fac70dce463",
   "metadata": {},
   "outputs": [
    {
     "data": {
      "image/png": "[encoded data removed]",
      "text/plain": [
       "<Figure size 432x288 with 1 Axes>"
      ]
     },
     "metadata": {},
     "output_type": "display_data"
    },
    {
     "data": {
      "image/png": "[encoded data removed]",
      "text/plain": [
       "<Figure size 360x360 with 1 Axes>"
      ]
     },
     "metadata": {},
     "output_type": "display_data"
    }
   ],
   "source": [
    "sns.scatterplot(data=dfs, x=\"Size\", y=\"Time\")\n",
    "sns.relplot(x=\"Size\", y=\"Time\", kind=\"line\", data=dfs);"
   ]
  },
  {
   "cell_type": "code",
   "execution_count": null,
   "id": "3b651569-60f4-45ae-a06a-e0fa4b509ac3",
   "metadata": {},
   "outputs": [],
   "source": []
  }
 ],
 "metadata": {
  "kernelspec": {
   "display_name": "Python 3",
   "language": "python",
   "name": "python3"
  },
  "language_info": {
   "codemirror_mode": {
    "name": "ipython",
    "version": 3
   },
   "file_extension": ".py",
   "mimetype": "text/x-python",
   "name": "python",
   "nbconvert_exporter": "python",
   "pygments_lexer": "ipython3",
   "version": "3.9.5"
  }
 },
 "nbformat": 4,
 "nbformat_minor": 5
}
