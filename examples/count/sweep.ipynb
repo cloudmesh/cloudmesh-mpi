{
 "cells": [
  {
   "cell_type": "markdown",
   "id": "5f61112f-554f-4abe-9d4e-33da013349f0",
   "metadata": {},
   "source": [
    "When benchmarking you **MUST**\n",
    "\n",
    "1. close all applications\n",
    "2. close docker\n",
    "3. close all but this Web windows\n",
    "4. all pen editors other than jupyter-lab (this notebook)\n"
   ]
  },
  {
   "cell_type": "code",
   "execution_count": 1,
   "id": "49f68aa9-9191-4e13-97ad-de20c8a79123",
   "metadata": {},
   "outputs": [
    {
     "name": "stderr",
     "output_type": "stream",
     "text": [
      "/home/green/ENV3/lib/python3.9/site-packages/pandas/compat/__init__.py:97: UserWarning: Could not import the lzma module. Your installed Python is incomplete. Attempting to use lzma compression will result in a RuntimeError.\n",
      "  warnings.warn(msg)\n"
     ]
    }
   ],
   "source": [
    "import os\n",
    "from cloudmesh.common.Shell import Shell\n",
    "from pprint import pprint\n",
    "import matplotlib.pyplot as plt\n",
    "import seaborn as sns\n",
    "%matplotlib inline\n",
    "\n",
    "import pandas as pd\n",
    "from tqdm.notebook import tqdm\n",
    "from cloudmesh.common.util import readfile\n",
    "from cloudmesh.common.util import writefile\n",
    "from cloudmesh.common.StopWatch import StopWatch \n",
    "\n",
    "sns.set_theme(style=\"whitegrid\")"
   ]
  },
  {
   "cell_type": "code",
   "execution_count": 2,
   "id": "6b9f415b-d848-4af3-9436-6680835180dd",
   "metadata": {},
   "outputs": [],
   "source": [
    "user = \"gregor\"\n",
    "node = \"alienware\"\n",
    "\n",
    "processors = 32\n",
    "experiments = 10\n",
    "maximum = 1024 * 100000\n",
    "intervals = 10"
   ]
  },
  {
   "cell_type": "code",
   "execution_count": 3,
   "id": "a1ce2a6c-4d24-46f1-9478-a9949694b928",
   "metadata": {},
   "outputs": [
    {
     "name": "stdout",
     "output_type": "stream",
     "text": [
      "[64, 10240000, 20480000, 30720000, 40960000, 51200000, 61440000, 71680000, 81920000, 92160000]\n",
      "[2, 320000, 640000, 960000, 1280000, 1600000, 1920000, 2240000, 2560000, 2880000]\n"
     ]
    }
   ],
   "source": [
    "label = f\"{user}-{node}-{processors}\"\n",
    "output = f\"benchmark/{user}\"\n",
    "\n",
    "delta = int(maximum / intervals)\n",
    "\n",
    "totals = [64] + list(range(0,maximum, delta))[1:]\n",
    "points = [int(t/processors) for t in totals]\n",
    "print (totals)\n",
    "print(points)"
   ]
  },
  {
   "cell_type": "code",
   "execution_count": 14,
   "id": "fc2fcdef-f19c-4a13-98a9-cf6f482ae9e7",
   "metadata": {},
   "outputs": [
    {
     "name": "stdout",
     "output_type": "stream",
     "text": [
      "+---------------------+------------------------------------------------------------------+\n",
      "| Attribute           | Value                                                            |\n",
      "|---------------------+------------------------------------------------------------------|\n",
      "| BUG_REPORT_URL      | \"https://bugs.launchpad.net/ubuntu/\"                             |\n",
      "| DISTRIB_CODENAME    | hirsute                                                          |\n",
      "| DISTRIB_DESCRIPTION | \"Ubuntu 21.04\"                                                   |\n",
      "| DISTRIB_ID          | Ubuntu                                                           |\n",
      "| DISTRIB_RELEASE     | 21.04                                                            |\n",
      "| HOME_URL            | \"https://www.ubuntu.com/\"                                        |\n",
      "| ID                  | ubuntu                                                           |\n",
      "| ID_LIKE             | debian                                                           |\n",
      "| NAME                | \"Ubuntu\"                                                         |\n",
      "| PRETTY_NAME         | \"Ubuntu 21.04\"                                                   |\n",
      "| PRIVACY_POLICY_URL  | \"https://www.ubuntu.com/legal/terms-and-policies/privacy-policy\" |\n",
      "| SUPPORT_URL         | \"https://help.ubuntu.com/\"                                       |\n",
      "| UBUNTU_CODENAME     | hirsute                                                          |\n",
      "| VERSION             | \"21.04 (Hirsute Hippo)\"                                          |\n",
      "| VERSION_CODENAME    | hirsute                                                          |\n",
      "| VERSION_ID          | \"21.04\"                                                          |\n",
      "| cpu                 | AMD Ryzen 9 3950X 16-Core Processor                              |\n",
      "| cpu_count           | 32                                                               |\n",
      "| frequency           | scpufreq(current=2535.1523749999997, min=2200.0, max=3500.0)     |\n",
      "| mem.active          | 9.4 GiB                                                          |\n",
      "| mem.available       | 55.3 GiB                                                         |\n",
      "| mem.free            | 35.0 GiB                                                         |\n",
      "| mem.inactive        | 13.5 GiB                                                         |\n",
      "| mem.percent         | 12.0 %                                                           |\n",
      "| mem.total           | 62.8 GiB                                                         |\n",
      "| mem.used            | 6.8 GiB                                                          |\n",
      "| platform.version    | #19-Ubuntu SMP Fri May 7 14:22:03 UTC 2021                       |\n",
      "| python              | 3.9.4 (default, Apr  5 2021, 18:24:44)                           |\n",
      "|                     | [GCC 9.3.0]                                                      |\n",
      "| python.pip          | 21.1.2                                                           |\n",
      "| python.version      | 3.9.4                                                            |\n",
      "| sys.platform        | linux                                                            |\n",
      "| uname.machine       | x86_64                                                           |\n",
      "| uname.node          | alien                                                            |\n",
      "| uname.processor     | x86_64                                                           |\n",
      "| uname.release       | 5.11.0-18-generic                                                |\n",
      "| uname.system        | Linux                                                            |\n",
      "| uname.version       | #19-Ubuntu SMP Fri May 7 14:22:03 UTC 2021                       |\n",
      "| user                | green                                                            |\n",
      "+---------------------+------------------------------------------------------------------+\n"
     ]
    }
   ],
   "source": [
    "systeminfo = StopWatch.systeminfo()\n",
    "writefile(f\"benchmark/{label}-sysinfo.log\", systeminfo)\n",
    "print (systeminfo)"
   ]
  },
  {
   "cell_type": "code",
   "execution_count": 5,
   "id": "530d02c4-11ab-4042-98c9-57979ad54871",
   "metadata": {},
   "outputs": [],
   "source": [
    "df = pd.DataFrame(\n",
    "{\"Size\": points}\n",
    ")\n",
    "df = df.set_index('Size')"
   ]
  },
  {
   "cell_type": "code",
   "execution_count": 6,
   "id": "b5a46162-7fc0-4e52-bc53-b4beb5ce6836",
   "metadata": {},
   "outputs": [
    {
     "data": {
      "application/vnd.jupyter.widget-view+json": {
       "model_id": "61a95a50e89a4f898788371ed092f7f7",
       "version_major": 2,
       "version_minor": 0
      },
      "text/plain": [
       "Experiment:   0%|          | 0/10 [00:00<?, ?it/s]"
      ]
     },
     "metadata": {},
     "output_type": "display_data"
    },
    {
     "data": {
      "application/vnd.jupyter.widget-view+json": {
       "model_id": "dcfc7838acad4d3a8bba8c8cfade9d3b",
       "version_major": 2,
       "version_minor": 0
      },
      "text/plain": [
       "Benchmark 2                    10 | 0/10 [00:00<?, ?it/s]"
      ]
     },
     "metadata": {},
     "output_type": "display_data"
    },
    {
     "data": {
      "application/vnd.jupyter.widget-view+json": {
       "model_id": "f9b2834f5ca74420a9a89e01e031ba13",
       "version_major": 2,
       "version_minor": 0
      },
      "text/plain": [
       "Benchmark 320000               10 | 0/10 [00:00<?, ?it/s]"
      ]
     },
     "metadata": {},
     "output_type": "display_data"
    },
    {
     "data": {
      "application/vnd.jupyter.widget-view+json": {
       "model_id": "59f6d9351b6d4a66b847a32db45ef347",
       "version_major": 2,
       "version_minor": 0
      },
      "text/plain": [
       "Benchmark 640000               10 | 0/10 [00:00<?, ?it/s]"
      ]
     },
     "metadata": {},
     "output_type": "display_data"
    },
    {
     "data": {
      "application/vnd.jupyter.widget-view+json": {
       "model_id": "09a3ee6491c4405c833ce7a7e855165d",
       "version_major": 2,
       "version_minor": 0
      },
      "text/plain": [
       "Benchmark 960000               10 | 0/10 [00:00<?, ?it/s]"
      ]
     },
     "metadata": {},
     "output_type": "display_data"
    },
    {
     "data": {
      "application/vnd.jupyter.widget-view+json": {
       "model_id": "a0fe3a466b994bfbbe639ae8130d8946",
       "version_major": 2,
       "version_minor": 0
      },
      "text/plain": [
       "Benchmark 1280000              10 | 0/10 [00:00<?, ?it/s]"
      ]
     },
     "metadata": {},
     "output_type": "display_data"
    },
    {
     "data": {
      "application/vnd.jupyter.widget-view+json": {
       "model_id": "c3f8c03169154ad79d575856e4289cc9",
       "version_major": 2,
       "version_minor": 0
      },
      "text/plain": [
       "Benchmark 1600000              10 | 0/10 [00:00<?, ?it/s]"
      ]
     },
     "metadata": {},
     "output_type": "display_data"
    },
    {
     "data": {
      "application/vnd.jupyter.widget-view+json": {
       "model_id": "eaff5024276e47b49c9de57994582135",
       "version_major": 2,
       "version_minor": 0
      },
      "text/plain": [
       "Benchmark 1920000              10 | 0/10 [00:00<?, ?it/s]"
      ]
     },
     "metadata": {},
     "output_type": "display_data"
    },
    {
     "data": {
      "application/vnd.jupyter.widget-view+json": {
       "model_id": "fecbc3d9e3804a7b9d4fa4025d474feb",
       "version_major": 2,
       "version_minor": 0
      },
      "text/plain": [
       "Benchmark 2240000              10 | 0/10 [00:00<?, ?it/s]"
      ]
     },
     "metadata": {},
     "output_type": "display_data"
    },
    {
     "data": {
      "application/vnd.jupyter.widget-view+json": {
       "model_id": "1f3e7cb5918a4aea818184f4b5d558ab",
       "version_major": 2,
       "version_minor": 0
      },
      "text/plain": [
       "Benchmark 2560000              10 | 0/10 [00:00<?, ?it/s]"
      ]
     },
     "metadata": {},
     "output_type": "display_data"
    },
    {
     "data": {
      "application/vnd.jupyter.widget-view+json": {
       "model_id": "6cd069ed510444268b7ed061bf48382f",
       "version_major": 2,
       "version_minor": 0
      },
      "text/plain": [
       "Benchmark 2880000              10 | 0/10 [00:00<?, ?it/s]"
      ]
     },
     "metadata": {},
     "output_type": "display_data"
    }
   ],
   "source": [
    "os.makedirs(output, exist_ok=True)\n",
    "\n",
    "experiment_progress = tqdm(range(0, experiments), desc =\"Experiment\")\n",
    "\n",
    "experiment = -1\n",
    "for experiment in experiment_progress:\n",
    "    exoeriment = experiment + 1\n",
    "\n",
    "    label=\"gregor-mac\"\n",
    "    log = f\"{output}/{label}-{experiment}-log.log\"\n",
    "    os.system(f\"rm {log}\")\n",
    "\n",
    "\n",
    "    name = points[experiment]\n",
    "    progress = tqdm(range(0, len(points)), \n",
    "                    desc =f\"Benchmark {name}\",\n",
    "                    bar_format=\"{desc:<30} {total_fmt} {r_bar}\")\n",
    "    \n",
    "    i = -1\n",
    "    for state in progress:\n",
    "        i = i + 1\n",
    "        n = points[i]\n",
    "        command = f\"mpiexec -n {processors} python count-click.py \" + \\\n",
    "                  f\"--n {n} --max_number 10 --find 8 --label {label} \" + \\\n",
    "                  f\"--user {user} --node={node} \" + \\\n",
    "                  f\"{log}\"\n",
    "        os.system (command)\n",
    "\n",
    "    content = readfile(log).splitlines()\n",
    "    lines = Shell.cm_grep(content, \"csv,Result:\")\n",
    "    # print(lines)\n",
    "    values = []\n",
    "    times = []\n",
    "\n",
    "    for line in lines:\n",
    "        msg = line.split(\",\")[7]\n",
    "        t = line.split(\",\")[4]\n",
    "\n",
    "        total, overall, trials, find, label = msg.split(\" \")\n",
    "        values.append(int(overall))\n",
    "        times.append(float(t))\n",
    "        # print (t, overall)\n",
    "\n",
    "\n",
    "    #data = pd.DataFrame(values, times, columns=[\"Values\", \"Time\"])\n",
    "\n",
    "    #print (data.describe())\n",
    "    #sns.lineplot(data=data, palette=\"tab10\", linewidth=2.5)\n",
    "    # df[\"Size\"] = values\n",
    "    df[f\"Time_{experiment}\"] = times\n",
    "    # print(df)\n"
   ]
  },
  {
   "cell_type": "code",
   "execution_count": 7,
   "id": "6247ec43-6d8b-4f42-8d1d-4c7b5f67312b",
   "metadata": {},
   "outputs": [
    {
     "data": {
      "text/html": [
       "<div>\n",
       "<style scoped>\n",
       "    .dataframe tbody tr th:only-of-type {\n",
       "        vertical-align: middle;\n",
       "    }\n",
       "\n",
       "    .dataframe tbody tr th {\n",
       "        vertical-align: top;\n",
       "    }\n",
       "\n",
       "    .dataframe thead th {\n",
       "        text-align: right;\n",
       "    }\n",
       "</style>\n",
       "<table border=\"1\" class=\"dataframe\">\n",
       "  <thead>\n",
       "    <tr style=\"text-align: right;\">\n",
       "      <th>Time</th>\n",
       "      <th>Time_0</th>\n",
       "      <th>Time_1</th>\n",
       "      <th>Time_2</th>\n",
       "      <th>Time_3</th>\n",
       "      <th>Time_4</th>\n",
       "      <th>Time_5</th>\n",
       "      <th>Time_6</th>\n",
       "      <th>Time_7</th>\n",
       "      <th>Time_8</th>\n",
       "      <th>Time_9</th>\n",
       "    </tr>\n",
       "    <tr>\n",
       "      <th>Size</th>\n",
       "      <th></th>\n",
       "      <th></th>\n",
       "      <th></th>\n",
       "      <th></th>\n",
       "      <th></th>\n",
       "      <th></th>\n",
       "      <th></th>\n",
       "      <th></th>\n",
       "      <th></th>\n",
       "      <th></th>\n",
       "    </tr>\n",
       "  </thead>\n",
       "  <tbody>\n",
       "    <tr>\n",
       "      <th>2</th>\n",
       "      <td>0.095</td>\n",
       "      <td>0.087</td>\n",
       "      <td>0.087</td>\n",
       "      <td>0.195</td>\n",
       "      <td>0.080</td>\n",
       "      <td>0.123</td>\n",
       "      <td>0.063</td>\n",
       "      <td>0.082</td>\n",
       "      <td>0.114</td>\n",
       "      <td>0.123</td>\n",
       "    </tr>\n",
       "    <tr>\n",
       "      <th>320000</th>\n",
       "      <td>0.605</td>\n",
       "      <td>0.777</td>\n",
       "      <td>0.766</td>\n",
       "      <td>0.693</td>\n",
       "      <td>0.674</td>\n",
       "      <td>0.686</td>\n",
       "      <td>0.657</td>\n",
       "      <td>0.503</td>\n",
       "      <td>0.717</td>\n",
       "      <td>0.624</td>\n",
       "    </tr>\n",
       "    <tr>\n",
       "      <th>640000</th>\n",
       "      <td>1.153</td>\n",
       "      <td>1.088</td>\n",
       "      <td>1.106</td>\n",
       "      <td>1.264</td>\n",
       "      <td>1.113</td>\n",
       "      <td>1.012</td>\n",
       "      <td>0.919</td>\n",
       "      <td>1.179</td>\n",
       "      <td>1.154</td>\n",
       "      <td>1.088</td>\n",
       "    </tr>\n",
       "    <tr>\n",
       "      <th>960000</th>\n",
       "      <td>1.545</td>\n",
       "      <td>1.661</td>\n",
       "      <td>1.527</td>\n",
       "      <td>1.558</td>\n",
       "      <td>1.641</td>\n",
       "      <td>1.519</td>\n",
       "      <td>1.540</td>\n",
       "      <td>1.740</td>\n",
       "      <td>1.656</td>\n",
       "      <td>1.721</td>\n",
       "    </tr>\n",
       "    <tr>\n",
       "      <th>1280000</th>\n",
       "      <td>2.159</td>\n",
       "      <td>2.075</td>\n",
       "      <td>2.097</td>\n",
       "      <td>2.555</td>\n",
       "      <td>2.299</td>\n",
       "      <td>1.935</td>\n",
       "      <td>2.061</td>\n",
       "      <td>2.128</td>\n",
       "      <td>2.074</td>\n",
       "      <td>2.392</td>\n",
       "    </tr>\n",
       "    <tr>\n",
       "      <th>1600000</th>\n",
       "      <td>2.578</td>\n",
       "      <td>2.538</td>\n",
       "      <td>2.510</td>\n",
       "      <td>2.859</td>\n",
       "      <td>2.614</td>\n",
       "      <td>2.329</td>\n",
       "      <td>2.459</td>\n",
       "      <td>2.515</td>\n",
       "      <td>2.669</td>\n",
       "      <td>2.520</td>\n",
       "    </tr>\n",
       "    <tr>\n",
       "      <th>1920000</th>\n",
       "      <td>3.166</td>\n",
       "      <td>3.108</td>\n",
       "      <td>3.064</td>\n",
       "      <td>3.017</td>\n",
       "      <td>3.157</td>\n",
       "      <td>4.010</td>\n",
       "      <td>2.802</td>\n",
       "      <td>3.319</td>\n",
       "      <td>2.981</td>\n",
       "      <td>3.075</td>\n",
       "    </tr>\n",
       "    <tr>\n",
       "      <th>2240000</th>\n",
       "      <td>3.678</td>\n",
       "      <td>3.657</td>\n",
       "      <td>3.497</td>\n",
       "      <td>3.524</td>\n",
       "      <td>3.686</td>\n",
       "      <td>3.330</td>\n",
       "      <td>4.647</td>\n",
       "      <td>3.604</td>\n",
       "      <td>3.693</td>\n",
       "      <td>3.809</td>\n",
       "    </tr>\n",
       "    <tr>\n",
       "      <th>2560000</th>\n",
       "      <td>3.889</td>\n",
       "      <td>4.002</td>\n",
       "      <td>3.952</td>\n",
       "      <td>4.127</td>\n",
       "      <td>3.744</td>\n",
       "      <td>3.702</td>\n",
       "      <td>3.958</td>\n",
       "      <td>4.012</td>\n",
       "      <td>4.093</td>\n",
       "      <td>3.950</td>\n",
       "    </tr>\n",
       "    <tr>\n",
       "      <th>2880000</th>\n",
       "      <td>4.513</td>\n",
       "      <td>4.467</td>\n",
       "      <td>4.546</td>\n",
       "      <td>4.382</td>\n",
       "      <td>4.361</td>\n",
       "      <td>4.189</td>\n",
       "      <td>4.489</td>\n",
       "      <td>6.103</td>\n",
       "      <td>5.151</td>\n",
       "      <td>4.553</td>\n",
       "    </tr>\n",
       "  </tbody>\n",
       "</table>\n",
       "</div>"
      ],
      "text/plain": [
       "Time     Time_0  Time_1  Time_2  Time_3  Time_4  Time_5  Time_6  Time_7  \\\n",
       "Size                                                                      \n",
       "2         0.095   0.087   0.087   0.195   0.080   0.123   0.063   0.082   \n",
       "320000    0.605   0.777   0.766   0.693   0.674   0.686   0.657   0.503   \n",
       "640000    1.153   1.088   1.106   1.264   1.113   1.012   0.919   1.179   \n",
       "960000    1.545   1.661   1.527   1.558   1.641   1.519   1.540   1.740   \n",
       "1280000   2.159   2.075   2.097   2.555   2.299   1.935   2.061   2.128   \n",
       "1600000   2.578   2.538   2.510   2.859   2.614   2.329   2.459   2.515   \n",
       "1920000   3.166   3.108   3.064   3.017   3.157   4.010   2.802   3.319   \n",
       "2240000   3.678   3.657   3.497   3.524   3.686   3.330   4.647   3.604   \n",
       "2560000   3.889   4.002   3.952   4.127   3.744   3.702   3.958   4.012   \n",
       "2880000   4.513   4.467   4.546   4.382   4.361   4.189   4.489   6.103   \n",
       "\n",
       "Time     Time_8  Time_9  \n",
       "Size                     \n",
       "2         0.114   0.123  \n",
       "320000    0.717   0.624  \n",
       "640000    1.154   1.088  \n",
       "960000    1.656   1.721  \n",
       "1280000   2.074   2.392  \n",
       "1600000   2.669   2.520  \n",
       "1920000   2.981   3.075  \n",
       "2240000   3.693   3.809  \n",
       "2560000   4.093   3.950  \n",
       "2880000   5.151   4.553  "
      ]
     },
     "execution_count": 7,
     "metadata": {},
     "output_type": "execute_result"
    }
   ],
   "source": [
    "\n",
    "df = df.rename_axis(columns=\"Time\")\n",
    "df\n",
    "    "
   ]
  },
  {
   "cell_type": "code",
   "execution_count": 8,
   "id": "1c6a28b5-3300-4683-83e1-68afec4fefc7",
   "metadata": {},
   "outputs": [
    {
     "data": {
      "image/png": "[encoded data removed]",
      "text/plain": [
       "<Figure size 432x288 with 1 Axes>"
      ]
     },
     "metadata": {},
     "output_type": "display_data"
    }
   ],
   "source": [
    "sns.lineplot(data=df, markers=True);"
   ]
  },
  {
   "cell_type": "code",
   "execution_count": 9,
   "id": "b1c65630-3895-4018-8449-8495edcad3e4",
   "metadata": {},
   "outputs": [
    {
     "data": {
      "text/plain": [
       "<Figure size 432x288 with 0 Axes>"
      ]
     },
     "metadata": {},
     "output_type": "display_data"
    }
   ],
   "source": [
    "plt.savefig(f'{output}/{label}-line.png');\n",
    "plt.savefig(f'{output}/{label}-line.pdf');"
   ]
  },
  {
   "cell_type": "code",
   "execution_count": 10,
   "id": "0bd63fd7-70c6-4b4b-b213-4af734b8035e",
   "metadata": {},
   "outputs": [
    {
     "data": {
      "text/html": [
       "<div>\n",
       "<style scoped>\n",
       "    .dataframe tbody tr th:only-of-type {\n",
       "        vertical-align: middle;\n",
       "    }\n",
       "\n",
       "    .dataframe tbody tr th {\n",
       "        vertical-align: top;\n",
       "    }\n",
       "\n",
       "    .dataframe thead th {\n",
       "        text-align: right;\n",
       "    }\n",
       "</style>\n",
       "<table border=\"1\" class=\"dataframe\">\n",
       "  <thead>\n",
       "    <tr style=\"text-align: right;\">\n",
       "      <th></th>\n",
       "      <th>Time</th>\n",
       "    </tr>\n",
       "    <tr>\n",
       "      <th>Size</th>\n",
       "      <th></th>\n",
       "    </tr>\n",
       "  </thead>\n",
       "  <tbody>\n",
       "    <tr>\n",
       "      <th>2</th>\n",
       "      <td>0.095</td>\n",
       "    </tr>\n",
       "    <tr>\n",
       "      <th>2</th>\n",
       "      <td>0.087</td>\n",
       "    </tr>\n",
       "    <tr>\n",
       "      <th>2</th>\n",
       "      <td>0.087</td>\n",
       "    </tr>\n",
       "    <tr>\n",
       "      <th>2</th>\n",
       "      <td>0.195</td>\n",
       "    </tr>\n",
       "    <tr>\n",
       "      <th>2</th>\n",
       "      <td>0.080</td>\n",
       "    </tr>\n",
       "    <tr>\n",
       "      <th>...</th>\n",
       "      <td>...</td>\n",
       "    </tr>\n",
       "    <tr>\n",
       "      <th>2880000</th>\n",
       "      <td>4.189</td>\n",
       "    </tr>\n",
       "    <tr>\n",
       "      <th>2880000</th>\n",
       "      <td>4.489</td>\n",
       "    </tr>\n",
       "    <tr>\n",
       "      <th>2880000</th>\n",
       "      <td>6.103</td>\n",
       "    </tr>\n",
       "    <tr>\n",
       "      <th>2880000</th>\n",
       "      <td>5.151</td>\n",
       "    </tr>\n",
       "    <tr>\n",
       "      <th>2880000</th>\n",
       "      <td>4.553</td>\n",
       "    </tr>\n",
       "  </tbody>\n",
       "</table>\n",
       "<p>100 rows × 1 columns</p>\n",
       "</div>"
      ],
      "text/plain": [
       "          Time\n",
       "Size          \n",
       "2        0.095\n",
       "2        0.087\n",
       "2        0.087\n",
       "2        0.195\n",
       "2        0.080\n",
       "...        ...\n",
       "2880000  4.189\n",
       "2880000  4.489\n",
       "2880000  6.103\n",
       "2880000  5.151\n",
       "2880000  4.553\n",
       "\n",
       "[100 rows x 1 columns]"
      ]
     },
     "execution_count": 10,
     "metadata": {},
     "output_type": "execute_result"
    }
   ],
   "source": [
    "dfs = df.stack().reset_index()\n",
    "dfs = dfs.set_index('Size')\n",
    "dfs = dfs.drop(columns=['Time'])\n",
    "dfs = dfs.rename(columns={0:'Time'})\n",
    "dfs"
   ]
  },
  {
   "cell_type": "code",
   "execution_count": 11,
   "id": "a6114d9f-a63a-449d-9b8c-178c036c31a6",
   "metadata": {},
   "outputs": [
    {
     "data": {
      "image/png": "[encoded data removed]",
      "text/plain": [
       "<Figure size 432x288 with 1 Axes>"
      ]
     },
     "metadata": {},
     "output_type": "display_data"
    }
   ],
   "source": [
    "sns.scatterplot(data=dfs, x=\"Size\", y=\"Time\");\n",
    "plt.savefig(f\"{output}/{label}-scatter.pdf\")\n",
    "plt.savefig(f\"{output}/{label}-scatter.png\")"
   ]
  },
  {
   "cell_type": "code",
   "execution_count": 12,
   "id": "09ba121b-76b2-43a2-a58c-356fca482ba1",
   "metadata": {},
   "outputs": [
    {
     "data": {
      "image/png": "[encoded data removed]",
      "text/plain": [
       "<Figure size 360x360 with 1 Axes>"
      ]
     },
     "metadata": {},
     "output_type": "display_data"
    }
   ],
   "source": [
    "sns.relplot(x=\"Size\", y=\"Time\", kind=\"line\", data=dfs);\n",
    "plt.savefig(f\"{output}/{label}-relplot.pdf\")\n",
    "plt.savefig(f\"{output}/{label}-relplot.png\")"
   ]
  },
  {
   "cell_type": "code",
   "execution_count": 13,
   "id": "3b651569-60f4-45ae-a06a-e0fa4b509ac3",
   "metadata": {},
   "outputs": [],
   "source": [
    "df.to_pickle(f\"{output}/{label}-df.pkl\")"
   ]
  },
  {
   "cell_type": "code",
   "execution_count": null,
   "id": "a20cd2a5-ba19-489e-930e-d0b2765db5f7",
   "metadata": {},
   "outputs": [],
   "source": []
  },
  {
   "cell_type": "code",
   "execution_count": null,
   "id": "14bc4867-3229-4e1b-adeb-cdab84e722c1",
   "metadata": {},
   "outputs": [],
   "source": []
  }
 ],
 "metadata": {
  "kernelspec": {
   "display_name": "Python 3",
   "language": "python",
   "name": "python3"
  },
  "language_info": {
   "codemirror_mode": {
    "name": "ipython",
    "version": 3
   },
   "file_extension": ".py",
   "mimetype": "text/x-python",
   "name": "python",
   "nbconvert_exporter": "python",
   "pygments_lexer": "ipython3",
   "version": "3.9.4"
  }
 },
 "nbformat": 4,
 "nbformat_minor": 5
}
