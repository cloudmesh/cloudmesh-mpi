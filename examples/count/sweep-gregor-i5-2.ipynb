{
 "cells": [
  {
   "cell_type": "markdown",
   "id": "5f61112f-554f-4abe-9d4e-33da013349f0",
   "metadata": {
    "papermill": {
     "duration": 0.008647,
     "end_time": "2021-06-24T00:22:28.380707",
     "exception": false,
     "start_time": "2021-06-24T00:22:28.372060",
     "status": "completed"
    },
    "tags": []
   },
   "source": [
    "When benchmarking you **MUST**\n",
    "\n",
    "1. close all applications\n",
    "2. close docker\n",
    "3. close all but this Web windows\n",
    "4. all pen editors other than jupyter-lab (this notebook)\n"
   ]
  },
  {
   "cell_type": "code",
   "execution_count": 1,
   "id": "49f68aa9-9191-4e13-97ad-de20c8a79123",
   "metadata": {
    "execution": {
     "iopub.execute_input": "2021-06-24T00:22:28.407544Z",
     "iopub.status.busy": "2021-06-24T00:22:28.407157Z",
     "iopub.status.idle": "2021-06-24T00:22:29.262330Z",
     "shell.execute_reply": "2021-06-24T00:22:29.261901Z"
    },
    "papermill": {
     "duration": 0.872102,
     "end_time": "2021-06-24T00:22:29.262416",
     "exception": false,
     "start_time": "2021-06-24T00:22:28.390314",
     "status": "completed"
    },
    "tags": []
   },
   "outputs": [],
   "source": [
    "import os\n",
    "from cloudmesh.common.Shell import Shell\n",
    "from pprint import pprint\n",
    "import matplotlib.pyplot as plt\n",
    "import seaborn as sns\n",
    "%matplotlib inline\n",
    "\n",
    "import pandas as pd\n",
    "from tqdm.notebook import tqdm\n",
    "from cloudmesh.common.util import readfile\n",
    "from cloudmesh.common.util import writefile\n",
    "from cloudmesh.common.StopWatch import StopWatch \n",
    "from cloudmesh.common.systeminfo import systeminfo\n",
    "import ipywidgets as widgets\n",
    "\n",
    "sns.set_theme(style=\"whitegrid\")\n",
    "info = systeminfo()"
   ]
  },
  {
   "cell_type": "code",
   "execution_count": 2,
   "id": "3bba2a97-b267-4f4a-a13e-f1af543a81b2",
   "metadata": {
    "execution": {
     "iopub.execute_input": "2021-06-24T00:22:29.278588Z",
     "iopub.status.busy": "2021-06-24T00:22:29.278186Z",
     "iopub.status.idle": "2021-06-24T00:22:29.280167Z",
     "shell.execute_reply": "2021-06-24T00:22:29.279812Z"
    },
    "papermill": {
     "duration": 0.010611,
     "end_time": "2021-06-24T00:22:29.280238",
     "exception": false,
     "start_time": "2021-06-24T00:22:29.269627",
     "status": "completed"
    },
    "tags": [
     "parameters"
    ]
   },
   "outputs": [],
   "source": [
    "\n",
    "user = info[\"user\"] \n",
    "node = info[\"uname.node\"]\n",
    "processors = 4"
   ]
  },
  {
   "cell_type": "code",
   "execution_count": 3,
   "id": "26eaf1da",
   "metadata": {
    "execution": {
     "iopub.execute_input": "2021-06-24T00:22:29.295428Z",
     "iopub.status.busy": "2021-06-24T00:22:29.295080Z",
     "iopub.status.idle": "2021-06-24T00:22:29.297058Z",
     "shell.execute_reply": "2021-06-24T00:22:29.296706Z"
    },
    "papermill": {
     "duration": 0.010403,
     "end_time": "2021-06-24T00:22:29.297123",
     "exception": false,
     "start_time": "2021-06-24T00:22:29.286720",
     "status": "completed"
    },
    "tags": [
     "injected-parameters"
    ]
   },
   "outputs": [],
   "source": [
    "# Parameters\n",
    "user = \"gregor\"\n",
    "node = \"i5\"\n",
    "processors = 2\n"
   ]
  },
  {
   "cell_type": "code",
   "execution_count": 4,
   "id": "8db07274-0225-475c-81c1-20ebb4c4bf12",
   "metadata": {
    "execution": {
     "iopub.execute_input": "2021-06-24T00:22:29.324144Z",
     "iopub.status.busy": "2021-06-24T00:22:29.323767Z",
     "iopub.status.idle": "2021-06-24T00:22:29.330027Z",
     "shell.execute_reply": "2021-06-24T00:22:29.328733Z"
    },
    "papermill": {
     "duration": 0.026352,
     "end_time": "2021-06-24T00:22:29.330094",
     "exception": false,
     "start_time": "2021-06-24T00:22:29.303742",
     "status": "completed"
    },
    "tags": []
   },
   "outputs": [
    {
     "data": {
      "application/vnd.jupyter.widget-view+json": {
       "model_id": "071942bcfc7c4d8784fa4c1f851f5ab5",
       "version_major": 2,
       "version_minor": 0
      },
      "text/plain": [
       "IntSlider(value=2, continuous_update=False, description='Processors:', max=64, min=2)"
      ]
     },
     "metadata": {},
     "output_type": "display_data"
    },
    {
     "data": {
      "application/vnd.jupyter.widget-view+json": {
       "model_id": "8887c49faeda4e84b38cf6f05a71eed7",
       "version_major": 2,
       "version_minor": 0
      },
      "text/plain": [
       "Text(value='gregor', description='User:', placeholder='The user name')"
      ]
     },
     "metadata": {},
     "output_type": "display_data"
    },
    {
     "data": {
      "application/vnd.jupyter.widget-view+json": {
       "model_id": "4a0f4fde90c74eb38a45abb34c3dbf22",
       "version_major": 2,
       "version_minor": 0
      },
      "text/plain": [
       "Text(value='i5', description='Computer:', placeholder='The computer name')"
      ]
     },
     "metadata": {},
     "output_type": "display_data"
    }
   ],
   "source": [
    "p = widgets.IntSlider(\n",
    "    value=processors,\n",
    "    min=2,\n",
    "    max=64,\n",
    "    step=1,\n",
    "    description='Processors:',\n",
    "    disabled=False,\n",
    "    continuous_update=False,\n",
    "    orientation='horizontal',\n",
    "    readout=True,\n",
    "    readout_format='d'\n",
    ")\n",
    "u = widgets.Text(value=user, placeholder='The user name', description='User:', disabled=False)\n",
    "n = widgets.Text(value=node, placeholder='The computer name', description='Computer:', disabled=False)\n",
    "\n",
    "display(p)\n",
    "display(u)\n",
    "display(n)"
   ]
  },
  {
   "cell_type": "code",
   "execution_count": 5,
   "id": "c3cc9322-3fed-463a-b998-1fb3d9e7ad9c",
   "metadata": {
    "execution": {
     "iopub.execute_input": "2021-06-24T00:22:29.346803Z",
     "iopub.status.busy": "2021-06-24T00:22:29.346448Z",
     "iopub.status.idle": "2021-06-24T00:22:29.348668Z",
     "shell.execute_reply": "2021-06-24T00:22:29.348316Z"
    },
    "papermill": {
     "duration": 0.011439,
     "end_time": "2021-06-24T00:22:29.348733",
     "exception": false,
     "start_time": "2021-06-24T00:22:29.337294",
     "status": "completed"
    },
    "tags": []
   },
   "outputs": [
    {
     "name": "stdout",
     "output_type": "stream",
     "text": [
      "2 gregor i5\n"
     ]
    }
   ],
   "source": [
    "processors = p.value\n",
    "user = u.value\n",
    "node = n.value\n",
    "print (processors, user, node)"
   ]
  },
  {
   "cell_type": "code",
   "execution_count": 6,
   "id": "6b9f415b-d848-4af3-9436-6680835180dd",
   "metadata": {
    "execution": {
     "iopub.execute_input": "2021-06-24T00:22:29.365588Z",
     "iopub.status.busy": "2021-06-24T00:22:29.365237Z",
     "iopub.status.idle": "2021-06-24T00:22:29.367053Z",
     "shell.execute_reply": "2021-06-24T00:22:29.366704Z"
    },
    "papermill": {
     "duration": 0.010993,
     "end_time": "2021-06-24T00:22:29.367116",
     "exception": false,
     "start_time": "2021-06-24T00:22:29.356123",
     "status": "completed"
    },
    "tags": []
   },
   "outputs": [],
   "source": [
    "\n",
    "experiments = 10\n",
    "maximum = 1024 * 100000\n",
    "intervals = 10"
   ]
  },
  {
   "cell_type": "code",
   "execution_count": 7,
   "id": "a1ce2a6c-4d24-46f1-9478-a9949694b928",
   "metadata": {
    "execution": {
     "iopub.execute_input": "2021-06-24T00:22:29.384971Z",
     "iopub.status.busy": "2021-06-24T00:22:29.384611Z",
     "iopub.status.idle": "2021-06-24T00:22:29.386738Z",
     "shell.execute_reply": "2021-06-24T00:22:29.386387Z"
    },
    "papermill": {
     "duration": 0.012124,
     "end_time": "2021-06-24T00:22:29.386802",
     "exception": false,
     "start_time": "2021-06-24T00:22:29.374678",
     "status": "completed"
    },
    "tags": []
   },
   "outputs": [
    {
     "name": "stdout",
     "output_type": "stream",
     "text": [
      "[64, 10240000, 20480000, 30720000, 40960000, 51200000, 61440000, 71680000, 81920000, 92160000]\n",
      "[32, 5120000, 10240000, 15360000, 20480000, 25600000, 30720000, 35840000, 40960000, 46080000]\n"
     ]
    }
   ],
   "source": [
    "label = f\"{user}-{node}-{processors}\"\n",
    "output = f\"benchmark/{user}\"\n",
    "\n",
    "delta = int(maximum / intervals)\n",
    "\n",
    "totals = [64] + list(range(0,maximum, delta))[1:]\n",
    "points = [int(t/processors) for t in totals]\n",
    "print (totals)\n",
    "print(points)"
   ]
  },
  {
   "cell_type": "code",
   "execution_count": 8,
   "id": "0a54c0dc-d4de-4a66-97e3-c41a2171204c",
   "metadata": {
    "execution": {
     "iopub.execute_input": "2021-06-24T00:22:29.404310Z",
     "iopub.status.busy": "2021-06-24T00:22:29.403960Z",
     "iopub.status.idle": "2021-06-24T00:22:29.405612Z",
     "shell.execute_reply": "2021-06-24T00:22:29.405904Z"
    },
    "papermill": {
     "duration": 0.011569,
     "end_time": "2021-06-24T00:22:29.405983",
     "exception": false,
     "start_time": "2021-06-24T00:22:29.394414",
     "status": "completed"
    },
    "tags": []
   },
   "outputs": [],
   "source": [
    "os.makedirs(output, exist_ok=True)"
   ]
  },
  {
   "cell_type": "code",
   "execution_count": 9,
   "id": "fc2fcdef-f19c-4a13-98a9-cf6f482ae9e7",
   "metadata": {
    "execution": {
     "iopub.execute_input": "2021-06-24T00:22:29.423736Z",
     "iopub.status.busy": "2021-06-24T00:22:29.423376Z",
     "iopub.status.idle": "2021-06-24T00:22:29.428835Z",
     "shell.execute_reply": "2021-06-24T00:22:29.429129Z"
    },
    "papermill": {
     "duration": 0.015518,
     "end_time": "2021-06-24T00:22:29.429208",
     "exception": false,
     "start_time": "2021-06-24T00:22:29.413690",
     "status": "completed"
    },
    "tags": []
   },
   "outputs": [
    {
     "name": "stdout",
     "output_type": "stream",
     "text": [
      "+---------------------+------------------------------------------------------------------+\n",
      "| Attribute           | Value                                                            |\n",
      "|---------------------+------------------------------------------------------------------|\n",
      "| BUG_REPORT_URL      | \"https://bugs.launchpad.net/ubuntu/\"                             |\n",
      "| DISTRIB_CODENAME    | hirsute                                                          |\n",
      "| DISTRIB_DESCRIPTION | \"Ubuntu 21.04\"                                                   |\n",
      "| DISTRIB_ID          | Ubuntu                                                           |\n",
      "| DISTRIB_RELEASE     | 21.04                                                            |\n",
      "| HOME_URL            | \"https://www.ubuntu.com/\"                                        |\n",
      "| ID                  | ubuntu                                                           |\n",
      "| ID_LIKE             | debian                                                           |\n",
      "| NAME                | \"Ubuntu\"                                                         |\n",
      "| PRETTY_NAME         | \"Ubuntu 21.04\"                                                   |\n",
      "| PRIVACY_POLICY_URL  | \"https://www.ubuntu.com/legal/terms-and-policies/privacy-policy\" |\n",
      "| SUPPORT_URL         | \"https://help.ubuntu.com/\"                                       |\n",
      "| UBUNTU_CODENAME     | hirsute                                                          |\n",
      "| VERSION             | \"21.04 (Hirsute Hippo)\"                                          |\n",
      "| VERSION_CODENAME    | hirsute                                                          |\n",
      "| VERSION_ID          | \"21.04\"                                                          |\n",
      "| cpu                 | Intel(R) Core(TM) i5-10400 CPU @ 2.90GHz                         |\n",
      "| cpu_count           | 12                                                               |\n",
      "| frequency           | scpufreq(current=2325.6136666666666, min=800.0, max=4300.0)      |\n",
      "| mem.active          | 929.2 MiB                                                        |\n",
      "| mem.available       | 119.9 GiB                                                        |\n",
      "| mem.free            | 118.3 GiB                                                        |\n",
      "| mem.inactive        | 5.1 GiB                                                          |\n",
      "| mem.percent         | 4.6 %                                                            |\n",
      "| mem.total           | 125.7 GiB                                                        |\n",
      "| mem.used            | 3.6 GiB                                                          |\n",
      "| platform.version    | #23-Ubuntu SMP Thu Jun 17 00:34:23 UTC 2021                      |\n",
      "| python              | 3.9.5 (default, May 11 2021, 08:20:37)                           |\n",
      "|                     | [GCC 10.3.0]                                                     |\n",
      "| python.pip          | 20.3.4                                                           |\n",
      "| python.version      | 3.9.5                                                            |\n",
      "| sys.platform        | linux                                                            |\n",
      "| uname.machine       | x86_64                                                           |\n",
      "| uname.node          | i5                                                               |\n",
      "| uname.processor     | x86_64                                                           |\n",
      "| uname.release       | 5.11.0-22-generic                                                |\n",
      "| uname.system        | Linux                                                            |\n",
      "| uname.version       | #23-Ubuntu SMP Thu Jun 17 00:34:23 UTC 2021                      |\n",
      "| user                | gregor                                                           |\n",
      "+---------------------+------------------------------------------------------------------+\n"
     ]
    }
   ],
   "source": [
    "systeminfo = StopWatch.systeminfo({\"user\": user, \"uname.node\": node})\n",
    "writefile(f\"{output}/{label}-sysinfo.log\", systeminfo)\n",
    "print (systeminfo)"
   ]
  },
  {
   "cell_type": "code",
   "execution_count": 10,
   "id": "530d02c4-11ab-4042-98c9-57979ad54871",
   "metadata": {
    "execution": {
     "iopub.execute_input": "2021-06-24T00:22:29.448404Z",
     "iopub.status.busy": "2021-06-24T00:22:29.448050Z",
     "iopub.status.idle": "2021-06-24T00:22:29.449506Z",
     "shell.execute_reply": "2021-06-24T00:22:29.449799Z"
    },
    "papermill": {
     "duration": 0.012797,
     "end_time": "2021-06-24T00:22:29.449876",
     "exception": false,
     "start_time": "2021-06-24T00:22:29.437079",
     "status": "completed"
    },
    "tags": []
   },
   "outputs": [],
   "source": [
    "df = pd.DataFrame(\n",
    "{\"Size\": points}\n",
    ")\n",
    "df = df.set_index('Size')"
   ]
  },
  {
   "cell_type": "code",
   "execution_count": 11,
   "id": "b5a46162-7fc0-4e52-bc53-b4beb5ce6836",
   "metadata": {
    "execution": {
     "iopub.execute_input": "2021-06-24T00:22:29.470226Z",
     "iopub.status.busy": "2021-06-24T00:22:29.469793Z"
    },
    "papermill": {
     "duration": 399.558172,
     "end_time": "2021-06-24T00:29:09.016054",
     "exception": false,
     "start_time": "2021-06-24T00:22:29.457882",
     "status": "completed"
    },
    "tags": []
   },
   "outputs": [
    {
     "data": {
      "application/vnd.jupyter.widget-view+json": {
       "model_id": "64b752a9d37f4336a3f428441d892c62",
       "version_major": 2,
       "version_minor": 0
      },
      "text/plain": [
       "Experiment:   0%|          | 0/10 [00:00<?, ?it/s]"
      ]
     },
     "metadata": {},
     "output_type": "display_data"
    },
    {
     "data": {
      "application/vnd.jupyter.widget-view+json": {
       "model_id": "f5923849748446969092b89249be46d1",
       "version_major": 2,
       "version_minor": 0
      },
      "text/plain": [
       "Benchmark 32                   10 | 0/10 [00:00<?, ?it/s]"
      ]
     },
     "metadata": {},
     "output_type": "display_data"
    },
    {
     "data": {
      "application/vnd.jupyter.widget-view+json": {
       "model_id": "2ff9beb869374e2487c5a456520b7362",
       "version_major": 2,
       "version_minor": 0
      },
      "text/plain": [
       "Benchmark 5120000              10 | 0/10 [00:00<?, ?it/s]"
      ]
     },
     "metadata": {},
     "output_type": "display_data"
    },
    {
     "data": {
      "application/vnd.jupyter.widget-view+json": {
       "model_id": "29df375e858a4607824953c610f4d85c",
       "version_major": 2,
       "version_minor": 0
      },
      "text/plain": [
       "Benchmark 10240000             10 | 0/10 [00:00<?, ?it/s]"
      ]
     },
     "metadata": {},
     "output_type": "display_data"
    },
    {
     "data": {
      "application/vnd.jupyter.widget-view+json": {
       "model_id": "aee8f0d41709416c88ab5f1d90d0f575",
       "version_major": 2,
       "version_minor": 0
      },
      "text/plain": [
       "Benchmark 15360000             10 | 0/10 [00:00<?, ?it/s]"
      ]
     },
     "metadata": {},
     "output_type": "display_data"
    }
   ],
   "source": [
    "\n",
    "\n",
    "experiment_progress = tqdm(range(0, experiments), desc =\"Experiment\")\n",
    "\n",
    "experiment = -1\n",
    "for experiment in experiment_progress:\n",
    "    exoeriment = experiment + 1\n",
    "\n",
    "    log = f\"{output}/{label}-{experiment}-log.log\"\n",
    "    os.system(f\"rm {log}\")\n",
    "\n",
    "\n",
    "    name = points[experiment]\n",
    "    progress = tqdm(range(0, len(points)), \n",
    "                    desc =f\"Benchmark {name}\",\n",
    "                    bar_format=\"{desc:<30} {total_fmt} {r_bar}\")\n",
    "    \n",
    "    i = -1\n",
    "    for state in progress:\n",
    "        i = i + 1\n",
    "        n = points[i]\n",
    "        #if linux, os:\n",
    "        command = f\"mpiexec -n {processors} python count-click.py \" + \\\n",
    "                  f\"--n {n} --max_number 10 --find 8 --label {label} \" + \\\n",
    "                  f\"--user {user} --node={node} \" + \\\n",
    "                  f\"| tee -a {log}\"\n",
    "        #if windows: \n",
    "        #command = f\"mpiexec -n {processors} python count-click.py \" + \\\n",
    "        #          f\"--n {n} --max_number 10 --find 8 --label {label} \" + \\\n",
    "        #          f\"--user {user} --node={node} \" + \\\n",
    "        #          f\">> {log}\"\n",
    "        \n",
    "        os.system (command)\n",
    "\n",
    "    content = readfile(log).splitlines()\n",
    "    lines = Shell.cm_grep(content, \"csv,Result:\")\n",
    "    # print(lines)\n",
    "    values = []\n",
    "    times = []\n",
    "\n",
    "    for line in lines:\n",
    "        msg = line.split(\",\")[7]\n",
    "        t = line.split(\",\")[4]\n",
    "\n",
    "        total, overall, trials, find, label = msg.split(\" \")\n",
    "        values.append(int(overall))\n",
    "        times.append(float(t))\n",
    "        # print (t, overall)\n",
    "\n",
    "\n",
    "    #data = pd.DataFrame(values, times, columns=[\"Values\", \"Time\"])\n",
    "\n",
    "    #print (data.describe())\n",
    "    #sns.lineplot(data=data, palette=\"tab10\", linewidth=2.5)\n",
    "    # df[\"Size\"] = values\n",
    "    df[f\"Time_{experiment}\"] = times\n",
    "    # print(df)\n"
   ]
  },
  {
   "cell_type": "code",
   "execution_count": null,
   "id": "6247ec43-6d8b-4f42-8d1d-4c7b5f67312b",
   "metadata": {
    "papermill": {
     "duration": null,
     "end_time": null,
     "exception": null,
     "start_time": null,
     "status": "completed"
    },
    "tags": []
   },
   "outputs": [],
   "source": [
    "\n",
    "df = df.rename_axis(columns=\"Time\")\n",
    "df\n",
    "    "
   ]
  },
  {
   "cell_type": "code",
   "execution_count": null,
   "id": "1c6a28b5-3300-4683-83e1-68afec4fefc7",
   "metadata": {
    "papermill": {
     "duration": null,
     "end_time": null,
     "exception": null,
     "start_time": null,
     "status": "completed"
    },
    "tags": []
   },
   "outputs": [],
   "source": [
    "sns.lineplot(data=df, markers=True);"
   ]
  },
  {
   "cell_type": "code",
   "execution_count": null,
   "id": "b1c65630-3895-4018-8449-8495edcad3e4",
   "metadata": {
    "papermill": {
     "duration": null,
     "end_time": null,
     "exception": null,
     "start_time": null,
     "status": "completed"
    },
    "tags": []
   },
   "outputs": [],
   "source": [
    "plt.savefig(f'{output}/{label}-line.png');\n",
    "plt.savefig(f'{output}/{label}-line.pdf');"
   ]
  },
  {
   "cell_type": "code",
   "execution_count": null,
   "id": "0bd63fd7-70c6-4b4b-b213-4af734b8035e",
   "metadata": {
    "papermill": {
     "duration": null,
     "end_time": null,
     "exception": null,
     "start_time": null,
     "status": "completed"
    },
    "tags": []
   },
   "outputs": [],
   "source": [
    "dfs = df.stack().reset_index()\n",
    "dfs = dfs.set_index('Size')\n",
    "dfs = dfs.drop(columns=['Time'])\n",
    "dfs = dfs.rename(columns={0:'Time'})\n",
    "dfs"
   ]
  },
  {
   "cell_type": "code",
   "execution_count": null,
   "id": "a6114d9f-a63a-449d-9b8c-178c036c31a6",
   "metadata": {
    "papermill": {
     "duration": null,
     "end_time": null,
     "exception": null,
     "start_time": null,
     "status": "completed"
    },
    "tags": []
   },
   "outputs": [],
   "source": [
    "sns.scatterplot(data=dfs, x=\"Size\", y=\"Time\");\n",
    "plt.savefig(f\"{output}/{label}-scatter.pdf\")\n",
    "plt.savefig(f\"{output}/{label}-scatter.png\")"
   ]
  },
  {
   "cell_type": "code",
   "execution_count": null,
   "id": "09ba121b-76b2-43a2-a58c-356fca482ba1",
   "metadata": {
    "papermill": {
     "duration": null,
     "end_time": null,
     "exception": null,
     "start_time": null,
     "status": "completed"
    },
    "tags": []
   },
   "outputs": [],
   "source": [
    "sns.relplot(x=\"Size\", y=\"Time\", kind=\"line\", data=dfs);\n",
    "plt.savefig(f\"{output}/{label}-relplot.pdf\")\n",
    "plt.savefig(f\"{output}/{label}-relplot.png\")"
   ]
  },
  {
   "cell_type": "code",
   "execution_count": null,
   "id": "3b651569-60f4-45ae-a06a-e0fa4b509ac3",
   "metadata": {
    "papermill": {
     "duration": null,
     "end_time": null,
     "exception": null,
     "start_time": null,
     "status": "completed"
    },
    "tags": []
   },
   "outputs": [],
   "source": [
    "df.to_pickle(f\"{output}/{label}-df.pkl\")"
   ]
  },
  {
   "cell_type": "code",
   "execution_count": null,
   "id": "a20cd2a5-ba19-489e-930e-d0b2765db5f7",
   "metadata": {
    "papermill": {
     "duration": null,
     "end_time": null,
     "exception": null,
     "start_time": null,
     "status": "completed"
    },
    "tags": []
   },
   "outputs": [],
   "source": []
  },
  {
   "cell_type": "code",
   "execution_count": null,
   "id": "14bc4867-3229-4e1b-adeb-cdab84e722c1",
   "metadata": {
    "papermill": {
     "duration": null,
     "end_time": null,
     "exception": null,
     "start_time": null,
     "status": "completed"
    },
    "tags": []
   },
   "outputs": [],
   "source": []
  }
 ],
 "metadata": {
  "kernelspec": {
   "display_name": "Python 3",
   "language": "python",
   "name": "python3"
  },
  "language_info": {
   "codemirror_mode": {
    "name": "ipython",
    "version": 3
   },
   "file_extension": ".py",
   "mimetype": "text/x-python",
   "name": "python",
   "nbconvert_exporter": "python",
   "pygments_lexer": "ipython3",
   "version": "3.9.5"
  },
  "papermill": {
   "default_parameters": {},
   "duration": 402.013128,
   "end_time": "2021-06-24T00:29:09.579109",
   "environment_variables": {},
   "exception": null,
   "input_path": "sweep.ipynb",
   "output_path": "sweep-gregor-i5-2.ipynb",
   "parameters": {
    "node": "i5",
    "processors": 2,
    "user": "gregor"
   },
   "start_time": "2021-06-24T00:22:27.565981",
   "version": "2.3.3"
  }
 },
 "nbformat": 4,
 "nbformat_minor": 5
}